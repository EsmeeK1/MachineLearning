{
 "cells": [
  {
   "cell_type": "markdown",
   "id": "91732911",
   "metadata": {},
   "source": [
    "# Vertaler Nederlands naar Fries"
   ]
  },
  {
   "cell_type": "markdown",
   "id": "503bd746",
   "metadata": {},
   "source": [
    "Doel van deze notebook is het encoder en decoder gedeelte van het model uitbreiden om de accuracy te verhogen. In het vorige versies heb ik extra lagen in de encoder en decoder gestopt (in aparte notebooks) om te kijken wat voor verschil dit maakt op basis van het model van Chollet. In de encoder bleef de accuracy het zelfde maar in de decoder ging de accuracy omhoog. "
   ]
  },
  {
   "cell_type": "code",
   "execution_count": 1,
   "id": "bbc9a718",
   "metadata": {},
   "outputs": [],
   "source": [
    "#Alle imports\n",
    "import pandas as pd\n",
    "import numpy as np\n",
    "import os\n",
    "import matplotlib.pyplot as plt\n",
    "import tensorflow as tf\n",
    "from keras.preprocessing.text import Tokenizer\n",
    "from keras_preprocessing.sequence import pad_sequences\n",
    "from tensorflow.keras import layers, models\n",
    "from wordcloud import WordCloud #pip install wordcloud\n",
    "import string\n",
    "import re"
   ]
  },
  {
   "cell_type": "markdown",
   "id": "dc3d46ad",
   "metadata": {},
   "source": [
    "## 1. Business Understanding"
   ]
  },
  {
   "cell_type": "markdown",
   "id": "02ea3deb",
   "metadata": {},
   "source": [
    "Versie business understanding: 1.0\n",
    "### 1.1 Business objectives\n",
    "#### 1.1.1 Background\n",
    "De Friese taal is een erkende taal door de Nederlandse staat. Mensen die in Friesland wonen hebben recht om het vak Fries te krijgen. Omdat de taal erkend is door Nederlandse staat mag deze taal gebruikt worden in Friesland bij overheidsgebouwen, rechtbanken en scholen om er een paar instanties te noemen. Doordat de Friese taal steeds minder wordt gesproken door mensen is er een te kort ontstaan. Bijvoorbeeld er zijn geen Friese tolken meer voor de rechtbanken, Friese media kan geen nieuwe journalisten vinden die de taal goed beheersen en instanties die hun brieven alleen in het Fries versturen.  \n",
    "\n",
    "Omdat er verschillende problemen met de Friese taal in de praktijk wordt er in dit project alleen gefocust op het vertalen van teksten tussen Nederlands en Fries.\n",
    "\n",
    "Bronnen: \n",
    "- https://ukrant.nl/provincie-fryslan-zet-rug-voor-het-blok-wij-doen-mee-of-wij-gaan-weg/\n",
    "- https://www.ad.nl/binnenland/laatste-tolk-fries-verdwijnt-uit-rechtbank-leeuwarden-overheid-wil-niet-onderhandelen-over-tarief~ac8f6c5d/ \n",
    "- https://nos.nl/nieuwsuur/artikel/2116603-friese-taal-met-uitsterven-bedreigd\n",
    "- https://www.omropfryslan.nl/nl/nieuws/963226/wetenschappers-friese-taal-als-we-ons-vakgebied-willen-redden-moet-er-nu-actie-komen \n",
    "\n",
    "#### 1.1.2 Business objective\n",
    "Zoals uit 1.1 Background is gebleken wordt er alleen gefocust op het vertalen van teksten. De hoofdvraag van dit project luidt daarom als: “Kan er een machine learning model komen die een betrouwbare vertaling kan maken tussen Nederlands en Fries zodat deze in de praktijk kan worden gebruikt om brieven te vertalen”.\n",
    "\n",
    "#### 1.1.3 Business success criteria (KSF)\n",
    "De succes criteria van het project moeten een positieve uitkomst hebben om het project te vervolgen. Om de succes criteria te benoemen: \n",
    "- Inzichten over de bruikbaarheid van de geleverde data\n",
    "- Inzichten over wat voor soort machine learning model potentie heeft om succesvol brieven te vertalen\n",
    "\n",
    "### 1.2 Assess situation\n",
    "#### 1.2.1 Resources\n",
    "Voor dit project is er een CSV-bestand vrijgegeven van 170.000 vertalingen van Nederlands naar Fries. Daarbij is ook de manier vrijgegeven hoe de data is gegenereerd. De data is afkomstig van de Fryske Akademy. \n",
    "\n",
    "Naast de data zijn er ook twee GitHub pagina’s gedeeld. De eerste GitHub pagina gaat over het model van Chollet. Dit model gaat als basis dienen voor het model wat opgeleverd gaat worden. De tweede GitHub pagina is voor een embeddings laag van het model. Hiermee kan het model getraind worden op Nederlands wat de prestaties van het model misschien positief kan beïnvloeden.    \n",
    "#### 1.2.2 Requirements, assumptions, and constraints\n",
    "**Requirements**\n",
    "- De duur van het project is één week.\n",
    "- Er moeten inzichten komen over de data\n",
    "- Er moet een werkend model zijn\n",
    "- Er hoeft geen rekening gehouden met de beveiliging van de data\n",
    "\n",
    "**Assumptions**\n",
    "- Voor het model moet de techniek bidirectional van Keras worden gebruikt omdat de volgorde van de zinnen een groot invloed kunnen hebben op de prestaties van het model\n",
    "- De data kan foutieve vertalingen bevatten\n",
    "\n",
    "**Constrains**\n",
    "- De enige constrain voor dit project is dat het trainen van de modellen lang kan duren omdat de hardware waarmee gewerkt zou worden nog niet klaarstaat.\n",
    "\n",
    "### 1.3 Determine data mining goal\n",
    "#### 1.3.1 Data mining goal\n",
    "Om aan de business objective te voldoen worden er notebooks opgeleverd die laat zien hoe het model werkt en de kwaliteit van de geleverde data.\n",
    "#### 1.3.2 Data mining success criteria (KPI)\n",
    "Om de data mining goals te voldoen moet het notebook aan de volgende criteria voldoen:\n",
    "- Bekend het doel van het notebooks\n",
    "- Uitgebreide data understanding\n",
    "- Een werkend model \n",
    "- Een evaluatie van het notebook wat de volgende stappen kunnen zijn om het model te verbeteren en bevindingen worden vermeld  "
   ]
  },
  {
   "cell_type": "markdown",
   "id": "dbbd188d",
   "metadata": {},
   "source": [
    "## 2. Data Understanding\n",
    "Versie data understanding: 1.0"
   ]
  },
  {
   "cell_type": "code",
   "execution_count": 2,
   "id": "29172150",
   "metadata": {},
   "outputs": [],
   "source": [
    "df = pd.read_csv('dataset/dataset.csv')"
   ]
  },
  {
   "cell_type": "code",
   "execution_count": 3,
   "id": "4c608ff7",
   "metadata": {},
   "outputs": [
    {
     "data": {
      "text/html": [
       "<div>\n",
       "<style scoped>\n",
       "    .dataframe tbody tr th:only-of-type {\n",
       "        vertical-align: middle;\n",
       "    }\n",
       "\n",
       "    .dataframe tbody tr th {\n",
       "        vertical-align: top;\n",
       "    }\n",
       "\n",
       "    .dataframe thead th {\n",
       "        text-align: right;\n",
       "    }\n",
       "</style>\n",
       "<table border=\"1\" class=\"dataframe\">\n",
       "  <thead>\n",
       "    <tr style=\"text-align: right;\">\n",
       "      <th></th>\n",
       "      <th>nederlands</th>\n",
       "      <th>fries</th>\n",
       "    </tr>\n",
       "  </thead>\n",
       "  <tbody>\n",
       "    <tr>\n",
       "      <th>0</th>\n",
       "      <td>we hebben de burgemeester het advies gegeven o...</td>\n",
       "      <td>wy hawwe de boargemaster it advys jun om it ka...</td>\n",
       "    </tr>\n",
       "    <tr>\n",
       "      <th>1</th>\n",
       "      <td>we hebben de burgemeester het advies gegeven o...</td>\n",
       "      <td>wy hawwe de boargemaster it advys jun om it ka...</td>\n",
       "    </tr>\n",
       "    <tr>\n",
       "      <th>2</th>\n",
       "      <td>een plotselinge dood</td>\n",
       "      <td>in hastige dea</td>\n",
       "    </tr>\n",
       "    <tr>\n",
       "      <th>3</th>\n",
       "      <td>een plotselinge dood</td>\n",
       "      <td>in unferwachte dea</td>\n",
       "    </tr>\n",
       "    <tr>\n",
       "      <th>4</th>\n",
       "      <td>zijn plotseling overlijden</td>\n",
       "      <td>syn hastich ferstjerren</td>\n",
       "    </tr>\n",
       "  </tbody>\n",
       "</table>\n",
       "</div>"
      ],
      "text/plain": [
       "                                          nederlands  \\\n",
       "0  we hebben de burgemeester het advies gegeven o...   \n",
       "1  we hebben de burgemeester het advies gegeven o...   \n",
       "2                               een plotselinge dood   \n",
       "3                               een plotselinge dood   \n",
       "4                         zijn plotseling overlijden   \n",
       "\n",
       "                                               fries  \n",
       "0  wy hawwe de boargemaster it advys jun om it ka...  \n",
       "1  wy hawwe de boargemaster it advys jun om it ka...  \n",
       "2                                     in hastige dea  \n",
       "3                                 in unferwachte dea  \n",
       "4                            syn hastich ferstjerren  "
      ]
     },
     "execution_count": 3,
     "metadata": {},
     "output_type": "execute_result"
    }
   ],
   "source": [
    "df.head()"
   ]
  },
  {
   "cell_type": "code",
   "execution_count": 4,
   "id": "90fa69e3",
   "metadata": {},
   "outputs": [
    {
     "data": {
      "image/png": "[encoded data removed]",
      "text/plain": [
       "<Figure size 432x288 with 1 Axes>"
      ]
     },
     "metadata": {
      "needs_background": "light"
     },
     "output_type": "display_data"
    }
   ],
   "source": [
    "fig = plt.figure()\n",
    "ax = fig.add_axes([0,0,1,1])\n",
    "cat = ['Hele dataset', 'Nederlands', 'Fries']\n",
    "result = [len(df), df['nederlands'].nunique(), df['fries'].nunique()]\n",
    "ax.bar(cat, result)\n",
    "plt.show()"
   ]
  },
  {
   "cell_type": "code",
   "execution_count": 5,
   "id": "f19ac01f",
   "metadata": {},
   "outputs": [
    {
     "data": {
      "text/html": [
       "<div>\n",
       "<style scoped>\n",
       "    .dataframe tbody tr th:only-of-type {\n",
       "        vertical-align: middle;\n",
       "    }\n",
       "\n",
       "    .dataframe tbody tr th {\n",
       "        vertical-align: top;\n",
       "    }\n",
       "\n",
       "    .dataframe thead th {\n",
       "        text-align: right;\n",
       "    }\n",
       "</style>\n",
       "<table border=\"1\" class=\"dataframe\">\n",
       "  <thead>\n",
       "    <tr style=\"text-align: right;\">\n",
       "      <th></th>\n",
       "      <th>count</th>\n",
       "      <th>unique</th>\n",
       "      <th>top</th>\n",
       "      <th>freq</th>\n",
       "    </tr>\n",
       "  </thead>\n",
       "  <tbody>\n",
       "    <tr>\n",
       "      <th>nederlands</th>\n",
       "      <td>173912</td>\n",
       "      <td>97496</td>\n",
       "      <td>eigenlijk moeten we bruinbrood eten na twee da...</td>\n",
       "      <td>192</td>\n",
       "    </tr>\n",
       "    <tr>\n",
       "      <th>fries</th>\n",
       "      <td>173912</td>\n",
       "      <td>139791</td>\n",
       "      <td>trije by fiif trije by fjouwer meter</td>\n",
       "      <td>32</td>\n",
       "    </tr>\n",
       "  </tbody>\n",
       "</table>\n",
       "</div>"
      ],
      "text/plain": [
       "             count  unique                                                top  \\\n",
       "nederlands  173912   97496  eigenlijk moeten we bruinbrood eten na twee da...   \n",
       "fries       173912  139791               trije by fiif trije by fjouwer meter   \n",
       "\n",
       "           freq  \n",
       "nederlands  192  \n",
       "fries        32  "
      ]
     },
     "execution_count": 5,
     "metadata": {},
     "output_type": "execute_result"
    }
   ],
   "source": [
    "df.describe().transpose()"
   ]
  },
  {
   "cell_type": "markdown",
   "id": "4276bb87",
   "metadata": {},
   "source": [
    "192 keer komt dezelfde Nederlandse zin voor?\n"
   ]
  },
  {
   "cell_type": "markdown",
   "id": "4172b311",
   "metadata": {},
   "source": [
    "### eigenlijk moeten we bruinbrood eten na twee dagen"
   ]
  },
  {
   "cell_type": "code",
   "execution_count": 6,
   "id": "31c6ff80",
   "metadata": {},
   "outputs": [
    {
     "data": {
      "text/plain": [
       "'eigenlijk moeten we bruinbrood eten na twee dagen begint het gejammer over verstopping en opgezette buiken'"
      ]
     },
     "execution_count": 6,
     "metadata": {},
     "output_type": "execute_result"
    }
   ],
   "source": [
    "df['nederlands'].value_counts().idxmax()"
   ]
  },
  {
   "cell_type": "code",
   "execution_count": 7,
   "id": "e73d0b32",
   "metadata": {},
   "outputs": [],
   "source": [
    "df_temp = df[df.eq('eigenlijk moeten we bruinbrood eten na twee dagen begint het gejammer over verstopping en opgezette buiken').any(1)]"
   ]
  },
  {
   "cell_type": "code",
   "execution_count": 8,
   "id": "da180899",
   "metadata": {},
   "outputs": [
    {
     "data": {
      "text/html": [
       "<div>\n",
       "<style scoped>\n",
       "    .dataframe tbody tr th:only-of-type {\n",
       "        vertical-align: middle;\n",
       "    }\n",
       "\n",
       "    .dataframe tbody tr th {\n",
       "        vertical-align: top;\n",
       "    }\n",
       "\n",
       "    .dataframe thead th {\n",
       "        text-align: right;\n",
       "    }\n",
       "</style>\n",
       "<table border=\"1\" class=\"dataframe\">\n",
       "  <thead>\n",
       "    <tr style=\"text-align: right;\">\n",
       "      <th></th>\n",
       "      <th>count</th>\n",
       "      <th>unique</th>\n",
       "      <th>top</th>\n",
       "      <th>freq</th>\n",
       "    </tr>\n",
       "  </thead>\n",
       "  <tbody>\n",
       "    <tr>\n",
       "      <th>nederlands</th>\n",
       "      <td>192</td>\n",
       "      <td>1</td>\n",
       "      <td>eigenlijk moeten we bruinbrood eten na twee da...</td>\n",
       "      <td>192</td>\n",
       "    </tr>\n",
       "    <tr>\n",
       "      <th>fries</th>\n",
       "      <td>192</td>\n",
       "      <td>192</td>\n",
       "      <td>eins moatte wy brune ite nei twa dagen begjint...</td>\n",
       "      <td>1</td>\n",
       "    </tr>\n",
       "  </tbody>\n",
       "</table>\n",
       "</div>"
      ],
      "text/plain": [
       "           count unique                                                top  \\\n",
       "nederlands   192      1  eigenlijk moeten we bruinbrood eten na twee da...   \n",
       "fries        192    192  eins moatte wy brune ite nei twa dagen begjint...   \n",
       "\n",
       "           freq  \n",
       "nederlands  192  \n",
       "fries         1  "
      ]
     },
     "execution_count": 8,
     "metadata": {},
     "output_type": "execute_result"
    }
   ],
   "source": [
    "df_temp.describe().transpose()"
   ]
  },
  {
   "cell_type": "code",
   "execution_count": 9,
   "id": "eb6ca6bb",
   "metadata": {},
   "outputs": [
    {
     "data": {
      "text/plain": [
       "83802      eins moatte wy brune ite nei twa dagen begjint it jammerjen oer ferstopping en opsette buken\n",
       "83803      eins moatte wy brune ite nei twa dagen begjint it jammerjen oer ferstopping en opsette liven\n",
       "83804        eins moatte wy brune ite nei twa dagen begjint it jammerjen oer ferstoppe en opsette buken\n",
       "83805        eins moatte wy brune ite nei twa dagen begjint it jammerjen oer ferstoppe en opsette liven\n",
       "83806           eins moatte wy brune ite nei twa dagen begjint it jammerjen oer sitten en opsette buken\n",
       "                                                      ...                                              \n",
       "83989    eins moatte wy oan e kuchbole nei twa dagen begjint it seuren oer ferstopping en opsette liven\n",
       "83990      eins moatte wy oan e kuchbole nei twa dagen begjint it seuren oer ferstoppe en opsette buken\n",
       "83991      eins moatte wy oan e kuchbole nei twa dagen begjint it seuren oer ferstoppe en opsette liven\n",
       "83992         eins moatte wy oan e kuchbole nei twa dagen begjint it seuren oer sitten en opsette buken\n",
       "83993         eins moatte wy oan e kuchbole nei twa dagen begjint it seuren oer sitten en opsette liven\n",
       "Name: fries, Length: 192, dtype: object"
      ]
     },
     "execution_count": 9,
     "metadata": {},
     "output_type": "execute_result"
    }
   ],
   "source": [
    "pd.options.display.max_colwidth = 100\n",
    "df_temp['fries']"
   ]
  },
  {
   "cell_type": "markdown",
   "id": "d44c8610",
   "metadata": {},
   "source": [
    "Ziet er logisch uit omdat er steeds andere woorden worden gebruikt die het zelfde kunnen betekenen."
   ]
  },
  {
   "cell_type": "markdown",
   "id": "abbad48b",
   "metadata": {},
   "source": [
    "### trije by fiif trije by fjouwer meter"
   ]
  },
  {
   "cell_type": "code",
   "execution_count": 10,
   "id": "34c6ef58",
   "metadata": {},
   "outputs": [
    {
     "data": {
      "text/plain": [
       "'trije by fiif trije by fjouwer meter'"
      ]
     },
     "execution_count": 10,
     "metadata": {},
     "output_type": "execute_result"
    }
   ],
   "source": [
    "df['fries'].value_counts().idxmax()"
   ]
  },
  {
   "cell_type": "code",
   "execution_count": 11,
   "id": "8fc02f51",
   "metadata": {},
   "outputs": [],
   "source": [
    "df_temp = df[df.eq('trije by fiif trije by fjouwer meter').any(1)]"
   ]
  },
  {
   "cell_type": "code",
   "execution_count": 12,
   "id": "7688a349",
   "metadata": {},
   "outputs": [
    {
     "data": {
      "text/html": [
       "<div>\n",
       "<style scoped>\n",
       "    .dataframe tbody tr th:only-of-type {\n",
       "        vertical-align: middle;\n",
       "    }\n",
       "\n",
       "    .dataframe tbody tr th {\n",
       "        vertical-align: top;\n",
       "    }\n",
       "\n",
       "    .dataframe thead th {\n",
       "        text-align: right;\n",
       "    }\n",
       "</style>\n",
       "<table border=\"1\" class=\"dataframe\">\n",
       "  <thead>\n",
       "    <tr style=\"text-align: right;\">\n",
       "      <th></th>\n",
       "      <th>count</th>\n",
       "      <th>unique</th>\n",
       "      <th>top</th>\n",
       "      <th>freq</th>\n",
       "    </tr>\n",
       "  </thead>\n",
       "  <tbody>\n",
       "    <tr>\n",
       "      <th>nederlands</th>\n",
       "      <td>32</td>\n",
       "      <td>32</td>\n",
       "      <td>twee bij vier twee bij vier centimeter</td>\n",
       "      <td>1</td>\n",
       "    </tr>\n",
       "    <tr>\n",
       "      <th>fries</th>\n",
       "      <td>32</td>\n",
       "      <td>1</td>\n",
       "      <td>trije by fiif trije by fjouwer meter</td>\n",
       "      <td>32</td>\n",
       "    </tr>\n",
       "  </tbody>\n",
       "</table>\n",
       "</div>"
      ],
      "text/plain": [
       "           count unique                                     top freq\n",
       "nederlands    32     32  twee bij vier twee bij vier centimeter    1\n",
       "fries         32      1    trije by fiif trije by fjouwer meter   32"
      ]
     },
     "execution_count": 12,
     "metadata": {},
     "output_type": "execute_result"
    }
   ],
   "source": [
    "df_temp.describe().transpose()"
   ]
  },
  {
   "cell_type": "code",
   "execution_count": 13,
   "id": "bf055b66",
   "metadata": {},
   "outputs": [
    {
     "data": {
      "text/plain": [
       "95841    twee bij vier twee bij vier centimeter\n",
       "95873         twee bij vier twee bij vier meter\n",
       "95905    twee bij vier twee bij vijf centimeter\n",
       "95937         twee bij vier twee bij vijf meter\n",
       "95969    twee bij vier drie bij vier centimeter\n",
       "96001         twee bij vier drie bij vier meter\n",
       "96033    twee bij vier drie bij vijf centimeter\n",
       "96065         twee bij vier drie bij vijf meter\n",
       "96097    twee bij vijf twee bij vier centimeter\n",
       "96129         twee bij vijf twee bij vier meter\n",
       "96161    twee bij vijf twee bij vijf centimeter\n",
       "96193         twee bij vijf twee bij vijf meter\n",
       "96225    twee bij vijf drie bij vier centimeter\n",
       "96257         twee bij vijf drie bij vier meter\n",
       "96289    twee bij vijf drie bij vijf centimeter\n",
       "96321         twee bij vijf drie bij vijf meter\n",
       "96353    drie bij vier twee bij vier centimeter\n",
       "96385         drie bij vier twee bij vier meter\n",
       "96417    drie bij vier twee bij vijf centimeter\n",
       "96449         drie bij vier twee bij vijf meter\n",
       "96481    drie bij vier drie bij vier centimeter\n",
       "96513         drie bij vier drie bij vier meter\n",
       "96545    drie bij vier drie bij vijf centimeter\n",
       "96577         drie bij vier drie bij vijf meter\n",
       "96609    drie bij vijf twee bij vier centimeter\n",
       "96641         drie bij vijf twee bij vier meter\n",
       "96673    drie bij vijf twee bij vijf centimeter\n",
       "96705         drie bij vijf twee bij vijf meter\n",
       "96737    drie bij vijf drie bij vier centimeter\n",
       "96769         drie bij vijf drie bij vier meter\n",
       "96801    drie bij vijf drie bij vijf centimeter\n",
       "96833         drie bij vijf drie bij vijf meter\n",
       "Name: nederlands, dtype: object"
      ]
     },
     "execution_count": 13,
     "metadata": {},
     "output_type": "execute_result"
    }
   ],
   "source": [
    "pd.options.display.max_colwidth = 100\n",
    "df_temp['nederlands']"
   ]
  },
  {
   "cell_type": "markdown",
   "id": "7017221e",
   "metadata": {},
   "source": [
    "Hier is iets misgegaan. De zin in het Nederlands is \"drie bij vijf drie bij vier meter\". Ik zie dat er veel getallen verkeerd gaan en dat er opeens centimer (sintimeter) staat in plaats van meter."
   ]
  },
  {
   "cell_type": "markdown",
   "id": "cf3f6a30",
   "metadata": {},
   "source": [
    "### Aantal woorden in kollomen checken"
   ]
  },
  {
   "cell_type": "code",
   "execution_count": 14,
   "id": "b08fa59b",
   "metadata": {},
   "outputs": [
    {
     "name": "stdout",
     "output_type": "stream",
     "text": [
      "1\n",
      "1\n"
     ]
    }
   ],
   "source": [
    "print(df[\"nederlands\"].apply(lambda n: len(n.split())).min())\n",
    "print(df[\"fries\"].apply(lambda n: len(n.split())).min())"
   ]
  },
  {
   "cell_type": "code",
   "execution_count": 15,
   "id": "78b87363",
   "metadata": {},
   "outputs": [
    {
     "name": "stdout",
     "output_type": "stream",
     "text": [
      "59\n",
      "60\n"
     ]
    }
   ],
   "source": [
    "print(df[\"nederlands\"].apply(lambda n: len(n.split())).max())\n",
    "print(df[\"fries\"].apply(lambda n: len(n.split())).max())"
   ]
  },
  {
   "cell_type": "code",
   "execution_count": 16,
   "id": "a3b13953",
   "metadata": {},
   "outputs": [
    {
     "name": "stdout",
     "output_type": "stream",
     "text": [
      "9.066044896269378\n",
      "9.237137172823036\n"
     ]
    }
   ],
   "source": [
    "print(df[\"nederlands\"].apply(lambda n: len(n.split())).mean())\n",
    "print(df[\"fries\"].apply(lambda n: len(n.split())).mean())"
   ]
  },
  {
   "cell_type": "markdown",
   "id": "570df332",
   "metadata": {},
   "source": [
    "Zie hier niks geks in."
   ]
  },
  {
   "cell_type": "markdown",
   "id": "0c2ca621",
   "metadata": {},
   "source": [
    "### Lengte van strings in kollomen checken"
   ]
  },
  {
   "cell_type": "code",
   "execution_count": 17,
   "id": "6c781dd5",
   "metadata": {},
   "outputs": [
    {
     "name": "stdout",
     "output_type": "stream",
     "text": [
      "3\n",
      "1\n"
     ]
    }
   ],
   "source": [
    "print(df['nederlands'].str.len().min())\n",
    "print(df['fries'].str.len().min())"
   ]
  },
  {
   "cell_type": "code",
   "execution_count": 18,
   "id": "5b9c076a",
   "metadata": {},
   "outputs": [
    {
     "name": "stdout",
     "output_type": "stream",
     "text": [
      "390\n",
      "354\n"
     ]
    }
   ],
   "source": [
    "print(df['nederlands'].str.len().max())\n",
    "print(df['fries'].str.len().max())"
   ]
  },
  {
   "cell_type": "code",
   "execution_count": 19,
   "id": "f41e1d21",
   "metadata": {},
   "outputs": [
    {
     "name": "stdout",
     "output_type": "stream",
     "text": [
      "54.407154192925155\n",
      "51.81316412898477\n"
     ]
    }
   ],
   "source": [
    "print(df['nederlands'].str.len().mean())\n",
    "print(df['fries'].str.len().mean())"
   ]
  },
  {
   "cell_type": "markdown",
   "id": "7a862d31",
   "metadata": {},
   "source": [
    "Raar om te zien dat er in de Friese kolom de laagste waarde 1 is wanneer in de Nederlandse kolom dit 3 is."
   ]
  },
  {
   "cell_type": "code",
   "execution_count": 20,
   "id": "c2c6c48d",
   "metadata": {},
   "outputs": [
    {
     "data": {
      "text/plain": [
       "170636    e\n",
       "Name: fries, dtype: object"
      ]
     },
     "execution_count": 20,
     "metadata": {},
     "output_type": "execute_result"
    }
   ],
   "source": [
    "s_length = df['fries'].str.len()\n",
    "bool_mask = (s_length == s_length.min())\n",
    "df['fries'][bool_mask]"
   ]
  },
  {
   "cell_type": "code",
   "execution_count": 21,
   "id": "382adef7",
   "metadata": {},
   "outputs": [
    {
     "data": {
      "text/plain": [
       "14756     los\n",
       "23982     zit\n",
       "23983     zit\n",
       "44224     wie\n",
       "167656    een\n",
       "167657    een\n",
       "167658    een\n",
       "167659    een\n",
       "Name: nederlands, dtype: object"
      ]
     },
     "execution_count": 21,
     "metadata": {},
     "output_type": "execute_result"
    }
   ],
   "source": [
    "s_length = df['nederlands'].str.len()\n",
    "bool_mask = (s_length == s_length.min())\n",
    "df['nederlands'][bool_mask]"
   ]
  },
  {
   "cell_type": "code",
   "execution_count": 22,
   "id": "820d5e9e",
   "metadata": {},
   "outputs": [
    {
     "data": {
      "text/plain": [
       "nederlands    in de wandeling\n",
       "fries                       e\n",
       "Name: 170636, dtype: object"
      ]
     },
     "execution_count": 22,
     "metadata": {},
     "output_type": "execute_result"
    }
   ],
   "source": [
    "df.iloc[170636]"
   ]
  },
  {
   "cell_type": "markdown",
   "id": "f2a0f993",
   "metadata": {},
   "source": [
    "Oke dit is dus gewoon 1 grote fout in de dataset maar is er maar is dit maar een speciaal geval of geldt dit ook voor \"woorden\" met 2 letters? Het Nederlandse gedeelte geloof ik wel maar het Friese gedeelte maakt mij zorgen.\n",
    "\n",
    "mask source: https://www.skytowner.com/explore/getting_shortest_and_longest_strings_in_pandas_dataframe"
   ]
  },
  {
   "cell_type": "code",
   "execution_count": 23,
   "id": "21d47251",
   "metadata": {
    "scrolled": true
   },
   "outputs": [
    {
     "data": {
      "text/html": [
       "<div>\n",
       "<style scoped>\n",
       "    .dataframe tbody tr th:only-of-type {\n",
       "        vertical-align: middle;\n",
       "    }\n",
       "\n",
       "    .dataframe tbody tr th {\n",
       "        vertical-align: top;\n",
       "    }\n",
       "\n",
       "    .dataframe thead th {\n",
       "        text-align: right;\n",
       "    }\n",
       "</style>\n",
       "<table border=\"1\" class=\"dataframe\">\n",
       "  <thead>\n",
       "    <tr style=\"text-align: right;\">\n",
       "      <th></th>\n",
       "      <th>nederlands</th>\n",
       "      <th>fries</th>\n",
       "    </tr>\n",
       "  </thead>\n",
       "  <tbody>\n",
       "    <tr>\n",
       "      <th>1941</th>\n",
       "      <td>iets van</td>\n",
       "      <td>in</td>\n",
       "    </tr>\n",
       "    <tr>\n",
       "      <th>28392</th>\n",
       "      <td>als volgt</td>\n",
       "      <td>sa</td>\n",
       "    </tr>\n",
       "    <tr>\n",
       "      <th>35796</th>\n",
       "      <td>op deze wijze</td>\n",
       "      <td>sa</td>\n",
       "    </tr>\n",
       "    <tr>\n",
       "      <th>35798</th>\n",
       "      <td>op die wijze</td>\n",
       "      <td>sa</td>\n",
       "    </tr>\n",
       "    <tr>\n",
       "      <th>35904</th>\n",
       "      <td>op zodanige wijze</td>\n",
       "      <td>sa</td>\n",
       "    </tr>\n",
       "    <tr>\n",
       "      <th>39036</th>\n",
       "      <td>te eniger tijd</td>\n",
       "      <td>ea</td>\n",
       "    </tr>\n",
       "    <tr>\n",
       "      <th>42190</th>\n",
       "      <td>einde</td>\n",
       "      <td>ut</td>\n",
       "    </tr>\n",
       "    <tr>\n",
       "      <th>42477</th>\n",
       "      <td>ten einde</td>\n",
       "      <td>om</td>\n",
       "    </tr>\n",
       "    <tr>\n",
       "      <th>44224</th>\n",
       "      <td>wie</td>\n",
       "      <td>wa</td>\n",
       "    </tr>\n",
       "    <tr>\n",
       "      <th>45367</th>\n",
       "      <td>door en door</td>\n",
       "      <td>yn</td>\n",
       "    </tr>\n",
       "    <tr>\n",
       "      <th>52765</th>\n",
       "      <td>op de maan is geen plantengroei mogelijk</td>\n",
       "      <td>op</td>\n",
       "    </tr>\n",
       "    <tr>\n",
       "      <th>76903</th>\n",
       "      <td>per kilo</td>\n",
       "      <td>de</td>\n",
       "    </tr>\n",
       "    <tr>\n",
       "      <th>76905</th>\n",
       "      <td>per kilo</td>\n",
       "      <td>it</td>\n",
       "    </tr>\n",
       "    <tr>\n",
       "      <th>76908</th>\n",
       "      <td>per ons</td>\n",
       "      <td>de</td>\n",
       "    </tr>\n",
       "    <tr>\n",
       "      <th>76910</th>\n",
       "      <td>per ons</td>\n",
       "      <td>it</td>\n",
       "    </tr>\n",
       "    <tr>\n",
       "      <th>76913</th>\n",
       "      <td>per pond</td>\n",
       "      <td>de</td>\n",
       "    </tr>\n",
       "    <tr>\n",
       "      <th>76915</th>\n",
       "      <td>per pond</td>\n",
       "      <td>it</td>\n",
       "    </tr>\n",
       "    <tr>\n",
       "      <th>77602</th>\n",
       "      <td>heden ten dage</td>\n",
       "      <td>no</td>\n",
       "    </tr>\n",
       "    <tr>\n",
       "      <th>114043</th>\n",
       "      <td>als  zijnde</td>\n",
       "      <td>as</td>\n",
       "    </tr>\n",
       "    <tr>\n",
       "      <th>118885</th>\n",
       "      <td>als zodanig</td>\n",
       "      <td>sa</td>\n",
       "    </tr>\n",
       "    <tr>\n",
       "      <th>155077</th>\n",
       "      <td>o ja</td>\n",
       "      <td>al</td>\n",
       "    </tr>\n",
       "    <tr>\n",
       "      <th>161676</th>\n",
       "      <td>nog eens</td>\n",
       "      <td>ea</td>\n",
       "    </tr>\n",
       "    <tr>\n",
       "      <th>168212</th>\n",
       "      <td>op die manier</td>\n",
       "      <td>sa</td>\n",
       "    </tr>\n",
       "    <tr>\n",
       "      <th>168216</th>\n",
       "      <td>op zon manier</td>\n",
       "      <td>sa</td>\n",
       "    </tr>\n",
       "    <tr>\n",
       "      <th>170627</th>\n",
       "      <td>een wandeling maken</td>\n",
       "      <td>in</td>\n",
       "    </tr>\n",
       "    <tr>\n",
       "      <th>170633</th>\n",
       "      <td>in de wandeling</td>\n",
       "      <td>en</td>\n",
       "    </tr>\n",
       "    <tr>\n",
       "      <th>170635</th>\n",
       "      <td>in de wandeling</td>\n",
       "      <td>yn</td>\n",
       "    </tr>\n",
       "    <tr>\n",
       "      <th>172076</th>\n",
       "      <td>in geval van</td>\n",
       "      <td>by</td>\n",
       "    </tr>\n",
       "  </tbody>\n",
       "</table>\n",
       "</div>"
      ],
      "text/plain": [
       "                                      nederlands fries\n",
       "1941                                    iets van    in\n",
       "28392                                  als volgt    sa\n",
       "35796                              op deze wijze    sa\n",
       "35798                               op die wijze    sa\n",
       "35904                          op zodanige wijze    sa\n",
       "39036                             te eniger tijd    ea\n",
       "42190                                      einde    ut\n",
       "42477                                  ten einde    om\n",
       "44224                                        wie    wa\n",
       "45367                               door en door    yn\n",
       "52765   op de maan is geen plantengroei mogelijk    op\n",
       "76903                                   per kilo    de\n",
       "76905                                   per kilo    it\n",
       "76908                                    per ons    de\n",
       "76910                                    per ons    it\n",
       "76913                                   per pond    de\n",
       "76915                                   per pond    it\n",
       "77602                             heden ten dage    no\n",
       "114043                               als  zijnde    as\n",
       "118885                               als zodanig    sa\n",
       "155077                                      o ja    al\n",
       "161676                                  nog eens    ea\n",
       "168212                             op die manier    sa\n",
       "168216                             op zon manier    sa\n",
       "170627                       een wandeling maken    in\n",
       "170633                           in de wandeling    en\n",
       "170635                           in de wandeling    yn\n",
       "172076                              in geval van    by"
      ]
     },
     "execution_count": 23,
     "metadata": {},
     "output_type": "execute_result"
    }
   ],
   "source": [
    "s_length = df['fries'].str.len()\n",
    "bool_mask = (s_length == 2)\n",
    "df[bool_mask]"
   ]
  },
  {
   "cell_type": "markdown",
   "id": "b18108ff",
   "metadata": {},
   "source": [
    "Waardes met 2 zien er niet geloofwaardig uit. Na Google translate gebruik te hebben kan ik zeggen dat deze aanname klopt."
   ]
  },
  {
   "cell_type": "code",
   "execution_count": 24,
   "id": "a24f54f6",
   "metadata": {
    "scrolled": true
   },
   "outputs": [
    {
     "data": {
      "text/html": [
       "<div>\n",
       "<style scoped>\n",
       "    .dataframe tbody tr th:only-of-type {\n",
       "        vertical-align: middle;\n",
       "    }\n",
       "\n",
       "    .dataframe tbody tr th {\n",
       "        vertical-align: top;\n",
       "    }\n",
       "\n",
       "    .dataframe thead th {\n",
       "        text-align: right;\n",
       "    }\n",
       "</style>\n",
       "<table border=\"1\" class=\"dataframe\">\n",
       "  <thead>\n",
       "    <tr style=\"text-align: right;\">\n",
       "      <th></th>\n",
       "      <th>nederlands</th>\n",
       "      <th>fries</th>\n",
       "    </tr>\n",
       "  </thead>\n",
       "  <tbody>\n",
       "    <tr>\n",
       "      <th>1940</th>\n",
       "      <td>iets van</td>\n",
       "      <td>san</td>\n",
       "    </tr>\n",
       "    <tr>\n",
       "      <th>13382</th>\n",
       "      <td>niet minder dan</td>\n",
       "      <td>wol</td>\n",
       "    </tr>\n",
       "    <tr>\n",
       "      <th>14756</th>\n",
       "      <td>los</td>\n",
       "      <td>los</td>\n",
       "    </tr>\n",
       "    <tr>\n",
       "      <th>14974</th>\n",
       "      <td>half wilde duif</td>\n",
       "      <td>gib</td>\n",
       "    </tr>\n",
       "    <tr>\n",
       "      <th>23982</th>\n",
       "      <td>zit</td>\n",
       "      <td>sit</td>\n",
       "    </tr>\n",
       "    <tr>\n",
       "      <th>26060</th>\n",
       "      <td>zeker iemand</td>\n",
       "      <td>ien</td>\n",
       "    </tr>\n",
       "    <tr>\n",
       "      <th>26139</th>\n",
       "      <td>vast en zeker</td>\n",
       "      <td>wis</td>\n",
       "    </tr>\n",
       "    <tr>\n",
       "      <th>26154</th>\n",
       "      <td>zeker weten</td>\n",
       "      <td>wis</td>\n",
       "    </tr>\n",
       "    <tr>\n",
       "      <th>28039</th>\n",
       "      <td>of niet</td>\n",
       "      <td>wel</td>\n",
       "    </tr>\n",
       "    <tr>\n",
       "      <th>50675</th>\n",
       "      <td>om reden dat</td>\n",
       "      <td>omt</td>\n",
       "    </tr>\n",
       "    <tr>\n",
       "      <th>51682</th>\n",
       "      <td>vol op de rem staan</td>\n",
       "      <td>fol</td>\n",
       "    </tr>\n",
       "    <tr>\n",
       "      <th>51683</th>\n",
       "      <td>vol op de rem trappen</td>\n",
       "      <td>fol</td>\n",
       "    </tr>\n",
       "    <tr>\n",
       "      <th>68597</th>\n",
       "      <td>ongetwijfeld</td>\n",
       "      <td>wis</td>\n",
       "    </tr>\n",
       "    <tr>\n",
       "      <th>72245</th>\n",
       "      <td>het maal gebruiken</td>\n",
       "      <td>ite</td>\n",
       "    </tr>\n",
       "    <tr>\n",
       "      <th>76906</th>\n",
       "      <td>per kilo</td>\n",
       "      <td>uns</td>\n",
       "    </tr>\n",
       "    <tr>\n",
       "      <th>76907</th>\n",
       "      <td>per kilo</td>\n",
       "      <td>pun</td>\n",
       "    </tr>\n",
       "    <tr>\n",
       "      <th>76911</th>\n",
       "      <td>per ons</td>\n",
       "      <td>uns</td>\n",
       "    </tr>\n",
       "    <tr>\n",
       "      <th>76912</th>\n",
       "      <td>per ons</td>\n",
       "      <td>pun</td>\n",
       "    </tr>\n",
       "    <tr>\n",
       "      <th>76916</th>\n",
       "      <td>per pond</td>\n",
       "      <td>uns</td>\n",
       "    </tr>\n",
       "    <tr>\n",
       "      <th>76917</th>\n",
       "      <td>per pond</td>\n",
       "      <td>pun</td>\n",
       "    </tr>\n",
       "    <tr>\n",
       "      <th>97344</th>\n",
       "      <td>een tweetal</td>\n",
       "      <td>twa</td>\n",
       "    </tr>\n",
       "    <tr>\n",
       "      <th>105157</th>\n",
       "      <td>een dergelijk</td>\n",
       "      <td>san</td>\n",
       "    </tr>\n",
       "    <tr>\n",
       "      <th>106085</th>\n",
       "      <td>god nog toe</td>\n",
       "      <td>god</td>\n",
       "    </tr>\n",
       "    <tr>\n",
       "      <th>112527</th>\n",
       "      <td>de wijze waarop</td>\n",
       "      <td>sat</td>\n",
       "    </tr>\n",
       "    <tr>\n",
       "      <th>112536</th>\n",
       "      <td>de manier waarop</td>\n",
       "      <td>sat</td>\n",
       "    </tr>\n",
       "    <tr>\n",
       "      <th>113940</th>\n",
       "      <td>met een probleem zitten</td>\n",
       "      <td>ddd</td>\n",
       "    </tr>\n",
       "    <tr>\n",
       "      <th>118180</th>\n",
       "      <td>op een keer</td>\n",
       "      <td>ris</td>\n",
       "    </tr>\n",
       "    <tr>\n",
       "      <th>118223</th>\n",
       "      <td>eens een keer</td>\n",
       "      <td>ris</td>\n",
       "    </tr>\n",
       "    <tr>\n",
       "      <th>129178</th>\n",
       "      <td>in die dagen</td>\n",
       "      <td>doe</td>\n",
       "    </tr>\n",
       "    <tr>\n",
       "      <th>133478</th>\n",
       "      <td>een zevental</td>\n",
       "      <td>san</td>\n",
       "    </tr>\n",
       "    <tr>\n",
       "      <th>138235</th>\n",
       "      <td>ongeboren kind</td>\n",
       "      <td>pop</td>\n",
       "    </tr>\n",
       "    <tr>\n",
       "      <th>150793</th>\n",
       "      <td>ongeacht of</td>\n",
       "      <td>oft</td>\n",
       "    </tr>\n",
       "    <tr>\n",
       "      <th>150911</th>\n",
       "      <td>over</td>\n",
       "      <td>oer</td>\n",
       "    </tr>\n",
       "    <tr>\n",
       "      <th>160396</th>\n",
       "      <td>een zeker iemand</td>\n",
       "      <td>ien</td>\n",
       "    </tr>\n",
       "    <tr>\n",
       "      <th>161960</th>\n",
       "      <td>stoffelijk overschot</td>\n",
       "      <td>lyk</td>\n",
       "    </tr>\n",
       "    <tr>\n",
       "      <th>163112</th>\n",
       "      <td>zulk een</td>\n",
       "      <td>san</td>\n",
       "    </tr>\n",
       "    <tr>\n",
       "      <th>163113</th>\n",
       "      <td>zulk soort</td>\n",
       "      <td>sok</td>\n",
       "    </tr>\n",
       "    <tr>\n",
       "      <th>168426</th>\n",
       "      <td>de maaltijd gebruiken</td>\n",
       "      <td>ite</td>\n",
       "    </tr>\n",
       "    <tr>\n",
       "      <th>170630</th>\n",
       "      <td>een wandeling maken</td>\n",
       "      <td>ein</td>\n",
       "    </tr>\n",
       "    <tr>\n",
       "      <th>170632</th>\n",
       "      <td>in de wandeling</td>\n",
       "      <td>dei</td>\n",
       "    </tr>\n",
       "    <tr>\n",
       "      <th>170634</th>\n",
       "      <td>in de wandeling</td>\n",
       "      <td>wei</td>\n",
       "    </tr>\n",
       "  </tbody>\n",
       "</table>\n",
       "</div>"
      ],
      "text/plain": [
       "                     nederlands fries\n",
       "1940                   iets van   san\n",
       "13382           niet minder dan   wol\n",
       "14756                       los   los\n",
       "14974           half wilde duif   gib\n",
       "23982                       zit   sit\n",
       "26060              zeker iemand   ien\n",
       "26139             vast en zeker   wis\n",
       "26154               zeker weten   wis\n",
       "28039                   of niet   wel\n",
       "50675              om reden dat   omt\n",
       "51682       vol op de rem staan   fol\n",
       "51683     vol op de rem trappen   fol\n",
       "68597              ongetwijfeld   wis\n",
       "72245        het maal gebruiken   ite\n",
       "76906                  per kilo   uns\n",
       "76907                  per kilo   pun\n",
       "76911                   per ons   uns\n",
       "76912                   per ons   pun\n",
       "76916                  per pond   uns\n",
       "76917                  per pond   pun\n",
       "97344               een tweetal   twa\n",
       "105157            een dergelijk   san\n",
       "106085              god nog toe   god\n",
       "112527          de wijze waarop   sat\n",
       "112536         de manier waarop   sat\n",
       "113940  met een probleem zitten   ddd\n",
       "118180              op een keer   ris\n",
       "118223            eens een keer   ris\n",
       "129178             in die dagen   doe\n",
       "133478             een zevental   san\n",
       "138235           ongeboren kind   pop\n",
       "150793              ongeacht of   oft\n",
       "150911                     over   oer\n",
       "160396         een zeker iemand   ien\n",
       "161960     stoffelijk overschot   lyk\n",
       "163112                 zulk een   san\n",
       "163113               zulk soort   sok\n",
       "168426    de maaltijd gebruiken   ite\n",
       "170630      een wandeling maken   ein\n",
       "170632          in de wandeling   dei\n",
       "170634          in de wandeling   wei"
      ]
     },
     "execution_count": 24,
     "metadata": {},
     "output_type": "execute_result"
    }
   ],
   "source": [
    "s_length = df['fries'].str.len()\n",
    "bool_mask = (s_length == 3)\n",
    "df[bool_mask]"
   ]
  },
  {
   "cell_type": "markdown",
   "id": "034dbac6",
   "metadata": {},
   "source": [
    "Waardes met 3 zien er geloofwaardiger uit maar na wat woorden in Google translate te hebben gegooid zie ik wel rare uitkomsten. Zoals bij per kilo/ons/pond wordt er gezegd dat dat het allemaal uns of pun is. Bij ons kan ik uns nog wel voorstellen maar niet bij de rest."
   ]
  },
  {
   "cell_type": "code",
   "execution_count": 25,
   "id": "1f07e645",
   "metadata": {
    "scrolled": true
   },
   "outputs": [
    {
     "data": {
      "text/html": [
       "<div>\n",
       "<style scoped>\n",
       "    .dataframe tbody tr th:only-of-type {\n",
       "        vertical-align: middle;\n",
       "    }\n",
       "\n",
       "    .dataframe tbody tr th {\n",
       "        vertical-align: top;\n",
       "    }\n",
       "\n",
       "    .dataframe thead th {\n",
       "        text-align: right;\n",
       "    }\n",
       "</style>\n",
       "<table border=\"1\" class=\"dataframe\">\n",
       "  <thead>\n",
       "    <tr style=\"text-align: right;\">\n",
       "      <th></th>\n",
       "      <th>nederlands</th>\n",
       "      <th>fries</th>\n",
       "    </tr>\n",
       "  </thead>\n",
       "  <tbody>\n",
       "    <tr>\n",
       "      <th>1946</th>\n",
       "      <td>iets dergelijks</td>\n",
       "      <td>soks</td>\n",
       "    </tr>\n",
       "    <tr>\n",
       "      <th>3175</th>\n",
       "      <td>uitbundig lachen</td>\n",
       "      <td>geie</td>\n",
       "    </tr>\n",
       "    <tr>\n",
       "      <th>5920</th>\n",
       "      <td>in aanzienlijke mate</td>\n",
       "      <td>tige</td>\n",
       "    </tr>\n",
       "    <tr>\n",
       "      <th>5923</th>\n",
       "      <td>in belangrijke mate</td>\n",
       "      <td>tige</td>\n",
       "    </tr>\n",
       "    <tr>\n",
       "      <th>5926</th>\n",
       "      <td>in grote mate</td>\n",
       "      <td>tige</td>\n",
       "    </tr>\n",
       "    <tr>\n",
       "      <th>...</th>\n",
       "      <td>...</td>\n",
       "      <td>...</td>\n",
       "    </tr>\n",
       "    <tr>\n",
       "      <th>167596</th>\n",
       "      <td>om het</td>\n",
       "      <td>om 5</td>\n",
       "    </tr>\n",
       "    <tr>\n",
       "      <th>167602</th>\n",
       "      <td>om halve</td>\n",
       "      <td>om 5</td>\n",
       "    </tr>\n",
       "    <tr>\n",
       "      <th>167608</th>\n",
       "      <td>om uur</td>\n",
       "      <td>om 5</td>\n",
       "    </tr>\n",
       "    <tr>\n",
       "      <th>167614</th>\n",
       "      <td>om half</td>\n",
       "      <td>om 5</td>\n",
       "    </tr>\n",
       "    <tr>\n",
       "      <th>173555</th>\n",
       "      <td>lichte mist</td>\n",
       "      <td>dize</td>\n",
       "    </tr>\n",
       "  </tbody>\n",
       "</table>\n",
       "<p>84 rows × 2 columns</p>\n",
       "</div>"
      ],
      "text/plain": [
       "                  nederlands fries\n",
       "1946         iets dergelijks  soks\n",
       "3175        uitbundig lachen  geie\n",
       "5920    in aanzienlijke mate  tige\n",
       "5923     in belangrijke mate  tige\n",
       "5926           in grote mate  tige\n",
       "...                      ...   ...\n",
       "167596                om het  om 5\n",
       "167602              om halve  om 5\n",
       "167608                om uur  om 5\n",
       "167614               om half  om 5\n",
       "173555           lichte mist  dize\n",
       "\n",
       "[84 rows x 2 columns]"
      ]
     },
     "execution_count": 25,
     "metadata": {},
     "output_type": "execute_result"
    }
   ],
   "source": [
    "s_length = df['fries'].str.len()\n",
    "bool_mask = (s_length == 4)\n",
    "df[bool_mask]"
   ]
  },
  {
   "cell_type": "markdown",
   "id": "51342026",
   "metadata": {},
   "source": [
    "De eerste 5 kloppen na het opzoeken maar de laatste 5 zien er weer raar uit."
   ]
  },
  {
   "cell_type": "code",
   "execution_count": 26,
   "id": "d9720384",
   "metadata": {
    "scrolled": true
   },
   "outputs": [
    {
     "data": {
      "text/html": [
       "<div>\n",
       "<style scoped>\n",
       "    .dataframe tbody tr th:only-of-type {\n",
       "        vertical-align: middle;\n",
       "    }\n",
       "\n",
       "    .dataframe tbody tr th {\n",
       "        vertical-align: top;\n",
       "    }\n",
       "\n",
       "    .dataframe thead th {\n",
       "        text-align: right;\n",
       "    }\n",
       "</style>\n",
       "<table border=\"1\" class=\"dataframe\">\n",
       "  <thead>\n",
       "    <tr style=\"text-align: right;\">\n",
       "      <th></th>\n",
       "      <th>nederlands</th>\n",
       "      <th>fries</th>\n",
       "    </tr>\n",
       "  </thead>\n",
       "  <tbody>\n",
       "    <tr>\n",
       "      <th>165</th>\n",
       "      <td>het doel treffen</td>\n",
       "      <td>sitte</td>\n",
       "    </tr>\n",
       "    <tr>\n",
       "      <th>1521</th>\n",
       "      <td>in het bezit zijn van</td>\n",
       "      <td>hawwe</td>\n",
       "    </tr>\n",
       "    <tr>\n",
       "      <th>1778</th>\n",
       "      <td>ten eerste</td>\n",
       "      <td>earst</td>\n",
       "    </tr>\n",
       "    <tr>\n",
       "      <th>1939</th>\n",
       "      <td>iets van</td>\n",
       "      <td>sawat</td>\n",
       "    </tr>\n",
       "    <tr>\n",
       "      <th>1948</th>\n",
       "      <td>iets dergelijks</td>\n",
       "      <td>lyksa</td>\n",
       "    </tr>\n",
       "    <tr>\n",
       "      <th>...</th>\n",
       "      <td>...</td>\n",
       "      <td>...</td>\n",
       "    </tr>\n",
       "    <tr>\n",
       "      <th>168823</th>\n",
       "      <td>gedurende korte tijd</td>\n",
       "      <td>koart</td>\n",
       "    </tr>\n",
       "    <tr>\n",
       "      <th>169103</th>\n",
       "      <td>voor korte tijd</td>\n",
       "      <td>koart</td>\n",
       "    </tr>\n",
       "    <tr>\n",
       "      <th>169317</th>\n",
       "      <td>zelfstandige zonder personeel</td>\n",
       "      <td>zzper</td>\n",
       "    </tr>\n",
       "    <tr>\n",
       "      <th>170628</th>\n",
       "      <td>een wandeling maken</td>\n",
       "      <td>kuier</td>\n",
       "    </tr>\n",
       "    <tr>\n",
       "      <th>173467</th>\n",
       "      <td>van hetzelfde</td>\n",
       "      <td>ek sa</td>\n",
       "    </tr>\n",
       "  </tbody>\n",
       "</table>\n",
       "<p>211 rows × 2 columns</p>\n",
       "</div>"
      ],
      "text/plain": [
       "                           nederlands  fries\n",
       "165                  het doel treffen  sitte\n",
       "1521            in het bezit zijn van  hawwe\n",
       "1778                       ten eerste  earst\n",
       "1939                         iets van  sawat\n",
       "1948                  iets dergelijks  lyksa\n",
       "...                               ...    ...\n",
       "168823           gedurende korte tijd  koart\n",
       "169103                voor korte tijd  koart\n",
       "169317  zelfstandige zonder personeel  zzper\n",
       "170628            een wandeling maken  kuier\n",
       "173467                  van hetzelfde  ek sa\n",
       "\n",
       "[211 rows x 2 columns]"
      ]
     },
     "execution_count": 26,
     "metadata": {},
     "output_type": "execute_result"
    }
   ],
   "source": [
    "s_length = df['fries'].str.len()\n",
    "bool_mask = (s_length == 5)\n",
    "df[bool_mask]"
   ]
  },
  {
   "cell_type": "markdown",
   "id": "38110191",
   "metadata": {},
   "source": [
    "Deze zien er wel meer geloofwaardiger dus ik denk dat de treshhold van 5 karakters het minimum moet zijn voor de dataset. "
   ]
  },
  {
   "cell_type": "code",
   "execution_count": 27,
   "id": "47a803e8",
   "metadata": {},
   "outputs": [
    {
     "data": {
      "text/html": [
       "<div>\n",
       "<style scoped>\n",
       "    .dataframe tbody tr th:only-of-type {\n",
       "        vertical-align: middle;\n",
       "    }\n",
       "\n",
       "    .dataframe tbody tr th {\n",
       "        vertical-align: top;\n",
       "    }\n",
       "\n",
       "    .dataframe thead th {\n",
       "        text-align: right;\n",
       "    }\n",
       "</style>\n",
       "<table border=\"1\" class=\"dataframe\">\n",
       "  <thead>\n",
       "    <tr style=\"text-align: right;\">\n",
       "      <th></th>\n",
       "      <th>nederlands</th>\n",
       "      <th>fries</th>\n",
       "    </tr>\n",
       "  </thead>\n",
       "  <tbody>\n",
       "    <tr>\n",
       "      <th>14756</th>\n",
       "      <td>los</td>\n",
       "      <td>los</td>\n",
       "    </tr>\n",
       "    <tr>\n",
       "      <th>23982</th>\n",
       "      <td>zit</td>\n",
       "      <td>sit</td>\n",
       "    </tr>\n",
       "    <tr>\n",
       "      <th>23983</th>\n",
       "      <td>zit</td>\n",
       "      <td>sitte</td>\n",
       "    </tr>\n",
       "    <tr>\n",
       "      <th>44224</th>\n",
       "      <td>wie</td>\n",
       "      <td>wa</td>\n",
       "    </tr>\n",
       "    <tr>\n",
       "      <th>167656</th>\n",
       "      <td>een</td>\n",
       "      <td>healwei</td>\n",
       "    </tr>\n",
       "    <tr>\n",
       "      <th>167657</th>\n",
       "      <td>een</td>\n",
       "      <td>ienen</td>\n",
       "    </tr>\n",
       "    <tr>\n",
       "      <th>167658</th>\n",
       "      <td>een</td>\n",
       "      <td>tsienen</td>\n",
       "    </tr>\n",
       "    <tr>\n",
       "      <th>167659</th>\n",
       "      <td>een</td>\n",
       "      <td>tolven</td>\n",
       "    </tr>\n",
       "  </tbody>\n",
       "</table>\n",
       "</div>"
      ],
      "text/plain": [
       "       nederlands    fries\n",
       "14756         los      los\n",
       "23982         zit      sit\n",
       "23983         zit    sitte\n",
       "44224         wie       wa\n",
       "167656        een  healwei\n",
       "167657        een    ienen\n",
       "167658        een  tsienen\n",
       "167659        een   tolven"
      ]
     },
     "execution_count": 27,
     "metadata": {},
     "output_type": "execute_result"
    }
   ],
   "source": [
    "s_length = df['nederlands'].str.len()\n",
    "bool_mask = (s_length == s_length.min())\n",
    "df[bool_mask]"
   ]
  },
  {
   "cell_type": "markdown",
   "id": "9ec64c58",
   "metadata": {},
   "source": [
    "Eerder zei ik dat ik het Nederlandse gedeelte wel geloofde maar ik was toch nieuwsgierig. Nadat ik dit checkte zag ik direct dat \"een\" 3 keer verkeerd gaat. Alleen \"ienen\" is correct de andere 3 woorden zijn half, tien en twaalf."
   ]
  },
  {
   "cell_type": "code",
   "execution_count": 28,
   "id": "dc85dbd4",
   "metadata": {
    "scrolled": true
   },
   "outputs": [
    {
     "data": {
      "text/html": [
       "<div>\n",
       "<style scoped>\n",
       "    .dataframe tbody tr th:only-of-type {\n",
       "        vertical-align: middle;\n",
       "    }\n",
       "\n",
       "    .dataframe tbody tr th {\n",
       "        vertical-align: top;\n",
       "    }\n",
       "\n",
       "    .dataframe thead th {\n",
       "        text-align: right;\n",
       "    }\n",
       "</style>\n",
       "<table border=\"1\" class=\"dataframe\">\n",
       "  <thead>\n",
       "    <tr style=\"text-align: right;\">\n",
       "      <th></th>\n",
       "      <th>nederlands</th>\n",
       "      <th>fries</th>\n",
       "    </tr>\n",
       "  </thead>\n",
       "  <tbody>\n",
       "    <tr>\n",
       "      <th>17551</th>\n",
       "      <td>heus</td>\n",
       "      <td>echt</td>\n",
       "    </tr>\n",
       "    <tr>\n",
       "      <th>17552</th>\n",
       "      <td>heus</td>\n",
       "      <td>wier</td>\n",
       "    </tr>\n",
       "    <tr>\n",
       "      <th>71048</th>\n",
       "      <td>kijk</td>\n",
       "      <td>sjoch</td>\n",
       "    </tr>\n",
       "    <tr>\n",
       "      <th>104636</th>\n",
       "      <td>o ja</td>\n",
       "      <td>o ja</td>\n",
       "    </tr>\n",
       "    <tr>\n",
       "      <th>150911</th>\n",
       "      <td>over</td>\n",
       "      <td>oer</td>\n",
       "    </tr>\n",
       "    <tr>\n",
       "      <th>154823</th>\n",
       "      <td>goed</td>\n",
       "      <td>goed</td>\n",
       "    </tr>\n",
       "    <tr>\n",
       "      <th>154824</th>\n",
       "      <td>goed</td>\n",
       "      <td>no goed</td>\n",
       "    </tr>\n",
       "    <tr>\n",
       "      <th>155077</th>\n",
       "      <td>o ja</td>\n",
       "      <td>al</td>\n",
       "    </tr>\n",
       "    <tr>\n",
       "      <th>162695</th>\n",
       "      <td>goed</td>\n",
       "      <td>goed prestearje</td>\n",
       "    </tr>\n",
       "    <tr>\n",
       "      <th>162696</th>\n",
       "      <td>goed</td>\n",
       "      <td>sterk prestearje</td>\n",
       "    </tr>\n",
       "    <tr>\n",
       "      <th>162697</th>\n",
       "      <td>goed</td>\n",
       "      <td>treflik prestearje</td>\n",
       "    </tr>\n",
       "    <tr>\n",
       "      <th>167578</th>\n",
       "      <td>om 5</td>\n",
       "      <td>om 5</td>\n",
       "    </tr>\n",
       "    <tr>\n",
       "      <th>167579</th>\n",
       "      <td>om 5</td>\n",
       "      <td>om minuten</td>\n",
       "    </tr>\n",
       "    <tr>\n",
       "      <th>167580</th>\n",
       "      <td>om 5</td>\n",
       "      <td>om foar</td>\n",
       "    </tr>\n",
       "    <tr>\n",
       "      <th>167581</th>\n",
       "      <td>om 5</td>\n",
       "      <td>om de</td>\n",
       "    </tr>\n",
       "    <tr>\n",
       "      <th>167582</th>\n",
       "      <td>om 5</td>\n",
       "      <td>om healoere</td>\n",
       "    </tr>\n",
       "    <tr>\n",
       "      <th>167583</th>\n",
       "      <td>om 5</td>\n",
       "      <td>om healwei</td>\n",
       "    </tr>\n",
       "    <tr>\n",
       "      <th>167652</th>\n",
       "      <td>half</td>\n",
       "      <td>healwei</td>\n",
       "    </tr>\n",
       "    <tr>\n",
       "      <th>167653</th>\n",
       "      <td>half</td>\n",
       "      <td>ienen</td>\n",
       "    </tr>\n",
       "    <tr>\n",
       "      <th>167654</th>\n",
       "      <td>half</td>\n",
       "      <td>tsienen</td>\n",
       "    </tr>\n",
       "    <tr>\n",
       "      <th>167655</th>\n",
       "      <td>half</td>\n",
       "      <td>tolven</td>\n",
       "    </tr>\n",
       "    <tr>\n",
       "      <th>167660</th>\n",
       "      <td>tien</td>\n",
       "      <td>healwei</td>\n",
       "    </tr>\n",
       "    <tr>\n",
       "      <th>167661</th>\n",
       "      <td>tien</td>\n",
       "      <td>ienen</td>\n",
       "    </tr>\n",
       "    <tr>\n",
       "      <th>167662</th>\n",
       "      <td>tien</td>\n",
       "      <td>tsienen</td>\n",
       "    </tr>\n",
       "    <tr>\n",
       "      <th>167663</th>\n",
       "      <td>tien</td>\n",
       "      <td>tolven</td>\n",
       "    </tr>\n",
       "  </tbody>\n",
       "</table>\n",
       "</div>"
      ],
      "text/plain": [
       "       nederlands               fries\n",
       "17551        heus                echt\n",
       "17552        heus                wier\n",
       "71048        kijk               sjoch\n",
       "104636       o ja                o ja\n",
       "150911       over                 oer\n",
       "154823       goed                goed\n",
       "154824       goed             no goed\n",
       "155077       o ja                  al\n",
       "162695       goed     goed prestearje\n",
       "162696       goed    sterk prestearje\n",
       "162697       goed  treflik prestearje\n",
       "167578       om 5                om 5\n",
       "167579       om 5          om minuten\n",
       "167580       om 5             om foar\n",
       "167581       om 5               om de\n",
       "167582       om 5         om healoere\n",
       "167583       om 5          om healwei\n",
       "167652       half             healwei\n",
       "167653       half               ienen\n",
       "167654       half             tsienen\n",
       "167655       half              tolven\n",
       "167660       tien             healwei\n",
       "167661       tien               ienen\n",
       "167662       tien             tsienen\n",
       "167663       tien              tolven"
      ]
     },
     "execution_count": 28,
     "metadata": {},
     "output_type": "execute_result"
    }
   ],
   "source": [
    "s_length = df['nederlands'].str.len()\n",
    "bool_mask = (s_length == 4)\n",
    "df[bool_mask]"
   ]
  },
  {
   "cell_type": "markdown",
   "id": "bf010e41",
   "metadata": {},
   "source": [
    "Hier is het zelfde probleem weer dan bij de minimale lengte van een string. Wat mij nu opvalt als ik het met de rest vergelijk is dat het probleem aan het einde van de dataset zich bevindt. Ik gok dat dit rond record 150.000 begint. Mijn aanname is dat er iets mis is gegaan rond die records. "
   ]
  },
  {
   "cell_type": "code",
   "execution_count": 29,
   "id": "0c3b05a1",
   "metadata": {},
   "outputs": [],
   "source": [
    "wc = WordCloud(background_color = 'white')"
   ]
  },
  {
   "cell_type": "code",
   "execution_count": 30,
   "id": "243469e6",
   "metadata": {},
   "outputs": [
    {
     "data": {
      "image/png": "[encoded data removed]",
      "text/plain": [
       "<Figure size 576x576 with 1 Axes>"
      ]
     },
     "metadata": {
      "needs_background": "light"
     },
     "output_type": "display_data"
    }
   ],
   "source": [
    "wordcloudFR = wc.generate(' '.join(df['fries']))\n",
    "\n",
    "plt.figure(figsize=(8,8))\n",
    "plt.imshow(wordcloudFR)\n",
    "plt.axis(\"off\")\n",
    "plt.show()"
   ]
  },
  {
   "cell_type": "code",
   "execution_count": 31,
   "id": "e14c5046",
   "metadata": {},
   "outputs": [
    {
     "data": {
      "image/png": "[encoded data removed]",
      "text/plain": [
       "<Figure size 576x576 with 1 Axes>"
      ]
     },
     "metadata": {
      "needs_background": "light"
     },
     "output_type": "display_data"
    }
   ],
   "source": [
    "wordcloudNL = wc.generate(' '.join(df['nederlands']))\n",
    "\n",
    "plt.figure(figsize=(8,8))\n",
    "plt.imshow(wordcloudNL)\n",
    "plt.axis(\"off\")\n",
    "plt.show()"
   ]
  },
  {
   "cell_type": "markdown",
   "id": "70f3817f",
   "metadata": {},
   "source": [
    "source: https://amueller.github.io/word_cloud/"
   ]
  },
  {
   "cell_type": "markdown",
   "id": "6bc9ec9a",
   "metadata": {},
   "source": [
    "### Bevindingen\n",
    "- Er zijn meerdere vertalingen voor dezelfde zinnen\n",
    "- Bijna 55 procent van de dataset zijn unieke Nederlandse zinnen tegenover 80 procent unieke Frieze zinnen \n",
    "- Bij zinnen die vaak voorkomen is waarschijnlijk iets misgegaan zoals bij \"trije by fiif trije by fjouwer meter\"\n",
    "- Bij het checken van de lengte van de strings heb ik wel veel rare dingen gezien. Zoals dat het Friese woord 2 letters heeft maar de vertaling is 5 woorden. Frieze strings die korter zijn dan 3 zijn niet geloofwaardig\n",
    "- Daarnaast ziet het eruit dat de dataset rare waardes heeft na 150.000 records. Het kan zijn dat dit al eerder opspeelt maar dat is dan bij waardes die groter zijn dan 5 wat niet goed te checken is want daar zijn veel records van.\n",
    "\n",
    "\n",
    "### Rekening meehouden tijdens 3. Data preparation\n",
    "- Zinnen die vaker voorkomen dan een x getal verwijderen uit de dataset zodat er niet te veel vervuilende data in het model komt  (in een latere versie)\n",
    "- Kijken wat een goede manier is om een train en validatie set te maken\n",
    "- Alles boven de 150.000 records verwijderen omdat deze niet correct lijken (in een latere versie)\n",
    "- Alle Frieze strings die korter dan 3 zijn verwijderen uit de dataset (in een latere versie)"
   ]
  },
  {
   "cell_type": "markdown",
   "id": "3aec6405",
   "metadata": {},
   "source": [
    "## 3. Data preparation"
   ]
  },
  {
   "cell_type": "code",
   "execution_count": 32,
   "id": "a998fc25",
   "metadata": {},
   "outputs": [],
   "source": [
    "text_pairs = []\n",
    "\n",
    "for index, row in df.iterrows():\n",
    "    text_pairs.append((row['nederlands'], '[start]' + row['fries'] + '[end]'))"
   ]
  },
  {
   "cell_type": "code",
   "execution_count": 33,
   "id": "20eade5f",
   "metadata": {},
   "outputs": [],
   "source": [
    "np.random.shuffle(text_pairs)\n",
    "num_val_samples = int(0.15 * len(text_pairs))\n",
    "num_train_samples = len(text_pairs) - 2 * num_val_samples\n",
    "train = text_pairs[:num_train_samples]\n",
    "val = text_pairs[num_train_samples:num_train_samples + num_val_samples]\n",
    "test = text_pairs[num_train_samples + num_val_samples:]"
   ]
  },
  {
   "cell_type": "code",
   "execution_count": 34,
   "id": "b0c8aa7a",
   "metadata": {},
   "outputs": [],
   "source": [
    "strip_chars = string.punctuation + \"¿\"\n",
    "strip_chars = strip_chars.replace(\"[\", \"\")\n",
    "strip_chars = strip_chars.replace(\"]\", \"\")"
   ]
  },
  {
   "cell_type": "code",
   "execution_count": 35,
   "id": "c581a444",
   "metadata": {},
   "outputs": [],
   "source": [
    "def custom_standardization(input_string):\n",
    "    lowercase = tf.strings.lower(input_string)\n",
    "    return tf.strings.regex_replace(\n",
    "        lowercase, f\"[{re.escape(strip_chars)}]\", \"\")"
   ]
  },
  {
   "cell_type": "code",
   "execution_count": 36,
   "id": "578d875f",
   "metadata": {},
   "outputs": [],
   "source": [
    "vocab_size = 15000\n",
    "sequence_length = 20"
   ]
  },
  {
   "cell_type": "code",
   "execution_count": 37,
   "id": "596b5daa",
   "metadata": {},
   "outputs": [],
   "source": [
    "source_vectorization = layers.TextVectorization(\n",
    "    max_tokens=vocab_size,\n",
    "    output_mode=\"int\",\n",
    "    output_sequence_length=sequence_length,\n",
    ")"
   ]
  },
  {
   "cell_type": "code",
   "execution_count": 38,
   "id": "158924fb",
   "metadata": {},
   "outputs": [],
   "source": [
    "target_vectorization = layers.TextVectorization(\n",
    "    max_tokens=vocab_size,\n",
    "    output_mode=\"int\",\n",
    "    output_sequence_length=sequence_length + 1,\n",
    "    standardize=custom_standardization,\n",
    ")"
   ]
  },
  {
   "cell_type": "code",
   "execution_count": 39,
   "id": "9ee2a48a",
   "metadata": {},
   "outputs": [],
   "source": [
    "train_dutch_texts = [pair[0] for pair in train]\n",
    "train_fries_texts = [pair[1] for pair in train]"
   ]
  },
  {
   "cell_type": "code",
   "execution_count": 40,
   "id": "f771f0cf",
   "metadata": {},
   "outputs": [],
   "source": [
    "source_vectorization.adapt(train_dutch_texts)\n",
    "target_vectorization.adapt(train_fries_texts)"
   ]
  },
  {
   "cell_type": "code",
   "execution_count": 41,
   "id": "c978f268",
   "metadata": {},
   "outputs": [],
   "source": [
    "batch_size = 128"
   ]
  },
  {
   "cell_type": "code",
   "execution_count": 42,
   "id": "fd2d4a15",
   "metadata": {},
   "outputs": [],
   "source": [
    "def format_dataset(nl, frie):\n",
    "    nl = source_vectorization(nl)\n",
    "    frie = target_vectorization(frie)\n",
    "    return ({\n",
    "        \"dutch\": nl,\n",
    "        \"fries\": frie[:, :-1],\n",
    "    }, frie[:, 1:])"
   ]
  },
  {
   "cell_type": "code",
   "execution_count": 43,
   "id": "f959bd0a",
   "metadata": {},
   "outputs": [],
   "source": [
    "def make_dataset(pairs):\n",
    "    nl_texts, fry_texts = zip(*pairs)\n",
    "    nl_texts = list(nl_texts)\n",
    "    fry_texts = list(fry_texts)\n",
    "    dataset = tf.data.Dataset.from_tensor_slices((nl_texts, fry_texts))\n",
    "    dataset = dataset.batch(batch_size)\n",
    "    dataset = dataset.map(format_dataset, num_parallel_calls=4)\n",
    "    return dataset.shuffle(2048).prefetch(16).cache()"
   ]
  },
  {
   "cell_type": "code",
   "execution_count": 44,
   "id": "ddb97878",
   "metadata": {},
   "outputs": [],
   "source": [
    "train_ds = make_dataset(train)\n",
    "val_ds = make_dataset(val)"
   ]
  },
  {
   "cell_type": "code",
   "execution_count": 45,
   "id": "ee73fa0b",
   "metadata": {},
   "outputs": [
    {
     "name": "stdout",
     "output_type": "stream",
     "text": [
      "inputs['dutch'].shape: (128, 20)\n",
      "inputs['fries'].shape: (128, 20)\n",
      "targets.shape: (128, 20)\n"
     ]
    }
   ],
   "source": [
    "for inputs, targets in train_ds.take(1):\n",
    "    print(f\"inputs['dutch'].shape: {inputs['dutch'].shape}\")\n",
    "    print(f\"inputs['fries'].shape: {inputs['fries'].shape}\")\n",
    "    print(f\"targets.shape: {targets.shape}\")"
   ]
  },
  {
   "cell_type": "markdown",
   "id": "f103a904",
   "metadata": {},
   "source": [
    "## 4. Modeling"
   ]
  },
  {
   "cell_type": "code",
   "execution_count": 46,
   "id": "bb588ebf",
   "metadata": {},
   "outputs": [],
   "source": [
    "from tensorflow import keras\n",
    "from tensorflow.keras import layers"
   ]
  },
  {
   "cell_type": "code",
   "execution_count": 47,
   "id": "ec7bf10a",
   "metadata": {},
   "outputs": [],
   "source": [
    "embed_dim = 512\n",
    "latent_dim = 2048\n",
    "layer_1 = 1024\n",
    "layer_2 = 512\n",
    "layer_3 = 256\n",
    "layer_4 = 128"
   ]
  },
  {
   "cell_type": "code",
   "execution_count": 48,
   "id": "704813be",
   "metadata": {},
   "outputs": [],
   "source": [
    "source = keras.Input(shape=(None,), dtype=\"int64\", name=\"dutch\")\n",
    "encoder_emb  = layers.Embedding(vocab_size, embed_dim, mask_zero=True)(source)\n",
    "encoder_gru_1 = layers.Bidirectional(layers.GRU(latent_dim, return_sequences=True), merge_mode=\"sum\")(encoder_emb)\n",
    "encoded_source = layers.GRU(latent_dim)(encoder_gru_1)"
   ]
  },
  {
   "cell_type": "code",
   "execution_count": 49,
   "id": "6f2a8f41",
   "metadata": {},
   "outputs": [],
   "source": [
    "past_target = keras.Input(shape=(None,), dtype=\"int64\", name=\"fries\")\n",
    "decoder_emb  = layers.Embedding(vocab_size, embed_dim, mask_zero=True)(past_target)\n",
    "decoder_gru_1 = layers.GRU(latent_dim, return_sequences=True)(decoder_emb, initial_state=encoded_source)\n",
    "decoder_gru_2 = layers.GRU(layer_1, return_sequences=True)(decoder_gru_1)\n",
    "decoder_gru_3 = layers.GRU(layer_2, return_sequences=True)(decoder_gru_2)\n",
    "dropout_2 = layers.Dropout(0.5)(decoder_gru_3)\n",
    "target_next_step = layers.Dense(vocab_size, activation=\"softmax\")(dropout_2)\n",
    "seq2seq_rnn = keras.Model([source, past_target], target_next_step)"
   ]
  },
  {
   "cell_type": "code",
   "execution_count": 50,
   "id": "9222246e",
   "metadata": {
    "scrolled": false
   },
   "outputs": [
    {
     "name": "stdout",
     "output_type": "stream",
     "text": [
      "Model: \"model\"\n",
      "__________________________________________________________________________________________________\n",
      " Layer (type)                   Output Shape         Param #     Connected to                     \n",
      "==================================================================================================\n",
      " dutch (InputLayer)             [(None, None)]       0           []                               \n",
      "                                                                                                  \n",
      " embedding (Embedding)          (None, None, 512)    7680000     ['dutch[0][0]']                  \n",
      "                                                                                                  \n",
      " fries (InputLayer)             [(None, None)]       0           []                               \n",
      "                                                                                                  \n",
      " bidirectional (Bidirectional)  (None, None, 2048)   31481856    ['embedding[0][0]']              \n",
      "                                                                                                  \n",
      " embedding_1 (Embedding)        (None, None, 512)    7680000     ['fries[0][0]']                  \n",
      "                                                                                                  \n",
      " gru_1 (GRU)                    (None, 2048)         25178112    ['bidirectional[0][0]']          \n",
      "                                                                                                  \n",
      " gru_2 (GRU)                    (None, None, 2048)   15740928    ['embedding_1[0][0]',            \n",
      "                                                                  'gru_1[0][0]']                  \n",
      "                                                                                                  \n",
      " gru_3 (GRU)                    (None, None, 1024)   9443328     ['gru_2[0][0]']                  \n",
      "                                                                                                  \n",
      " gru_4 (GRU)                    (None, None, 512)    2362368     ['gru_3[0][0]']                  \n",
      "                                                                                                  \n",
      " dropout (Dropout)              (None, None, 512)    0           ['gru_4[0][0]']                  \n",
      "                                                                                                  \n",
      " dense (Dense)                  (None, None, 15000)  7695000     ['dropout[0][0]']                \n",
      "                                                                                                  \n",
      "==================================================================================================\n",
      "Total params: 107,261,592\n",
      "Trainable params: 107,261,592\n",
      "Non-trainable params: 0\n",
      "__________________________________________________________________________________________________\n"
     ]
    }
   ],
   "source": [
    "seq2seq_rnn.summary()"
   ]
  },
  {
   "cell_type": "code",
   "execution_count": 51,
   "id": "553e418d",
   "metadata": {},
   "outputs": [
    {
     "name": "stdout",
     "output_type": "stream",
     "text": [
      "Epoch 1/15\n",
      "952/952 [==============================] - 178s 166ms/step - loss: 2.5824 - accuracy: 0.1809 - val_loss: 2.3433 - val_accuracy: 0.2284\n",
      "Epoch 2/15\n",
      "952/952 [==============================] - 153s 161ms/step - loss: 2.3286 - accuracy: 0.2386 - val_loss: 2.1629 - val_accuracy: 0.2768\n",
      "Epoch 3/15\n",
      "952/952 [==============================] - 154s 162ms/step - loss: 2.1752 - accuracy: 0.2835 - val_loss: 2.0218 - val_accuracy: 0.3237\n",
      "Epoch 4/15\n",
      "952/952 [==============================] - 153s 160ms/step - loss: 2.0367 - accuracy: 0.3304 - val_loss: 1.9113 - val_accuracy: 0.3672\n",
      "Epoch 5/15\n",
      "952/952 [==============================] - 153s 161ms/step - loss: 1.9253 - accuracy: 0.3717 - val_loss: 1.8111 - val_accuracy: 0.4044\n",
      "Epoch 6/15\n",
      "952/952 [==============================] - 153s 160ms/step - loss: 1.8365 - accuracy: 0.4025 - val_loss: 1.7472 - val_accuracy: 0.4272\n",
      "Epoch 7/15\n",
      "952/952 [==============================] - 155s 163ms/step - loss: 1.7703 - accuracy: 0.4262 - val_loss: 1.6955 - val_accuracy: 0.4469\n",
      "Epoch 8/15\n",
      "952/952 [==============================] - 154s 162ms/step - loss: 1.7114 - accuracy: 0.4473 - val_loss: 1.6559 - val_accuracy: 0.4614\n",
      "Epoch 9/15\n",
      "952/952 [==============================] - 152s 160ms/step - loss: 1.6656 - accuracy: 0.4637 - val_loss: 1.6300 - val_accuracy: 0.4726\n",
      "Epoch 10/15\n",
      "952/952 [==============================] - 154s 162ms/step - loss: 1.6300 - accuracy: 0.4771 - val_loss: 1.6081 - val_accuracy: 0.4820\n",
      "Epoch 11/15\n",
      "952/952 [==============================] - 154s 162ms/step - loss: 1.5980 - accuracy: 0.4895 - val_loss: 1.5869 - val_accuracy: 0.4898\n",
      "Epoch 12/15\n",
      "952/952 [==============================] - 154s 161ms/step - loss: 1.5718 - accuracy: 0.4996 - val_loss: 1.5741 - val_accuracy: 0.4955\n",
      "Epoch 13/15\n",
      "952/952 [==============================] - 155s 163ms/step - loss: 1.5554 - accuracy: 0.5083 - val_loss: 1.5649 - val_accuracy: 0.5012\n",
      "Epoch 14/15\n",
      "952/952 [==============================] - 154s 162ms/step - loss: 1.5419 - accuracy: 0.5159 - val_loss: 1.5661 - val_accuracy: 0.5022\n",
      "Epoch 15/15\n",
      "952/952 [==============================] - 153s 161ms/step - loss: 1.5296 - accuracy: 0.5213 - val_loss: 1.5612 - val_accuracy: 0.5058\n"
     ]
    }
   ],
   "source": [
    "seq2seq_rnn.compile(\n",
    "    optimizer=\"rmsprop\",\n",
    "    loss=\"sparse_categorical_crossentropy\",\n",
    "    metrics=[\"accuracy\"])\n",
    "history = seq2seq_rnn.fit(train_ds, epochs=15, validation_data=val_ds)"
   ]
  },
  {
   "cell_type": "markdown",
   "id": "d274e1f1",
   "metadata": {},
   "source": [
    "## 5. Evaluation"
   ]
  },
  {
   "cell_type": "code",
   "execution_count": 52,
   "id": "680acfad",
   "metadata": {},
   "outputs": [
    {
     "data": {
      "text/plain": [
       "<matplotlib.legend.Legend at 0x1c0252d1ca0>"
      ]
     },
     "execution_count": 52,
     "metadata": {},
     "output_type": "execute_result"
    },
    {
     "data": {
      "image/png": "[encoded data removed]",
      "text/plain": [
       "<Figure size 432x288 with 1 Axes>"
      ]
     },
     "metadata": {
      "needs_background": "light"
     },
     "output_type": "display_data"
    }
   ],
   "source": [
    "acc=history.history['accuracy']\n",
    "val_acc=history.history['val_accuracy']\n",
    "epochs=range(1, len(acc)+1)                        \n",
    "plt.plot(epochs, acc, label='accuracy')\n",
    "plt.plot(epochs, val_acc, label = 'val_accuracy')\n",
    "plt.xlabel('Epoch')\n",
    "plt.ylabel('Accuracy')\n",
    "plt.legend(loc='lower right')"
   ]
  },
  {
   "cell_type": "markdown",
   "id": "161cd91b",
   "metadata": {},
   "source": [
    "Het toevoegen van een tweede layer in de encoder heeft de accuracy omlaag gebracht maar de accuracy en de validatie accuracy zijn dichterbij elkaar gekomen. Het is van 0.58% naar 0.5% gegaan.\n",
    "\n",
    "In de volgende versie ga ik mij focussen om de data preperatie om te kijken als daar nog winst kan gehaald worden op de accuracy."
   ]
  }
 ],
 "metadata": {
  "kernelspec": {
   "display_name": "Python 3 (ipykernel)",
   "language": "python",
   "name": "python3"
  },
  "language_info": {
   "codemirror_mode": {
    "name": "ipython",
    "version": 3
   },
   "file_extension": ".py",
   "mimetype": "text/x-python",
   "name": "python",
   "nbconvert_exporter": "python",
   "pygments_lexer": "ipython3",
   "version": "3.9.12"
  }
 },
 "nbformat": 4,
 "nbformat_minor": 5
}
