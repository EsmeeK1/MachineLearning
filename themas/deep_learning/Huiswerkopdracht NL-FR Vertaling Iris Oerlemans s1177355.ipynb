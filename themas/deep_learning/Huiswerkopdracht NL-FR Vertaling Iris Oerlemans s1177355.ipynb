{
 "cells": [
  {
   "cell_type": "markdown",
   "metadata": {},
   "source": [
    "# Huiswerk opdracht Fries naar Nederlands vertalen\n",
    "\n",
    "### Notebook by [Iris Oerlemans](http://www.google.com/)\n",
    "\n",
    "---"
   ]
  },
  {
   "cell_type": "markdown",
   "metadata": {},
   "source": [
    "## Table of contents\n",
    "\n",
    "1. [Business Understanding](#Business-Understanding)\n",
    "\n",
    "2. [Data Understanding](#Data-Understanding)\n",
    "\n",
    "3. [Data Prepartion](#Data-Preparation)\n",
    "\n",
    "4. [Modeling & Evaluation](#Modeling-&-Evaluation)\n",
    "\n",
    "---"
   ]
  },
  {
   "cell_type": "markdown",
   "metadata": {},
   "source": [
    "# Business Understanding\n",
    "\n",
    "[[ go back to the top ]](#Table-of-contents)\n",
    "\n",
    "De vraag van de klant is: Kan machine learning helpen bij het vertalen van brieven en teksten die gescheven zijn in een andere taal dan de ontvanger spreekt? \n",
    "\n",
    "Voor de opdracht maken we gebruik van de dataset van het [Fryske Akademy](https://frisian.eu/). Deze dataset bestaat uit zin-paren van Nederlands naar Fries. \n",
    "\n",
    "De opdracht is: verbeter de kwaliteit van de automatische vertaler tussen het Nederlands en Fries **(of andersom)**.\n",
    "\n",
    "Als oplevering verwacht de opdrachtgever een aantal zinnen gedemonstreert. \n",
    "\n",
    "---"
   ]
  },
  {
   "cell_type": "code",
   "execution_count": 1,
   "metadata": {},
   "outputs": [
    {
     "name": "stderr",
     "output_type": "stream",
     "text": [
      "2024-10-11 09:27:06.537367: I tensorflow/core/util/port.cc:153] oneDNN custom operations are on. You may see slightly different numerical results due to floating-point round-off errors from different computation orders. To turn them off, set the environment variable `TF_ENABLE_ONEDNN_OPTS=0`.\n",
      "2024-10-11 09:27:06.710000: E external/local_xla/xla/stream_executor/cuda/cuda_fft.cc:485] Unable to register cuFFT factory: Attempting to register factory for plugin cuFFT when one has already been registered\n",
      "2024-10-11 09:27:06.772540: E external/local_xla/xla/stream_executor/cuda/cuda_dnn.cc:8454] Unable to register cuDNN factory: Attempting to register factory for plugin cuDNN when one has already been registered\n",
      "2024-10-11 09:27:06.787932: E external/local_xla/xla/stream_executor/cuda/cuda_blas.cc:1452] Unable to register cuBLAS factory: Attempting to register factory for plugin cuBLAS when one has already been registered\n",
      "2024-10-11 09:27:06.886121: I tensorflow/core/platform/cpu_feature_guard.cc:210] This TensorFlow binary is optimized to use available CPU instructions in performance-critical operations.\n",
      "To enable the following instructions: AVX2 AVX_VNNI FMA, in other operations, rebuild TensorFlow with the appropriate compiler flags.\n"
     ]
    }
   ],
   "source": [
    "# Data Manipulation and Analysis\n",
    "import pandas as pd \n",
    "import numpy as np \n",
    "\n",
    "# Machine Learning and Data Preprocessing\n",
    "from sklearn.preprocessing import LabelEncoder \n",
    "from sklearn.model_selection import train_test_split \n",
    "\n",
    "# Visualization\n",
    "import matplotlib.pyplot as plt \n",
    "\n",
    "# AI packages\n",
    "import tensorflow as tf \n",
    "from tensorflow import keras\n",
    "from tensorflow.keras import layers\n",
    "import keras_nlp\n",
    "from tensorflow.keras.callbacks import EarlyStopping\n",
    "\n",
    "\n",
    "# Project-Specific Modules\n",
    "import requests\n",
    "import unicodedata\n",
    "from sklearn.model_selection import train_test_split\n",
    "import string\n",
    "import re\n",
    "\n",
    "from transformers import BartTokenizer, TFBartForConditionalGeneration\n",
    "import torch\n",
    "from torch.utils.data import Dataset, DataLoader\n",
    "import random\n",
    "from collections import Counter"
   ]
  },
  {
   "cell_type": "markdown",
   "metadata": {},
   "source": [
    "---"
   ]
  },
  {
   "cell_type": "markdown",
   "metadata": {},
   "source": [
    "# Data Understanding\n",
    "\n",
    "[[ go back to the top ]](#Table-of-contents)\n",
    "\n",
    "Data inladen volgens geleverde bestanden.\n",
    "\n",
    "---"
   ]
  },
  {
   "cell_type": "markdown",
   "metadata": {},
   "source": [
    "Dataframe maken"
   ]
  },
  {
   "cell_type": "code",
   "execution_count": 2,
   "metadata": {},
   "outputs": [
    {
     "data": {
      "text/html": [
       "<div>\n",
       "<style scoped>\n",
       "    .dataframe tbody tr th:only-of-type {\n",
       "        vertical-align: middle;\n",
       "    }\n",
       "\n",
       "    .dataframe tbody tr th {\n",
       "        vertical-align: top;\n",
       "    }\n",
       "\n",
       "    .dataframe thead th {\n",
       "        text-align: right;\n",
       "    }\n",
       "</style>\n",
       "<table border=\"1\" class=\"dataframe\">\n",
       "  <thead>\n",
       "    <tr style=\"text-align: right;\">\n",
       "      <th></th>\n",
       "      <th>nederlands</th>\n",
       "      <th>fries</th>\n",
       "    </tr>\n",
       "  </thead>\n",
       "  <tbody>\n",
       "    <tr>\n",
       "      <th>0</th>\n",
       "      <td>we hebben de burgemeester het advies gegeven o...</td>\n",
       "      <td>wy hawwe de boargemaster it advys jun om it ka...</td>\n",
       "    </tr>\n",
       "    <tr>\n",
       "      <th>1</th>\n",
       "      <td>we hebben de burgemeester het advies gegeven o...</td>\n",
       "      <td>wy hawwe de boargemaster it advys jun om it ka...</td>\n",
       "    </tr>\n",
       "    <tr>\n",
       "      <th>2</th>\n",
       "      <td>een plotselinge dood</td>\n",
       "      <td>in hastige dea</td>\n",
       "    </tr>\n",
       "    <tr>\n",
       "      <th>3</th>\n",
       "      <td>een plotselinge dood</td>\n",
       "      <td>in unferwachte dea</td>\n",
       "    </tr>\n",
       "    <tr>\n",
       "      <th>4</th>\n",
       "      <td>zijn plotseling overlijden</td>\n",
       "      <td>syn hastich ferstjerren</td>\n",
       "    </tr>\n",
       "  </tbody>\n",
       "</table>\n",
       "</div>"
      ],
      "text/plain": [
       "                                          nederlands  \\\n",
       "0  we hebben de burgemeester het advies gegeven o...   \n",
       "1  we hebben de burgemeester het advies gegeven o...   \n",
       "2                               een plotselinge dood   \n",
       "3                               een plotselinge dood   \n",
       "4                         zijn plotseling overlijden   \n",
       "\n",
       "                                               fries  \n",
       "0  wy hawwe de boargemaster it advys jun om it ka...  \n",
       "1  wy hawwe de boargemaster it advys jun om it ka...  \n",
       "2                                     in hastige dea  \n",
       "3                                 in unferwachte dea  \n",
       "4                            syn hastich ferstjerren  "
      ]
     },
     "execution_count": 2,
     "metadata": {},
     "output_type": "execute_result"
    }
   ],
   "source": [
    "df_pd = pd.read_csv('dataset.csv')\n",
    "df_pd.head()"
   ]
  },
  {
   "cell_type": "markdown",
   "metadata": {},
   "source": [
    "Kijken hoe groot de dataset.csv is"
   ]
  },
  {
   "cell_type": "code",
   "execution_count": 3,
   "metadata": {},
   "outputs": [
    {
     "data": {
      "text/plain": [
       "173912"
      ]
     },
     "execution_count": 3,
     "metadata": {},
     "output_type": "execute_result"
    }
   ],
   "source": [
    "len(df_pd)"
   ]
  },
  {
   "cell_type": "markdown",
   "metadata": {},
   "source": [
    "Kijken hoe groot de txt is"
   ]
  },
  {
   "cell_type": "code",
   "execution_count": 4,
   "metadata": {},
   "outputs": [
    {
     "name": "stdout",
     "output_type": "stream",
     "text": [
      "195545\n"
     ]
    }
   ],
   "source": [
    "text_file = \"texts.txt\"\n",
    "\n",
    "with open(text_file, encoding='utf8') as f:\n",
    "    lines = f.readlines() \n",
    "\n",
    "print(len(lines))"
   ]
  },
  {
   "cell_type": "markdown",
   "metadata": {},
   "source": [
    "Rekening houdend met dat de teksten onder elkaar staan en dus /2 moet eigenlijk, kan tekst.txt beter het test bestand worden en dataset.csv beter het train bestand."
   ]
  },
  {
   "cell_type": "code",
   "execution_count": 5,
   "metadata": {},
   "outputs": [
    {
     "data": {
      "text/plain": [
       "nederlands    0\n",
       "fries         0\n",
       "dtype: int64"
      ]
     },
     "execution_count": 5,
     "metadata": {},
     "output_type": "execute_result"
    }
   ],
   "source": [
    "df_pd.isnull().sum()"
   ]
  },
  {
   "cell_type": "code",
   "execution_count": 6,
   "metadata": {},
   "outputs": [
    {
     "name": "stdout",
     "output_type": "stream",
     "text": [
      "390\n",
      "3\n"
     ]
    }
   ],
   "source": [
    "print(df_pd['nederlands'].str.len().max())\n",
    "print(df_pd['nederlands'].str.len().min())"
   ]
  },
  {
   "cell_type": "code",
   "execution_count": 7,
   "metadata": {},
   "outputs": [
    {
     "name": "stdout",
     "output_type": "stream",
     "text": [
      "354\n",
      "1\n"
     ]
    }
   ],
   "source": [
    "print(df_pd['fries'].str.len().max())\n",
    "print(df_pd['fries'].str.len().min())"
   ]
  },
  {
   "cell_type": "markdown",
   "metadata": {},
   "source": [
    "Ik heb chatgpt gevraagd om mij te helpen bij het vinden van speciale tekens. "
   ]
  },
  {
   "cell_type": "markdown",
   "metadata": {},
   "source": [
    "# Data Preparation\n",
    "\n",
    "[[ go back to the top ]](#Table-of-contents)\n",
    "\n",
    "---"
   ]
  },
  {
   "cell_type": "markdown",
   "metadata": {},
   "source": [
    "De volgende stap heb ik gevolgd zoals in de les uitgelegd. Wel heb ik onderzocht waarom we [start] en [end] toevoegen. Dit bleek niet verplicht te zijn, maar handig om de decoder beter zijn werk te laten doen. Daarom heb ik gekozen om dit erin te laten staan. \n",
    "\n",
    "In het volgende stuk code verwerk ik het tekst bestand, wat ik als trainingsdata ga gebruiken. Het bestand hiervoor ga ik gebruiken als testdata. \n",
    "Ik heb hierin Fries als originele taal gepakt om dit te kunnen vertalen naar het Nederlands zodat casussen als de brief (zie opdracht) via deze weg vertaald kunnen worden naar het Nederlands."
   ]
  },
  {
   "cell_type": "code",
   "execution_count": 8,
   "metadata": {},
   "outputs": [
    {
     "data": {
      "text/plain": [
       "[(\"Dat leste hat it tastel noch twa kear foar by de makker west: it foldocht neffens de [reparaasjetsjinst, makkerstsjinst, makkerij] perfekt oan 'e technyske spesifikaasjes.\",\n",
       "  '[start] Voor dit laatste is het toestel nog twee keer in herstelling geweest: het voldoet volgens de hersteldienst perfect aan de technische specificaties. [end]'),\n",
       " ('Us [reparaasjetsjinst, makkerstsjinst, makkerij] stiet klear om dizze maleur sa gau mooglik by te helpen.',\n",
       "  '[start] Onze hersteldienst staat klaar om dit defect zo snel mogelijk op te lossen. [end]'),\n",
       " ('Us makkers steane klear om dizze maleur sa gau mooglik by te helpen.',\n",
       "  '[start] Onze hersteldienst staat klaar om dit defect zo snel mogelijk op te lossen. [end]'),\n",
       " ('Lytse [reparaasjetsjinsten, makkerstsjinsten, makkerijen] by fytsen, fuotark en learguod, klean en hushaldlik linnen.',\n",
       "  '[start] Kleine hersteldiensten bij fietsen, schoeisel en lederwaren, kleding en huishoudlinnen. [end]'),\n",
       " ('De earetsjinst, de hielingstsjinsten, it learhus en de husrunten helpe ek yn it proses fan [hieljen, hiel wurden, genezing].',\n",
       "  '[start] Ook de erediensten, de hersteldiensten, het Leerhuis en de huiskringen helpen in het herstelproces. [end]')]"
      ]
     },
     "execution_count": 8,
     "metadata": {},
     "output_type": "execute_result"
    }
   ],
   "source": [
    "text_file = \"texts.txt\"\n",
    "text_pairs_test = []\n",
    "current_translation = None\n",
    "\n",
    "with open(text_file, encoding='utf8') as f:\n",
    "    lines = f.read().split(\"\\n\")[:-1]\n",
    "\n",
    "\n",
    "for line in lines:\n",
    "    #als regel niet met tr begint = Nederlands\n",
    "    if not line.startswith(\"tr:\"):\n",
    "        current_translation = \"[start] \" + line + \" [end]\"  \n",
    "    #als regel met tr begint is het de Friese zin \n",
    "    elif current_translation:  \n",
    "        fries = line.replace(\"tr: \", \"\")\n",
    "        text_pairs_test.append((fries, current_translation))\n",
    "\n",
    "text_pairs_test[:5]\n"
   ]
  },
  {
   "cell_type": "markdown",
   "metadata": {},
   "source": [
    "Omzetten csv bestand, zodat dit uiteindelijk te gebruiken is als test data."
   ]
  },
  {
   "cell_type": "code",
   "execution_count": 9,
   "metadata": {},
   "outputs": [
    {
     "data": {
      "text/plain": [
       "[('wy hawwe de boargemaster it advys jun om it kafee tydlik te sluten sei de stedsamtner',\n",
       "  '[start] we hebben de burgemeester het advies gegeven om het cafe tijdelijk te sluiten aldus de stadsambtenaar [end]'),\n",
       " ('wy hawwe de boargemaster it advys jun om it kafee tydlik te sluten seit de stedsamtner',\n",
       "  '[start] we hebben de burgemeester het advies gegeven om het cafe tijdelijk te sluiten aldus de stadsambtenaar [end]'),\n",
       " ('in hastige dea', '[start] een plotselinge dood [end]'),\n",
       " ('in unferwachte dea', '[start] een plotselinge dood [end]'),\n",
       " ('syn hastich ferstjerren', '[start] zijn plotseling overlijden [end]')]"
      ]
     },
     "execution_count": 9,
     "metadata": {},
     "output_type": "execute_result"
    }
   ],
   "source": [
    "text_pairs_train = []\n",
    "\n",
    "for index, row in df_pd.iterrows():\n",
    "    fries = row['fries']  \n",
    "    nederlands = \"[start] \" + row['nederlands'] + \" [end]\"  \n",
    "    text_pairs_train.append((fries, nederlands))\n",
    "\n",
    "text_pairs_train[:5]\n"
   ]
  },
  {
   "cell_type": "markdown",
   "metadata": {},
   "source": [
    "Het splitten van de train en test data heb ik in feite dus nu al gedaan. En zoals te zien is staan ze in hetzelfde format."
   ]
  },
  {
   "cell_type": "markdown",
   "metadata": {},
   "source": [
    "Nu ga ik de standardization voorbereiden en een functie van schrijven. Hiermee normaliseer ik de tekst. Daarna zet ik de zinnen om in tokens zodat ze kunnen worden verwerkt zometeen."
   ]
  },
  {
   "cell_type": "code",
   "execution_count": 10,
   "metadata": {},
   "outputs": [
    {
     "name": "stderr",
     "output_type": "stream",
     "text": [
      "WARNING: All log messages before absl::InitializeLog() is called are written to STDERR\n",
      "I0000 00:00:1728638837.378127     577 cuda_executor.cc:1001] could not open file to read NUMA node: /sys/bus/pci/devices/0000:01:00.0/numa_node\n",
      "Your kernel may have been built without NUMA support.\n",
      "I0000 00:00:1728638837.381722     577 cuda_executor.cc:1001] could not open file to read NUMA node: /sys/bus/pci/devices/0000:01:00.0/numa_node\n",
      "Your kernel may have been built without NUMA support.\n",
      "I0000 00:00:1728638837.381766     577 cuda_executor.cc:1001] could not open file to read NUMA node: /sys/bus/pci/devices/0000:01:00.0/numa_node\n",
      "Your kernel may have been built without NUMA support.\n",
      "I0000 00:00:1728638837.384467     577 cuda_executor.cc:1001] could not open file to read NUMA node: /sys/bus/pci/devices/0000:01:00.0/numa_node\n",
      "Your kernel may have been built without NUMA support.\n",
      "I0000 00:00:1728638837.384501     577 cuda_executor.cc:1001] could not open file to read NUMA node: /sys/bus/pci/devices/0000:01:00.0/numa_node\n",
      "Your kernel may have been built without NUMA support.\n",
      "I0000 00:00:1728638837.384513     577 cuda_executor.cc:1001] could not open file to read NUMA node: /sys/bus/pci/devices/0000:01:00.0/numa_node\n",
      "Your kernel may have been built without NUMA support.\n",
      "I0000 00:00:1728638837.538592     577 cuda_executor.cc:1001] could not open file to read NUMA node: /sys/bus/pci/devices/0000:01:00.0/numa_node\n",
      "Your kernel may have been built without NUMA support.\n",
      "I0000 00:00:1728638837.538660     577 cuda_executor.cc:1001] could not open file to read NUMA node: /sys/bus/pci/devices/0000:01:00.0/numa_node\n",
      "Your kernel may have been built without NUMA support.\n",
      "2024-10-11 09:27:17.538670: I tensorflow/core/common_runtime/gpu/gpu_device.cc:2112] Could not identify NUMA node of platform GPU id 0, defaulting to 0.  Your kernel may not have been built with NUMA support.\n",
      "I0000 00:00:1728638837.538709     577 cuda_executor.cc:1001] could not open file to read NUMA node: /sys/bus/pci/devices/0000:01:00.0/numa_node\n",
      "Your kernel may have been built without NUMA support.\n",
      "2024-10-11 09:27:17.539081: I tensorflow/core/common_runtime/gpu/gpu_device.cc:2021] Created device /job:localhost/replica:0/task:0/device:GPU:0 with 5520 MB memory:  -> device: 0, name: NVIDIA GeForce RTX 4070 Laptop GPU, pci bus id: 0000:01:00.0, compute capability: 8.9\n"
     ]
    }
   ],
   "source": [
    "#schoon de zinnen op (lowercase, interpunctie etc.) en vectorize de zinnen\n",
    "#Dit stuk code komt uit het werkboek van les 3\n",
    "\n",
    "strip_chars = string.punctuation # vewijder intterpunctie\n",
    "strip_chars = strip_chars.replace(\"[\", \"\") #zorgt ervoor dat de [ en ] behouden blijven\n",
    "strip_chars = strip_chars.replace(\"]\", \"\") \n",
    "\n",
    "def custom_standardization(input_string):\n",
    "    lowercase = tf.strings.lower(input_string)\n",
    "    return tf.strings.regex_replace(\n",
    "        lowercase, f\"[{re.escape(strip_chars)}]\", \"\") #TensorFlow-functie om tekst te manipuleren, \n",
    "\n",
    "vocab_size = 80000\n",
    "sequence_length = 20\n",
    "\n",
    "source_vectorization = layers.TextVectorization( \n",
    "    max_tokens=vocab_size,\n",
    "    output_mode=\"int\",\n",
    "    output_sequence_length=sequence_length,\n",
    ")\n",
    "\n",
    "target_vectorization = layers.TextVectorization(\n",
    "    max_tokens=vocab_size,\n",
    "    output_mode=\"int\",\n",
    "    output_sequence_length=sequence_length + 1, standardize=custom_standardization \n",
    "    #Generate Dutch sentences that have one extra token, since we need to offset \n",
    "    #the sentence by one step during training\n",
    ")\n",
    "\n",
    "train_fries_texts = [pair[0] for pair in text_pairs_train]\n",
    "train_nl_texts = [pair[1] for pair in text_pairs_train]\n",
    "source_vectorization.adapt(train_fries_texts)\n",
    "target_vectorization.adapt(train_nl_texts)"
   ]
  },
  {
   "cell_type": "markdown",
   "metadata": {},
   "source": [
    "Om de gegevens efficiënter bruikbaar te maken gaan we de zinnen formateren en de dataset opnieuw opbouwen."
   ]
  },
  {
   "cell_type": "code",
   "execution_count": 11,
   "metadata": {},
   "outputs": [],
   "source": [
    "# omzetten dataset objecten\n",
    "#Dit stuk code komt uit het werkboek van les 3\n",
    "\n",
    "batch_size = 64\n",
    "\n",
    "def format_dataset(fries, nl):\n",
    "    fries = source_vectorization(fries)\n",
    "    nl = target_vectorization(nl)\n",
    "    return ({\n",
    "        \"fries\": fries,\n",
    "        \"nl\": nl[:, :-1], #the input sentence doesn't include the last token, to keep input and target the same length \n",
    "    }, nl[:, 1:]) #the target sentence is one step ahead. Both are still the same length (20 words)\n",
    "\n",
    "def make_dataset(pairs):\n",
    "    fries_texts, nl_texts = zip(*pairs)\n",
    "    fries_texts = list(fries_texts)\n",
    "    nl_texts = list(nl_texts)\n",
    "    dataset = tf.data.Dataset.from_tensor_slices((fries_texts, nl_texts))\n",
    "    dataset = dataset.batch(batch_size)\n",
    "    dataset = dataset.map(format_dataset, num_parallel_calls=4)\n",
    "    return dataset \n",
    "\n",
    "train_ds = make_dataset(text_pairs_train)\n",
    "test_ds = make_dataset(text_pairs_test)"
   ]
  },
  {
   "cell_type": "code",
   "execution_count": 12,
   "metadata": {},
   "outputs": [
    {
     "name": "stdout",
     "output_type": "stream",
     "text": [
      "inputs['fries'].shape: (64, 20)\n",
      "inputs['nl'].shape: (64, 20)\n",
      "targets.shape: (64, 20)\n"
     ]
    },
    {
     "name": "stderr",
     "output_type": "stream",
     "text": [
      "2024-10-11 09:27:35.489490: I tensorflow/core/framework/local_rendezvous.cc:404] Local rendezvous is aborting with status: OUT_OF_RANGE: End of sequence\n"
     ]
    }
   ],
   "source": [
    "#check of alles dezelfde shape heeft\n",
    "for inputs, targets in train_ds.take(1):\n",
    "    print(f\"inputs['fries'].shape: {inputs['fries'].shape}\")\n",
    "    print(f\"inputs['nl'].shape: {inputs['nl'].shape}\")\n",
    "    print(f\"targets.shape: {targets.shape}\")"
   ]
  },
  {
   "cell_type": "markdown",
   "metadata": {},
   "source": [
    "#### Transformer encoder"
   ]
  },
  {
   "cell_type": "markdown",
   "metadata": {},
   "source": [
    "Daarna defineren we de transformer encoder. Deze bestaat al uit normalisatielagen en dense layers om de input goed te kunnen verwerken. "
   ]
  },
  {
   "cell_type": "code",
   "execution_count": 13,
   "metadata": {},
   "outputs": [],
   "source": [
    "#Dit stuk code komt uit het werkboek van les 3\n",
    "class TransformerEncoder(layers.Layer):\n",
    "    def __init__(self, embed_dim, dense_dim, num_heads, **kwargs):\n",
    "        super().__init__(**kwargs)\n",
    "        self.embed_dim = embed_dim\n",
    "        self.dense_dim = dense_dim\n",
    "        self.num_heads = num_heads\n",
    "        self.attention = layers.MultiHeadAttention(\n",
    "            num_heads=num_heads, key_dim=embed_dim)\n",
    "        self.dense_proj = keras.Sequential(\n",
    "            [layers.Dense(dense_dim, activation=\"relu\"),\n",
    "             layers.Dense(embed_dim),]\n",
    "        )\n",
    "        self.layernorm_1 = layers.LayerNormalization(epsilon=1e-7) #MklLayerNormError FIX \n",
    "        self.layernorm_2 = layers.LayerNormalization(epsilon=1e-7) #MklLayerNormError FIX \n",
    "\n",
    "    def call(self, inputs, mask=None):\n",
    "        if mask is not None:\n",
    "            mask = mask[:, tf.newaxis, :]\n",
    "        attention_output = self.attention(\n",
    "            inputs, inputs, attention_mask=mask)\n",
    "        proj_input = self.layernorm_1(inputs + attention_output)\n",
    "        proj_output = self.dense_proj(proj_input)\n",
    "        return self.layernorm_2(proj_input + proj_output)\n",
    "\n",
    "    def get_config(self):\n",
    "        config = super().get_config()\n",
    "        config.update({\n",
    "            \"embed_dim\": self.embed_dim,\n",
    "            \"num_heads\": self.num_heads,\n",
    "            \"dense_dim\": self.dense_dim,\n",
    "        })\n",
    "        return config"
   ]
  },
  {
   "cell_type": "markdown",
   "metadata": {},
   "source": [
    "#### Transformer decoder"
   ]
  },
  {
   "cell_type": "markdown",
   "metadata": {},
   "source": [
    "De decoder doet twee dingen. Eerst kijkt ie naar de vorige woorden in de uitvoer en daarna koppelt ie deze naar de uitkomst van de encoder. De decoder zorgt dat het model niet kan \"spieken\" naar de komende woorden in de zin. "
   ]
  },
  {
   "cell_type": "code",
   "execution_count": 14,
   "metadata": {},
   "outputs": [],
   "source": [
    "#Dit stuk code komt uit het werkboek van les 3\n",
    "#define de TransformerDecoder\n",
    "class TransformerDecoder(layers.Layer):\n",
    "    def __init__(self, embed_dim, dense_dim, num_heads, **kwargs):\n",
    "        super().__init__(**kwargs)\n",
    "        self.embed_dim = embed_dim\n",
    "        self.dense_dim = dense_dim\n",
    "        self.num_heads = num_heads\n",
    "        self.attention_1 = layers.MultiHeadAttention(\n",
    "            num_heads=num_heads, key_dim=embed_dim)\n",
    "        self.attention_2 = layers.MultiHeadAttention(\n",
    "            num_heads=num_heads, key_dim=embed_dim)\n",
    "        self.dense_proj = keras.Sequential(\n",
    "            [layers.Dense(dense_dim, activation=\"relu\"),\n",
    "             layers.Dense(embed_dim),]\n",
    "        )\n",
    "        self.layernorm_1 = layers.LayerNormalization(epsilon=1e-7)\n",
    "        self.layernorm_2 = layers.LayerNormalization(epsilon=1e-7)\n",
    "        self.layernorm_3 = layers.LayerNormalization(epsilon=1e-7)\n",
    "        self.supports_masking = True #anders geen masking mogelijk\n",
    "\n",
    "    def get_config(self):\n",
    "        config = super().get_config()\n",
    "        config.update({\n",
    "            \"embed_dim\": self.embed_dim,\n",
    "            \"num_heads\": self.num_heads,\n",
    "            \"dense_dim\": self.dense_dim,\n",
    "        })\n",
    "        return config\n",
    "\n",
    "    def get_causal_attention_mask(self, inputs):\n",
    "        #prevents the model from learning to copy the next token from the input to the output by hiden it\n",
    "        # [[1,0,0],\n",
    "        #  [1,1,0],\n",
    "        #  [1,1,1]]\n",
    "        input_shape = tf.shape(inputs)\n",
    "        batch_size, sequence_length = input_shape[0], input_shape[1]\n",
    "        i = tf.range(sequence_length)[:, tf.newaxis]\n",
    "        j = tf.range(sequence_length)\n",
    "        mask = tf.cast(i >= j, dtype=\"int32\")\n",
    "        mask = tf.reshape(mask, (1, input_shape[1], input_shape[1]))\n",
    "        mult = tf.concat(\n",
    "            [tf.expand_dims(batch_size, -1),\n",
    "             tf.constant([1, 1], dtype=tf.int32)], axis=0)\n",
    "        #Replicate it along the batch axis to get an matrix of shape (batch_size, sequence_length, sequence_length)\n",
    "        return tf.tile(mask, mult)\n",
    "\n",
    "    def call(self, inputs, encoder_outputs, mask=None):\n",
    "        causal_mask = self.get_causal_attention_mask(inputs)\n",
    "        #retrieve the casual mask\n",
    "        if mask is not None: #prepare the input mask that describes padding locations in the target_sequence\n",
    "            padding_mask = tf.cast(\n",
    "                mask[:, tf.newaxis, :], dtype=\"int32\") #extra dim aangezien transfo deze verwacht\n",
    "            padding_mask = tf.minimum(padding_mask, causal_mask)#merge both masks (input padding en volgende woord padding)\n",
    "        attention_output_1 = self.attention_1(\n",
    "            query=inputs,\n",
    "            value=inputs,\n",
    "            key=inputs,\n",
    "            attention_mask=causal_mask)# pass the casual mask tot the first attention layer, which performs self attention over the target sequence \n",
    "        attention_output_1 = self.layernorm_1(inputs + attention_output_1)\n",
    "        attention_output_2 = self.attention_2(\n",
    "            query=attention_output_1,\n",
    "            value=encoder_outputs,\n",
    "            key=encoder_outputs,\n",
    "            attention_mask=padding_mask, #pass the combined mask to the second attention layer, which relates the source sequence to the target sequence\n",
    "        )\n",
    "        attention_output_2 = self.layernorm_2(\n",
    "            attention_output_1 + attention_output_2)\n",
    "        proj_output = self.dense_proj(attention_output_2)\n",
    "        return self.layernorm_3(attention_output_2 + proj_output)"
   ]
  },
  {
   "cell_type": "markdown",
   "metadata": {},
   "source": [
    "De positional embedding zorgt voor een combinatie van de token en positie. Zo weet het model niet alleen welk woord het is maar ook op welke plek in de zin het woord staat. Dit is belangrijk voor de betekenis van het woord. "
   ]
  },
  {
   "cell_type": "code",
   "execution_count": 15,
   "metadata": {},
   "outputs": [],
   "source": [
    "class PositionalEmbedding(layers.Layer):\n",
    "    def __init__(self, sequence_length, input_dim, output_dim, **kwargs):\n",
    "        super().__init__(**kwargs)\n",
    "\n",
    "        # Initialize the embeddings for tokens and positions\n",
    "        self.token_embeddings = layers.Embedding(           # regular embedding\n",
    "            input_dim=input_dim, output_dim=output_dim)\n",
    "        self.position_embeddings = layers.Embedding(        # position embedding\n",
    "            input_dim=sequence_length, output_dim=output_dim)\n",
    "        # Some relevant settings for subsequent layers\n",
    "        # Definnig the settings as part of the object (self.) makes it\n",
    "        # easier to apply them consistently in the call() method\n",
    "        self.sequence_length = sequence_length\n",
    "        self.input_dim = input_dim\n",
    "        self.output_dim = output_dim\n",
    "\n",
    "    def call(self, inputs):\n",
    "        length = tf.shape(inputs)[-1]                               # Length of the input sentences\n",
    "        positions = tf.range(start=0, limit=length, delta=1)        # 0-indexed positions of tokens in the sequences\n",
    "        # Generate the actual position embeddings\n",
    "        embedded_tokens = self.token_embeddings(inputs)             # Regular embeddings of the tokens\n",
    "        embedded_positions = self.position_embeddings(positions)    # Position embeddings\n",
    "        # We maken hier een 2e embeddingspace voor de positie die we daarna bij het origineel optellen\n",
    "        return embedded_tokens + embedded_positions\n",
    "\n",
    "    def compute_mask(self, inputs, mask=None):\n",
    "        return tf.math.not_equal(inputs, 0) #geneer mask basis van waar de input niet 0 is.Zodat we de input niet hoeven te padden\n",
    "\n",
    "    def get_config(self):\n",
    "        config = super().get_config()\n",
    "        config.update({\n",
    "            \"output_dim\": self.output_dim,\n",
    "            \"sequence_length\": self.sequence_length,\n",
    "            \"input_dim\": self.input_dim,\n",
    "        })\n",
    "        return config"
   ]
  },
  {
   "cell_type": "markdown",
   "metadata": {},
   "source": [
    "# Modeling & Evaluation\n",
    "\n",
    "[[ go back to the top ]](#Table-of-contents)\n",
    "\n",
    "*Korte uitleg wat voor model je gebruikt en waarom*\n",
    "\n",
    "---"
   ]
  },
  {
   "cell_type": "markdown",
   "metadata": {},
   "source": [
    "#### Experiment 1\n",
    "\n",
    "Basic netwerk (zelfde uit de les als test)\n",
    "\n",
    "Dit model heb ik uitgevoerd op 15000 vocab size"
   ]
  },
  {
   "cell_type": "code",
   "execution_count": 51,
   "metadata": {},
   "outputs": [],
   "source": [
    "#maak een seq2seq model \n",
    "embed_dim = 256 #grootte woord embeddings\n",
    "dense_dim = 2048 #grootte interne lagen\n",
    "num_heads = 8 #hoeveel aandachts \"hoofden\" er zijn (om verschillende aspecten vande zin tegelijk te begrijpen)\n",
    "\n",
    "encoder_inputs = keras.Input(shape=(None,), dtype=\"int64\", name=\"fries\")\n",
    "x = PositionalEmbedding(sequence_length, vocab_size, embed_dim)(encoder_inputs)\n",
    "encoder_outputs = TransformerEncoder(embed_dim, dense_dim, num_heads)(x) \n",
    "#encode de source sentenct\n",
    "\n",
    "decoder_inputs = keras.Input(shape=(None,), dtype=\"int64\", name=\"nl\")\n",
    "x = PositionalEmbedding(sequence_length, vocab_size, embed_dim)(decoder_inputs)\n",
    "x = TransformerDecoder(embed_dim, dense_dim, num_heads)(x, encoder_outputs)\n",
    "#Encode the target sentence and combine it with the encoded source sentence\n",
    "x = layers.Dropout(0.5)(x)\n",
    "decoder_outputs = layers.Dense(vocab_size, activation=\"softmax\")(x)\n",
    "#predict a word for each output position\n",
    "transformer = keras.Model([encoder_inputs, decoder_inputs], decoder_outputs)"
   ]
  },
  {
   "cell_type": "code",
   "execution_count": 52,
   "metadata": {},
   "outputs": [
    {
     "name": "stdout",
     "output_type": "stream",
     "text": [
      "Model: \"model_1\"\n",
      "__________________________________________________________________________________________________\n",
      " Layer (type)                Output Shape                 Param #   Connected to                  \n",
      "==================================================================================================\n",
      " fries (InputLayer)          [(None, None)]               0         []                            \n",
      "                                                                                                  \n",
      " nl (InputLayer)             [(None, None)]               0         []                            \n",
      "                                                                                                  \n",
      " positional_embedding (Posi  (None, None, 256)            3845120   ['fries[0][0]']               \n",
      " tionalEmbedding)                                                                                 \n",
      "                                                                                                  \n",
      " positional_embedding_1 (Po  (None, None, 256)            3845120   ['nl[0][0]']                  \n",
      " sitionalEmbedding)                                                                               \n",
      "                                                                                                  \n",
      " transformer_encoder (Trans  (None, None, 256)            3155456   ['positional_embedding[0][0]']\n",
      " formerEncoder)                                                                                   \n",
      "                                                                                                  \n",
      " transformer_decoder (Trans  (None, None, 256)            5259520   ['positional_embedding_1[0][0]\n",
      " formerDecoder)                                                     ',                            \n",
      "                                                                     'transformer_encoder[0][0]'] \n",
      "                                                                                                  \n",
      " dropout (Dropout)           (None, None, 256)            0         ['transformer_decoder[0][0]'] \n",
      "                                                                                                  \n",
      " dense_4 (Dense)             (None, None, 15000)          3855000   ['dropout[0][0]']             \n",
      "                                                                                                  \n",
      "==================================================================================================\n",
      "Total params: 19960216 (76.14 MB)\n",
      "Trainable params: 19960216 (76.14 MB)\n",
      "Non-trainable params: 0 (0.00 Byte)\n",
      "__________________________________________________________________________________________________\n"
     ]
    }
   ],
   "source": [
    "transformer.summary()"
   ]
  },
  {
   "cell_type": "code",
   "execution_count": 53,
   "metadata": {},
   "outputs": [],
   "source": [
    "transformer.compile(\n",
    "    optimizer=\"rmsprop\",\n",
    "    loss=\"sparse_categorical_crossentropy\",\n",
    "    metrics=[\"accuracy\"])"
   ]
  },
  {
   "cell_type": "code",
   "execution_count": 62,
   "metadata": {},
   "outputs": [
    {
     "name": "stdout",
     "output_type": "stream",
     "text": [
      "Epoch 1/20\n",
      "2718/2718 [==============================] - 174s 64ms/step - loss: 2.8311 - accuracy: 0.6256 - val_loss: 3.2039 - val_accuracy: 0.5646\n",
      "Epoch 2/20\n",
      "2718/2718 [==============================] - 171s 63ms/step - loss: 2.7945 - accuracy: 0.6297 - val_loss: 3.2323 - val_accuracy: 0.5568\n",
      "Epoch 3/20\n",
      "2718/2718 [==============================] - 176s 65ms/step - loss: 2.7678 - accuracy: 0.6332 - val_loss: 3.2346 - val_accuracy: 0.5570\n",
      "Epoch 4/20\n",
      "2718/2718 [==============================] - 174s 64ms/step - loss: 2.7308 - accuracy: 0.6376 - val_loss: 3.2100 - val_accuracy: 0.5596\n",
      "Epoch 5/20\n",
      "2718/2718 [==============================] - 175s 64ms/step - loss: 2.7081 - accuracy: 0.6409 - val_loss: 3.1893 - val_accuracy: 0.5696\n",
      "Epoch 6/20\n",
      "2718/2718 [==============================] - 174s 64ms/step - loss: 2.6835 - accuracy: 0.6438 - val_loss: 3.2719 - val_accuracy: 0.5540\n",
      "Epoch 7/20\n",
      "2718/2718 [==============================] - 174s 64ms/step - loss: 2.6491 - accuracy: 0.6493 - val_loss: 3.2216 - val_accuracy: 0.5599\n",
      "Epoch 8/20\n",
      "2718/2718 [==============================] - 174s 64ms/step - loss: 2.6271 - accuracy: 0.6525 - val_loss: 3.2414 - val_accuracy: 0.5611\n",
      "Epoch 9/20\n",
      "2718/2718 [==============================] - 173s 64ms/step - loss: 2.6024 - accuracy: 0.6560 - val_loss: 3.1976 - val_accuracy: 0.5746\n",
      "Epoch 10/20\n",
      "2718/2718 [==============================] - 175s 64ms/step - loss: 2.5779 - accuracy: 0.6598 - val_loss: 3.1870 - val_accuracy: 0.5821\n",
      "Epoch 11/20\n",
      "2718/2718 [==============================] - 216s 79ms/step - loss: 2.5497 - accuracy: 0.6641 - val_loss: 3.2126 - val_accuracy: 0.5724\n",
      "Epoch 12/20\n",
      "2718/2718 [==============================] - 256s 94ms/step - loss: 2.5316 - accuracy: 0.6666 - val_loss: 3.1960 - val_accuracy: 0.5750\n",
      "Epoch 13/20\n",
      "2718/2718 [==============================] - 257s 95ms/step - loss: 2.5060 - accuracy: 0.6703 - val_loss: 3.2251 - val_accuracy: 0.5681\n",
      "Epoch 14/20\n",
      "2718/2718 [==============================] - 263s 97ms/step - loss: 2.4790 - accuracy: 0.6745 - val_loss: 3.1796 - val_accuracy: 0.5810\n",
      "Epoch 15/20\n",
      "2718/2718 [==============================] - 134s 49ms/step - loss: 2.4599 - accuracy: 0.6775 - val_loss: 3.2411 - val_accuracy: 0.5672\n",
      "Epoch 16/20\n",
      "2718/2718 [==============================] - 150s 55ms/step - loss: 2.4394 - accuracy: 0.6803 - val_loss: 3.1761 - val_accuracy: 0.5876\n",
      "Epoch 17/20\n",
      "2718/2718 [==============================] - 195s 72ms/step - loss: 2.4124 - accuracy: 0.6840 - val_loss: 3.1717 - val_accuracy: 0.5817\n",
      "Epoch 18/20\n",
      "2718/2718 [==============================] - 204s 75ms/step - loss: 2.3943 - accuracy: 0.6870 - val_loss: 3.1771 - val_accuracy: 0.5858\n",
      "Epoch 19/20\n",
      "2718/2718 [==============================] - 219s 80ms/step - loss: 2.3755 - accuracy: 0.6891 - val_loss: 3.1334 - val_accuracy: 0.5967\n",
      "Epoch 20/20\n",
      "2718/2718 [==============================] - 145s 53ms/step - loss: 2.3532 - accuracy: 0.6924 - val_loss: 3.1386 - val_accuracy: 0.5972\n"
     ]
    }
   ],
   "source": [
    "history = transformer.fit(train_ds, epochs=20, validation_data=test_ds)"
   ]
  },
  {
   "cell_type": "code",
   "execution_count": 22,
   "metadata": {},
   "outputs": [],
   "source": [
    "nl_vocab = target_vectorization.get_vocabulary()\n",
    "nl_index_lookup = dict(zip(range(len(nl_vocab)), nl_vocab))\n",
    "max_decoded_sentence_length = 20\n",
    "\n",
    "def decode_sequence(input_sentence):\n",
    "    tokenized_input_sentence = source_vectorization([input_sentence])\n",
    "    decoded_sentence = \"[start]\"\n",
    "    for i in range(max_decoded_sentence_length):\n",
    "        tokenized_target_sentence = target_vectorization(\n",
    "            [decoded_sentence])[:, :-1]\n",
    "        predictions = transformer(\n",
    "            [tokenized_input_sentence, tokenized_target_sentence])\n",
    "        sampled_token_index = np.argmax(predictions[0, i, :])\n",
    "        #sample next token\n",
    "        sampled_token = nl_index_lookup[sampled_token_index]\n",
    "        decoded_sentence += \" \" + sampled_token\n",
    "        #convert the next token to a string and append it to the generated sequence\n",
    "        if sampled_token == \"[end]\":\n",
    "            break #exit condition\n",
    "    return decoded_sentence"
   ]
  },
  {
   "cell_type": "markdown",
   "metadata": {},
   "source": [
    "Ik heb chatgpt gevraagd hoe ik de zinnen in een kleur kon printen. In het volgende stukje zie je nu de voorspelde zin in het oranje en de echte zin in het blauw."
   ]
  },
  {
   "cell_type": "code",
   "execution_count": 64,
   "metadata": {},
   "outputs": [
    {
     "name": "stdout",
     "output_type": "stream",
     "text": [
      "-\n",
      "in rituele duns\n",
      "\u001b[38;5;214m[start] een [UNK] [UNK] [end]\u001b[0m\n",
      "\u001b[38;5;32m[start] een rituele dans [end]\u001b[0m\n",
      "-\n",
      "Jo kinne ferskillende diskolampen by us hiere, wannear't jo in ymposant ljochtspul meitsje wolle.\n",
      "\u001b[38;5;214m[start] u kunt verschillende [UNK] bij ons [UNK] [UNK] [UNK] [UNK] [end]\u001b[0m\n",
      "\u001b[38;5;32m[start] U kunt diverse discolampen bij ons huren, wanneer u een indrukwekkend lichtspel wilt creeren. [end]\u001b[0m\n",
      "-\n",
      "der't it wiif goed hushaldt, der waakst spek oan 'e balke\n",
      "\u001b[38;5;214m[start] waar het [UNK] goed [UNK] aan de aarde [UNK] [end]\u001b[0m\n",
      "\u001b[38;5;32m[start] werken en sparen doet geld vergaren [end]\u001b[0m\n",
      "-\n",
      "Urkers meie graach sjonge.\n",
      "\u001b[38;5;214m[start] een [UNK] mag [UNK] [end]\u001b[0m\n",
      "\u001b[38;5;32m[start] Urkers zijn zanglustig. [end]\u001b[0m\n",
      "-\n",
      "Maaie is de moanne dat wy de blombakken butendoar sette.\n",
      "\u001b[38;5;214m[start] mei is de maand dat wij de [UNK] gaan [UNK] [end]\u001b[0m\n",
      "\u001b[38;5;32m[start] Mei is de maand waarin we onze bloembakken buitenzetten. [end]\u001b[0m\n",
      "-\n",
      "befel ta hussiking\n",
      "\u001b[38;5;214m[start] een [UNK] aantal [end]\u001b[0m\n",
      "\u001b[38;5;32m[start] bevel tot huiszoeking [end]\u001b[0m\n",
      "-\n",
      "ynfallen(e) wangen\n",
      "\u001b[38;5;214m[start] [UNK] [UNK] [end]\u001b[0m\n",
      "\u001b[38;5;32m[start] ingevallen wangen [end]\u001b[0m\n",
      "-\n",
      "Om fan syn skulden of te kommen, is er geregeld oan it ynbrekken.\n",
      "\u001b[38;5;214m[start] voor [UNK] zijn als daar [UNK] is gekomen aan het geregeld [end]\u001b[0m\n",
      "\u001b[38;5;32m[start] Om van zijn schulden af te komen pleegt hij regelmatig inbraken. [end]\u001b[0m\n",
      "-\n",
      "in ferklearjend wurdboek\n",
      "\u001b[38;5;214m[start] een [UNK] ontwerp [end]\u001b[0m\n",
      "\u001b[38;5;32m[start] een verklarend woordenboek [end]\u001b[0m\n",
      "-\n",
      "Yn de tiid dat ik foar him wurke, wie soks mei humor en in [rynske, royale] geste oplost.\n",
      "\u001b[38;5;214m[start] in de tijd dat ik voor hem was gewerkt dit met humor en een een [UNK] [UNK] geliefde thee [end]\u001b[0m\n",
      "\u001b[38;5;32m[start] In de tijd dat ik voor hem werkte, was zoiets met humor en een royaal gebaar opgelost. [end]\u001b[0m\n",
      "-\n",
      "Reuzemoaie bertepakketsjes!\n",
      "\u001b[38;5;214m[start] [UNK] [UNK] [end]\u001b[0m\n",
      "\u001b[38;5;32m[start] Reuzemooie geboortepakketjes! [end]\u001b[0m\n",
      "-\n",
      "Om it skip yn 'e feart halde te kinnen, wurdt it skip (mei skipper en in pear bemanningsleden) ferhierd foar deiutstapkes.\n",
      "\u001b[38;5;214m[start] het [UNK] schip aan de [UNK] kan worden te kunnen het schip met [UNK] en een aantal [UNK] [UNK] voor\u001b[0m\n",
      "\u001b[38;5;32m[start] Om het schip in de vaart te kunnen houden, wordt het schip (met schipper en een aantal bemanningsleden) verhuurd voor daguitjes . [end]\u001b[0m\n",
      "-\n",
      "dat ferjit my [nea, noait] wer\n",
      "\u001b[38;5;214m[start] dat [UNK] [UNK] nooit meer [end]\u001b[0m\n",
      "\u001b[38;5;32m[start] dat vergeet ik nooit weer [end]\u001b[0m\n",
      "-\n",
      "Wurkgroepekskurzjes binne hielendal net oan ien plak bun en kinne oeral holden wurde.\n",
      "\u001b[38;5;214m[start] [UNK] zijn helemaal niet aan een [UNK] plaats en kunnen [UNK] worden gehouden [end]\u001b[0m\n",
      "\u001b[38;5;32m[start] Werkgroepsexcursies zijn helemaal niet plaatsgebonden en kunnen overal plaatsvinden. [end]\u001b[0m\n",
      "-\n",
      "dieven fangt men mei dieven\n",
      "\u001b[38;5;214m[start] een met een [UNK] woorden [end]\u001b[0m\n",
      "\u001b[38;5;32m[start] men moet vossen met vossen vangen [end]\u001b[0m\n",
      "-\n",
      "Foar dyn aaiwiten moatst beantsjeguod ite, kombinearre mei granen.\n",
      "\u001b[38;5;214m[start] voor je [UNK] moet [UNK] [UNK] [UNK] met [UNK] [end]\u001b[0m\n",
      "\u001b[38;5;32m[start] Voor je eiwitten eet je bonen gecombineerd met granen. [end]\u001b[0m\n",
      "-\n",
      "op ferlykbere wize\n",
      "\u001b[38;5;214m[start] op [UNK] manier [end]\u001b[0m\n",
      "\u001b[38;5;32m[start] op vergelijkbare wijze [end]\u001b[0m\n",
      "-\n",
      "by [neier, better] besjen\n",
      "\u001b[38;5;214m[start] bij nadere voorwaarden [end]\u001b[0m\n",
      "\u001b[38;5;32m[start] bij nadere overweging [end]\u001b[0m\n",
      "-\n",
      "sloppe [skonken, knibbels, fuotten]\n",
      "\u001b[38;5;214m[start] het geliefde benen benen [end]\u001b[0m\n",
      "\u001b[38;5;32m[start] weke [benen, knieen, voeten] [end]\u001b[0m\n",
      "-\n",
      "Der hingje noch in stik of wat flinke risiko's boppe de merk. Foarsichtichheid bliuwt it [boadskip, biedwurd].\n",
      "\u001b[38;5;214m[start] er [UNK] nog een aantal [UNK] van de risicos boven de markt is niet aan een [UNK] [end]\u001b[0m\n",
      "\u001b[38;5;32m[start] Er hangt nog een aantal forse risico's boven de markt. Voorzichtigheid blijft het parool. [end]\u001b[0m\n"
     ]
    }
   ],
   "source": [
    "predicted_sentences = []\n",
    "actual_sentences = []\n",
    "\n",
    "test_eng_texts = [pair[0] for pair in text_pairs_test]\n",
    "for _ in range(20):\n",
    "    input_sentence = random.choice(test_eng_texts)\n",
    "    predicted_sentence = decode_sequence(input_sentence)\n",
    "    \n",
    "    predicted_sentences.append(predicted_sentence)\n",
    "\n",
    "    actual_sentence = [pair[1] for pair in text_pairs_test if pair[0] == input_sentence][0]\n",
    "    actual_sentences.append(actual_sentence)\n",
    "\n",
    "    # Print de zinnen in verschillende kleuren\n",
    "    print(\"-\")\n",
    "    print(input_sentence)\n",
    "    print(f\"\\033[38;5;214m{predicted_sentence}\\033[0m\")  # Voorspelde zin in oranje\n",
    "    print(f\"\\033[38;5;32m{actual_sentence}\\033[0m\")  # Echte zin in blauw"
   ]
  },
  {
   "cell_type": "markdown",
   "metadata": {},
   "source": [
    "<div class=\"alert alert-block alert-danger\"><b>Conclusie:</b> Echt heel veel UNK nog. Dit moeten we aanpakken door de vocab size te vergroten</div>"
   ]
  },
  {
   "cell_type": "markdown",
   "metadata": {},
   "source": [
    "#### Experiment 2 - verhogen vocab size\n",
    "\n",
    "Hierna heb ik alle code opnieuw gerund maar dan met een 2x zo grote vocab size om te kijken wat dat zou veranderen"
   ]
  },
  {
   "cell_type": "code",
   "execution_count": 71,
   "metadata": {},
   "outputs": [],
   "source": [
    "#maak een seq2seq model \n",
    "embed_dim = 256 #grootte woord embeddings\n",
    "dense_dim = 2048 #grootte interne lagen\n",
    "num_heads = 8 #hoeveel aandachts \"hoofden\" er zijn (om verschillende aspecten vande zin tegelijk te begrijpen)\n",
    "\n",
    "encoder_inputs = keras.Input(shape=(None,), dtype=\"int64\", name=\"fries\")\n",
    "x = PositionalEmbedding(sequence_length, vocab_size, embed_dim)(encoder_inputs)\n",
    "encoder_outputs = TransformerEncoder(embed_dim, dense_dim, num_heads)(x) \n",
    "#encode de source sentenct\n",
    "\n",
    "decoder_inputs = keras.Input(shape=(None,), dtype=\"int64\", name=\"nl\")\n",
    "x = PositionalEmbedding(sequence_length, vocab_size, embed_dim)(decoder_inputs)\n",
    "x = TransformerDecoder(embed_dim, dense_dim, num_heads)(x, encoder_outputs)\n",
    "#Encode the target sentence and combine it with the encoded source sentence\n",
    "x = layers.Dropout(0.5)(x)\n",
    "decoder_outputs = layers.Dense(vocab_size, activation=\"softmax\")(x)\n",
    "#predict a word for each output position\n",
    "transformer = keras.Model([encoder_inputs, decoder_inputs], decoder_outputs)"
   ]
  },
  {
   "cell_type": "code",
   "execution_count": 73,
   "metadata": {},
   "outputs": [
    {
     "name": "stdout",
     "output_type": "stream",
     "text": [
      "Epoch 1/5\n",
      "2718/2718 [==============================] - 223s 81ms/step - loss: 4.3992 - accuracy: 0.4700 - val_loss: 3.9889 - val_accuracy: 0.4998\n",
      "Epoch 2/5\n",
      "2718/2718 [==============================] - 219s 81ms/step - loss: 3.5796 - accuracy: 0.5596 - val_loss: 3.6802 - val_accuracy: 0.5290\n",
      "Epoch 3/5\n",
      "2718/2718 [==============================] - 247s 91ms/step - loss: 3.3540 - accuracy: 0.5850 - val_loss: 3.5886 - val_accuracy: 0.5448\n",
      "Epoch 4/5\n",
      "2718/2718 [==============================] - 231s 85ms/step - loss: 3.2456 - accuracy: 0.5979 - val_loss: 3.5288 - val_accuracy: 0.5532\n",
      "Epoch 5/5\n",
      "2718/2718 [==============================] - 233s 86ms/step - loss: 3.1797 - accuracy: 0.6061 - val_loss: 3.5780 - val_accuracy: 0.5489\n"
     ]
    }
   ],
   "source": [
    "transformer.compile(\n",
    "    optimizer=\"rmsprop\",\n",
    "    loss=\"sparse_categorical_crossentropy\",\n",
    "    metrics=[\"accuracy\"])\n",
    "\n",
    "history = transformer.fit(train_ds, epochs=5, validation_data=test_ds)"
   ]
  },
  {
   "cell_type": "code",
   "execution_count": 74,
   "metadata": {},
   "outputs": [
    {
     "name": "stdout",
     "output_type": "stream",
     "text": [
      "-\n",
      "[foar, yn] elk ... oars weze\n",
      "\u001b[38;5;214m[start] voor in ieder anders zijn [end]\u001b[0m\n",
      "\u001b[38;5;32m[start] verschillen van ... tot [end]\u001b[0m\n",
      "-\n",
      "Der wurdt besocht om automobilisten sa folle mooglik te kearen, dat om gjin unnedich sykferkear yn de binnensted te krijen. It sykjen om parkearplakken dy't der net binne, moat tefoaren kommen wurde.\n",
      "\u001b[38;5;214m[start] er wordt aan te proberen zo veel mogelijk te gaan door de [UNK] te gaan veel mogelijk [end]\u001b[0m\n",
      "\u001b[38;5;32m[start] Er wordt getracht om er zoveel mogelijk automobilisten weg te houden, om geen onnodig zoekverkeer in de binnenstad te krijgen. Speuren naar parkeerplaatsen die er niet zijn, moet worden voorkomen. [end]\u001b[0m\n",
      "-\n",
      "meteropnimme\n",
      "\u001b[38;5;214m[start] [UNK] [end]\u001b[0m\n",
      "\u001b[38;5;32m[start] de stand opnemen [end]\u001b[0m\n",
      "-\n",
      "De druven wurde koestere yn in gebiet dat rint fan 'e Duoro-delling oant it easten fan 'e sted Oporto.\n",
      "\u001b[38;5;214m[start] de [UNK] worden [UNK] in een vlak dat zich van de [UNK] tot het oosten van de stad [UNK] [end]\u001b[0m\n",
      "\u001b[38;5;32m[start] De druiven worden gekoesterd in een gebied dat zich uitstrekt van de Douro-vallei tot het oosten van de stad Oporto. [end]\u001b[0m\n",
      "-\n",
      "de grize sellen\n",
      "\u001b[38;5;214m[start] de grijze cellen [end]\u001b[0m\n",
      "\u001b[38;5;32m[start] de grijze cellen [end]\u001b[0m\n",
      "-\n",
      "Hja riert troch de panne mei it stik bonke deryn.\n",
      "\u001b[38;5;214m[start] zij [UNK] door de pan met het stuk [UNK] [end]\u001b[0m\n",
      "\u001b[38;5;32m[start] Ze roert door de pan met het stuk bot erin. [end]\u001b[0m\n",
      "-\n",
      "De takomstige [untwikkeling, untjouwing] fan de kosten is tige unwis.\n",
      "\u001b[38;5;214m[start] de toekomstige ontwikkeling ontwikkeling van de kosten van zeer ver [end]\u001b[0m\n",
      "\u001b[38;5;32m[start] De toekomstige ontwikkeling van de kosten is zeer onzeker. [end]\u001b[0m\n",
      "-\n",
      "in earste oriintaasje\n",
      "\u001b[38;5;214m[start] een eerste geliefde [end]\u001b[0m\n",
      "\u001b[38;5;32m[start] een eerste orientatie [end]\u001b[0m\n",
      "-\n",
      "Hja krige in [holle, kaam].\n",
      "\u001b[38;5;214m[start] zij kreeg een het water [end]\u001b[0m\n",
      "\u001b[38;5;32m[start] Zij kreeg een rood hoofd. [end]\u001b[0m\n",
      "-\n",
      "[earste, twadde] sekretaris\n",
      "\u001b[38;5;214m[start] eerste tweede eerste [end]\u001b[0m\n",
      "\u001b[38;5;32m[start] [eerste, tweede] secretaris [end]\u001b[0m\n",
      "-\n",
      "Dochs is it noch net wis dat se sadwaande like bysunder wurde sille as syn foto's ut 1905 of yn dy snuorje.\n",
      "\u001b[38;5;214m[start] toch is het nog niet vooral te worden op even bijzonder te worden als zijn fotos uit aanvraag of in\u001b[0m\n",
      "\u001b[38;5;32m[start] Toch is het nog niet zeker dat ze zodoende even bijzonder zullen worden als zijn foto's uit 1905 of daaromtrent. [end]\u001b[0m\n",
      "-\n",
      "Der is in [hoart, skoft] lyn in tip ynkommen der't in namme by neamd is.\n",
      "\u001b[38;5;214m[start] er is een tijd tijd geleden een tip inkomen inkomen van naam van [UNK] [end]\u001b[0m\n",
      "\u001b[38;5;32m[start] Er is een poos geleden een tip binnengekomen waarbij een naam is genoemd. [end]\u001b[0m\n",
      "-\n",
      "Der binne fansels ek omstannichheden dat je hiel autoriter [hannelje, optrede] moatte.\n",
      "\u001b[38;5;214m[start] er zijn natuurlijk ook omstandigheden dat je heel moeten doen [end]\u001b[0m\n",
      "\u001b[38;5;32m[start] Natuurlijk zijn er omstandigheden dat je heel autoritair moet optreden. [end]\u001b[0m\n",
      "-\n",
      "It iten yn it kafetaria justerjun wie gewoan goar en [skandalich, skandalige] djoer.\n",
      "\u001b[38;5;214m[start] het eten in het wil gisteravond was gewoon publiek gewoon een [UNK] duur [end]\u001b[0m\n",
      "\u001b[38;5;32m[start] Het eten in de cafetaria vorige avond was ronduit vies en schandalig duur. [end]\u001b[0m\n",
      "-\n",
      "mei in fikse stap\n",
      "\u001b[38;5;214m[start] met een grote stap [end]\u001b[0m\n",
      "\u001b[38;5;32m[start] met flinke tred [end]\u001b[0m\n",
      "-\n",
      "immen by it fuotsje [hawwe, krije, nimme]\n",
      "\u001b[38;5;214m[start] iemand bij het kunnen hebben [end]\u001b[0m\n",
      "\u001b[38;5;32m[start] iemand een poot [uitdraaien, uittrekken] [end]\u001b[0m\n",
      "-\n",
      "te grou weze\n",
      "\u001b[38;5;214m[start] te [UNK] zijn [end]\u001b[0m\n",
      "\u001b[38;5;32m[start] te dik zijn [end]\u001b[0m\n",
      "-\n",
      "De Boer is (al aardich) op jierren en kwakkelet mei de sunens.\n",
      "\u001b[38;5;214m[start] de boer is al aardig op jaren en [UNK] met de gezondheid [end]\u001b[0m\n",
      "\u001b[38;5;32m[start] De Boer is bejaard en sukkelt met zijn gezondheid. [end]\u001b[0m\n",
      "-\n",
      "it waait [hoarterich, hoartich, skuorrich, skuorderich]\n",
      "\u001b[38;5;214m[start] het [UNK] [UNK] [UNK] [UNK] [UNK] [end]\u001b[0m\n",
      "\u001b[38;5;32m[start] het waait met rukwinden [end]\u001b[0m\n",
      "-\n",
      "By hantekenjen kin ik echt dwaan wat ik [wol, moai fyn, it leafst doch], ik hoech der hast net oer nei te tinken, it giet gewoan fansels.\n",
      "\u001b[38;5;214m[start] bij [UNK] kan ik echt doen wat ik wel mooi vind het liefst ik het het er bijna niet over\u001b[0m\n",
      "\u001b[38;5;32m[start] Bij handtekenen kan ik echt mijn ding doen, ik hoef er bijna niet over na te denken, het gaat gewoon vanzelf. [end]\u001b[0m\n"
     ]
    }
   ],
   "source": [
    "nl_vocab = target_vectorization.get_vocabulary()\n",
    "nl_index_lookup = dict(zip(range(len(nl_vocab)), nl_vocab))\n",
    "\n",
    "predicted_sentences = []\n",
    "actual_sentences = []\n",
    "\n",
    "test_eng_texts = [pair[0] for pair in text_pairs_test]\n",
    "for _ in range(20):\n",
    "    input_sentence = random.choice(test_eng_texts)\n",
    "    predicted_sentence = decode_sequence(input_sentence)\n",
    "    \n",
    "    predicted_sentences.append(predicted_sentence)\n",
    "\n",
    "    actual_sentence = [pair[1] for pair in text_pairs_test if pair[0] == input_sentence][0]\n",
    "    actual_sentences.append(actual_sentence)\n",
    "\n",
    "    # Print de zinnen in verschillende kleuren\n",
    "    print(\"-\")\n",
    "    print(input_sentence)\n",
    "    print(f\"\\033[38;5;214m{predicted_sentence}\\033[0m\")  # Voorspelde zin in oranje\n",
    "    print(f\"\\033[38;5;32m{actual_sentence}\\033[0m\")  # Echte zin in blauw"
   ]
  },
  {
   "cell_type": "markdown",
   "metadata": {},
   "source": [
    "\n",
    "\n",
    "<div class=\"alert alert-block alert-info\"><b>Conclusie:</b> Deze output is echt al een stuk beter vergeleken met de 15000 woorden vocabulary. Om het model nog beter te maken ga ik ook nog wat experimenteren met de hyperparameters.</div>"
   ]
  },
  {
   "cell_type": "markdown",
   "metadata": {},
   "source": [
    "#### Experiment 3"
   ]
  },
  {
   "cell_type": "code",
   "execution_count": 81,
   "metadata": {},
   "outputs": [],
   "source": [
    "#maak een seq2seq model \n",
    "embed_dim = 1024 #grootte woord embeddings\n",
    "dense_dim = 4096 #grootte interne lagen\n",
    "num_heads = 8 #hoeveel aandachts \"hoofden\" er zijn (om verschillende aspecten vande zin tegelijk te begrijpen)\n",
    "\n",
    "encoder_inputs = keras.Input(shape=(None,), dtype=\"int64\", name=\"fries\")\n",
    "x = PositionalEmbedding(sequence_length, vocab_size, embed_dim)(encoder_inputs)\n",
    "encoder_outputs = TransformerEncoder(embed_dim, dense_dim, num_heads)(x) \n",
    "#encode de source sentenct\n",
    "\n",
    "decoder_inputs = keras.Input(shape=(None,), dtype=\"int64\", name=\"nl\")\n",
    "x = PositionalEmbedding(sequence_length, vocab_size, embed_dim)(decoder_inputs)\n",
    "x = TransformerDecoder(embed_dim, dense_dim, num_heads)(x, encoder_outputs)\n",
    "#Encode the target sentence and combine it with the encoded source sentence\n",
    "x = layers.Dropout(0.5)(x)\n",
    "decoder_outputs = layers.Dense(vocab_size, activation=\"softmax\")(x)\n",
    "#predict a word for each output position\n",
    "transformer = keras.Model([encoder_inputs, decoder_inputs], decoder_outputs)"
   ]
  },
  {
   "cell_type": "code",
   "execution_count": 82,
   "metadata": {},
   "outputs": [
    {
     "name": "stdout",
     "output_type": "stream",
     "text": [
      "Epoch 1/5\n",
      "2718/2718 [==============================] - 561s 205ms/step - loss: 5.2092 - accuracy: 0.3467 - val_loss: 5.0207 - val_accuracy: 0.3667\n",
      "Epoch 2/5\n",
      "2718/2718 [==============================] - 554s 204ms/step - loss: 4.6301 - accuracy: 0.4252 - val_loss: 4.6893 - val_accuracy: 0.4051\n",
      "Epoch 3/5\n",
      "2718/2718 [==============================] - 555s 204ms/step - loss: 4.4077 - accuracy: 0.4478 - val_loss: 4.4909 - val_accuracy: 0.4344\n",
      "Epoch 4/5\n",
      "2718/2718 [==============================] - 555s 204ms/step - loss: 4.3125 - accuracy: 0.4536 - val_loss: 4.4719 - val_accuracy: 0.4300\n",
      "Epoch 5/5\n",
      "2718/2718 [==============================] - 556s 204ms/step - loss: 4.2818 - accuracy: 0.4545 - val_loss: 4.6166 - val_accuracy: 0.4031\n"
     ]
    }
   ],
   "source": [
    "transformer.compile(\n",
    "    optimizer=\"rmsprop\",\n",
    "    loss=\"sparse_categorical_crossentropy\",\n",
    "    metrics=[\"accuracy\"])\n",
    "\n",
    "history = transformer.fit(train_ds, epochs=5, validation_data=test_ds)"
   ]
  },
  {
   "cell_type": "code",
   "execution_count": 83,
   "metadata": {},
   "outputs": [
    {
     "name": "stdout",
     "output_type": "stream",
     "text": [
      "-\n",
      "in buert dy't op bern ynrjochte is\n",
      "\u001b[38;5;214m[start] een aantal groep van zat [end]\u001b[0m\n",
      "\u001b[38;5;32m[start] een kindvriendelijke buurt [end]\u001b[0m\n",
      "-\n",
      "It tichtsmiten fan iepen wetter of [it behinderjen, de behindering, it opkearen, de opkearing] fan 'e offierfunksje is hoe dan ek ferbean.\n",
      "\u001b[38;5;214m[start] het [UNK] van de water of het [UNK] de [UNK] van [UNK] de [UNK] van de [UNK] van de [UNK]\u001b[0m\n",
      "\u001b[38;5;32m[start] Demping van open water of belemmering van de afvoerfunctie blijft te allen tijde verboden. [end]\u001b[0m\n",
      "-\n",
      "It is hast wol wis, dat Mark en Didi nea sorry sizze sille.\n",
      "\u001b[38;5;214m[start] het is bijna wel niet dat een moment [end]\u001b[0m\n",
      "\u001b[38;5;32m[start] Mark en Didi zullen met aan zekerheid grenzende waarschijnlijkheid nooit sorry zeggen. [end]\u001b[0m\n",
      "-\n",
      "Dy't yn de leechbou wenne, boarte net mei bern ut de heechbou en oarsom.\n",
      "\u001b[38;5;214m[start] die in de grotere loopt van niet met moet moet de [UNK] en [UNK] [end]\u001b[0m\n",
      "\u001b[38;5;32m[start] Als je in de laagbouw woonde, speelde je niet met de kinderen uit de hoogbouw en andersom. [end]\u001b[0m\n",
      "-\n",
      "mei de [fuotten, skonken] utinoar\n",
      "\u001b[38;5;214m[start] met de weg [end]\u001b[0m\n",
      "\u001b[38;5;32m[start] met gespreide benen [end]\u001b[0m\n",
      "-\n",
      "'Mar wy hawwe der nea wat oan oerholden', bearde it pear as wiene se de unskuld sels.\n",
      "\u001b[38;5;214m[start] maar we hebben er mooi wat aan [UNK] van het aantal weer [end]\u001b[0m\n",
      "\u001b[38;5;32m[start] 'Maar we hebben er nooit iets aan overgehouden', speelde het echtpaar de vermoorde onschuld. [end]\u001b[0m\n",
      "-\n",
      "aaifretter\n",
      "\u001b[38;5;214m[start] [UNK] [end]\u001b[0m\n",
      "\u001b[38;5;32m[start] bruine kiekendief [end]\u001b[0m\n",
      "-\n",
      "Se fertelde har ferhaal foar de telefyzje.\n",
      "\u001b[38;5;214m[start] ze vertelde haar verhaal voor de hoofdstad [end]\u001b[0m\n",
      "\u001b[38;5;32m[start] Ze vertelde haar verhaal voor de televisie. [end]\u001b[0m\n",
      "-\n",
      "De [dopingdokter, dopingarts] moat moarn foarkomme foar de rjochtbank yn Madrid.\n",
      "\u001b[38;5;214m[start] de [UNK] [UNK] moet iemand te  van van van van van [end]\u001b[0m\n",
      "\u001b[38;5;32m[start] De dopingarts staat morgen terecht voor de rechtbank te Madrid. [end]\u001b[0m\n",
      "-\n",
      "Der waard er net fleurich fan.\n",
      "\u001b[38;5;214m[start] er werd hij niet [end]\u001b[0m\n",
      "\u001b[38;5;32m[start] Dat stemde hem treurig. [end]\u001b[0m\n",
      "-\n",
      "in fol kertier\n",
      "\u001b[38;5;214m[start] een [UNK] zich [end]\u001b[0m\n",
      "\u001b[38;5;32m[start] een vol kwartier [end]\u001b[0m\n",
      "-\n",
      "San jier haw ik der wurke, oerdeis en om 'e wike as nachthaad.\n",
      "\u001b[38;5;214m[start] andere jaar heb ik er jaar van en een [UNK] [end]\u001b[0m\n",
      "\u001b[38;5;32m[start] Zeven jaar heb ik daar gewerkt, overdag en om de week als nachthoofd. [end]\u001b[0m\n",
      "-\n",
      "Under it [neigerjocht, neigesetsje] docht Babette unfatsoenlik, se leit de gerant leech. Serge skammet him derfoar, want oare gasten sjogge nei him.\n",
      "\u001b[38;5;214m[start] onder het [UNK] [UNK] gevallen [UNK] [UNK] ze is de [UNK] [UNK] [UNK] [UNK] [UNK] [UNK] maar andere  [UNK]\u001b[0m\n",
      "\u001b[38;5;32m[start] Tijdens het nagerecht gedraagt Babette zich onfatsoenlijk, ze doet kleinerend tegenover de gerant. Serge schaamt zich hiervoor want andere gasten kijken naar hem. [end]\u001b[0m\n",
      "-\n",
      "Is hy in utsundering op 'e regel fan [kalme, restige], wize, lykwichtige bestjoerders?\n",
      "\u001b[38;5;214m[start] is hij een [UNK] op de beslissing van [UNK] en een [UNK] van de industrie [end]\u001b[0m\n",
      "\u001b[38;5;32m[start] Is hij een uitzondering op de regel van beheerste, wijze, evenwichtige bestuurders? [end]\u001b[0m\n",
      "-\n",
      "min te [krijen, besetten] weze\n",
      "\u001b[38;5;214m[start] vrij vrij worden worden aan [end]\u001b[0m\n",
      "\u001b[38;5;32m[start] nergens (meer) verkrijgbaar zijn [end]\u001b[0m\n",
      "-\n",
      "de santiger jierren\n",
      "\u001b[38;5;214m[start] de groep jaren [end]\u001b[0m\n",
      "\u001b[38;5;32m[start] de jaren zeventig [end]\u001b[0m\n",
      "-\n",
      "De gebruksoanwizing wie allinnich yn it Sineesk.\n",
      "\u001b[38;5;214m[start] de [UNK] was alleen in het geliefde [end]\u001b[0m\n",
      "\u001b[38;5;32m[start] De gebruiksaanwijzing was alleen in het Chinees. [end]\u001b[0m\n",
      "-\n",
      "De petearen binne [alhiel, strikt] fertroulik.\n",
      "\u001b[38;5;214m[start] de situatie zijn van de [UNK] [end]\u001b[0m\n",
      "\u001b[38;5;32m[start] De gesprekken zijn strikt vertrouwelijk. [end]\u001b[0m\n",
      "-\n",
      "Ut it jierferslach fan de sekretaresse die ek wol bliken dat dit in libbene ofdieling is mei is mei allegearre aktiviteiten.\n",
      "\u001b[38;5;214m[start] uit het [UNK] van de [UNK] van ook wel een gevallen van een aantal een jaar [end]\u001b[0m\n",
      "\u001b[38;5;32m[start] Uit het jaarveslag van de secretaresse bleek ook wel dat deze afdeling vol leven en activiteit is. [end]\u001b[0m\n",
      "-\n",
      "Rym is in wichtich foarmaspekt yn lietsjes.\n",
      "\u001b[38;5;214m[start] geliefde is een groep andere [UNK] en een [end]\u001b[0m\n",
      "\u001b[38;5;32m[start] Rijm is een belangrijk vormaspect in liedjes. [end]\u001b[0m\n"
     ]
    }
   ],
   "source": [
    "nl_vocab = target_vectorization.get_vocabulary()\n",
    "nl_index_lookup = dict(zip(range(len(nl_vocab)), nl_vocab))\n",
    "\n",
    "predicted_sentences = []\n",
    "actual_sentences = []\n",
    "\n",
    "test_eng_texts = [pair[0] for pair in text_pairs_test]\n",
    "for _ in range(20):\n",
    "    input_sentence = random.choice(test_eng_texts)\n",
    "    predicted_sentence = decode_sequence(input_sentence)\n",
    "    \n",
    "    predicted_sentences.append(predicted_sentence)\n",
    "\n",
    "    actual_sentence = [pair[1] for pair in text_pairs_test if pair[0] == input_sentence][0]\n",
    "    actual_sentences.append(actual_sentence)\n",
    "\n",
    "    # Print de zinnen in verschillende kleuren\n",
    "    print(\"-\")\n",
    "    print(input_sentence)\n",
    "    print(f\"\\033[38;5;214m{predicted_sentence}\\033[0m\")  # Voorspelde zin in oranje\n",
    "    print(f\"\\033[38;5;32m{actual_sentence}\\033[0m\")  # Echte zin in blauw"
   ]
  },
  {
   "cell_type": "markdown",
   "metadata": {},
   "source": [
    "<div class=\"alert alert-block alert-danger\"><b>Werkt niet:</b> Ik heb een aantal keer geexperimenteerd met de verschillende hyperparameters. Hier kwam eigenlijk uit dat de setting van experiment 2 al echt een goede setting was. Hierom heb ik ervoor gekozen om daarmee te stoppen en te gaan experimenteren met de vocab_size nog meer te vergroten. </div>"
   ]
  },
  {
   "cell_type": "markdown",
   "metadata": {},
   "source": [
    "#### Experiment 4"
   ]
  },
  {
   "cell_type": "markdown",
   "metadata": {},
   "source": [
    "Vocab_size = 50000\n",
    "\n",
    "andere hyperparameters teruggezet"
   ]
  },
  {
   "cell_type": "code",
   "execution_count": 90,
   "metadata": {},
   "outputs": [],
   "source": [
    "#maak een seq2seq model \n",
    "embed_dim = 256 #grootte woord embeddings\n",
    "dense_dim = 2048 #grootte interne lagen\n",
    "num_heads = 8 #hoeveel aandachts \"hoofden\" er zijn (om verschillende aspecten vande zin tegelijk te begrijpen)\n",
    "\n",
    "encoder_inputs = keras.Input(shape=(None,), dtype=\"int64\", name=\"fries\")\n",
    "x = PositionalEmbedding(sequence_length, vocab_size, embed_dim)(encoder_inputs)\n",
    "encoder_outputs = TransformerEncoder(embed_dim, dense_dim, num_heads)(x) \n",
    "#encode de source sentenct\n",
    "\n",
    "decoder_inputs = keras.Input(shape=(None,), dtype=\"int64\", name=\"nl\")\n",
    "x = PositionalEmbedding(sequence_length, vocab_size, embed_dim)(decoder_inputs)\n",
    "x = TransformerDecoder(embed_dim, dense_dim, num_heads)(x, encoder_outputs)\n",
    "#Encode the target sentence and combine it with the encoded source sentence\n",
    "x = layers.Dropout(0.5)(x)\n",
    "decoder_outputs = layers.Dense(vocab_size, activation=\"softmax\")(x)\n",
    "#predict a word for each output position\n",
    "transformer = keras.Model([encoder_inputs, decoder_inputs], decoder_outputs)"
   ]
  },
  {
   "cell_type": "code",
   "execution_count": 92,
   "metadata": {},
   "outputs": [
    {
     "name": "stdout",
     "output_type": "stream",
     "text": [
      "Epoch 1/30\n",
      "2718/2718 [==============================] - 313s 113ms/step - loss: 3.3365 - accuracy: 0.5979 - val_loss: 3.8264 - val_accuracy: 0.5389\n",
      "Epoch 2/30\n",
      "2718/2718 [==============================] - 285s 105ms/step - loss: 3.3191 - accuracy: 0.6016 - val_loss: 3.7838 - val_accuracy: 0.5397\n",
      "Epoch 3/30\n",
      "2718/2718 [==============================] - 286s 105ms/step - loss: 3.2745 - accuracy: 0.6062 - val_loss: 3.8287 - val_accuracy: 0.5362\n",
      "Epoch 4/30\n",
      "2718/2718 [==============================] - 285s 105ms/step - loss: 3.2367 - accuracy: 0.6106 - val_loss: 3.8726 - val_accuracy: 0.5386\n",
      "Epoch 5/30\n",
      "2718/2718 [==============================] - 284s 104ms/step - loss: 3.2016 - accuracy: 0.6147 - val_loss: 3.8849 - val_accuracy: 0.5301\n",
      "Epoch 6/30\n",
      "2718/2718 [==============================] - 284s 105ms/step - loss: 3.1728 - accuracy: 0.6181 - val_loss: 3.8759 - val_accuracy: 0.5302\n",
      "Epoch 7/30\n",
      "2718/2718 [==============================] - 271s 99ms/step - loss: 3.1412 - accuracy: 0.6225 - val_loss: 3.8717 - val_accuracy: 0.5292\n",
      "Epoch 8/30\n",
      "2718/2718 [==============================] - 275s 101ms/step - loss: 3.1125 - accuracy: 0.6268 - val_loss: 3.9479 - val_accuracy: 0.5311\n",
      "Epoch 9/30\n",
      "2718/2718 [==============================] - 277s 102ms/step - loss: 3.0930 - accuracy: 0.6290 - val_loss: 3.9008 - val_accuracy: 0.5270\n",
      "Epoch 10/30\n",
      "2718/2718 [==============================] - 277s 102ms/step - loss: 3.0584 - accuracy: 0.6344 - val_loss: 3.8342 - val_accuracy: 0.5421\n",
      "Epoch 11/30\n",
      "2718/2718 [==============================] - 277s 102ms/step - loss: 3.0285 - accuracy: 0.6388 - val_loss: 3.9255 - val_accuracy: 0.5285\n",
      "Epoch 12/30\n",
      "2718/2718 [==============================] - 278s 102ms/step - loss: 3.0021 - accuracy: 0.6426 - val_loss: 3.8719 - val_accuracy: 0.5404\n",
      "Epoch 13/30\n",
      "2718/2718 [==============================] - 277s 102ms/step - loss: 2.9716 - accuracy: 0.6468 - val_loss: 3.8074 - val_accuracy: 0.5679\n",
      "Epoch 14/30\n",
      "2718/2718 [==============================] - 277s 102ms/step - loss: 2.9502 - accuracy: 0.6501 - val_loss: 3.7826 - val_accuracy: 0.5595\n",
      "Epoch 15/30\n",
      "2718/2718 [==============================] - 277s 102ms/step - loss: 2.9222 - accuracy: 0.6537 - val_loss: 3.9741 - val_accuracy: 0.5365\n",
      "Epoch 16/30\n",
      "2718/2718 [==============================] - 283s 104ms/step - loss: 2.8982 - accuracy: 0.6565 - val_loss: 3.8764 - val_accuracy: 0.5367\n",
      "Epoch 17/30\n",
      "2718/2718 [==============================] - 283s 104ms/step - loss: 2.8777 - accuracy: 0.6606 - val_loss: 3.8357 - val_accuracy: 0.5526\n",
      "Epoch 18/30\n",
      "2718/2718 [==============================] - 282s 104ms/step - loss: 2.8440 - accuracy: 0.6646 - val_loss: 3.7585 - val_accuracy: 0.5643\n",
      "Epoch 19/30\n",
      "2718/2718 [==============================] - 283s 104ms/step - loss: 2.8217 - accuracy: 0.6681 - val_loss: 3.7880 - val_accuracy: 0.5589\n",
      "Epoch 20/30\n",
      "2718/2718 [==============================] - 282s 104ms/step - loss: 2.8036 - accuracy: 0.6705 - val_loss: 3.8184 - val_accuracy: 0.5555\n",
      "Epoch 21/30\n",
      "2718/2718 [==============================] - 282s 104ms/step - loss: 2.7859 - accuracy: 0.6735 - val_loss: 3.8105 - val_accuracy: 0.5706\n",
      "Epoch 22/30\n",
      "2718/2718 [==============================] - 283s 104ms/step - loss: 2.7619 - accuracy: 0.6767 - val_loss: 3.8836 - val_accuracy: 0.5538\n",
      "Epoch 23/30\n",
      "2718/2718 [==============================] - 284s 104ms/step - loss: 2.7488 - accuracy: 0.6787 - val_loss: 3.8184 - val_accuracy: 0.5731\n",
      "Epoch 24/30\n",
      "2718/2718 [==============================] - 281s 104ms/step - loss: 2.7204 - accuracy: 0.6819 - val_loss: 3.7308 - val_accuracy: 0.5771\n",
      "Epoch 25/30\n",
      "2718/2718 [==============================] - 282s 104ms/step - loss: 2.7026 - accuracy: 0.6845 - val_loss: 3.7738 - val_accuracy: 0.5769\n",
      "Epoch 26/30\n",
      "2718/2718 [==============================] - 285s 105ms/step - loss: 2.6948 - accuracy: 0.6859 - val_loss: 3.8077 - val_accuracy: 0.5808\n",
      "Epoch 27/30\n",
      "2718/2718 [==============================] - 282s 104ms/step - loss: 2.6769 - accuracy: 0.6888 - val_loss: 3.7547 - val_accuracy: 0.5813\n",
      "Epoch 28/30\n",
      "2718/2718 [==============================] - 282s 104ms/step - loss: 2.6574 - accuracy: 0.6915 - val_loss: 3.7520 - val_accuracy: 0.5805\n",
      "Epoch 29/30\n",
      "2718/2718 [==============================] - 287s 106ms/step - loss: 2.6431 - accuracy: 0.6934 - val_loss: 3.8597 - val_accuracy: 0.5615\n",
      "Epoch 30/30\n",
      "2718/2718 [==============================] - 285s 105ms/step - loss: 2.6266 - accuracy: 0.6955 - val_loss: 3.7775 - val_accuracy: 0.5825\n"
     ]
    }
   ],
   "source": [
    "transformer.compile(\n",
    "    optimizer=\"rmsprop\",\n",
    "    loss=\"sparse_categorical_crossentropy\",\n",
    "    metrics=[\"accuracy\"])\n",
    "\n",
    "history = transformer.fit(train_ds, epochs=30, validation_data=test_ds)"
   ]
  },
  {
   "cell_type": "code",
   "execution_count": 93,
   "metadata": {},
   "outputs": [
    {
     "name": "stdout",
     "output_type": "stream",
     "text": [
      "-\n",
      "de rest is weromkommen\n",
      "\u001b[38;5;214m[start] de rest is zichzelf [end]\u001b[0m\n",
      "\u001b[38;5;32m[start] de rust is weergekeerd [end]\u001b[0m\n",
      "-\n",
      "Sneintemoarns koe it foar de tsjerke ofgryslike drok weze, foaral nei ofrin fan de heechmis.\n",
      "\u001b[38;5;214m[start] iedere ondanks het een een de kerk [end]\u001b[0m\n",
      "\u001b[38;5;32m[start] 's Zondagsmorgens kon het voor de kerk geweldig druk zijn, vooral na afloop van de hoogmis. [end]\u001b[0m\n",
      "-\n",
      "der noch (in [soad, protte]) fan hearre sille\n",
      "\u001b[38;5;214m[start] veel in veel gevallen nog [end]\u001b[0m\n",
      "\u001b[38;5;32m[start] er nog (veel) van zullen horen [end]\u001b[0m\n",
      "-\n",
      "Ik seach op myn horloazje, it wie justjes oer trijen.\n",
      "\u001b[38;5;214m[start] ik zag op mijn horloge het was niet over drie [end]\u001b[0m\n",
      "\u001b[38;5;32m[start] Ik keek op mijn horloge, het was even over drieen. [end]\u001b[0m\n",
      "-\n",
      "De besteande projekten sille evaluearre wurde mei it each op bystjoeren.\n",
      "\u001b[38;5;214m[start] de groepen partijen zullen worden te hun [UNK] op het op een de [UNK] [end]\u001b[0m\n",
      "\u001b[38;5;32m[start] De bestaande projecten zullen worden geevalueerd met het oog op bijsturing. [end]\u001b[0m\n",
      "-\n",
      "Hast de helte fan 'e learlingen docht wolris in betelle putsje.\n",
      "\u001b[38;5;214m[start] bijna de helft van de leerlingen is wel eens aan een kennen betaald [end]\u001b[0m\n",
      "\u001b[38;5;32m[start] Bijna de helft van de leerlingen doet wel eens een betaald klusje. [end]\u001b[0m\n",
      "-\n",
      "Bankiers moatte harren rekkens iepenstelle, notarissen tekenje oerienkomsten en advokaten binne fertsjinwurdigers.\n",
      "\u001b[38;5;214m[start] [UNK] moeten hun club schetsen zien zich een met lijnen en [UNK] [end]\u001b[0m\n",
      "\u001b[38;5;32m[start] Bankiers moeten hun rekeningen openstellen, notarissen tekenen overeenkomsten en advocaten treden op als vertegenwoordigers. [end]\u001b[0m\n",
      "-\n",
      "Franka hie wer de heale dei oan it lesriden west.\n",
      "\u001b[38;5;214m[start] [UNK] had weer de halve dag aan het betere mogelijkheid [end]\u001b[0m\n",
      "\u001b[38;5;32m[start] Franka heeft weer de halve dag autorijles gehad. [end]\u001b[0m\n",
      "-\n",
      "Hy wurdt al griis.\n",
      "\u001b[38;5;214m[start] hij is wel grijs [end]\u001b[0m\n",
      "\u001b[38;5;32m[start] Zijn haar begint te grijzen. [end]\u001b[0m\n",
      "-\n",
      "sa mei ik it hearre\n",
      "\u001b[38;5;214m[start] zo mag ik het precies zeggen [end]\u001b[0m\n",
      "\u001b[38;5;32m[start] zo mag ik het horen [end]\u001b[0m\n",
      "-\n",
      "Hjoed ferkenne jo it Kaapsk Skiereilan en derby ride jo troch nei de uterste punt  Kaappunt  der't jo in fenomenaal utsicht hawwe.\n",
      "\u001b[38;5;214m[start] vandaag gaan u het een eiland en daarbij rijden is door naar de stage de [UNK] waar u een dure\u001b[0m\n",
      "\u001b[38;5;32m[start] Deze dag verkent u het Kaaps Schiereiland waarbij u doorrijdt tot de uiterste punt  Kaappunt  waar u van een fenomenaal uitzicht kunt genieten. [end]\u001b[0m\n",
      "-\n",
      "de liuw yn 'e bek rinne\n",
      "\u001b[38;5;214m[start] een niet van de leven rennen [end]\u001b[0m\n",
      "\u001b[38;5;32m[start] zich in het hol van de leeuw wagen [end]\u001b[0m\n",
      "-\n",
      "Troch syn jierrenlange underfining yn 'e muzykhannel is er goed op 'e hichte mei it karakter en de kwaliteit fan ynstruminten.\n",
      "\u001b[38;5;214m[start] door zijn middel ervaring in de [UNK] is hij goed op de hoogte met het karakter en de kwaliteit van\u001b[0m\n",
      "\u001b[38;5;32m[start] Door zijn jarenlange ervaring in de muziekhandel is hij goed op de hoogte van het karakter en de kwaliteit van instrumenten. [end]\u001b[0m\n",
      "-\n",
      "Mei kwaste en sjippe, witte jo wol, lykas yn de goede alde tiid.\n",
      "\u001b[38;5;214m[start] met christus en zeep weten u wel zoals in de goede oude tijd [end]\u001b[0m\n",
      "\u001b[38;5;32m[start] Met kwast en zeep, weet u wel, zoals in de goeie ouwe tijd. [end]\u001b[0m\n",
      "-\n",
      "It hynder begjint him te halden en te dragen sa't it tinkt of fielt dat de minske wol, want oars komt der straf, gjin beleanning, of luikens.\n",
      "\u001b[38;5;214m[start] het het komt zich te houden en te dragen als het zich denkt of dat de mens wel erg anders\u001b[0m\n",
      "\u001b[38;5;32m[start] Het paard gaat zich gedragen zoals het denkt of voelt dat de mens wil, want anders komt er straf, geen beloning, of boosheid. [end]\u001b[0m\n",
      "-\n",
      "Op dy freed is Beck al om tsien foar alven yn it kafee der't er mei de sjoernalist ofpraat hat.\n",
      "\u001b[38;5;214m[start] op die vrijdag is je al een tien voor elf met de straat in het hotel heeft met een van\u001b[0m\n",
      "\u001b[38;5;32m[start] Die vrijdag bevindt Beck zich al om tien voor elf in het cafe waar hij met de journalist heeft afgesproken. [end]\u001b[0m\n",
      "-\n",
      "De wetteroerlest besoarge de branwacht ek op oare plakken [hannen fol, bergen, bulten] wurk. Yn Soest moast de branwacht 55 kear utride.\n",
      "\u001b[38;5;214m[start] de les een doen brandweer ook op andere plekken handen vol bergen moet je in [UNK] zou je [end]\u001b[0m\n",
      "\u001b[38;5;32m[start] De wateroverlast bezorgde de brandweer ook elders handenvol werk. In Soest moest de brandweer 55 maal uitrukken. [end]\u001b[0m\n",
      "-\n",
      "(de) middelbere tiid\n",
      "\u001b[38;5;214m[start] de middelbare tijd [end]\u001b[0m\n",
      "\u001b[38;5;32m[start] (de) middelbare tijd [end]\u001b[0m\n",
      "-\n",
      "Duorsume untwikkeling freget om de ynset fan grunstoffen dy't [wer, op 'en nij] brukt wurde kinne.\n",
      "\u001b[38;5;214m[start] regels ontwikkeling drinken een [end]\u001b[0m\n",
      "\u001b[38;5;32m[start] Duurzame ontwikkeling vraagt om de inzet van herbruikbare grondstoffen. [end]\u001b[0m\n",
      "-\n",
      "it Ministearje fan Definsje\n",
      "\u001b[38;5;214m[start] het denk van amerika [end]\u001b[0m\n",
      "\u001b[38;5;32m[start] het Ministerie van Defensie [end]\u001b[0m\n"
     ]
    }
   ],
   "source": [
    "predicted_sentences = []\n",
    "actual_sentences = []\n",
    "\n",
    "test_eng_texts = [pair[0] for pair in text_pairs_test]\n",
    "for _ in range(20):\n",
    "    input_sentence = random.choice(test_eng_texts)\n",
    "    predicted_sentence = decode_sequence(input_sentence)\n",
    "    \n",
    "    predicted_sentences.append(predicted_sentence)\n",
    "\n",
    "    actual_sentence = [pair[1] for pair in text_pairs_test if pair[0] == input_sentence][0]\n",
    "    actual_sentences.append(actual_sentence)\n",
    "\n",
    "    # Print de zinnen in verschillende kleuren\n",
    "    print(\"-\")\n",
    "    print(input_sentence)\n",
    "    print(f\"\\033[38;5;214m{predicted_sentence}\\033[0m\")  # Voorspelde zin in oranje\n",
    "    print(f\"\\033[38;5;32m{actual_sentence}\\033[0m\")  # Echte zin in blauw"
   ]
  },
  {
   "cell_type": "markdown",
   "metadata": {},
   "source": [
    "<div class=\"alert alert-block alert-warning\"><b>resultaat:</b> Deze vond ik wel redelijk. Ik heb hem nog een keer laten runnen met 80000 vocab size en dan meer epochs</div>"
   ]
  },
  {
   "cell_type": "code",
   "execution_count": 100,
   "metadata": {},
   "outputs": [],
   "source": [
    "#maak een seq2seq model \n",
    "embed_dim = 256 #grootte woord embeddings\n",
    "dense_dim = 2048 #grootte interne lagen\n",
    "num_heads = 8 #hoeveel aandachts \"hoofden\" er zijn (om verschillende aspecten vande zin tegelijk te begrijpen)\n",
    "\n",
    "encoder_inputs = keras.Input(shape=(None,), dtype=\"int64\", name=\"fries\")\n",
    "x = PositionalEmbedding(sequence_length, vocab_size, embed_dim)(encoder_inputs)\n",
    "encoder_outputs = TransformerEncoder(embed_dim, dense_dim, num_heads)(x) \n",
    "#encode de source sentenct\n",
    "\n",
    "decoder_inputs = keras.Input(shape=(None,), dtype=\"int64\", name=\"nl\")\n",
    "x = PositionalEmbedding(sequence_length, vocab_size, embed_dim)(decoder_inputs)\n",
    "x = TransformerDecoder(embed_dim, dense_dim, num_heads)(x, encoder_outputs)\n",
    "#Encode the target sentence and combine it with the encoded source sentence\n",
    "x = layers.Dropout(0.5)(x)\n",
    "decoder_outputs = layers.Dense(vocab_size, activation=\"softmax\")(x)\n",
    "#predict a word for each output position\n",
    "transformer = keras.Model([encoder_inputs, decoder_inputs], decoder_outputs)"
   ]
  },
  {
   "cell_type": "code",
   "execution_count": 101,
   "metadata": {},
   "outputs": [
    {
     "name": "stdout",
     "output_type": "stream",
     "text": [
      "Epoch 1/50\n",
      "2718/2718 [==============================] - 439s 160ms/step - loss: 4.9842 - accuracy: 0.4347 - val_loss: 4.8205 - val_accuracy: 0.4569\n",
      "Epoch 2/50\n",
      "2718/2718 [==============================] - 428s 158ms/step - loss: 4.0738 - accuracy: 0.5314 - val_loss: 4.3970 - val_accuracy: 0.5010\n",
      "Epoch 3/50\n",
      "2718/2718 [==============================] - 430s 158ms/step - loss: 3.7436 - accuracy: 0.5641 - val_loss: 4.2840 - val_accuracy: 0.5161\n",
      "Epoch 4/50\n",
      "2718/2718 [==============================] - 430s 158ms/step - loss: 3.5697 - accuracy: 0.5823 - val_loss: 4.1571 - val_accuracy: 0.5270\n",
      "Epoch 5/50\n",
      "2718/2718 [==============================] - 429s 158ms/step - loss: 3.4840 - accuracy: 0.5915 - val_loss: 4.1110 - val_accuracy: 0.5390\n",
      "Epoch 6/50\n",
      "2718/2718 [==============================] - 429s 158ms/step - loss: 3.4384 - accuracy: 0.5967 - val_loss: 4.1417 - val_accuracy: 0.5300\n",
      "Epoch 7/50\n",
      "2718/2718 [==============================] - 428s 157ms/step - loss: 3.3966 - accuracy: 0.6013 - val_loss: 4.1341 - val_accuracy: 0.5375\n",
      "Epoch 8/50\n",
      "2718/2718 [==============================] - 428s 157ms/step - loss: 3.3643 - accuracy: 0.6051 - val_loss: 4.2246 - val_accuracy: 0.5179\n",
      "Epoch 9/50\n",
      "2718/2718 [==============================] - 428s 157ms/step - loss: 3.3300 - accuracy: 0.6090 - val_loss: 4.2291 - val_accuracy: 0.5245\n",
      "Epoch 10/50\n",
      "2718/2718 [==============================] - 428s 157ms/step - loss: 3.2984 - accuracy: 0.6125 - val_loss: 4.1460 - val_accuracy: 0.5353\n",
      "Epoch 11/50\n",
      "2718/2718 [==============================] - 427s 157ms/step - loss: 3.2686 - accuracy: 0.6167 - val_loss: 4.3332 - val_accuracy: 0.5202\n",
      "Epoch 12/50\n",
      "2718/2718 [==============================] - 427s 157ms/step - loss: 3.2411 - accuracy: 0.6199 - val_loss: 4.1742 - val_accuracy: 0.5312\n",
      "Epoch 13/50\n",
      "2718/2718 [==============================] - 427s 157ms/step - loss: 3.2116 - accuracy: 0.6237 - val_loss: 4.1367 - val_accuracy: 0.5444\n",
      "Epoch 14/50\n",
      "2718/2718 [==============================] - 467s 172ms/step - loss: 3.1863 - accuracy: 0.6275 - val_loss: 4.2407 - val_accuracy: 0.5261\n",
      "Epoch 15/50\n",
      "2718/2718 [==============================] - 424s 156ms/step - loss: 3.1593 - accuracy: 0.6311 - val_loss: 4.2766 - val_accuracy: 0.5153\n",
      "Epoch 16/50\n",
      "2718/2718 [==============================] - 426s 157ms/step - loss: 3.1244 - accuracy: 0.6359 - val_loss: 4.2685 - val_accuracy: 0.5301\n",
      "Epoch 17/50\n",
      "2718/2718 [==============================] - 427s 157ms/step - loss: 3.0969 - accuracy: 0.6400 - val_loss: 4.1794 - val_accuracy: 0.5401\n",
      "Epoch 18/50\n",
      "2718/2718 [==============================] - 426s 157ms/step - loss: 3.0743 - accuracy: 0.6434 - val_loss: 4.1709 - val_accuracy: 0.5356\n",
      "Epoch 19/50\n",
      "2718/2718 [==============================] - 426s 157ms/step - loss: 3.0482 - accuracy: 0.6472 - val_loss: 4.1373 - val_accuracy: 0.5436\n",
      "Epoch 20/50\n",
      "2718/2718 [==============================] - 426s 157ms/step - loss: 3.0279 - accuracy: 0.6505 - val_loss: 4.2388 - val_accuracy: 0.5300\n",
      "Epoch 21/50\n",
      "2718/2718 [==============================] - 426s 157ms/step - loss: 2.9968 - accuracy: 0.6540 - val_loss: 4.2849 - val_accuracy: 0.5291\n",
      "Epoch 22/50\n",
      "2718/2718 [==============================] - 427s 157ms/step - loss: 2.9731 - accuracy: 0.6578 - val_loss: 4.1377 - val_accuracy: 0.5505\n",
      "Epoch 23/50\n",
      "2718/2718 [==============================] - 427s 157ms/step - loss: 2.9474 - accuracy: 0.6610 - val_loss: 4.2389 - val_accuracy: 0.5433\n",
      "Epoch 24/50\n",
      "2718/2718 [==============================] - 427s 157ms/step - loss: 2.9294 - accuracy: 0.6639 - val_loss: 4.0664 - val_accuracy: 0.5650\n",
      "Epoch 25/50\n",
      "2718/2718 [==============================] - 426s 157ms/step - loss: 2.9036 - accuracy: 0.6674 - val_loss: 4.1345 - val_accuracy: 0.5617\n",
      "Epoch 26/50\n",
      "2718/2718 [==============================] - 426s 157ms/step - loss: 2.8896 - accuracy: 0.6696 - val_loss: 4.1910 - val_accuracy: 0.5453\n",
      "Epoch 27/50\n",
      "2718/2718 [==============================] - 426s 157ms/step - loss: 2.8690 - accuracy: 0.6728 - val_loss: 4.1701 - val_accuracy: 0.5681\n",
      "Epoch 28/50\n",
      "2718/2718 [==============================] - 426s 157ms/step - loss: 2.8490 - accuracy: 0.6754 - val_loss: 4.1609 - val_accuracy: 0.5545\n",
      "Epoch 29/50\n",
      "2718/2718 [==============================] - 426s 157ms/step - loss: 2.8299 - accuracy: 0.6781 - val_loss: 4.0901 - val_accuracy: 0.5735\n",
      "Epoch 30/50\n",
      "2718/2718 [==============================] - 427s 157ms/step - loss: 2.8100 - accuracy: 0.6812 - val_loss: 4.1329 - val_accuracy: 0.5645\n",
      "Epoch 31/50\n",
      "2718/2718 [==============================] - 428s 157ms/step - loss: 2.7984 - accuracy: 0.6832 - val_loss: 4.2476 - val_accuracy: 0.5613\n",
      "Epoch 32/50\n",
      "2718/2718 [==============================] - 426s 157ms/step - loss: 2.7755 - accuracy: 0.6855 - val_loss: 4.1020 - val_accuracy: 0.5796\n",
      "Epoch 33/50\n",
      "2718/2718 [==============================] - 426s 157ms/step - loss: 2.7558 - accuracy: 0.6880 - val_loss: 4.2081 - val_accuracy: 0.5529\n",
      "Epoch 34/50\n",
      "2718/2718 [==============================] - 423s 155ms/step - loss: 2.7482 - accuracy: 0.6895 - val_loss: 4.1714 - val_accuracy: 0.5618\n",
      "Epoch 35/50\n",
      "2718/2718 [==============================] - 426s 157ms/step - loss: 2.7317 - accuracy: 0.6919 - val_loss: 4.1187 - val_accuracy: 0.5719\n",
      "Epoch 36/50\n",
      "2718/2718 [==============================] - 426s 157ms/step - loss: 2.7152 - accuracy: 0.6944 - val_loss: 4.1628 - val_accuracy: 0.5780\n",
      "Epoch 37/50\n",
      "2718/2718 [==============================] - 428s 158ms/step - loss: 2.6995 - accuracy: 0.6964 - val_loss: 4.0694 - val_accuracy: 0.5787\n",
      "Epoch 38/50\n",
      "2718/2718 [==============================] - 427s 157ms/step - loss: 2.6839 - accuracy: 0.6981 - val_loss: 4.1593 - val_accuracy: 0.5815\n",
      "Epoch 39/50\n",
      "2718/2718 [==============================] - 426s 157ms/step - loss: 2.6704 - accuracy: 0.7002 - val_loss: 4.2084 - val_accuracy: 0.5755\n",
      "Epoch 40/50\n",
      "2718/2718 [==============================] - 426s 157ms/step - loss: 2.6632 - accuracy: 0.7022 - val_loss: 4.1487 - val_accuracy: 0.5843\n",
      "Epoch 41/50\n",
      "2718/2718 [==============================] - 424s 156ms/step - loss: 2.6437 - accuracy: 0.7041 - val_loss: 4.0804 - val_accuracy: 0.5833\n",
      "Epoch 42/50\n",
      "2718/2718 [==============================] - 424s 156ms/step - loss: 2.6346 - accuracy: 0.7058 - val_loss: 4.1268 - val_accuracy: 0.5858\n",
      "Epoch 43/50\n",
      "2718/2718 [==============================] - 426s 157ms/step - loss: 2.6114 - accuracy: 0.7081 - val_loss: 4.1702 - val_accuracy: 0.5820\n",
      "Epoch 44/50\n",
      "2718/2718 [==============================] - 425s 156ms/step - loss: 2.6021 - accuracy: 0.7092 - val_loss: 4.3422 - val_accuracy: 0.5562\n",
      "Epoch 45/50\n",
      "2718/2718 [==============================] - 425s 156ms/step - loss: 2.5892 - accuracy: 0.7114 - val_loss: 4.1104 - val_accuracy: 0.5907\n",
      "Epoch 46/50\n",
      "2718/2718 [==============================] - 424s 156ms/step - loss: 2.5775 - accuracy: 0.7124 - val_loss: 4.2400 - val_accuracy: 0.5853\n",
      "Epoch 47/50\n",
      "2718/2718 [==============================] - 425s 156ms/step - loss: 2.5699 - accuracy: 0.7138 - val_loss: 4.1827 - val_accuracy: 0.5903\n",
      "Epoch 48/50\n",
      "2718/2718 [==============================] - 427s 157ms/step - loss: 2.5536 - accuracy: 0.7156 - val_loss: 4.1361 - val_accuracy: 0.5872\n",
      "Epoch 49/50\n",
      "2718/2718 [==============================] - 425s 156ms/step - loss: 2.5489 - accuracy: 0.7167 - val_loss: 4.1609 - val_accuracy: 0.6006\n",
      "Epoch 50/50\n",
      "2718/2718 [==============================] - 425s 156ms/step - loss: 2.5328 - accuracy: 0.7182 - val_loss: 4.1376 - val_accuracy: 0.6010\n"
     ]
    }
   ],
   "source": [
    "transformer.compile(\n",
    "    optimizer=\"rmsprop\",\n",
    "    loss=\"sparse_categorical_crossentropy\",\n",
    "    metrics=[\"accuracy\"])\n",
    "\n",
    "history = transformer.fit(train_ds, epochs=50, validation_data=test_ds)"
   ]
  },
  {
   "cell_type": "code",
   "execution_count": 102,
   "metadata": {},
   "outputs": [
    {
     "name": "stdout",
     "output_type": "stream",
     "text": [
      "-\n",
      "de goaden fersykje\n",
      "\u001b[38;5;214m[start] de parlementaire geiten [end]\u001b[0m\n",
      "\u001b[38;5;32m[start] de goden verzoeken [end]\u001b[0m\n",
      "-\n",
      "It lud komt efter ut syn kiel wei.\n",
      "\u001b[38;5;214m[start] het geluid komt achter uit zijn keel [end]\u001b[0m\n",
      "\u001b[38;5;32m[start] Het geluid komt achter uit zijn keel. [end]\u001b[0m\n",
      "-\n",
      "Dizze ule libbet yn Amearika en leit syn nest under de grun oan, yn [hoalen, hollen] fan oare bisten.\n",
      "\u001b[38;5;214m[start] deze aangetaste leeft in amerika en ligt zijn nest onder de grond aan de bomen van andere dieren [end]\u001b[0m\n",
      "\u001b[38;5;32m[start] Deze uil leeft in Amerika en legt zijn nest onder de grond aan, in holen van andere dieren. [end]\u001b[0m\n",
      "-\n",
      "op in (bepaald) stuit\n",
      "\u001b[38;5;214m[start] op bepaalde juiste moment [end]\u001b[0m\n",
      "\u001b[38;5;32m[start] op zekere tijd [end]\u001b[0m\n",
      "-\n",
      "Tsjin dyn dochter seist: 'Do en Joaris binne slim deilis, ik stypje dy, ik hald dyn kant.'\n",
      "\u001b[38;5;214m[start] tegen je dochter ga je tegen een grote kaars is het afzetten [end]\u001b[0m\n",
      "\u001b[38;5;32m[start] Tegen je dochter zeg je: 'Je hebt grote conflicten met Joris, ik steun je, sta aan jouw kant.' [end]\u001b[0m\n",
      "-\n",
      "as in broer foar immen weze\n",
      "\u001b[38;5;214m[start] als een broer voor iemand zijn [end]\u001b[0m\n",
      "\u001b[38;5;32m[start] als een broer voor iemand zijn [end]\u001b[0m\n",
      "-\n",
      "It liket dus wol as is it kolleezje wat staf.\n",
      "\u001b[38;5;214m[start] het lijkt dus wel een te het college waarvan oud ware [end]\u001b[0m\n",
      "\u001b[38;5;32m[start] Er lijkt hier dus sprake van enige hardhorendheid aan de kant van het college. [end]\u001b[0m\n",
      "-\n",
      "De kopkes hearre hjir te stean.\n",
      "\u001b[38;5;214m[start] de periodes zien hier uit de ziekte [end]\u001b[0m\n",
      "\u001b[38;5;32m[start] De kopjes horen hier. [end]\u001b[0m\n",
      "-\n",
      "de minder foarname lju\n",
      "\u001b[38;5;214m[start] de minder talen [end]\u001b[0m\n",
      "\u001b[38;5;32m[start] het mindere volk [end]\u001b[0m\n",
      "-\n",
      "se kin wol besjen lije\n",
      "\u001b[38;5;214m[start] men kan wel zien [end]\u001b[0m\n",
      "\u001b[38;5;32m[start] ze mag gezien worden [end]\u001b[0m\n",
      "-\n",
      "gouden iuw\n",
      "\u001b[38;5;214m[start] gouden maanden [end]\u001b[0m\n",
      "\u001b[38;5;32m[start] gouden eeuw [end]\u001b[0m\n",
      "-\n",
      "As it harren net nei it sin is, dan rinne se fan hus fuort.\n",
      "\u001b[38;5;214m[start] als het hen niet aan het is is dan rennen ze van huis [end]\u001b[0m\n",
      "\u001b[38;5;32m[start] Als het ze niet bevalt dan gaan ze van huis weg. [end]\u001b[0m\n",
      "-\n",
      "immen oan 'e [line, telefoan] hawwe\n",
      "\u001b[38;5;214m[start] iemand aan de denken telefoon hebben [end]\u001b[0m\n",
      "\u001b[38;5;32m[start] iemand aan de lijn hebben [end]\u001b[0m\n",
      "-\n",
      "Ynspraak krije je net troch op te kearen dat oaren prate!\n",
      "\u001b[38;5;214m[start] journalist krijg je niet door op te [end]\u001b[0m\n",
      "\u001b[38;5;32m[start] Inspraak verkrijg je niet door anderen het spreken te beletten! [end]\u001b[0m\n",
      "-\n",
      "Men moat as alder ek o sa sterk yn de skuon stean om tsjin de stream yn te roeien.\n",
      "\u001b[38;5;214m[start] je moet als ouder ook sterk een sterk in de schoenen staan om tegen de stroom in te gaan van\u001b[0m\n",
      "\u001b[38;5;32m[start] Je moet als ouder ook bijzonder sterk in je schoenen staan om tegen de stroom in te roeien. [end]\u001b[0m\n",
      "-\n",
      "kald [weze, wurde]\n",
      "\u001b[38;5;214m[start] een koud worden [end]\u001b[0m\n",
      "\u001b[38;5;32m[start] het koud [hebben, krijgen] [end]\u001b[0m\n",
      "-\n",
      "it wie reedlik drok\n",
      "\u001b[38;5;214m[start] het was redelijk druk [end]\u001b[0m\n",
      "\u001b[38;5;32m[start] het was redelijk druk [end]\u001b[0m\n",
      "-\n",
      "Wy sille nea boppe us selsbyld ut groeie.\n",
      "\u001b[38;5;214m[start] we zullen nooit boven ons ervaren ervaren [end]\u001b[0m\n",
      "\u001b[38;5;32m[start] We zullen nooit boven ons zelfbeeld uit groeien. [end]\u001b[0m\n",
      "-\n",
      "dubelteard sitte\n",
      "\u001b[38;5;214m[start] een kaars [end]\u001b[0m\n",
      "\u001b[38;5;32m[start] dubbelgevouwen zitten [end]\u001b[0m\n",
      "-\n",
      "kertier oer fjouweren\n",
      "\u001b[38;5;214m[start] kwart over twee [end]\u001b[0m\n",
      "\u001b[38;5;32m[start] kwart over vier [end]\u001b[0m\n"
     ]
    }
   ],
   "source": [
    "predicted_sentences = []\n",
    "actual_sentences = []\n",
    "\n",
    "test_eng_texts = [pair[0] for pair in text_pairs_test]\n",
    "for _ in range(20):\n",
    "    input_sentence = random.choice(test_eng_texts)\n",
    "    predicted_sentence = decode_sequence(input_sentence)\n",
    "    \n",
    "    predicted_sentences.append(predicted_sentence)\n",
    "\n",
    "    actual_sentence = [pair[1] for pair in text_pairs_test if pair[0] == input_sentence][0]\n",
    "    actual_sentences.append(actual_sentence)\n",
    "\n",
    "    # Print de zinnen in verschillende kleuren\n",
    "    print(\"-\")\n",
    "    print(input_sentence)\n",
    "    print(f\"\\033[38;5;214m{predicted_sentence}\\033[0m\")  # Voorspelde zin in oranje\n",
    "    print(f\"\\033[38;5;32m{actual_sentence}\\033[0m\")  # Echte zin in blauw"
   ]
  },
  {
   "cell_type": "code",
   "execution_count": 103,
   "metadata": {},
   "outputs": [
    {
     "data": {
      "text/plain": [
       "<matplotlib.legend.Legend at 0x7f0f9d7337d0>"
      ]
     },
     "execution_count": 103,
     "metadata": {},
     "output_type": "execute_result"
    },
    {
     "data": {
      "image/png": "[encoded data removed]",
      "text/plain": [
       "<Figure size 640x480 with 1 Axes>"
      ]
     },
     "metadata": {},
     "output_type": "display_data"
    }
   ],
   "source": [
    "import matplotlib.pyplot as plt\n",
    "acc=history.history['accuracy']\n",
    "val_acc=history.history['val_accuracy']\n",
    "epochs=range(1, len(acc)+1)                        \n",
    "plt.plot(epochs, acc, label='accuracy')\n",
    "plt.plot(epochs, val_acc, label = 'val_accuracy')\n",
    "plt.xlabel('Epoch')\n",
    "plt.ylabel('Accuracy')\n",
    "plt.legend(loc='lower right')"
   ]
  },
  {
   "cell_type": "markdown",
   "metadata": {},
   "source": [
    "<div class=\"alert alert-block alert-info\"><b>Note:</b> Kan nog proberen: meer layers in de x: normalisation, meer dropouts voor overfit, misschien extra *transformer layers*  </div>\n"
   ]
  },
  {
   "cell_type": "markdown",
   "metadata": {},
   "source": [
    "#### Experiment 6"
   ]
  },
  {
   "cell_type": "markdown",
   "metadata": {},
   "source": [
    "Ik wou uitproberen wat er gebeurt als ik een extra transformerlayer toevoeg. En ik wou een stopper toevoegen bij de epochs."
   ]
  },
  {
   "cell_type": "code",
   "execution_count": 16,
   "metadata": {},
   "outputs": [],
   "source": [
    "#maak een seq2seq model \n",
    "embed_dim = 256 #grootte woord embeddings\n",
    "dense_dim = 2048 #grootte interne lagen\n",
    "num_heads = 8 #hoeveel aandachts \"hoofden\" er zijn (om verschillende aspecten vande zin tegelijk te begrijpen)\n",
    "\n",
    "encoder_inputs = keras.Input(shape=(None,), dtype=\"int64\", name=\"fries\")\n",
    "x = PositionalEmbedding(sequence_length, vocab_size, embed_dim)(encoder_inputs)\n",
    "encoder_outputs = TransformerEncoder(embed_dim, dense_dim, num_heads)(x) \n",
    "#encode de source sentenct\n",
    "\n",
    "decoder_inputs = keras.Input(shape=(None,), dtype=\"int64\", name=\"nl\")\n",
    "x = PositionalEmbedding(sequence_length, vocab_size, embed_dim)(decoder_inputs)\n",
    "x = TransformerDecoder(embed_dim, dense_dim, num_heads)(x, encoder_outputs)\n",
    "#Encode the target sentence and combine it with the encoded source sentence\n",
    "x = layers.Dropout(0.5)(x)\n",
    "x = TransformerDecoder(embed_dim, dense_dim, num_heads)(x, encoder_outputs)\n",
    "x = layers.Dropout(0.5)(x)\n",
    "decoder_outputs = layers.Dense(vocab_size, activation=\"softmax\")(x)\n",
    "#predict a word for each output position\n",
    "transformer = keras.Model([encoder_inputs, decoder_inputs], decoder_outputs)"
   ]
  },
  {
   "cell_type": "code",
   "execution_count": 25,
   "metadata": {},
   "outputs": [
    {
     "name": "stdout",
     "output_type": "stream",
     "text": [
      "Epoch 1/50\n",
      "2718/2718 [==============================] - 461s 167ms/step - loss: 3.4947 - accuracy: 0.5895 - val_loss: 4.1269 - val_accuracy: 0.5264\n",
      "Epoch 2/50\n",
      "2718/2718 [==============================] - 441s 162ms/step - loss: 3.4616 - accuracy: 0.5924 - val_loss: 4.1239 - val_accuracy: 0.5248\n",
      "Epoch 3/50\n",
      "2718/2718 [==============================] - 438s 161ms/step - loss: 3.4293 - accuracy: 0.5958 - val_loss: 4.0811 - val_accuracy: 0.5288\n",
      "Epoch 4/50\n",
      "2718/2718 [==============================] - 440s 162ms/step - loss: 3.4037 - accuracy: 0.5985 - val_loss: 4.1173 - val_accuracy: 0.5309\n",
      "Epoch 5/50\n",
      "2718/2718 [==============================] - 438s 161ms/step - loss: 3.3786 - accuracy: 0.6012 - val_loss: 4.1318 - val_accuracy: 0.5251\n",
      "Epoch 6/50\n",
      "2718/2718 [==============================] - 440s 162ms/step - loss: 3.3558 - accuracy: 0.6040 - val_loss: 4.1463 - val_accuracy: 0.5248\n",
      "Epoch 7/50\n",
      "2718/2718 [==============================] - 438s 161ms/step - loss: 3.3382 - accuracy: 0.6059 - val_loss: 4.1838 - val_accuracy: 0.5139\n",
      "Epoch 8/50\n",
      "2718/2718 [==============================] - 440s 162ms/step - loss: 3.3080 - accuracy: 0.6094 - val_loss: 4.2569 - val_accuracy: 0.5082\n",
      "Epoch 9/50\n",
      "2718/2718 [==============================] - 439s 161ms/step - loss: 3.2793 - accuracy: 0.6133 - val_loss: 4.1172 - val_accuracy: 0.5320\n",
      "Epoch 10/50\n",
      "2718/2718 [==============================] - 441s 162ms/step - loss: 3.2603 - accuracy: 0.6155 - val_loss: 4.1555 - val_accuracy: 0.5275\n",
      "Epoch 11/50\n",
      "2718/2718 [==============================] - 439s 161ms/step - loss: 3.2334 - accuracy: 0.6188 - val_loss: 4.2463 - val_accuracy: 0.5097\n",
      "Epoch 12/50\n",
      "2718/2718 [==============================] - 441s 162ms/step - loss: 3.2083 - accuracy: 0.6224 - val_loss: 4.1364 - val_accuracy: 0.5288\n",
      "Epoch 13/50\n",
      "2718/2718 [==============================] - 438s 161ms/step - loss: 3.1794 - accuracy: 0.6262 - val_loss: 4.2406 - val_accuracy: 0.5102\n",
      "Epoch 14/50\n",
      "2718/2718 [==============================] - 441s 162ms/step - loss: 3.1595 - accuracy: 0.6288 - val_loss: 4.2039 - val_accuracy: 0.5389\n",
      "Epoch 15/50\n",
      "2718/2718 [==============================] - 439s 161ms/step - loss: 3.1390 - accuracy: 0.6322 - val_loss: 4.1719 - val_accuracy: 0.5445\n",
      "Epoch 16/50\n",
      "2718/2718 [==============================] - 445s 164ms/step - loss: 3.1148 - accuracy: 0.6358 - val_loss: 4.1608 - val_accuracy: 0.5336\n",
      "Epoch 17/50\n",
      "2718/2718 [==============================] - 445s 164ms/step - loss: 3.1006 - accuracy: 0.6381 - val_loss: 4.1678 - val_accuracy: 0.5354\n",
      "Epoch 18/50\n",
      "2718/2718 [==============================] - 442s 163ms/step - loss: 3.0731 - accuracy: 0.6419 - val_loss: 4.1315 - val_accuracy: 0.5388\n",
      "Epoch 19/50\n",
      "2718/2718 [==============================] - 443s 163ms/step - loss: 3.0607 - accuracy: 0.6444 - val_loss: 4.0693 - val_accuracy: 0.5496\n",
      "Epoch 20/50\n",
      "2718/2718 [==============================] - 449s 165ms/step - loss: 3.0318 - accuracy: 0.6484 - val_loss: 4.2227 - val_accuracy: 0.5296\n",
      "Epoch 21/50\n",
      "2718/2718 [==============================] - 447s 164ms/step - loss: 3.0144 - accuracy: 0.6507 - val_loss: 4.1945 - val_accuracy: 0.5412\n",
      "Epoch 22/50\n",
      "2718/2718 [==============================] - 446s 164ms/step - loss: 2.9972 - accuracy: 0.6534 - val_loss: 4.0689 - val_accuracy: 0.5591\n",
      "Epoch 23/50\n",
      "2718/2718 [==============================] - 440s 162ms/step - loss: 2.9833 - accuracy: 0.6557 - val_loss: 4.5129 - val_accuracy: 0.5119\n",
      "Epoch 24/50\n",
      "2718/2718 [==============================] - 444s 164ms/step - loss: 2.9621 - accuracy: 0.6584 - val_loss: 4.1049 - val_accuracy: 0.5591\n",
      "Epoch 25/50\n",
      "2718/2718 [==============================] - 445s 164ms/step - loss: 2.9474 - accuracy: 0.6608 - val_loss: 4.1029 - val_accuracy: 0.5628\n",
      "Epoch 26/50\n",
      "2718/2718 [==============================] - 439s 162ms/step - loss: 2.9327 - accuracy: 0.6632 - val_loss: 4.1560 - val_accuracy: 0.5428\n",
      "Epoch 27/50\n",
      "2718/2718 [==============================] - 444s 163ms/step - loss: 2.9155 - accuracy: 0.6655 - val_loss: 4.1406 - val_accuracy: 0.5757\n",
      "Epoch 28/50\n",
      "2718/2718 [==============================] - 443s 163ms/step - loss: 2.8939 - accuracy: 0.6680 - val_loss: 4.2081 - val_accuracy: 0.5497\n",
      "Epoch 29/50\n",
      "2718/2718 [==============================] - 443s 163ms/step - loss: 2.8811 - accuracy: 0.6704 - val_loss: 4.0678 - val_accuracy: 0.5734\n",
      "Epoch 30/50\n",
      "2718/2718 [==============================] - 437s 161ms/step - loss: 2.8625 - accuracy: 0.6726 - val_loss: 4.1001 - val_accuracy: 0.5709\n",
      "Epoch 31/50\n",
      "2718/2718 [==============================] - 440s 162ms/step - loss: 2.8546 - accuracy: 0.6742 - val_loss: 4.0586 - val_accuracy: 0.5781\n",
      "Epoch 32/50\n",
      "2718/2718 [==============================] - 441s 162ms/step - loss: 2.8297 - accuracy: 0.6772 - val_loss: 4.1259 - val_accuracy: 0.5760\n",
      "Epoch 33/50\n",
      "2718/2718 [==============================] - 442s 162ms/step - loss: 2.8131 - accuracy: 0.6793 - val_loss: 4.2521 - val_accuracy: 0.5495\n",
      "Epoch 34/50\n",
      "2718/2718 [==============================] - 437s 161ms/step - loss: 2.8098 - accuracy: 0.6805 - val_loss: 4.0731 - val_accuracy: 0.5864\n",
      "Epoch 35/50\n",
      "2718/2718 [==============================] - 441s 162ms/step - loss: 2.7900 - accuracy: 0.6831 - val_loss: 4.0914 - val_accuracy: 0.5731\n",
      "Epoch 36/50\n",
      "2718/2718 [==============================] - 437s 161ms/step - loss: 2.7745 - accuracy: 0.6850 - val_loss: 4.0315 - val_accuracy: 0.5851\n",
      "Epoch 37/50\n",
      "2718/2718 [==============================] - 441s 162ms/step - loss: 2.7592 - accuracy: 0.6874 - val_loss: 4.1571 - val_accuracy: 0.5856\n",
      "Epoch 38/50\n",
      "2718/2718 [==============================] - 437s 161ms/step - loss: 2.7479 - accuracy: 0.6891 - val_loss: 4.0465 - val_accuracy: 0.5829\n",
      "Epoch 39/50\n",
      "2718/2718 [==============================] - 441s 162ms/step - loss: 2.7326 - accuracy: 0.6904 - val_loss: 4.0566 - val_accuracy: 0.5877\n",
      "Epoch 40/50\n",
      "2718/2718 [==============================] - 441s 162ms/step - loss: 2.7235 - accuracy: 0.6927 - val_loss: 4.0724 - val_accuracy: 0.5867\n",
      "Epoch 41/50\n",
      "2718/2718 [==============================] - 444s 163ms/step - loss: 2.7075 - accuracy: 0.6940 - val_loss: 4.0746 - val_accuracy: 0.5770\n",
      "Epoch 42/50\n",
      "2718/2718 [==============================] - 445s 164ms/step - loss: 2.7040 - accuracy: 0.6959 - val_loss: 4.1018 - val_accuracy: 0.5916\n",
      "Epoch 43/50\n",
      "2718/2718 [==============================] - 443s 163ms/step - loss: 2.6885 - accuracy: 0.6969 - val_loss: 4.0551 - val_accuracy: 0.5749\n",
      "Epoch 44/50\n",
      "2718/2718 [==============================] - 443s 163ms/step - loss: 2.6841 - accuracy: 0.6986 - val_loss: 4.0196 - val_accuracy: 0.5945\n",
      "Epoch 45/50\n",
      "2718/2718 [==============================] - 443s 163ms/step - loss: 2.6627 - accuracy: 0.7006 - val_loss: 4.0922 - val_accuracy: 0.5860\n",
      "Epoch 46/50\n",
      "2718/2718 [==============================] - 442s 163ms/step - loss: 2.6545 - accuracy: 0.7018 - val_loss: 4.0969 - val_accuracy: 0.5954\n",
      "Epoch 47/50\n",
      "2718/2718 [==============================] - 442s 163ms/step - loss: 2.6405 - accuracy: 0.7036 - val_loss: 4.0195 - val_accuracy: 0.5991\n",
      "Epoch 48/50\n",
      "2718/2718 [==============================] - 441s 162ms/step - loss: 2.6384 - accuracy: 0.7045 - val_loss: 4.0913 - val_accuracy: 0.5862\n",
      "Epoch 49/50\n",
      "2718/2718 [==============================] - 440s 162ms/step - loss: 2.6238 - accuracy: 0.7060 - val_loss: 4.0705 - val_accuracy: 0.5921\n",
      "Epoch 50/50\n",
      "2718/2718 [==============================] - 444s 163ms/step - loss: 2.6160 - accuracy: 0.7078 - val_loss: 4.0656 - val_accuracy: 0.5992\n"
     ]
    }
   ],
   "source": [
    "early_stopper = EarlyStopping(\n",
    "    monitor=\"val_accuracy\",     \n",
    "    patience=10,             # Het aantal epochs zonder verbetering waarna de training stopt\n",
    "    restore_best_weights=True  # Zorg ervoor dat de beste gewichten worden hersteld\n",
    ")\n",
    "\n",
    "transformer.compile(\n",
    "    optimizer=\"rmsprop\",\n",
    "    loss=\"sparse_categorical_crossentropy\",\n",
    "    metrics=[\"accuracy\"])\n",
    "\n",
    "history = transformer.fit(train_ds, epochs=50, validation_data=test_ds, callbacks=[early_stopper])"
   ]
  },
  {
   "cell_type": "code",
   "execution_count": 27,
   "metadata": {},
   "outputs": [
    {
     "data": {
      "text/plain": [
       "<matplotlib.legend.Legend at 0x7f3bd870bed0>"
      ]
     },
     "execution_count": 27,
     "metadata": {},
     "output_type": "execute_result"
    },
    {
     "data": {
      "image/png": "[encoded data removed]",
      "text/plain": [
       "<Figure size 640x480 with 1 Axes>"
      ]
     },
     "metadata": {},
     "output_type": "display_data"
    }
   ],
   "source": [
    "import matplotlib.pyplot as plt\n",
    "acc=history.history['accuracy']\n",
    "val_acc=history.history['val_accuracy']\n",
    "epochs=range(1, len(acc)+1)                        \n",
    "plt.plot(epochs, acc, label='accuracy')\n",
    "plt.plot(epochs, val_acc, label = 'val_accuracy')\n",
    "plt.xlabel('Epoch')\n",
    "plt.ylabel('Accuracy')\n",
    "plt.legend(loc='lower right')"
   ]
  },
  {
   "cell_type": "code",
   "execution_count": 26,
   "metadata": {},
   "outputs": [
    {
     "name": "stdout",
     "output_type": "stream",
     "text": [
      "-\n",
      "Haadklasser DOS'46 iepenet snein (14.30 oere) de fjildkompetysje.\n",
      "\u001b[38;5;214m[start] miljarden berekenen de gelegenheid de weg de deur neemt [end]\u001b[0m\n",
      "\u001b[38;5;32m[start] Hoofdklasser DOS'46 opent zondag (14.30 uur) de veldcompetitie. [end]\u001b[0m\n",
      "-\n",
      "immen fertinke fan [fraude, moard]\n",
      "\u001b[38;5;214m[start] iemand van de stichting [end]\u001b[0m\n",
      "\u001b[38;5;32m[start] iemand verdenken van [fraude, moord] [end]\u001b[0m\n",
      "-\n",
      "Yn artikel 11.2 fan 'e algemiene bepalingen stiet op hokker wize oft de Maatskippij betelje sil.\n",
      "\u001b[38;5;214m[start] in artikel bouwen van de algemene engelachtig staat op welke wijze de lucht aan zal betalen [end]\u001b[0m\n",
      "\u001b[38;5;32m[start] In artikel 11.2 van de algemene bepalingen staat op welke wijze de Maatschappij zal betalen. [end]\u001b[0m\n",
      "-\n",
      "(op)skrilje fan\n",
      "\u001b[38;5;214m[start] lippen aan [end]\u001b[0m\n",
      "\u001b[38;5;32m[start] schrikken van [end]\u001b[0m\n",
      "-\n",
      "De man kriget Joris beet en docht him oan 'e riem.\n",
      "\u001b[38;5;214m[start] de man krijgt grote engelachtig aan de maakt hem aan de zak [end]\u001b[0m\n",
      "\u001b[38;5;32m[start] De man pakt Joris beet en doet hem aan de lijn. [end]\u001b[0m\n",
      "-\n",
      "De sjoernalist stjoerde it konsept fan syn artikels oars earst nei syn advokaten.\n",
      "\u001b[38;5;214m[start] de journalist geliefde het karakter van zijn artikelen anders eerst naar zijn etnische [end]\u001b[0m\n",
      "\u001b[38;5;32m[start] De journalist stuurde het concept van zijn artikelen overigens eerst naar zijn advocaten. [end]\u001b[0m\n",
      "-\n",
      "oanrekommandearre [dosearring, poarsje]\n",
      "\u001b[38;5;214m[start] spaghetti gevallen stelsel [end]\u001b[0m\n",
      "\u001b[38;5;32m[start] aanbevolen [dosering, hoeveelheid] [end]\u001b[0m\n",
      "-\n",
      "De bittere sinesapel, oranje-apel of pommerans (Citrus aurantium) is net in healbruorke fan 'e gewoane sinesapel, mar in apart ras.\n",
      "\u001b[38;5;214m[start] de absolute de een een een een een een in een absolute een een van een gewone winkel van de\u001b[0m\n",
      "\u001b[38;5;32m[start] De bittere sinasappel, oranjeappel of pomerans (Citrus aurantium) is niet een halfbroertje van de gewone sinasappel, maar een apart ras. [end]\u001b[0m\n",
      "-\n",
      "gjin [ferkeard, min] idee\n",
      "\u001b[38;5;214m[start] geen verkeerd slecht idee [end]\u001b[0m\n",
      "\u001b[38;5;32m[start] geen slecht idee [end]\u001b[0m\n",
      "-\n",
      "De transaksje is in fierder teken fan bewegingen yn de Franske banksektor.\n",
      "\u001b[38;5;214m[start] de capaciteit is een verder in de arbeidsmarkt ten arbeidsmarkt in de franse de franse de franse gedurende [end]\u001b[0m\n",
      "\u001b[38;5;32m[start] De transactie is een verder teken van de bewegingen in de Franse banksector. [end]\u001b[0m\n",
      "-\n",
      "Buten de lanbouregeling falle dy aktiviteiten dy net by it aard fan [de boubuorkerij, it lanboubedriuw] passe.\n",
      "\u001b[38;5;214m[start] buiten de de een beste activiteiten die hun richting aan het richting van het beste verrichten zijn [end]\u001b[0m\n",
      "\u001b[38;5;32m[start] Buiten de landbouwregeling vallen die activiteiten die wezensvreemd zijn aan het landbouwbedrijf. [end]\u001b[0m\n",
      "-\n",
      "Ast yn dyn iten riere wolst, dan moatst earst it lid optille, der't al in soad waarmte troch nei buten slupt.\n",
      "\u001b[38;5;214m[start] als je in je in de eten moet je eerst moet het gaspedaal waarvan veel mooi want de structuur wilt\u001b[0m\n",
      "\u001b[38;5;32m[start] Als je wilt roeren in je eten, moet je eerst het deksel openen, waardoor al veel warmte naar buiten glipt. [end]\u001b[0m\n",
      "-\n",
      "De jubileumkommisje ropt ald-learlingen, -personiel en -bestjoerders op om harren foar dizze reuny op te jaan.\n",
      "\u001b[38;5;214m[start] de de de een karakter van een karakter voor een karakter en voor zich houding te dwingen [end]\u001b[0m\n",
      "\u001b[38;5;32m[start] De jubileumcommissie roept oud-leerlingen, -personeel en -bestuursleden op zich te melden voor deze reunie. [end]\u001b[0m\n",
      "-\n",
      "de lymsoarten\n",
      "\u001b[38;5;214m[start] de sterke [end]\u001b[0m\n",
      "\u001b[38;5;32m[start] de lijmen [end]\u001b[0m\n",
      "-\n",
      "Hy wie ea in [jongeman, jongfeint, jongkeardel] mei slaggerich, [goudglanzjend, goudglanzgjend] hier.\n",
      "\u001b[38;5;214m[start] hij was ooit een maatschappelijk maatschappelijk maatschappelijk voor de kaarsjes voor de [end]\u001b[0m\n",
      "\u001b[38;5;32m[start] Hij was ooit een jongeman met golvend, goudglanzend haar. [end]\u001b[0m\n",
      "-\n",
      "in ferkeaper fan [auto's, reizen, fersekeringen]\n",
      "\u001b[38;5;214m[start] een verkoper van autos [end]\u001b[0m\n",
      "\u001b[38;5;32m[start] een verkoper van [auto's, reizen, verzekeringen] [end]\u001b[0m\n",
      "-\n",
      "Dat wol ik dy en [gjinien, net ien, nimmen] en mysels ek net oandwaan.\n",
      "\u001b[38;5;214m[start] dat wil ik die en geen onderwerp aan een mag ook trekken [end]\u001b[0m\n",
      "\u001b[38;5;32m[start] Dat wil ik jou en niemand en ook mezelf niet aandoen. [end]\u001b[0m\n",
      "-\n",
      "Foaral de lanbouaktiviteiten drage sterk by oan de identiteit fan it gebiet.\n",
      "\u001b[38;5;214m[start] met name dankzij de een sterk bij aan de draait van het vlak [end]\u001b[0m\n",
      "\u001b[38;5;32m[start] Met name de landbouwactiviteiten dragen sterk bij aan de identiteit van het gebied. [end]\u001b[0m\n",
      "-\n",
      "it [Joadske, Koerdyske, Russyske] folk\n",
      "\u001b[38;5;214m[start] het grote les aan het [end]\u001b[0m\n",
      "\u001b[38;5;32m[start] het [Joodse, Koerdische, Russische] volk [end]\u001b[0m\n",
      "-\n",
      "Tritich jier lyn wiene der seis minsken yn tsjinst fan 'e gemeente dy't foar in fergoeding fan twa gune deis oan it baanfeien wiene.\n",
      "\u001b[38;5;214m[start] dertig jaar geleden waren er zes mensen in een politieke van de gemeente die voor een vergoeding van twee ogen\u001b[0m\n",
      "\u001b[38;5;32m[start] Dertig jaar geleden waren er zes mensen in dienst van de gemeente die tegen een vergoeding van twee gulden per dag de baan veegden. [end]\u001b[0m\n"
     ]
    }
   ],
   "source": [
    "predicted_sentences = []\n",
    "actual_sentences = []\n",
    "\n",
    "test_eng_texts = [pair[0] for pair in text_pairs_test]\n",
    "for _ in range(20):\n",
    "    input_sentence = random.choice(test_eng_texts)\n",
    "    predicted_sentence = decode_sequence(input_sentence)\n",
    "    \n",
    "    predicted_sentences.append(predicted_sentence)\n",
    "\n",
    "    actual_sentence = [pair[1] for pair in text_pairs_test if pair[0] == input_sentence][0]\n",
    "    actual_sentences.append(actual_sentence)\n",
    "\n",
    "    # Print de zinnen in verschillende kleuren\n",
    "    print(\"-\")\n",
    "    print(input_sentence)\n",
    "    print(f\"\\033[38;5;214m{predicted_sentence}\\033[0m\")  # Voorspelde zin in oranje\n",
    "    print(f\"\\033[38;5;32m{actual_sentence}\\033[0m\")  # Echte zin in blauw"
   ]
  },
  {
   "cell_type": "markdown",
   "metadata": {},
   "source": [
    "<div class=\"alert alert-block alert-danger\"><b>Niet het verwachtte resultaat:</b> Uiteindelijk na dit model ook 50 epochs te hebben laten draaien, bleek het vorige model toch beter. Daarom zie ik experiment 5 ook als mijn eindmodel </div>"
   ]
  },
  {
   "cell_type": "markdown",
   "metadata": {},
   "source": [
    "# Evaluatie werkwijze\n",
    "\n",
    "Ditmaal heb ik de werkwijze van vorige huiswerkopdracht voortgezet. \n",
    "\n",
    "Deze werkwijze bevalt mij goed. \n",
    "\n",
    "Ik kan met dingen experimenteren en kijken wat het beste werkt. Zo probeer ik puzzelend erachter te komen wat er werkt bij wat voor soort opdracht en beter leren de stof uit de colleges toe te passen."
   ]
  },
  {
   "cell_type": "markdown",
   "metadata": {},
   "source": [
    "**Mogelijke verbeterpunten** \n",
    "\n",
    "Ik heb mij nu voornamelijk bezig gehouden met het experimenteren met hyperparameters en extra transformerlagen. \n",
    "Wat ik nog had kunnen uitproberen om de data te verbeteren was het gedeelte van de tekst die tussen haakjes werd meegegeven en misschien het toevoegen van een andere dataset. \n",
    "Dit heb ik gezien mijn planning voor deze week helaas niet meer kunnen proberen."
   ]
  }
 ],
 "metadata": {
  "kernelspec": {
   "display_name": "Python 3",
   "language": "python",
   "name": "python3"
  },
  "language_info": {
   "codemirror_mode": {
    "name": "ipython",
    "version": 3
   },
   "file_extension": ".py",
   "mimetype": "text/x-python",
   "name": "python",
   "nbconvert_exporter": "python",
   "pygments_lexer": "ipython3",
   "version": "3.11.0rc1"
  }
 },
 "nbformat": 4,
 "nbformat_minor": 2
}
