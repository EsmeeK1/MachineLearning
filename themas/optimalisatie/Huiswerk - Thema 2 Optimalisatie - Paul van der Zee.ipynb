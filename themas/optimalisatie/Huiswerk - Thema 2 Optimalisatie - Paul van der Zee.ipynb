{
 "cells": [
  {
   "cell_type": "code",
   "execution_count": 1,
   "metadata": {
    "tags": []
   },
   "outputs": [],
   "source": [
    "# Imports\n",
    "import pandas as pd\n",
    "import seaborn as sns\n",
    "import numpy as np\n",
    "import historicdutchweather                #pip install pvlib historicdutchweather\n",
    "import pytz\n",
    "from typing import Tuple\n",
    "import pvlib\n",
    "from datetime import datetime\n",
    "from scipy.optimize import minimize\n",
    "import matplotlib.pyplot as plt\n",
    "from IPython.display import display, Markdown"
   ]
  },
  {
   "cell_type": "markdown",
   "metadata": {},
   "source": [
    "# Business Understanding\n",
    "We kijken naar zonnepaneeldata over een periode van net iets minder naar twee jaar. De metingen bestaan uit het wattage dat elke minuut door de panelen werd opgewekt. Hierbij is de data al omgezet naar watt per vierkante meter.\n",
    "\n",
    "We zijn op zoek naar de efficientie van de panelen. Deze kan berekend worden door de theoretische hoeveelheid opbrengst te nemen en deze te verlagen met een bepaalde factor om de werkelijke meting te benaderen. Deze factor is de efficientie.\n",
    "\n",
    "Om deze berekening te moeten doen, maken we gebruik van de pvlib library. Hierbij is het nodig om de helling van het zonnepaneel met het dak te weten (de tilt). En ook de richting van het paneel (de azimuth). De azimuth loopt van 0 graden noord, naar 90 graden oost, naar 180 graden zuid en dan naar 270 graden west."
   ]
  },
  {
   "cell_type": "markdown",
   "metadata": {},
   "source": [
    "# Data Understanding\n",
    "## Stroomproductiedata ophalen"
   ]
  },
  {
   "cell_type": "code",
   "execution_count": 2,
   "metadata": {
    "tags": []
   },
   "outputs": [],
   "source": [
    "df_SP = pd.read_csv('dataset.csv')\n",
    "df_SP['time'] = pd.to_datetime(df_SP['time'])\n",
    "df_SP = df_SP.set_index('time')"
   ]
  },
  {
   "cell_type": "code",
   "execution_count": 3,
   "metadata": {},
   "outputs": [
    {
     "data": {
      "text/html": [
       "<div>\n",
       "<style scoped>\n",
       "    .dataframe tbody tr th:only-of-type {\n",
       "        vertical-align: middle;\n",
       "    }\n",
       "\n",
       "    .dataframe tbody tr th {\n",
       "        vertical-align: top;\n",
       "    }\n",
       "\n",
       "    .dataframe thead th {\n",
       "        text-align: right;\n",
       "    }\n",
       "</style>\n",
       "<table border=\"1\" class=\"dataframe\">\n",
       "  <thead>\n",
       "    <tr style=\"text-align: right;\">\n",
       "      <th></th>\n",
       "      <th>production</th>\n",
       "    </tr>\n",
       "    <tr>\n",
       "      <th>time</th>\n",
       "      <th></th>\n",
       "    </tr>\n",
       "  </thead>\n",
       "  <tbody>\n",
       "    <tr>\n",
       "      <th>2020-04-10 10:31:35+00:00</th>\n",
       "      <td>96.666667</td>\n",
       "    </tr>\n",
       "    <tr>\n",
       "      <th>2020-04-10 10:32:35+00:00</th>\n",
       "      <td>96.666667</td>\n",
       "    </tr>\n",
       "    <tr>\n",
       "      <th>2020-04-10 10:33:35+00:00</th>\n",
       "      <td>93.333333</td>\n",
       "    </tr>\n",
       "    <tr>\n",
       "      <th>2020-04-10 10:34:35+00:00</th>\n",
       "      <td>100.000000</td>\n",
       "    </tr>\n",
       "    <tr>\n",
       "      <th>2020-04-10 10:35:36+00:00</th>\n",
       "      <td>103.333333</td>\n",
       "    </tr>\n",
       "    <tr>\n",
       "      <th>...</th>\n",
       "      <td>...</td>\n",
       "    </tr>\n",
       "    <tr>\n",
       "      <th>2022-09-06 17:32:35+00:00</th>\n",
       "      <td>0.000000</td>\n",
       "    </tr>\n",
       "    <tr>\n",
       "      <th>2022-09-06 17:33:35+00:00</th>\n",
       "      <td>3.333333</td>\n",
       "    </tr>\n",
       "    <tr>\n",
       "      <th>2022-09-06 17:34:35+00:00</th>\n",
       "      <td>0.000000</td>\n",
       "    </tr>\n",
       "    <tr>\n",
       "      <th>2022-09-06 17:35:35+00:00</th>\n",
       "      <td>0.000000</td>\n",
       "    </tr>\n",
       "    <tr>\n",
       "      <th>2022-09-06 17:36:35+00:00</th>\n",
       "      <td>3.333333</td>\n",
       "    </tr>\n",
       "  </tbody>\n",
       "</table>\n",
       "<p>1266008 rows × 1 columns</p>\n",
       "</div>"
      ],
      "text/plain": [
       "                           production\n",
       "time                                 \n",
       "2020-04-10 10:31:35+00:00   96.666667\n",
       "2020-04-10 10:32:35+00:00   96.666667\n",
       "2020-04-10 10:33:35+00:00   93.333333\n",
       "2020-04-10 10:34:35+00:00  100.000000\n",
       "2020-04-10 10:35:36+00:00  103.333333\n",
       "...                               ...\n",
       "2022-09-06 17:32:35+00:00    0.000000\n",
       "2022-09-06 17:33:35+00:00    3.333333\n",
       "2022-09-06 17:34:35+00:00    0.000000\n",
       "2022-09-06 17:35:35+00:00    0.000000\n",
       "2022-09-06 17:36:35+00:00    3.333333\n",
       "\n",
       "[1266008 rows x 1 columns]"
      ]
     },
     "execution_count": 3,
     "metadata": {},
     "output_type": "execute_result"
    }
   ],
   "source": [
    "df_SP"
   ]
  },
  {
   "cell_type": "code",
   "execution_count": 4,
   "metadata": {},
   "outputs": [
    {
     "data": {
      "text/plain": [
       "production    0\n",
       "dtype: int64"
      ]
     },
     "execution_count": 4,
     "metadata": {},
     "output_type": "execute_result"
    }
   ],
   "source": [
    "# Doe hier je verder data verkenning\n",
    "df_SP.isna().sum()"
   ]
  },
  {
   "cell_type": "code",
   "execution_count": 5,
   "metadata": {},
   "outputs": [
    {
     "data": {
      "text/plain": [
       "production    float64\n",
       "dtype: object"
      ]
     },
     "execution_count": 5,
     "metadata": {},
     "output_type": "execute_result"
    }
   ],
   "source": [
    "df_SP.dtypes"
   ]
  },
  {
   "cell_type": "code",
   "execution_count": 6,
   "metadata": {},
   "outputs": [
    {
     "data": {
      "text/plain": [
       "(1266008, 1)"
      ]
     },
     "execution_count": 6,
     "metadata": {},
     "output_type": "execute_result"
    }
   ],
   "source": [
    "df_SP.shape"
   ]
  },
  {
   "cell_type": "code",
   "execution_count": 7,
   "metadata": {},
   "outputs": [
    {
     "data": {
      "text/html": [
       "<div>\n",
       "<style scoped>\n",
       "    .dataframe tbody tr th:only-of-type {\n",
       "        vertical-align: middle;\n",
       "    }\n",
       "\n",
       "    .dataframe tbody tr th {\n",
       "        vertical-align: top;\n",
       "    }\n",
       "\n",
       "    .dataframe thead th {\n",
       "        text-align: right;\n",
       "    }\n",
       "</style>\n",
       "<table border=\"1\" class=\"dataframe\">\n",
       "  <thead>\n",
       "    <tr style=\"text-align: right;\">\n",
       "      <th></th>\n",
       "      <th>count</th>\n",
       "      <th>mean</th>\n",
       "      <th>std</th>\n",
       "      <th>min</th>\n",
       "      <th>25%</th>\n",
       "      <th>50%</th>\n",
       "      <th>75%</th>\n",
       "      <th>max</th>\n",
       "    </tr>\n",
       "  </thead>\n",
       "  <tbody>\n",
       "    <tr>\n",
       "      <th>production</th>\n",
       "      <td>1266008.0</td>\n",
       "      <td>21.812874</td>\n",
       "      <td>77.228418</td>\n",
       "      <td>0.0</td>\n",
       "      <td>0.0</td>\n",
       "      <td>0.0</td>\n",
       "      <td>20.0</td>\n",
       "      <td>2206.666667</td>\n",
       "    </tr>\n",
       "  </tbody>\n",
       "</table>\n",
       "</div>"
      ],
      "text/plain": [
       "                count       mean        std  min  25%  50%   75%          max\n",
       "production  1266008.0  21.812874  77.228418  0.0  0.0  0.0  20.0  2206.666667"
      ]
     },
     "execution_count": 7,
     "metadata": {},
     "output_type": "execute_result"
    }
   ],
   "source": [
    "df_SP.describe().transpose()"
   ]
  },
  {
   "cell_type": "code",
   "execution_count": 8,
   "metadata": {},
   "outputs": [
    {
     "data": {
      "image/png": "[encoded data removed]",
      "text/plain": [
       "<Figure size 432x288 with 1 Axes>"
      ]
     },
     "metadata": {
      "needs_background": "light"
     },
     "output_type": "display_data"
    }
   ],
   "source": [
    "temp_plot = df_SP.plot()"
   ]
  },
  {
   "cell_type": "markdown",
   "metadata": {},
   "source": [
    "Er ontbreekt geen data. Wat mij wel opvalt is dat er veel spikes zijn en dat de productie van stroom opeens twee tot drie keer lager is na juli/augustus. Blijkbaar komt dit een regeling dat huizen niet te veel stroom mogen produceren, omdat dit voor overbelasting zorgt voor het stroomnet."
   ]
  },
  {
   "cell_type": "code",
   "execution_count": 9,
   "metadata": {},
   "outputs": [
    {
     "data": {
      "image/png": "[encoded data removed]",
      "text/plain": [
       "<Figure size 432x288 with 1 Axes>"
      ]
     },
     "metadata": {
      "needs_background": "light"
     },
     "output_type": "display_data"
    }
   ],
   "source": [
    "temp_plot = df_SP.loc['01-01-2021':'01-06-2021'].plot()"
   ]
  },
  {
   "cell_type": "code",
   "execution_count": 10,
   "metadata": {},
   "outputs": [
    {
     "data": {
      "image/png": "[encoded data removed]",
      "text/plain": [
       "<Figure size 432x288 with 1 Axes>"
      ]
     },
     "metadata": {
      "needs_background": "light"
     },
     "output_type": "display_data"
    }
   ],
   "source": [
    "temp_plot = df_SP.loc['02-01-2021':'02-06-2021'].plot()"
   ]
  },
  {
   "cell_type": "code",
   "execution_count": 11,
   "metadata": {},
   "outputs": [
    {
     "data": {
      "image/png": "[encoded data removed]",
      "text/plain": [
       "<Figure size 432x288 with 1 Axes>"
      ]
     },
     "metadata": {
      "needs_background": "light"
     },
     "output_type": "display_data"
    }
   ],
   "source": [
    "temp_plot = df_SP.loc['03-01-2021':'03-06-2021'].plot()"
   ]
  },
  {
   "cell_type": "code",
   "execution_count": 12,
   "metadata": {},
   "outputs": [
    {
     "data": {
      "image/png": "[encoded data removed]",
      "text/plain": [
       "<Figure size 432x288 with 1 Axes>"
      ]
     },
     "metadata": {
      "needs_background": "light"
     },
     "output_type": "display_data"
    }
   ],
   "source": [
    "temp_plot = df_SP.loc['04-01-2021':'04-06-2021'].plot()"
   ]
  },
  {
   "cell_type": "code",
   "execution_count": 13,
   "metadata": {},
   "outputs": [
    {
     "data": {
      "image/png": "[encoded data removed]",
      "text/plain": [
       "<Figure size 432x288 with 1 Axes>"
      ]
     },
     "metadata": {
      "needs_background": "light"
     },
     "output_type": "display_data"
    }
   ],
   "source": [
    "temp_plot = df_SP.loc['05-01-2021':'05-06-2021'].plot()"
   ]
  },
  {
   "cell_type": "code",
   "execution_count": 14,
   "metadata": {},
   "outputs": [
    {
     "data": {
      "image/png": "[encoded data removed]",
      "text/plain": [
       "<Figure size 432x288 with 1 Axes>"
      ]
     },
     "metadata": {
      "needs_background": "light"
     },
     "output_type": "display_data"
    }
   ],
   "source": [
    "temp_plot = df_SP.loc['06-01-2021':'06-06-2021'].plot()"
   ]
  },
  {
   "cell_type": "code",
   "execution_count": 15,
   "metadata": {},
   "outputs": [
    {
     "data": {
      "image/png": "[encoded data removed]",
      "text/plain": [
       "<Figure size 432x288 with 1 Axes>"
      ]
     },
     "metadata": {
      "needs_background": "light"
     },
     "output_type": "display_data"
    }
   ],
   "source": [
    "temp_plot = df_SP.loc['07-01-2021':'07-06-2021'].plot()"
   ]
  },
  {
   "cell_type": "markdown",
   "metadata": {},
   "source": [
    "Wanneer ik per eerste week van de maand kijk valt het mij op dat de pieken van de productie in de zomer niet per se hoger ligt vergeleken met de winter. Het valt mij wel op dat er veel minder metingen zijn waar 0 op te zien is in de zomer vergeleken met de winter. "
   ]
  },
  {
   "cell_type": "markdown",
   "metadata": {},
   "source": [
    "## Weerdataset ophalen"
   ]
  },
  {
   "cell_type": "code",
   "execution_count": 16,
   "metadata": {
    "tags": []
   },
   "outputs": [],
   "source": [
    "# Maak gebruik van de historicdutchweather.get_local_weather functie of importeer rechtstreeks de data vanaf de KNMI site\n",
    "lat = 52.5012462\n",
    "lon = 6.0789505"
   ]
  },
  {
   "cell_type": "code",
   "execution_count": 17,
   "metadata": {},
   "outputs": [],
   "source": [
    "df_W = pd.read_csv('weather.csv')\n",
    "df_W['time'] = pd.to_datetime(df_W['time'])\n",
    "df_W = df_W.set_index('time')"
   ]
  },
  {
   "cell_type": "code",
   "execution_count": 18,
   "metadata": {},
   "outputs": [
    {
     "data": {
      "text/html": [
       "<div>\n",
       "<style scoped>\n",
       "    .dataframe tbody tr th:only-of-type {\n",
       "        vertical-align: middle;\n",
       "    }\n",
       "\n",
       "    .dataframe tbody tr th {\n",
       "        vertical-align: top;\n",
       "    }\n",
       "\n",
       "    .dataframe thead th {\n",
       "        text-align: right;\n",
       "    }\n",
       "</style>\n",
       "<table border=\"1\" class=\"dataframe\">\n",
       "  <thead>\n",
       "    <tr style=\"text-align: right;\">\n",
       "      <th></th>\n",
       "      <th>T</th>\n",
       "      <th>FH</th>\n",
       "      <th>DD</th>\n",
       "      <th>Q</th>\n",
       "      <th>DR</th>\n",
       "      <th>RH</th>\n",
       "      <th>U</th>\n",
       "      <th>N</th>\n",
       "    </tr>\n",
       "    <tr>\n",
       "      <th>time</th>\n",
       "      <th></th>\n",
       "      <th></th>\n",
       "      <th></th>\n",
       "      <th></th>\n",
       "      <th></th>\n",
       "      <th></th>\n",
       "      <th></th>\n",
       "      <th></th>\n",
       "    </tr>\n",
       "  </thead>\n",
       "  <tbody>\n",
       "    <tr>\n",
       "      <th>2020-04-10 00:00:00+00:00</th>\n",
       "      <td>4.461015</td>\n",
       "      <td>2.604330</td>\n",
       "      <td>56.449253</td>\n",
       "      <td>-1.482197e-323</td>\n",
       "      <td>-1.482197e-323</td>\n",
       "      <td>-1.482197e-323</td>\n",
       "      <td>85.211640</td>\n",
       "      <td>1.947349</td>\n",
       "    </tr>\n",
       "    <tr>\n",
       "      <th>2020-04-10 01:00:00+00:00</th>\n",
       "      <td>4.014926</td>\n",
       "      <td>2.604330</td>\n",
       "      <td>58.753726</td>\n",
       "      <td>-1.482197e-323</td>\n",
       "      <td>-1.482197e-323</td>\n",
       "      <td>-1.482197e-323</td>\n",
       "      <td>89.105820</td>\n",
       "      <td>7.088386</td>\n",
       "    </tr>\n",
       "    <tr>\n",
       "      <th>2020-04-10 02:00:00+00:00</th>\n",
       "      <td>3.437970</td>\n",
       "      <td>2.249255</td>\n",
       "      <td>62.304473</td>\n",
       "      <td>-1.482197e-323</td>\n",
       "      <td>-1.482197e-323</td>\n",
       "      <td>-1.482197e-323</td>\n",
       "      <td>91.230447</td>\n",
       "      <td>8.000000</td>\n",
       "    </tr>\n",
       "    <tr>\n",
       "      <th>2020-04-10 03:00:00+00:00</th>\n",
       "      <td>3.019567</td>\n",
       "      <td>2.124627</td>\n",
       "      <td>54.608945</td>\n",
       "      <td>-1.482197e-323</td>\n",
       "      <td>-1.482197e-323</td>\n",
       "      <td>-1.482197e-323</td>\n",
       "      <td>92.124627</td>\n",
       "      <td>8.000000</td>\n",
       "    </tr>\n",
       "    <tr>\n",
       "      <th>2020-04-10 04:00:00+00:00</th>\n",
       "      <td>3.175657</td>\n",
       "      <td>2.355075</td>\n",
       "      <td>60.000000</td>\n",
       "      <td>6.449253e-01</td>\n",
       "      <td>-1.482197e-323</td>\n",
       "      <td>-1.482197e-323</td>\n",
       "      <td>92.355075</td>\n",
       "      <td>8.000000</td>\n",
       "    </tr>\n",
       "    <tr>\n",
       "      <th>...</th>\n",
       "      <td>...</td>\n",
       "      <td>...</td>\n",
       "      <td>...</td>\n",
       "      <td>...</td>\n",
       "      <td>...</td>\n",
       "      <td>...</td>\n",
       "      <td>...</td>\n",
       "      <td>...</td>\n",
       "    </tr>\n",
       "    <tr>\n",
       "      <th>2022-09-05 19:00:00+00:00</th>\n",
       "      <td>18.193627</td>\n",
       "      <td>0.834777</td>\n",
       "      <td>74.608945</td>\n",
       "      <td>-1.482197e-323</td>\n",
       "      <td>-1.482197e-323</td>\n",
       "      <td>-1.482197e-323</td>\n",
       "      <td>83.281190</td>\n",
       "      <td>7.087373</td>\n",
       "    </tr>\n",
       "    <tr>\n",
       "      <th>2022-09-05 20:00:00+00:00</th>\n",
       "      <td>18.629837</td>\n",
       "      <td>1.728957</td>\n",
       "      <td>104.143374</td>\n",
       "      <td>-1.482197e-323</td>\n",
       "      <td>-1.482197e-323</td>\n",
       "      <td>-1.482197e-323</td>\n",
       "      <td>77.099999</td>\n",
       "      <td>8.000000</td>\n",
       "    </tr>\n",
       "    <tr>\n",
       "      <th>2022-09-05 21:00:00+00:00</th>\n",
       "      <td>18.296253</td>\n",
       "      <td>1.853584</td>\n",
       "      <td>127.376177</td>\n",
       "      <td>-1.482197e-323</td>\n",
       "      <td>-1.482197e-323</td>\n",
       "      <td>-1.482197e-323</td>\n",
       "      <td>81.412843</td>\n",
       "      <td>8.000000</td>\n",
       "    </tr>\n",
       "    <tr>\n",
       "      <th>2022-09-05 22:00:00+00:00</th>\n",
       "      <td>19.623627</td>\n",
       "      <td>1.604330</td>\n",
       "      <td>291.028392</td>\n",
       "      <td>-1.482197e-323</td>\n",
       "      <td>-1.482197e-323</td>\n",
       "      <td>-1.482197e-323</td>\n",
       "      <td>76.273883</td>\n",
       "      <td>8.000000</td>\n",
       "    </tr>\n",
       "    <tr>\n",
       "      <th>2022-09-05 23:00:00+00:00</th>\n",
       "      <td>19.506522</td>\n",
       "      <td>1.875373</td>\n",
       "      <td>291.662367</td>\n",
       "      <td>-1.482197e-323</td>\n",
       "      <td>-1.482197e-323</td>\n",
       "      <td>-1.482197e-323</td>\n",
       "      <td>82.834777</td>\n",
       "      <td>8.000000</td>\n",
       "    </tr>\n",
       "  </tbody>\n",
       "</table>\n",
       "<p>21096 rows × 8 columns</p>\n",
       "</div>"
      ],
      "text/plain": [
       "                                   T        FH          DD              Q  \\\n",
       "time                                                                        \n",
       "2020-04-10 00:00:00+00:00   4.461015  2.604330   56.449253 -1.482197e-323   \n",
       "2020-04-10 01:00:00+00:00   4.014926  2.604330   58.753726 -1.482197e-323   \n",
       "2020-04-10 02:00:00+00:00   3.437970  2.249255   62.304473 -1.482197e-323   \n",
       "2020-04-10 03:00:00+00:00   3.019567  2.124627   54.608945 -1.482197e-323   \n",
       "2020-04-10 04:00:00+00:00   3.175657  2.355075   60.000000   6.449253e-01   \n",
       "...                              ...       ...         ...            ...   \n",
       "2022-09-05 19:00:00+00:00  18.193627  0.834777   74.608945 -1.482197e-323   \n",
       "2022-09-05 20:00:00+00:00  18.629837  1.728957  104.143374 -1.482197e-323   \n",
       "2022-09-05 21:00:00+00:00  18.296253  1.853584  127.376177 -1.482197e-323   \n",
       "2022-09-05 22:00:00+00:00  19.623627  1.604330  291.028392 -1.482197e-323   \n",
       "2022-09-05 23:00:00+00:00  19.506522  1.875373  291.662367 -1.482197e-323   \n",
       "\n",
       "                                      DR             RH          U         N  \n",
       "time                                                                          \n",
       "2020-04-10 00:00:00+00:00 -1.482197e-323 -1.482197e-323  85.211640  1.947349  \n",
       "2020-04-10 01:00:00+00:00 -1.482197e-323 -1.482197e-323  89.105820  7.088386  \n",
       "2020-04-10 02:00:00+00:00 -1.482197e-323 -1.482197e-323  91.230447  8.000000  \n",
       "2020-04-10 03:00:00+00:00 -1.482197e-323 -1.482197e-323  92.124627  8.000000  \n",
       "2020-04-10 04:00:00+00:00 -1.482197e-323 -1.482197e-323  92.355075  8.000000  \n",
       "...                                  ...            ...        ...       ...  \n",
       "2022-09-05 19:00:00+00:00 -1.482197e-323 -1.482197e-323  83.281190  7.087373  \n",
       "2022-09-05 20:00:00+00:00 -1.482197e-323 -1.482197e-323  77.099999  8.000000  \n",
       "2022-09-05 21:00:00+00:00 -1.482197e-323 -1.482197e-323  81.412843  8.000000  \n",
       "2022-09-05 22:00:00+00:00 -1.482197e-323 -1.482197e-323  76.273883  8.000000  \n",
       "2022-09-05 23:00:00+00:00 -1.482197e-323 -1.482197e-323  82.834777  8.000000  \n",
       "\n",
       "[21096 rows x 8 columns]"
      ]
     },
     "execution_count": 18,
     "metadata": {},
     "output_type": "execute_result"
    }
   ],
   "source": [
    "df_W"
   ]
  },
  {
   "cell_type": "markdown",
   "metadata": {},
   "source": [
    "T = Temperatuur, FH = Uurgemiddelde windsnelheid, DD Windrichting, Q = Globale Straling, DR = Duur van Neerslag, RH = Uursom van neerslag, U = Relatieve vochtigheid en N = Bewolking\n",
    "\n",
    "Dus voor deze opdracht ga ik alleen de data gebruiken over de bewolking"
   ]
  },
  {
   "cell_type": "code",
   "execution_count": 19,
   "metadata": {},
   "outputs": [],
   "source": [
    "df_W = df_W[['N']]"
   ]
  },
  {
   "cell_type": "code",
   "execution_count": 20,
   "metadata": {},
   "outputs": [
    {
     "data": {
      "image/png": "[encoded data removed]",
      "text/plain": [
       "<Figure size 432x288 with 1 Axes>"
      ]
     },
     "metadata": {
      "needs_background": "light"
     },
     "output_type": "display_data"
    }
   ],
   "source": [
    "temp_plot = df_W.plot()"
   ]
  },
  {
   "cell_type": "code",
   "execution_count": 21,
   "metadata": {},
   "outputs": [
    {
     "data": {
      "text/html": [
       "<div>\n",
       "<style scoped>\n",
       "    .dataframe tbody tr th:only-of-type {\n",
       "        vertical-align: middle;\n",
       "    }\n",
       "\n",
       "    .dataframe tbody tr th {\n",
       "        vertical-align: top;\n",
       "    }\n",
       "\n",
       "    .dataframe thead th {\n",
       "        text-align: right;\n",
       "    }\n",
       "</style>\n",
       "<table border=\"1\" class=\"dataframe\">\n",
       "  <thead>\n",
       "    <tr style=\"text-align: right;\">\n",
       "      <th></th>\n",
       "      <th>count</th>\n",
       "      <th>mean</th>\n",
       "      <th>std</th>\n",
       "      <th>min</th>\n",
       "      <th>25%</th>\n",
       "      <th>50%</th>\n",
       "      <th>75%</th>\n",
       "      <th>max</th>\n",
       "    </tr>\n",
       "  </thead>\n",
       "  <tbody>\n",
       "    <tr>\n",
       "      <th>N</th>\n",
       "      <td>21025.0</td>\n",
       "      <td>5.82491</td>\n",
       "      <td>2.836864</td>\n",
       "      <td>1.867937e-317</td>\n",
       "      <td>3.964266</td>\n",
       "      <td>7.543686</td>\n",
       "      <td>8.0</td>\n",
       "      <td>9.0</td>\n",
       "    </tr>\n",
       "  </tbody>\n",
       "</table>\n",
       "</div>"
      ],
      "text/plain": [
       "     count     mean       std            min       25%       50%  75%  max\n",
       "N  21025.0  5.82491  2.836864  1.867937e-317  3.964266  7.543686  8.0  9.0"
      ]
     },
     "execution_count": 21,
     "metadata": {},
     "output_type": "execute_result"
    }
   ],
   "source": [
    "df_W.describe().transpose()"
   ]
  },
  {
   "cell_type": "markdown",
   "metadata": {},
   "source": [
    "## Data Preparation"
   ]
  },
  {
   "cell_type": "markdown",
   "metadata": {},
   "source": [
    "## Resampling naar xx minuten"
   ]
  },
  {
   "cell_type": "code",
   "execution_count": 22,
   "metadata": {
    "tags": []
   },
   "outputs": [
    {
     "data": {
      "text/html": [
       "<div>\n",
       "<style scoped>\n",
       "    .dataframe tbody tr th:only-of-type {\n",
       "        vertical-align: middle;\n",
       "    }\n",
       "\n",
       "    .dataframe tbody tr th {\n",
       "        vertical-align: top;\n",
       "    }\n",
       "\n",
       "    .dataframe thead th {\n",
       "        text-align: right;\n",
       "    }\n",
       "</style>\n",
       "<table border=\"1\" class=\"dataframe\">\n",
       "  <thead>\n",
       "    <tr style=\"text-align: right;\">\n",
       "      <th></th>\n",
       "      <th>production</th>\n",
       "    </tr>\n",
       "    <tr>\n",
       "      <th>time</th>\n",
       "      <th></th>\n",
       "    </tr>\n",
       "  </thead>\n",
       "  <tbody>\n",
       "    <tr>\n",
       "      <th>2020-04-10 10:31:35+00:00</th>\n",
       "      <td>96.666667</td>\n",
       "    </tr>\n",
       "    <tr>\n",
       "      <th>2020-04-10 10:41:35+00:00</th>\n",
       "      <td>80.000000</td>\n",
       "    </tr>\n",
       "    <tr>\n",
       "      <th>2020-04-10 10:51:35+00:00</th>\n",
       "      <td>86.666667</td>\n",
       "    </tr>\n",
       "    <tr>\n",
       "      <th>2020-04-10 11:01:35+00:00</th>\n",
       "      <td>90.000000</td>\n",
       "    </tr>\n",
       "    <tr>\n",
       "      <th>2020-04-10 11:11:35+00:00</th>\n",
       "      <td>86.666667</td>\n",
       "    </tr>\n",
       "    <tr>\n",
       "      <th>...</th>\n",
       "      <td>...</td>\n",
       "    </tr>\n",
       "    <tr>\n",
       "      <th>2022-09-05 22:11:35+00:00</th>\n",
       "      <td>0.000000</td>\n",
       "    </tr>\n",
       "    <tr>\n",
       "      <th>2022-09-05 22:21:35+00:00</th>\n",
       "      <td>0.000000</td>\n",
       "    </tr>\n",
       "    <tr>\n",
       "      <th>2022-09-05 22:31:35+00:00</th>\n",
       "      <td>0.000000</td>\n",
       "    </tr>\n",
       "    <tr>\n",
       "      <th>2022-09-05 22:41:35+00:00</th>\n",
       "      <td>0.000000</td>\n",
       "    </tr>\n",
       "    <tr>\n",
       "      <th>2022-09-05 22:51:35+00:00</th>\n",
       "      <td>0.000000</td>\n",
       "    </tr>\n",
       "  </tbody>\n",
       "</table>\n",
       "<p>126507 rows × 1 columns</p>\n",
       "</div>"
      ],
      "text/plain": [
       "                           production\n",
       "time                                 \n",
       "2020-04-10 10:31:35+00:00   96.666667\n",
       "2020-04-10 10:41:35+00:00   80.000000\n",
       "2020-04-10 10:51:35+00:00   86.666667\n",
       "2020-04-10 11:01:35+00:00   90.000000\n",
       "2020-04-10 11:11:35+00:00   86.666667\n",
       "...                               ...\n",
       "2022-09-05 22:11:35+00:00    0.000000\n",
       "2022-09-05 22:21:35+00:00    0.000000\n",
       "2022-09-05 22:31:35+00:00    0.000000\n",
       "2022-09-05 22:41:35+00:00    0.000000\n",
       "2022-09-05 22:51:35+00:00    0.000000\n",
       "\n",
       "[126507 rows x 1 columns]"
      ]
     },
     "execution_count": 22,
     "metadata": {},
     "output_type": "execute_result"
    }
   ],
   "source": [
    "# Resample je data naar 5 of 10 minuten\n",
    "df_10m = df_SP[df_W.index[0]:df_W.index[-1]]\n",
    "df_10m = df_10m.resample('10T', origin=df_10m.index[0]).median()\n",
    "df_10m[df_10m['production'] > 200] = 50 # Remove single wrong datapoint\n",
    "df_10m"
   ]
  },
  {
   "cell_type": "code",
   "execution_count": 23,
   "metadata": {},
   "outputs": [
    {
     "data": {
      "text/html": [
       "<div>\n",
       "<style scoped>\n",
       "    .dataframe tbody tr th:only-of-type {\n",
       "        vertical-align: middle;\n",
       "    }\n",
       "\n",
       "    .dataframe tbody tr th {\n",
       "        vertical-align: top;\n",
       "    }\n",
       "\n",
       "    .dataframe thead th {\n",
       "        text-align: right;\n",
       "    }\n",
       "</style>\n",
       "<table border=\"1\" class=\"dataframe\">\n",
       "  <thead>\n",
       "    <tr style=\"text-align: right;\">\n",
       "      <th></th>\n",
       "      <th>production</th>\n",
       "    </tr>\n",
       "    <tr>\n",
       "      <th>time</th>\n",
       "      <th></th>\n",
       "    </tr>\n",
       "  </thead>\n",
       "  <tbody>\n",
       "    <tr>\n",
       "      <th>2020-04-10 10:31:35+00:00</th>\n",
       "      <td>50.000000</td>\n",
       "    </tr>\n",
       "    <tr>\n",
       "      <th>2020-04-10 10:41:35+00:00</th>\n",
       "      <td>5.163978</td>\n",
       "    </tr>\n",
       "    <tr>\n",
       "      <th>2020-04-10 10:51:35+00:00</th>\n",
       "      <td>4.444444</td>\n",
       "    </tr>\n",
       "    <tr>\n",
       "      <th>2020-04-10 11:01:35+00:00</th>\n",
       "      <td>50.000000</td>\n",
       "    </tr>\n",
       "    <tr>\n",
       "      <th>2020-04-10 11:11:35+00:00</th>\n",
       "      <td>3.865006</td>\n",
       "    </tr>\n",
       "  </tbody>\n",
       "</table>\n",
       "</div>"
      ],
      "text/plain": [
       "                           production\n",
       "time                                 \n",
       "2020-04-10 10:31:35+00:00   50.000000\n",
       "2020-04-10 10:41:35+00:00    5.163978\n",
       "2020-04-10 10:51:35+00:00    4.444444\n",
       "2020-04-10 11:01:35+00:00   50.000000\n",
       "2020-04-10 11:11:35+00:00    3.865006"
      ]
     },
     "execution_count": 23,
     "metadata": {},
     "output_type": "execute_result"
    }
   ],
   "source": [
    "df_10std = df_SP[df_W.index[0]:df_W.index[-1]]\n",
    "df_10std = df_10std.resample('10T', origin=df_10std.index[0]).std()\n",
    "df_10std[df_10std['production'] > 200] = 50 # Remove single wrong datapoint\n",
    "df_10std.head()"
   ]
  },
  {
   "cell_type": "code",
   "execution_count": 24,
   "metadata": {},
   "outputs": [
    {
     "data": {
      "text/html": [
       "<div>\n",
       "<style scoped>\n",
       "    .dataframe tbody tr th:only-of-type {\n",
       "        vertical-align: middle;\n",
       "    }\n",
       "\n",
       "    .dataframe tbody tr th {\n",
       "        vertical-align: top;\n",
       "    }\n",
       "\n",
       "    .dataframe thead th {\n",
       "        text-align: right;\n",
       "    }\n",
       "</style>\n",
       "<table border=\"1\" class=\"dataframe\">\n",
       "  <thead>\n",
       "    <tr style=\"text-align: right;\">\n",
       "      <th></th>\n",
       "      <th>production</th>\n",
       "    </tr>\n",
       "    <tr>\n",
       "      <th>time</th>\n",
       "      <th></th>\n",
       "    </tr>\n",
       "  </thead>\n",
       "  <tbody>\n",
       "    <tr>\n",
       "      <th>2020-04-10 10:31:35+00:00</th>\n",
       "      <td>93.333333</td>\n",
       "    </tr>\n",
       "    <tr>\n",
       "      <th>2020-04-10 10:46:35+00:00</th>\n",
       "      <td>86.666667</td>\n",
       "    </tr>\n",
       "    <tr>\n",
       "      <th>2020-04-10 11:01:35+00:00</th>\n",
       "      <td>90.000000</td>\n",
       "    </tr>\n",
       "    <tr>\n",
       "      <th>2020-04-10 11:16:35+00:00</th>\n",
       "      <td>81.666667</td>\n",
       "    </tr>\n",
       "    <tr>\n",
       "      <th>2020-04-10 11:31:35+00:00</th>\n",
       "      <td>61.666667</td>\n",
       "    </tr>\n",
       "    <tr>\n",
       "      <th>...</th>\n",
       "      <td>...</td>\n",
       "    </tr>\n",
       "    <tr>\n",
       "      <th>2022-09-05 21:46:35+00:00</th>\n",
       "      <td>0.000000</td>\n",
       "    </tr>\n",
       "    <tr>\n",
       "      <th>2022-09-05 22:01:35+00:00</th>\n",
       "      <td>0.000000</td>\n",
       "    </tr>\n",
       "    <tr>\n",
       "      <th>2022-09-05 22:16:35+00:00</th>\n",
       "      <td>0.000000</td>\n",
       "    </tr>\n",
       "    <tr>\n",
       "      <th>2022-09-05 22:31:35+00:00</th>\n",
       "      <td>0.000000</td>\n",
       "    </tr>\n",
       "    <tr>\n",
       "      <th>2022-09-05 22:46:35+00:00</th>\n",
       "      <td>0.000000</td>\n",
       "    </tr>\n",
       "  </tbody>\n",
       "</table>\n",
       "<p>84338 rows × 1 columns</p>\n",
       "</div>"
      ],
      "text/plain": [
       "                           production\n",
       "time                                 \n",
       "2020-04-10 10:31:35+00:00   93.333333\n",
       "2020-04-10 10:46:35+00:00   86.666667\n",
       "2020-04-10 11:01:35+00:00   90.000000\n",
       "2020-04-10 11:16:35+00:00   81.666667\n",
       "2020-04-10 11:31:35+00:00   61.666667\n",
       "...                               ...\n",
       "2022-09-05 21:46:35+00:00    0.000000\n",
       "2022-09-05 22:01:35+00:00    0.000000\n",
       "2022-09-05 22:16:35+00:00    0.000000\n",
       "2022-09-05 22:31:35+00:00    0.000000\n",
       "2022-09-05 22:46:35+00:00    0.000000\n",
       "\n",
       "[84338 rows x 1 columns]"
      ]
     },
     "execution_count": 24,
     "metadata": {},
     "output_type": "execute_result"
    }
   ],
   "source": [
    "df_15m = df_SP[df_W.index[0]:df_W.index[-1]]\n",
    "df_15m = df_15m.resample('15T', origin=df_15m.index[0]).median()\n",
    "df_15m[df_15m['production'] > 200] = 50 # Remove single wrong datapoint\n",
    "df_15m"
   ]
  },
  {
   "cell_type": "code",
   "execution_count": 25,
   "metadata": {},
   "outputs": [
    {
     "data": {
      "text/html": [
       "<div>\n",
       "<style scoped>\n",
       "    .dataframe tbody tr th:only-of-type {\n",
       "        vertical-align: middle;\n",
       "    }\n",
       "\n",
       "    .dataframe tbody tr th {\n",
       "        vertical-align: top;\n",
       "    }\n",
       "\n",
       "    .dataframe thead th {\n",
       "        text-align: right;\n",
       "    }\n",
       "</style>\n",
       "<table border=\"1\" class=\"dataframe\">\n",
       "  <thead>\n",
       "    <tr style=\"text-align: right;\">\n",
       "      <th></th>\n",
       "      <th>production</th>\n",
       "    </tr>\n",
       "    <tr>\n",
       "      <th>time</th>\n",
       "      <th></th>\n",
       "    </tr>\n",
       "  </thead>\n",
       "  <tbody>\n",
       "    <tr>\n",
       "      <th>2020-04-10 10:31:35+00:00</th>\n",
       "      <td>191.860013</td>\n",
       "    </tr>\n",
       "    <tr>\n",
       "      <th>2020-04-10 10:46:35+00:00</th>\n",
       "      <td>3.751543</td>\n",
       "    </tr>\n",
       "    <tr>\n",
       "      <th>2020-04-10 11:01:35+00:00</th>\n",
       "      <td>50.000000</td>\n",
       "    </tr>\n",
       "    <tr>\n",
       "      <th>2020-04-10 11:16:35+00:00</th>\n",
       "      <td>5.927806</td>\n",
       "    </tr>\n",
       "    <tr>\n",
       "      <th>2020-04-10 11:31:35+00:00</th>\n",
       "      <td>50.000000</td>\n",
       "    </tr>\n",
       "  </tbody>\n",
       "</table>\n",
       "</div>"
      ],
      "text/plain": [
       "                           production\n",
       "time                                 \n",
       "2020-04-10 10:31:35+00:00  191.860013\n",
       "2020-04-10 10:46:35+00:00    3.751543\n",
       "2020-04-10 11:01:35+00:00   50.000000\n",
       "2020-04-10 11:16:35+00:00    5.927806\n",
       "2020-04-10 11:31:35+00:00   50.000000"
      ]
     },
     "execution_count": 25,
     "metadata": {},
     "output_type": "execute_result"
    }
   ],
   "source": [
    "df_15std = df_SP[df_W.index[0]:df_W.index[-1]]\n",
    "df_15std = df_15std.resample('15T', origin=df_15std.index[0]).std()\n",
    "df_15std[df_15std['production'] > 200] = 50 # Remove single wrong datapoint\n",
    "df_15std.head()"
   ]
  },
  {
   "cell_type": "markdown",
   "metadata": {},
   "source": [
    "Ik ga de dataframe df_10m gebruiken. Deze dataframe is geresampled op basis van de mean en voor elke 10 minuten. Ik heb hiervoor gekomen, omdat het gemiddelde heel erg onbetrouwbaar oogt. Het gaat van 191 naar 3 naar 50 naar 5 en weer terug naar 50. "
   ]
  },
  {
   "cell_type": "markdown",
   "metadata": {},
   "source": [
    "## Weer en zonnepanelen combineren"
   ]
  },
  {
   "cell_type": "code",
   "execution_count": 26,
   "metadata": {
    "tags": []
   },
   "outputs": [],
   "source": [
    "# Combineer de zonnepaneel en weerdata\n",
    "# Interpoleer de ontbrekende waarden, zodat de weerdata ook per xx minuten beschikbaar is\n",
    "df_combined = pd.DataFrame({'production': df_10m['production'], 'weather': df_W['N']})\n",
    "df_combined['weather'] = df_combined['weather'].astype(float).interpolate(method='time')\n",
    "df_combined = df_combined[df_combined['production'].notna()]"
   ]
  },
  {
   "cell_type": "code",
   "execution_count": 27,
   "metadata": {},
   "outputs": [
    {
     "data": {
      "text/html": [
       "<div>\n",
       "<style scoped>\n",
       "    .dataframe tbody tr th:only-of-type {\n",
       "        vertical-align: middle;\n",
       "    }\n",
       "\n",
       "    .dataframe tbody tr th {\n",
       "        vertical-align: top;\n",
       "    }\n",
       "\n",
       "    .dataframe thead th {\n",
       "        text-align: right;\n",
       "    }\n",
       "</style>\n",
       "<table border=\"1\" class=\"dataframe\">\n",
       "  <thead>\n",
       "    <tr style=\"text-align: right;\">\n",
       "      <th></th>\n",
       "      <th>production</th>\n",
       "      <th>weather</th>\n",
       "    </tr>\n",
       "    <tr>\n",
       "      <th>time</th>\n",
       "      <th></th>\n",
       "      <th></th>\n",
       "    </tr>\n",
       "  </thead>\n",
       "  <tbody>\n",
       "    <tr>\n",
       "      <th>2020-04-10 10:31:35+00:00</th>\n",
       "      <td>96.666667</td>\n",
       "      <td>6.742752</td>\n",
       "    </tr>\n",
       "    <tr>\n",
       "      <th>2020-04-10 10:41:35+00:00</th>\n",
       "      <td>80.000000</td>\n",
       "      <td>6.944584</td>\n",
       "    </tr>\n",
       "    <tr>\n",
       "      <th>2020-04-10 10:51:35+00:00</th>\n",
       "      <td>86.666667</td>\n",
       "      <td>7.146415</td>\n",
       "    </tr>\n",
       "    <tr>\n",
       "      <th>2020-04-10 11:01:35+00:00</th>\n",
       "      <td>90.000000</td>\n",
       "      <td>7.322303</td>\n",
       "    </tr>\n",
       "    <tr>\n",
       "      <th>2020-04-10 11:11:35+00:00</th>\n",
       "      <td>86.666667</td>\n",
       "      <td>7.360287</td>\n",
       "    </tr>\n",
       "  </tbody>\n",
       "</table>\n",
       "</div>"
      ],
      "text/plain": [
       "                           production   weather\n",
       "time                                           \n",
       "2020-04-10 10:31:35+00:00   96.666667  6.742752\n",
       "2020-04-10 10:41:35+00:00   80.000000  6.944584\n",
       "2020-04-10 10:51:35+00:00   86.666667  7.146415\n",
       "2020-04-10 11:01:35+00:00   90.000000  7.322303\n",
       "2020-04-10 11:11:35+00:00   86.666667  7.360287"
      ]
     },
     "execution_count": 27,
     "metadata": {},
     "output_type": "execute_result"
    }
   ],
   "source": [
    "df_combined.head()"
   ]
  },
  {
   "cell_type": "code",
   "execution_count": 28,
   "metadata": {},
   "outputs": [
    {
     "data": {
      "image/png": "[encoded data removed]",
      "text/plain": [
       "<Figure size 432x288 with 1 Axes>"
      ]
     },
     "metadata": {
      "needs_background": "light"
     },
     "output_type": "display_data"
    }
   ],
   "source": [
    "#DF plot die niet geresampled is\n",
    "temp_plot = df_SP.loc['06-01-2021':'06-06-2021'].plot()"
   ]
  },
  {
   "cell_type": "code",
   "execution_count": 29,
   "metadata": {},
   "outputs": [
    {
     "data": {
      "image/png": "[encoded data removed]",
      "text/plain": [
       "<Figure size 432x288 with 1 Axes>"
      ]
     },
     "metadata": {
      "needs_background": "light"
     },
     "output_type": "display_data"
    }
   ],
   "source": [
    "#DF plot die geresampled is\n",
    "temp_plot = df_10m.loc['06-01-2021':'06-06-2021'].plot()"
   ]
  },
  {
   "cell_type": "code",
   "execution_count": 30,
   "metadata": {},
   "outputs": [
    {
     "data": {
      "image/png": "[encoded data removed]",
      "text/plain": [
       "<Figure size 432x288 with 1 Axes>"
      ]
     },
     "metadata": {
      "needs_background": "light"
     },
     "output_type": "display_data"
    }
   ],
   "source": [
    "#DF plot die gecombineerd is\n",
    "temp_plot = df_combined.loc['06-01-2021':'06-06-2021'].plot()"
   ]
  },
  {
   "cell_type": "markdown",
   "metadata": {},
   "source": [
    "Het resultaat van dit is dat het duidelijk is wanneer er nacht is en wanneer er veel bevolking is. In de laatste plot is wel eits raars zichtbaar. De derde en vierde piek hebben ongeveer dezelfde hoeveelheeid bewolking als de vijfde piek maar die heeft maar de helft van de stroomproductie dan de andere twee pieken. Mijn aanname is dat de dikte van de bewolking ook een rol speelt maar dit in niet met de huidge dataset af te lezen> "
   ]
  },
  {
   "cell_type": "markdown",
   "metadata": {},
   "source": [
    "## Filter op zonnige dagen"
   ]
  },
  {
   "cell_type": "markdown",
   "metadata": {},
   "source": [
    "# Modeling"
   ]
  },
  {
   "cell_type": "code",
   "execution_count": 31,
   "metadata": {
    "tags": []
   },
   "outputs": [],
   "source": [
    "# Gegeven:\n",
    "def model_zonnestraling(tilt:float, azimuth:float, tijdsreeks:pd.core.indexes.datetimes.DatetimeIndex, lat:float, lon:float) -> pd.DataFrame:\n",
    "    \"\"\"Berekent de hoeveelheid stroom die een paneel maximaal produceert met 100% efficientie\"\"\"\n",
    "    \n",
    "    zonne_positie_aan_hemel = pvlib.solarposition.get_solarposition(tijdsreeks, lat, lon)\n",
    "\n",
    "    #locatie = pvlib.location.Location(latitude=lat, longitude=lon, name='Plaatsnaam', tz=pytz.timezone(r'Europe/Amsterdam'))\n",
    "    locatie = pvlib.location.Location(latitude=lat, longitude=lon, name='Plaatsnaam', tz=pytz.timezone(r'UTC'))\n",
    "    heldere_hemel = locatie.get_clearsky(tijdsreeks)  \n",
    "\n",
    "    instraling = pvlib.irradiance.get_total_irradiance(tilt, \n",
    "                                                       azimuth, \n",
    "                                                       zonne_positie_aan_hemel['zenith'], \n",
    "                                                       zonne_positie_aan_hemel['azimuth'], \n",
    "                                                       heldere_hemel.dni, \n",
    "                                                       heldere_hemel.ghi, \n",
    "                                                       heldere_hemel.dhi)    \n",
    "    \n",
    "    return instraling['poa_global'].to_frame().rename(columns={'poa_global':'zonlicht'})"
   ]
  },
  {
   "cell_type": "code",
   "execution_count": 32,
   "metadata": {},
   "outputs": [],
   "source": [
    "# Aanvullen\n",
    "def model_paneel(tilt:float, azimuth:float, efficientie:float, tijdsreeks:pd.core.indexes.datetimes.DatetimeIndex, lat:float, lon:float) -> pd.DataFrame:\n",
    "    \"\"\"Berekent de hoeveelheid geabsorbeerd zonlicht op een paneel op basis van de efficientie\"\"\"\n",
    "    \n",
    "    return model_zonnestraling(tilt, azimuth, tijdsreeks, lat, lon) * efficientie"
   ]
  },
  {
   "cell_type": "code",
   "execution_count": 33,
   "metadata": {
    "tags": []
   },
   "outputs": [],
   "source": [
    "# Aanvullen\n",
    "def loss(params:Tuple[float,float,float], df_waarneming:pd.DataFrame, lat:float, lon:float) -> float:\n",
    "    \n",
    "    (tilt, azimuth, efficientie) = params\n",
    "    \n",
    "    tijdsreeks = df_waarneming.index\n",
    "    \n",
    "    df_model = model_paneel(tilt, azimuth, efficientie, tijdsreeks, lat, lon)\n",
    "    \n",
    "    return np.sum((df_model['zonlicht'] - df_waarneming['production'])**2)"
   ]
  },
  {
   "cell_type": "code",
   "execution_count": 34,
   "metadata": {
    "tags": []
   },
   "outputs": [],
   "source": [
    "# Eerste inschatting\n",
    "tilt = 35   \n",
    "azimuth = 180\n",
    "efficientie = 0.2"
   ]
  },
  {
   "cell_type": "code",
   "execution_count": 35,
   "metadata": {},
   "outputs": [],
   "source": [
    "df_all1 = df_combined[df_combined['weather'] < 1]\n",
    "df_all2 = df_combined[df_combined['weather'] < 2]\n",
    "df_all3 = df_combined[df_combined['weather'] < 3]\n",
    "df_all4 = df_combined[df_combined['weather'] < 4]\n",
    "df_all5 = df_combined[df_combined['weather'] < 5]"
   ]
  },
  {
   "cell_type": "code",
   "execution_count": 36,
   "metadata": {
    "scrolled": true
   },
   "outputs": [],
   "source": [
    "df_week1 = df_combined[df_combined['weather'] < 1].loc['06-01-2021':'06-06-2021']\n",
    "df_week2 = df_combined[df_combined['weather'] < 2].loc['06-01-2021':'06-06-2021']\n",
    "df_week3 = df_combined[df_combined['weather'] < 3].loc['06-01-2021':'06-06-2021']\n",
    "df_week4 = df_combined[df_combined['weather'] < 4].loc['06-01-2021':'06-06-2021']\n",
    "df_week5 = df_combined[df_combined['weather'] < 5].loc['06-01-2021':'06-06-2021']"
   ]
  },
  {
   "cell_type": "code",
   "execution_count": 37,
   "metadata": {
    "tags": []
   },
   "outputs": [],
   "source": [
    "result = minimize(loss, (tilt, azimuth, efficientie), (df_all1, lat, lon), bounds=((0, 45), (90, 270), (0.05, 0.3)))\n",
    "result_all1 = result['x']"
   ]
  },
  {
   "cell_type": "code",
   "execution_count": 38,
   "metadata": {},
   "outputs": [],
   "source": [
    "result = minimize(loss, (tilt, azimuth, efficientie), (df_all2, lat, lon), bounds=((0, 45), (90, 270), (0.05, 0.3)))\n",
    "result_all2 = result['x']"
   ]
  },
  {
   "cell_type": "code",
   "execution_count": 39,
   "metadata": {},
   "outputs": [],
   "source": [
    "result = minimize(loss, (tilt, azimuth, efficientie), (df_all3, lat, lon), bounds=((0, 45), (90, 270), (0.05, 0.3)))\n",
    "result_all3 = result['x']"
   ]
  },
  {
   "cell_type": "code",
   "execution_count": 40,
   "metadata": {},
   "outputs": [],
   "source": [
    "result = minimize(loss, (tilt, azimuth, efficientie), (df_all4, lat, lon), bounds=((0, 45), (90, 270), (0.05, 0.3)))\n",
    "result_all4 = result['x']"
   ]
  },
  {
   "cell_type": "code",
   "execution_count": 41,
   "metadata": {},
   "outputs": [],
   "source": [
    "result = minimize(loss, (tilt, azimuth, efficientie), (df_all5, lat, lon), bounds=((0, 45), (90, 270), (0.05, 0.3)))\n",
    "result_all5 = result['x']"
   ]
  },
  {
   "cell_type": "code",
   "execution_count": 42,
   "metadata": {},
   "outputs": [],
   "source": [
    "result = minimize(loss, (tilt, azimuth, efficientie), (df_week1, lat, lon), bounds=((0, 45), (90, 270), (0.05, 0.3)))\n",
    "result_week1 = result['x']"
   ]
  },
  {
   "cell_type": "code",
   "execution_count": 43,
   "metadata": {},
   "outputs": [],
   "source": [
    "result = minimize(loss, (tilt, azimuth, efficientie), (df_week2, lat, lon), bounds=((0, 45), (90, 270), (0.05, 0.3)))\n",
    "result_week2 = result['x']"
   ]
  },
  {
   "cell_type": "code",
   "execution_count": 44,
   "metadata": {},
   "outputs": [],
   "source": [
    "result = minimize(loss, (tilt, azimuth, efficientie), (df_week3, lat, lon), bounds=((0, 45), (90, 270), (0.05, 0.3)))\n",
    "result_week3 = result['x']"
   ]
  },
  {
   "cell_type": "code",
   "execution_count": 45,
   "metadata": {},
   "outputs": [],
   "source": [
    "result = minimize(loss, (tilt, azimuth, efficientie), (df_week4, lat, lon), bounds=((0, 45), (90, 270), (0.05, 0.3)))\n",
    "result_week4 = result['x']"
   ]
  },
  {
   "cell_type": "code",
   "execution_count": 46,
   "metadata": {},
   "outputs": [],
   "source": [
    "result = minimize(loss, (tilt, azimuth, efficientie), (df_week5, lat, lon), bounds=((0, 45), (90, 270), (0.05, 0.3)))\n",
    "result_week5 = result['x']"
   ]
  },
  {
   "cell_type": "markdown",
   "metadata": {},
   "source": [
    "## Evaluation"
   ]
  },
  {
   "cell_type": "code",
   "execution_count": 47,
   "metadata": {
    "tags": []
   },
   "outputs": [
    {
     "data": {
      "text/markdown": [
       "### Resultaat hele dataset waar de bewolking onder de 1 is behouden"
      ],
      "text/plain": [
       "<IPython.core.display.Markdown object>"
      ]
     },
     "metadata": {},
     "output_type": "display_data"
    },
    {
     "name": "stdout",
     "output_type": "stream",
     "text": [
      "Tilt:        12.0°\n",
      "Azimuth:     231.1°\n",
      "Efficientie: 11.5%\n"
     ]
    },
    {
     "data": {
      "text/markdown": [
       "### Resultaat hele dataset waar de bewolking onder de 2 is behouden"
      ],
      "text/plain": [
       "<IPython.core.display.Markdown object>"
      ]
     },
     "metadata": {},
     "output_type": "display_data"
    },
    {
     "name": "stdout",
     "output_type": "stream",
     "text": [
      "Tilt:        11.2°\n",
      "Azimuth:     231.7°\n",
      "Efficientie: 11.5%\n"
     ]
    },
    {
     "data": {
      "text/markdown": [
       "### Resultaat hele dataset waar de bewolking onder de 3 is behouden"
      ],
      "text/plain": [
       "<IPython.core.display.Markdown object>"
      ]
     },
     "metadata": {},
     "output_type": "display_data"
    },
    {
     "name": "stdout",
     "output_type": "stream",
     "text": [
      "Tilt:        10.5°\n",
      "Azimuth:     234.1°\n",
      "Efficientie: 11.4%\n"
     ]
    },
    {
     "data": {
      "text/markdown": [
       "### Resultaat hele dataset waar de bewolking onder de 4 is behouden"
      ],
      "text/plain": [
       "<IPython.core.display.Markdown object>"
      ]
     },
     "metadata": {},
     "output_type": "display_data"
    },
    {
     "name": "stdout",
     "output_type": "stream",
     "text": [
      "Tilt:        10.0°\n",
      "Azimuth:     232.4°\n",
      "Efficientie: 11.1%\n"
     ]
    },
    {
     "data": {
      "text/markdown": [
       "### Resultaat hele dataset waar de bewolking onder de 5 is behouden"
      ],
      "text/plain": [
       "<IPython.core.display.Markdown object>"
      ]
     },
     "metadata": {},
     "output_type": "display_data"
    },
    {
     "name": "stdout",
     "output_type": "stream",
     "text": [
      "Tilt:        9.2°\n",
      "Azimuth:     233.2°\n",
      "Efficientie: 10.9%\n"
     ]
    }
   ],
   "source": [
    "display(Markdown(\"### Resultaat hele dataset waar de bewolking onder de 1 is behouden\"))\n",
    "print(\"Tilt:        {0:.1f}°\".format(result_all1[0]))\n",
    "print(\"Azimuth:     {0:.1f}°\".format(result_all1[1]))\n",
    "print(\"Efficientie: {0:.1f}%\".format(result_all1[2]*100))\n",
    "\n",
    "display(Markdown(\"### Resultaat hele dataset waar de bewolking onder de 2 is behouden\"))\n",
    "print(\"Tilt:        {0:.1f}°\".format(result_all2[0]))\n",
    "print(\"Azimuth:     {0:.1f}°\".format(result_all2[1]))\n",
    "print(\"Efficientie: {0:.1f}%\".format(result_all2[2]*100))\n",
    "\n",
    "display(Markdown(\"### Resultaat hele dataset waar de bewolking onder de 3 is behouden\"))\n",
    "print(\"Tilt:        {0:.1f}°\".format(result_all3[0]))\n",
    "print(\"Azimuth:     {0:.1f}°\".format(result_all3[1]))\n",
    "print(\"Efficientie: {0:.1f}%\".format(result_all3[2]*100))\n",
    "\n",
    "display(Markdown(\"### Resultaat hele dataset waar de bewolking onder de 4 is behouden\"))\n",
    "print(\"Tilt:        {0:.1f}°\".format(result_all4[0]))\n",
    "print(\"Azimuth:     {0:.1f}°\".format(result_all4[1]))\n",
    "print(\"Efficientie: {0:.1f}%\".format(result_all4[2]*100))\n",
    "\n",
    "display(Markdown(\"### Resultaat hele dataset waar de bewolking onder de 5 is behouden\"))\n",
    "print(\"Tilt:        {0:.1f}°\".format(result_all5[0]))\n",
    "print(\"Azimuth:     {0:.1f}°\".format(result_all5[1]))\n",
    "print(\"Efficientie: {0:.1f}%\".format(result_all5[2]*100))"
   ]
  },
  {
   "cell_type": "code",
   "execution_count": 48,
   "metadata": {},
   "outputs": [
    {
     "data": {
      "text/markdown": [
       "### Resultaat één week van de dataset waar de bewolking onder de 1 is behouden"
      ],
      "text/plain": [
       "<IPython.core.display.Markdown object>"
      ]
     },
     "metadata": {},
     "output_type": "display_data"
    },
    {
     "name": "stdout",
     "output_type": "stream",
     "text": [
      "Tilt:        26.0°\n",
      "Azimuth:     207.3°\n",
      "Efficientie: 11.6%\n"
     ]
    },
    {
     "data": {
      "text/markdown": [
       "### Resultaat één week van de dataset waar de bewolking onder de 2 is behouden"
      ],
      "text/plain": [
       "<IPython.core.display.Markdown object>"
      ]
     },
     "metadata": {},
     "output_type": "display_data"
    },
    {
     "name": "stdout",
     "output_type": "stream",
     "text": [
      "Tilt:        25.9°\n",
      "Azimuth:     206.2°\n",
      "Efficientie: 11.5%\n"
     ]
    },
    {
     "data": {
      "text/markdown": [
       "### Resultaat één week van de dataset waar de bewolking onder de 3 is behouden"
      ],
      "text/plain": [
       "<IPython.core.display.Markdown object>"
      ]
     },
     "metadata": {},
     "output_type": "display_data"
    },
    {
     "name": "stdout",
     "output_type": "stream",
     "text": [
      "Tilt:        25.7°\n",
      "Azimuth:     206.1°\n",
      "Efficientie: 11.5%\n"
     ]
    },
    {
     "data": {
      "text/markdown": [
       "### Resultaat één week van de dataset waar de bewolking onder de 4 is behouden"
      ],
      "text/plain": [
       "<IPython.core.display.Markdown object>"
      ]
     },
     "metadata": {},
     "output_type": "display_data"
    },
    {
     "name": "stdout",
     "output_type": "stream",
     "text": [
      "Tilt:        23.4°\n",
      "Azimuth:     207.2°\n",
      "Efficientie: 11.1%\n"
     ]
    },
    {
     "data": {
      "text/markdown": [
       "### Resultaat één week van de dataset waar de bewolking onder de 5 is behouden"
      ],
      "text/plain": [
       "<IPython.core.display.Markdown object>"
      ]
     },
     "metadata": {},
     "output_type": "display_data"
    },
    {
     "name": "stdout",
     "output_type": "stream",
     "text": [
      "Tilt:        25.9°\n",
      "Azimuth:     201.3°\n",
      "Efficientie: 10.8%\n"
     ]
    }
   ],
   "source": [
    "display(Markdown(\"### Resultaat één week van de dataset waar de bewolking onder de 1 is behouden\"))\n",
    "print(\"Tilt:        {0:.1f}°\".format(result_week1[0]))\n",
    "print(\"Azimuth:     {0:.1f}°\".format(result_week1[1]))\n",
    "print(\"Efficientie: {0:.1f}%\".format(result_week1[2]*100))\n",
    "\n",
    "display(Markdown(\"### Resultaat één week van de dataset waar de bewolking onder de 2 is behouden\"))\n",
    "print(\"Tilt:        {0:.1f}°\".format(result_week2[0]))\n",
    "print(\"Azimuth:     {0:.1f}°\".format(result_week2[1]))\n",
    "print(\"Efficientie: {0:.1f}%\".format(result_week2[2]*100))\n",
    "\n",
    "display(Markdown(\"### Resultaat één week van de dataset waar de bewolking onder de 3 is behouden\"))\n",
    "print(\"Tilt:        {0:.1f}°\".format(result_week3[0]))\n",
    "print(\"Azimuth:     {0:.1f}°\".format(result_week3[1]))\n",
    "print(\"Efficientie: {0:.1f}%\".format(result_week3[2]*100))\n",
    "\n",
    "display(Markdown(\"### Resultaat één week van de dataset waar de bewolking onder de 4 is behouden\"))\n",
    "print(\"Tilt:        {0:.1f}°\".format(result_week4[0]))\n",
    "print(\"Azimuth:     {0:.1f}°\".format(result_week4[1]))\n",
    "print(\"Efficientie: {0:.1f}%\".format(result_week4[2]*100))\n",
    "\n",
    "display(Markdown(\"### Resultaat één week van de dataset waar de bewolking onder de 5 is behouden\"))\n",
    "print(\"Tilt:        {0:.1f}°\".format(result_week5[0]))\n",
    "print(\"Azimuth:     {0:.1f}°\".format(result_week5[1]))\n",
    "print(\"Efficientie: {0:.1f}%\".format(result_week5[2]*100))"
   ]
  },
  {
   "cell_type": "markdown",
   "metadata": {},
   "source": [
    "Er is weinig verschil in efficientie tussen het model wat alle date gebruikt of één random gekoze week."
   ]
  },
  {
   "cell_type": "code",
   "execution_count": 49,
   "metadata": {},
   "outputs": [
    {
     "data": {
      "image/png": "[encoded data removed]",
      "text/plain": [
       "<Figure size 1080x576 with 1 Axes>"
      ]
     },
     "metadata": {
      "needs_background": "light"
     },
     "output_type": "display_data"
    }
   ],
   "source": [
    "datetime = df_combined.loc['06-01-2021':'06-06-2021']\n",
    "pred_all = model_paneel(result_all3[0], result_all3[1], result_all3[2], datetime.index, lat, lon)\n",
    "pred_week = model_paneel(result_week3[0], result_week3[1], result_week3[2], datetime.index, lat, lon)\n",
    "result = pd.DataFrame({\n",
    "    'actual': datetime['production'], \n",
    "    'prediction (Alle data)': pred_all['zonlicht'],\n",
    "    'prediction (één week data)': pred_week['zonlicht']})\n",
    "\n",
    "temp_result = result.plot(figsize=(15,8))"
   ]
  },
  {
   "cell_type": "markdown",
   "metadata": {},
   "source": [
    "Wat mij opvalt is dat alle data lager uitvalt dan de data van één week. Ik denk een goed vervolg van dit onderzoek is te kijken naar de dichtheid van de bewolking, omdat ik mij nog steeds afvraag hoe de vijfde piek zo laag is wanneer het even veel bewolking had."
   ]
  }
 ],
 "metadata": {
  "kernelspec": {
   "display_name": "Python 3 (ipykernel)",
   "language": "python",
   "name": "python3"
  },
  "language_info": {
   "codemirror_mode": {
    "name": "ipython",
    "version": 3
   },
   "file_extension": ".py",
   "mimetype": "text/x-python",
   "name": "python",
   "nbconvert_exporter": "python",
   "pygments_lexer": "ipython3",
   "version": "3.9.12"
  }
 },
 "nbformat": 4,
 "nbformat_minor": 4
}
