{
 "cells": [
  {
   "cell_type": "markdown",
   "metadata": {
    "id": "DSPCom-KmApV"
   },
   "source": [
    "# Huiswerkopgave - Old or Not\n",
    "\n",
    "### Notebook by `Esmee Kraan, s1173469`\n",
    "\n",
    "#### Gemaakt met behulp van chatGPT\n",
    "---"
   ]
  },
  {
   "cell_type": "markdown",
   "metadata": {},
   "source": [
    "## Table of contents\n",
    "\n",
    "1. [Introduction](#Introduction)\n",
    "\n",
    "2. [The problem domain](#The-problem-domain)\n",
    "\n",
    "3. [Business Understanding](#Business-Understanding)\n",
    "\n",
    "4. [Required libraries](#Required-libraries)\n",
    "\n",
    "5. [Data Understanding](#Data-Understanding)\n",
    "\n",
    "6. [Data Prepartion](#Data-Preparation)\n",
    "\n",
    "7. [Modeling](#Modeling)\n",
    "\n",
    "8. [Evaluation](#Evaluation)\n",
    "\n",
    "9. [Reproducibility](#Reproducibility)\n",
    "\n",
    "10. [Reference](#Reference)\n",
    "---"
   ]
  },
  {
   "cell_type": "markdown",
   "metadata": {},
   "source": [
    "# Introduction\n",
    "\n",
    "[[ go back to the top ]](#Table-of-contents)\n",
    "\n",
    "In deze notebook gaan we een neuraal netwerk bouwen dat kan bepalen of een beroemdheid jonger of ouder is dan 42 jaar. Het doel is om een model te trainen dat gezichten kan classificeren als 'not old' (tussen 21 en 42 jaar) of 'old' (ouder dan 42 jaar). We maken gebruik van de IMDB Faces Dataset, die meer dan 460.000 afbeeldingen bevat van beroemdheden met informatie over leeftijd en geslacht.\n",
    "\n",
    "---"
   ]
  },
  {
   "cell_type": "markdown",
   "metadata": {},
   "source": [
    "# The problem domain\n",
    "\n",
    "[[ go back to the top ]](#Table-of-contents)\n",
    "\n",
    "Dit project draait om leeftijdsclassificatie met behulp van gezichtsafbeeldingen van beroemdheden. Het bepalen van de leeftijd van volwassen beroemdheden op basis van hun uiterlijk kan lastig zijn voor mensen. We willen onderzoeken of een neuraal netwerk beter in staat is om te bepalen of iemand ouder is dan 42 jaar. \n",
    "\n",
    "We maken gebruik van de IMDB-WIKI dataset, één van de grootste publieke datasets met gezichtsafbeeldingen en leeftijdsinformatie. Deze dataset bevat gezichten van beroemdheden afkomstig van IMDB, inclusief metadata zoals leeftijd en geslacht. Voor dit project gebruiken we alleen de gegevens van volwassenen (21 jaar of ouder) en filteren we foto's waar meerdere gezichten of geen gezicht op staan.\n",
    "\n",
    "De uitdaging in dit domein ligt niet alleen in de nauwkeurige classificatie van leeftijd, maar ook in het correct verwerken en filteren van de dataset. Door gebruik te maken van slechts 50.000 voorbeelden, willen we een model bouwen dat niet alleen goed presteert op de trainingsdata, maar ook goed generaliseert naar nieuwe, ongeziene afbeeldingen.\n",
    "\n",
    "---"
   ]
  },
  {
   "cell_type": "markdown",
   "metadata": {
    "id": "m7KBpffWzlxH"
   },
   "source": [
    "## Business Understanding: \n",
    "Van volwassen beroemdheden is het vaak lastig te zeggen hoe oud ze zijn. Nu gaan we kijken of we een neuraal netwerk kunnen bouwen wat dit beter kan schatten dan wij. We nemens als grens de compleet arbitraire waarde van 42 jaar. Iedereen tussen de 21 en 42 noemen we 'not old' en iedereen boven deze grens definieren we als 'old' \n",
    "\n",
    "We gebruiken hiervoor de IMDB faces database met daarin meer dan 460.000 gezichten van een dikke 20.000 beroemdheden afkomstig van IMDB (zie https://data.vision.ee.ethz.ch/cvl/rrothe/imdb-wiki/ voor uitleg en details) en hierbij de IMDB informatie over o.a. leeftijd en geslacht. We downloaden hier de de cropped IMDB dataset (https://data.vision.ee.ethz.ch/cvl/rrothe/imdb-wiki/static/imdb_crop.tar). De metadata wordt in .mat (matlab) bestand meegeleverd. \n",
    "\n",
    "- We beperken ons tot volwassen beroemdheden. <u>Iedereen onder de 21 jaar mag je overslaan.</u>\n",
    "- Er zitten nogal wat foto's met meerdere gezichten of geen gezicht op. <u>Deze mag je eruit filteren</u>\n",
    "- We verwachten niet alleen de code maar (in het notebook) ook een <u>uitleg</u> van waarom je dingen hebt gedaan. \n",
    "- I.v.m. performance issues gebruiken we na opschoning alleen de <u>1e 50.000</u> records als data\n",
    "- Gebruik <u>20% van je data als testset, gebruik 42 als random state</u>\n",
    "- Eindig met de mogelijkheid om een jpg van bijv. jezelf in te lezen en d.m.v. het getrainde netwerk te bepalen of diegene wel of niet oud is.\n",
    "\n",
    "Vul je antwoorden steeds op de juiste plaats in. Maak indien nodig extra cellen aan."
   ]
  },
  {
   "cell_type": "markdown",
   "metadata": {},
   "source": [
    "# Required Libraries - WIP\n",
    "\n",
    "[[ go back to the top ]](#Table-of-contents)\n",
    "\n",
    "Voor dit project maken we gebruik van verschillende Python-pakketten die nodig zijn om de data te analyseren, te modelleren en te visualiseren. Als je deze nog niet hebt geïnstalleerd, kun je ze gemakkelijk installeren via `conda` of `pip`.\n",
    "\n",
    "De primaire bibliotheken die we gebruiken zijn:\n",
    "\n",
    "* **pandas**: Een krachtige bibliotheek voor het opslaan en manipuleren van data in DataFrames.\n",
    "* **NumPy**: Biedt ondersteuning voor numerieke arrays en wiskundige operaties.\n",
    "* **tensorflow**: Deze bibliotheek gebruiken we voor het bouwen van neurale netwerken en het trainen van ons classificatiemodel.\n",
    "* **matplotlib**: Basisplottingbibliotheek voor het visualiseren van data.\n",
    "* **IPython.display (Markdown)**: Hiermee kunnen we dynamische Markdown-inhoud in Jupyter Notebooks weergeven.\n",
    "\n",
    "Om ervoor te zorgen dat alle benodigde bibliotheken zijn geïnstalleerd, kun je de volgende commando's gebruiken:\n",
    "\n",
    "```bash\n",
    "conda install pandas numpy pytz matplotlib\n",
    "pip install pandas numpy pytz matplotlib\n",
    "```"
   ]
  },
  {
   "cell_type": "code",
   "execution_count": 192,
   "metadata": {},
   "outputs": [],
   "source": [
    "# Basis libraries voor data manipulatie en plotten\n",
    "import numpy as np\n",
    "import pandas as pd\n",
    "import matplotlib.pyplot as plt\n",
    "import scipy.io\n",
    "import datetime\n",
    "from PIL import Image\n",
    "\n",
    "# TensorFlow en Keras voor het bouwen van het neurale netwerk\n",
    "import tensorflow as tf\n",
    "from tensorflow.keras import datasets, layers, models # type: ignore\n",
    "\n",
    "from sklearn.model_selection import train_test_split"
   ]
  },
  {
   "cell_type": "markdown",
   "metadata": {},
   "source": [
    "# Data Understanding\n",
    "\n",
    "[[ go back to the top ]](#Table-of-contents)\n",
    "\n",
    "Voor zowel de IMDb- als Wikipedia-afbeeldingen wordt een apart `.mat`-bestand geleverd, dat kan worden geladen met Matlab en alle metadata bevat. Hieronder volgt een toelichting van de belangrijkste variabelen:\n",
    "\n",
    "- **dob**: Dit staat voor de geboortedatum van de beroemdheid, opgeslagen als een Matlab-serieel datumgetal.\n",
    "- **photo_taken**: Het jaar waarin de foto is genomen.\n",
    "- **full_path**: Het pad naar de afbeeldingsbestanden.\n",
    "- **gender**: Het geslacht van de beroemdheid, waarbij 0 voor vrouw en 1 voor man staat. Als het geslacht onbekend is, wordt deze waarde als `NaN` weergegeven.\n",
    "- **name**: De naam van de beroemdheid.\n",
    "- **face_location**: De locatie van het gezicht in de afbeelding. \n",
    "- **face_score:** Een score die aangeeft hoe goed de gezichtsdetector het gezicht heeft gedetecteerd; hoe hoger, hoe beter. Als de score Inf is, betekent dit dat er geen gezicht in de afbeelding is gevonden en geeft de face_location de gehele afbeelding terug.\n",
    "- **second_face_score:** De score van een tweede gedetecteerd gezicht (indien aanwezig). Dit is nuttig om afbeeldingen met meerdere gezichten te negeren. Als er geen tweede gezicht is gevonden, is deze waarde NaN.\n",
    "- **celeb_names (alleen IMDB):** Een lijst met de namen van alle beroemdheden in de dataset.\n",
    "- **celeb_id (alleen IMDB):** Een index die verwijst naar de naam van een beroemdheid in de lijst met namen.\n",
    "\n",
    "In Matlab kun je het gezicht bijsnijden door de volgende code te gebruiken:\n",
    "  \n",
    "```bash\n",
    "img(face_location(2):face_location(4), face_location(1):face_location(3), :)\n",
    "```\n",
    "\n",
    "bron: https://data.vision.ee.ethz.ch/cvl/rrothe/imdb-wiki/ onder het kopje <u> Usage </u>"
   ]
  },
  {
   "cell_type": "code",
   "execution_count": 193,
   "metadata": {},
   "outputs": [
    {
     "name": "stdout",
     "output_type": "stream",
     "text": [
      "dict_keys(['__header__', '__version__', '__globals__', 'imdb'])\n"
     ]
    }
   ],
   "source": [
    "#Lees de metadata in, bestudeer deze en maak voor iedere relevante variabele een aparte list aan\n",
    "# Laad het .mat bestand met metadata\n",
    "mat = scipy.io.loadmat('../../bijlagen/imdb_crop/imdb.mat')\n",
    "\n",
    "# Bekijk de sleutels in het geladen bestand om te begrijpen welke variabelen er beschikbaar zijn\n",
    "print(mat.keys())"
   ]
  },
  {
   "cell_type": "markdown",
   "metadata": {},
   "source": [
    "Ik heb wat onderzoek gedaan wat deze keys betekenen en kwam op de volgende uitkomsten:\n",
    "* __header__, __version__, __globals__: Deze komen vaak voor in .mat-bestanden en bevatten metadata over het bestand zelf (zoals versies en headers), wat meestal niet direct relevant is voor de analyse.\n",
    "* `imdb:` Dit is de belangrijkste sleutel. Het bevat de daadwerkelijke dataset waar we mee gaan werken. We gebruiken deze variabele om toegang te krijgen tot de gegevens."
   ]
  },
  {
   "cell_type": "code",
   "execution_count": 194,
   "metadata": {},
   "outputs": [
    {
     "name": "stdout",
     "output_type": "stream",
     "text": [
      "[('dob', 'O'), ('photo_taken', 'O'), ('full_path', 'O'), ('gender', 'O'), ('name', 'O'), ('face_location', 'O'), ('face_score', 'O'), ('second_face_score', 'O'), ('celeb_names', 'O'), ('celeb_id', 'O')]\n"
     ]
    }
   ],
   "source": [
    "# Verkennen van een specifieke variabele in het bestand\n",
    "imdb_data = mat['imdb']\n",
    "\n",
    "# Bekijk de eerste sleutels en de structuur van de 'imdb' data\n",
    "print(imdb_data.dtype)  # Dit laat zien wat voor soort data erin zit"
   ]
  },
  {
   "cell_type": "markdown",
   "metadata": {},
   "source": [
    "Hier kijkt ik nogmaals welke soort data er in zit, maar ik wist niet waar 'O' voor stond. Dus heb ik dat opgezocht:\n",
    "* (`O`, wat voor object staat, vaak arrays of lijsten).\n",
    "De betekenis achter elke variabele staat in de [Data Understanding](#Data-Understanding)"
   ]
  },
  {
   "cell_type": "code",
   "execution_count": 195,
   "metadata": {},
   "outputs": [
    {
     "name": "stdout",
     "output_type": "stream",
     "text": [
      "[[693726 693726 693726 ... 726831 726831 726831]]\n",
      "[[1968 1970 1968 ... 2011 2011 2011]]\n",
      "[[array(['01/nm0000001_rm124825600_1899-5-10_1968.jpg'], dtype='<U43')\n",
      "  array(['01/nm0000001_rm3343756032_1899-5-10_1970.jpg'], dtype='<U44')\n",
      "  array(['01/nm0000001_rm577153792_1899-5-10_1968.jpg'], dtype='<U43')\n",
      "  ...\n",
      "  array(['08/nm3994408_rm926592512_1989-12-29_2011.jpg'], dtype='<U44')\n",
      "  array(['08/nm3994408_rm943369728_1989-12-29_2011.jpg'], dtype='<U44')\n",
      "  array(['08/nm3994408_rm976924160_1989-12-29_2011.jpg'], dtype='<U44')]]\n",
      "[[1. 1. 1. ... 0. 0. 0.]]\n",
      "[[array(['Fred Astaire'], dtype='<U12')\n",
      "  array(['Fred Astaire'], dtype='<U12')\n",
      "  array(['Fred Astaire'], dtype='<U12') ...\n",
      "  array(['Jane Levy'], dtype='<U9') array(['Jane Levy'], dtype='<U9')\n",
      "  array(['Jane Levy'], dtype='<U9')]]\n"
     ]
    }
   ],
   "source": [
    "# kijken naar de geboortedatums (dob), geslachten (gender), en fotodata (photo_taken)\n",
    "dob = imdb_data['dob'][0][0]\n",
    "photo_taken = imdb_data['photo_taken'][0][0]\n",
    "full_path = imdb_data['full_path'][0][0]\n",
    "gender = imdb_data['gender'][0][0]\n",
    "name = imdb_data['name'][0][0]\n",
    "face_location = imdb_data['face_location'][0][0]\n",
    "face_score = imdb_data['face_score'][0][0]\n",
    "second_face_score = imdb_data['second_face_score'][0][0]\n",
    "celeb_names = imdb_data['celeb_names'][0][0]\n",
    "celeb_id = imdb_data['celeb_id'][0][0]\n",
    "\n",
    "# Bekijk de eerste paar waarden\n",
    "print(dob[:5])\n",
    "print(photo_taken[:5])\n",
    "print(full_path[:5])\n",
    "print(gender[:5])\n",
    "print(name[:5])\n",
    "# print(face_location[:5])\n",
    "# print(face_score[:5])\n",
    "# print(second_face_score[:5])\n",
    "# print(celeb_names[:5])\n",
    "# print(celeb_id[:5])"
   ]
  },
  {
   "cell_type": "code",
   "execution_count": 196,
   "metadata": {},
   "outputs": [
    {
     "name": "stdout",
     "output_type": "stream",
     "text": [
      "Shape of face_location: (1, 460723)\n",
      "Shape of face_score: (1, 460723)\n",
      "Shape of second_face_score: (1, 460723)\n",
      "Shape of dob: (1, 460723)\n",
      "Shape of photo_taken: (1, 460723)\n",
      "Shape of full_path: (1, 460723)\n",
      "Shape of gender: (1, 460723)\n",
      "Shape of name: (1, 460723)\n",
      "Shape of celeb_names: (1, 20284)\n",
      "Shape of celeb_id: (1, 460723)\n"
     ]
    }
   ],
   "source": [
    "# Inspecteer de vorm van enkele arrays\n",
    "print(\"Shape of face_location:\", face_location.shape)\n",
    "print(\"Shape of face_score:\", face_score.shape)\n",
    "print(\"Shape of second_face_score:\", second_face_score.shape)\n",
    "print(\"Shape of dob:\", dob.shape)\n",
    "print(\"Shape of photo_taken:\", photo_taken.shape)\n",
    "print(\"Shape of full_path:\", full_path.shape)\n",
    "print(\"Shape of gender:\", gender.shape)\n",
    "print(\"Shape of name:\", name.shape)\n",
    "print(\"Shape of celeb_names:\", celeb_names.shape)\n",
    "print(\"Shape of celeb_id:\", celeb_id.shape)"
   ]
  },
  {
   "cell_type": "markdown",
   "metadata": {},
   "source": [
    "Wat me gelijk opvalt is hoe de geboortedatums zijn opgeslagen, op de website stond vermeld dat dit als 'Matlab-serieel datumgetal' is."
   ]
  },
  {
   "cell_type": "markdown",
   "metadata": {},
   "source": [
    "## Data preparation: \n",
    "Omdat we de leeftijd van de personen moeten omrekenen converteer ik de geboortedatums die zijn opgeslagen in Matlab's serial date nummer formaat naar Python's `datetime` objecten om ze leesbaar en bruikbaar te maken. Matlab serial date nummers zijn niet direct bruikbaar in Python. `matlab_datenum_to_date` zorgt ervoor dat we de datums omzetten naar een formaat dat we kunnen manipuleren en gebruiken in verdere analyses.\n",
    "\n",
    "\n",
    "Daarna bereken ik de leeftijd van een persoon op basis van hun geboortedatum en het jaar waarin de foto is genomen met de functie `calculate_age`. Door de leeftijd te berekenen, kunnen we inzichten verkrijgen over de leeftijdsdistributie van de personen in de dataset.\n",
    "\n",
    "Ook verwijder ik ongeldige leeftijdswaarden die ontstaan door foutieve of ontbrekende datums. Omdat negatieve leeftijden duiden op fouten in de gegevensverwerking. Het verwijderen van deze waarden zorgt ervoor dat de uiteindelijke dataset schoon en bruikbaar is voor verdere analyse en visualisatie."
   ]
  },
  {
   "cell_type": "code",
   "execution_count": 197,
   "metadata": {},
   "outputs": [],
   "source": [
    "# Omzetten van dob (geboortedatums) naar datetime objecten\n",
    "def matlab_datenum_to_date(matlab_datenum):\n",
    "    try:\n",
    "        if matlab_datenum > 0:\n",
    "            return datetime.datetime.fromordinal(int(matlab_datenum)) + datetime.timedelta(days=int(matlab_datenum) % 1) - datetime.timedelta(days=366)\n",
    "        else:\n",
    "            return None\n",
    "    except OverflowError:\n",
    "        return None\n",
    "\n",
    "# Functie om de leeftijd te berekenen\n",
    "def calculate_age(dob, photo_year):\n",
    "    try:\n",
    "        if dob is None or isinstance(dob, datetime.datetime) is False:\n",
    "            return -1\n",
    "\n",
    "        return photo_year - dob.year\n",
    "    except Exception as e:\n",
    "        print(f\"Fout bij het berekenen van de leeftijd: {e}\")\n",
    "        return -1\n",
    "\n",
    "# Converteer de geboortedatums naar datetime objecten\n",
    "dob_converted = np.array([matlab_datenum_to_date(d) if not np.isnan(d) else None for d in dob.flatten()])\n",
    "\n",
    "# Haal het jaar van de foto op\n",
    "photo_year = photo_taken.flatten()\n",
    "\n",
    "# Bereken de leeftijden, waarbij ongeldige datums en onbekende leeftijden worden afgehandeld\n",
    "ages = np.array([calculate_age(d, y) for d, y in zip(dob_converted, photo_year)])\n",
    "\n",
    "# Verwijder negatieve leeftijden (indien nodig)\n",
    "ages = ages[ages != -1]\n",
    "\n",
    "# print(\"Voorbeelden van ages:\", ages[:10]) # Debug informatie: kijk naar enkele waarden van ages\n",
    "# print(f\"Grootte van de ages array: {ages.size}\") # Debug: controleer de grootte van de ages array"
   ]
  },
  {
   "cell_type": "markdown",
   "metadata": {},
   "source": [
    "#### Leeftijden filteren.\n",
    "Ik verwijder alle leeftijden onder de 21 jaar omdat de opdracht was om ons te beperken tot volwassen beroemdheden. Ook filter ik onrealistische leeftijden eruit, uit onderzoek blijkt dat [Jeanne Calment](https://nl.wikipedia.org/wiki/Jeanne_Calment) uit Frankrijk het oudste persoon ooit is met 122 jaar. Daarom neem ik dat als mijn hoogste leeftijd."
   ]
  },
  {
   "cell_type": "code",
   "execution_count": 198,
   "metadata": {},
   "outputs": [],
   "source": [
    "# Filter de leeftijden om alleen waarden van 21 jaar en ouder te behouden\n",
    "filtered_ages = ages[ages >= 21]\n",
    "\n",
    "# Verwijder onrealistische leeftijden (bijv. boven 122 jaar)\n",
    "filtered_ages = filtered_ages [filtered_ages  <= 122]"
   ]
  },
  {
   "cell_type": "code",
   "execution_count": 199,
   "metadata": {},
   "outputs": [
    {
     "name": "stdout",
     "output_type": "stream",
     "text": [
      "Minimale leeftijd: 21\n",
      "Maximale leeftijd: 119\n",
      "Gemiddelde leeftijd: 38.688233826395624\n",
      "Standaardafwijking: 12.068945851105074\n"
     ]
    },
    {
     "data": {
      "image/png": "[encoded data removed]",
      "text/plain": [
       "<Figure size 1000x600 with 1 Axes>"
      ]
     },
     "metadata": {},
     "output_type": "display_data"
    }
   ],
   "source": [
    "# Controleer de statistieken van de gefilterde leeftijden\n",
    "print(f\"Minimale leeftijd: {filtered_ages.min()}\")\n",
    "print(f\"Maximale leeftijd: {filtered_ages.max()}\")\n",
    "print(f\"Gemiddelde leeftijd: {filtered_ages.mean()}\")\n",
    "print(f\"Standaardafwijking: {filtered_ages.std()}\")\n",
    "\n",
    "# Plot de histogram van de leeftijden\n",
    "plt.figure(figsize=(10, 6))\n",
    "plt.hist(filtered_ages, bins=range(21, 121, 5), edgecolor='black', alpha=0.7)\n",
    "\n",
    "# Voeg een verticale lijn toe op 42\n",
    "plt.axvline(x=42, color='red', linestyle='--', label='42 jaar mijlpaal')\n",
    "\n",
    "# Voeg labels en titel toe\n",
    "plt.xlabel('Leeftijd')\n",
    "plt.ylabel('Aantal beroemdheden')\n",
    "plt.title('Leeftijdsdistributie van Beroemdheden')\n",
    "plt.legend()\n",
    "\n",
    "# Toon de plot\n",
    "plt.show()"
   ]
  },
  {
   "cell_type": "code",
   "execution_count": 200,
   "metadata": {},
   "outputs": [
    {
     "name": "stdout",
     "output_type": "stream",
     "text": [
      "Percentage onder 42 jaar: 65.70%\n",
      "Percentage 42 jaar en ouder: 34.30%\n"
     ]
    },
    {
     "data": {
      "image/png": "[encoded data removed]",
      "text/plain": [
       "<Figure size 800x600 with 1 Axes>"
      ]
     },
     "metadata": {},
     "output_type": "display_data"
    }
   ],
   "source": [
    "# Bereken percentages onder en boven 42 jaar\n",
    "below_42 = np.sum(filtered_ages < 42)\n",
    "above_42 = np.sum(filtered_ages >= 42)\n",
    "\n",
    "total_count = len(filtered_ages)\n",
    "\n",
    "percentage_below_42 = (below_42 / total_count) * 100\n",
    "percentage_above_42 = (above_42 / total_count) * 100\n",
    "\n",
    "# Print de percentages\n",
    "print(f\"Percentage onder 42 jaar: {percentage_below_42:.2f}%\")\n",
    "print(f\"Percentage 42 jaar en ouder: {percentage_above_42:.2f}%\")\n",
    "\n",
    "# Visualiseer de verdeling met een staafdiagram\n",
    "plt.figure(figsize=(8, 6))\n",
    "categories = ['Onder 42 jaar', '42 jaar en ouder']\n",
    "percentages = [percentage_below_42, percentage_above_42]\n",
    "\n",
    "plt.bar(categories, percentages, color=['lightblue', 'salmon'])\n",
    "plt.ylabel('Percentage (%)')\n",
    "plt.title('Verdeling van Beroemdheden op Leeftijd')\n",
    "\n",
    "# Voeg de percentages toe boven de staven\n",
    "for i, percentage in enumerate(percentages):\n",
    "    plt.text(i, percentage + 1, f'{percentage:.2f}%', ha='center', va='bottom') # type: ignore\n",
    "\n",
    "plt.show()"
   ]
  },
  {
   "cell_type": "markdown",
   "metadata": {},
   "source": [
    "Op basis van de dataset heb ik de volgende bevindingen:\n",
    "\n",
    "- **Minimale leeftijd:** 21 jaar\n",
    "- **Maximale leeftijd:** 119 jaar\n",
    "- **Gemiddelde leeftijd:** Ongeveer 38.7 jaar\n",
    "- **Standaardafwijking:** Ongeveer 12.1 jaar\n",
    "\n",
    "Van de beroemdheden in de dataset:\n",
    "\n",
    "- 65.70% is jonger dan 42 jaar.\n",
    "- 34.30% is 42 jaar of ouder.\n",
    "\n",
    "Deze verdeling geeft een goed overzicht van de leeftijdsopbouw van de beroemdheden in onze dataset, met een meerderheid die jonger is dan 42 jaar."
   ]
  },
  {
   "cell_type": "markdown",
   "metadata": {},
   "source": [
    "## Data Preprocessing"
   ]
  },
  {
   "cell_type": "code",
   "execution_count": 201,
   "metadata": {},
   "outputs": [],
   "source": [
    "#voeg de ingelezen metadata en de berekende leeftijd samen tot een nieuwe dataset\n",
    "dob = np.ravel(imdb_data['dob'][0][0])\n",
    "photo_taken = np.ravel(imdb_data['photo_taken'][0][0])\n",
    "full_path = np.ravel(imdb_data['full_path'][0][0])\n",
    "gender = np.ravel(imdb_data['gender'][0][0])\n",
    "face_score = np.ravel(imdb_data['face_score'][0][0])\n",
    "second_face_score = np.ravel(imdb_data['second_face_score'][0][0])\n",
    "\n",
    "data = {\n",
    "    'file_path': full_path,\n",
    "    'dob': dob,\n",
    "    'photo_taken': photo_taken,\n",
    "    'gender': gender,\n",
    "    'face_score': face_score,\n",
    "    'second_face_score': second_face_score,\n",
    "}\n",
    "\n",
    "df_imdb = pd.DataFrame(data)"
   ]
  },
  {
   "cell_type": "code",
   "execution_count": 202,
   "metadata": {},
   "outputs": [
    {
     "name": "stderr",
     "output_type": "stream",
     "text": [
      "C:\\Users\\MSI\\AppData\\Local\\Temp\\ipykernel_936\\2939377332.py:9: RuntimeWarning: invalid value encountered in cast\n",
      "  ages = np.floor(ages).astype(int)\n"
     ]
    }
   ],
   "source": [
    "# Converteer de 'dob' kolom naar datetime objecten\n",
    "df_imdb['dob'] = [matlab_datenum_to_date(d) if not np.isnan(d) else None for d in df_imdb['dob']]\n",
    "\n",
    "# Bereken leeftijden\n",
    "photo_year = df_imdb['photo_taken']\n",
    "ages = np.array([calculate_age(d, y) for d, y in zip(df_imdb['dob'], photo_year)])\n",
    "\n",
    "# Converteer leeftijden naar gehele getallen\n",
    "ages = np.floor(ages).astype(int)\n",
    "\n",
    "# Voeg de leeftijden toe aan de DataFrame\n",
    "df_imdb['age'] = ages"
   ]
  },
  {
   "cell_type": "code",
   "execution_count": 203,
   "metadata": {},
   "outputs": [],
   "source": [
    "#schoon de dataset op op basis van de bij de business understanding gegeven criteria.\n",
    "#check op dat het persoon op de foto ouder is dan 21 en jonger is dan 122\n",
    "df_imdb = df_imdb[df_imdb['age'] >= 21]\n",
    "df_imdb = df_imdb[df_imdb['age'] <= 122]\n",
    "\n",
    "# Verwijder afbeeldingen zonder gezichten en met meerdere gezichten\n",
    "# - face_score moet geen Inf zijn (anders geen gezicht gedetecteerd)\n",
    "# - second_face_score moet NaN zijn (anders meerdere gezichten)\n",
    "df_imdb_filtered = df_imdb[\n",
    "    (df_imdb['face_score'] != np.inf) &\n",
    "    (df_imdb['second_face_score'].isna())\n",
    "]"
   ]
  },
  {
   "cell_type": "markdown",
   "metadata": {},
   "source": [
    "Ik filter hier de dataset op basis van leeftijd en hoeveel gedecterde gezichten er zijn op de foto.\n",
    "\n",
    "- **Minimale Leeftijd**: Beperk de dataset tot personen die 21 jaar of ouder zijn.\n",
    "- **Maximale Leeftijd**: Beperk de dataset tot personen die 122 jaar of jonger zijn.\n",
    "\n",
    "- **Geen Gezicht Gedetecteerd**: Verwijder afbeeldingen waar de `face_score` gelijk is aan `Inf`, wat aangeeft dat er geen gezicht is gedetecteerd.\n",
    "- **Meerdere Gezichten**: Verwijder afbeeldingen waar de `second_face_score` een waarde heeft (d.w.z., niet NaN), wat betekent dat er meerdere gezichten zijn gedetecteerd.\n",
    "\n",
    "De gefilterde DataFrame bevat nu alleen afbeeldingen met realistische leeftijden en met één goed gedetecteerd gezicht."
   ]
  },
  {
   "cell_type": "code",
   "execution_count": 204,
   "metadata": {},
   "outputs": [
    {
     "name": "stdout",
     "output_type": "stream",
     "text": [
      "(424828, 7)\n",
      "(227378, 7)\n"
     ]
    }
   ],
   "source": [
    "print(df_imdb.shape)\n",
    "print(df_imdb_filtered.shape)"
   ]
  },
  {
   "cell_type": "markdown",
   "metadata": {},
   "source": [
    "De filtering heeft geleid tot een vermindering van het aantal rijen in de dataset van 424,828 naar 227,378. Dit betekent dat ongeveer 45% van de oorspronkelijke data is uitgesloten op basis van de opgegeven criteria. Hierdoor is de dataset schoner en specifieker voor de analyse."
   ]
  },
  {
   "cell_type": "code",
   "execution_count": 205,
   "metadata": {},
   "outputs": [
    {
     "data": {
      "text/html": [
       "<div>\n",
       "<style scoped>\n",
       "    .dataframe tbody tr th:only-of-type {\n",
       "        vertical-align: middle;\n",
       "    }\n",
       "\n",
       "    .dataframe tbody tr th {\n",
       "        vertical-align: top;\n",
       "    }\n",
       "\n",
       "    .dataframe thead th {\n",
       "        text-align: right;\n",
       "    }\n",
       "</style>\n",
       "<table border=\"1\" class=\"dataframe\">\n",
       "  <thead>\n",
       "    <tr style=\"text-align: right;\">\n",
       "      <th></th>\n",
       "      <th>file_path</th>\n",
       "      <th>dob</th>\n",
       "      <th>photo_taken</th>\n",
       "      <th>gender</th>\n",
       "      <th>face_score</th>\n",
       "      <th>second_face_score</th>\n",
       "      <th>age</th>\n",
       "    </tr>\n",
       "  </thead>\n",
       "  <tbody>\n",
       "    <tr>\n",
       "      <th>3</th>\n",
       "      <td>[01/nm0000001_rm946909184_1899-5-10_1968.jpg]</td>\n",
       "      <td>1899-05-10</td>\n",
       "      <td>1968</td>\n",
       "      <td>1.0</td>\n",
       "      <td>1.872117</td>\n",
       "      <td>NaN</td>\n",
       "      <td>69</td>\n",
       "    </tr>\n",
       "    <tr>\n",
       "      <th>4</th>\n",
       "      <td>[01/nm0000001_rm980463616_1899-5-10_1968.jpg]</td>\n",
       "      <td>1899-05-10</td>\n",
       "      <td>1968</td>\n",
       "      <td>1.0</td>\n",
       "      <td>1.158766</td>\n",
       "      <td>NaN</td>\n",
       "      <td>69</td>\n",
       "    </tr>\n",
       "    <tr>\n",
       "      <th>6</th>\n",
       "      <td>[02/nm0000002_rm1346607872_1924-9-16_2004.jpg]</td>\n",
       "      <td>1924-09-16</td>\n",
       "      <td>2004</td>\n",
       "      <td>0.0</td>\n",
       "      <td>3.479189</td>\n",
       "      <td>NaN</td>\n",
       "      <td>80</td>\n",
       "    </tr>\n",
       "    <tr>\n",
       "      <th>7</th>\n",
       "      <td>[02/nm0000002_rm1363385088_1924-9-16_2004.jpg]</td>\n",
       "      <td>1924-09-16</td>\n",
       "      <td>2004</td>\n",
       "      <td>0.0</td>\n",
       "      <td>3.870171</td>\n",
       "      <td>NaN</td>\n",
       "      <td>80</td>\n",
       "    </tr>\n",
       "    <tr>\n",
       "      <th>12</th>\n",
       "      <td>[02/nm0000002_rm221957120_1924-9-16_1974.jpg]</td>\n",
       "      <td>1924-09-16</td>\n",
       "      <td>1974</td>\n",
       "      <td>0.0</td>\n",
       "      <td>4.096431</td>\n",
       "      <td>NaN</td>\n",
       "      <td>50</td>\n",
       "    </tr>\n",
       "  </tbody>\n",
       "</table>\n",
       "</div>"
      ],
      "text/plain": [
       "                                         file_path        dob  photo_taken  \\\n",
       "3    [01/nm0000001_rm946909184_1899-5-10_1968.jpg] 1899-05-10         1968   \n",
       "4    [01/nm0000001_rm980463616_1899-5-10_1968.jpg] 1899-05-10         1968   \n",
       "6   [02/nm0000002_rm1346607872_1924-9-16_2004.jpg] 1924-09-16         2004   \n",
       "7   [02/nm0000002_rm1363385088_1924-9-16_2004.jpg] 1924-09-16         2004   \n",
       "12   [02/nm0000002_rm221957120_1924-9-16_1974.jpg] 1924-09-16         1974   \n",
       "\n",
       "    gender  face_score  second_face_score  age  \n",
       "3      1.0    1.872117                NaN   69  \n",
       "4      1.0    1.158766                NaN   69  \n",
       "6      0.0    3.479189                NaN   80  \n",
       "7      0.0    3.870171                NaN   80  \n",
       "12     0.0    4.096431                NaN   50  "
      ]
     },
     "execution_count": 205,
     "metadata": {},
     "output_type": "execute_result"
    }
   ],
   "source": [
    "df_imdb_filtered.head()"
   ]
  },
  {
   "cell_type": "code",
   "execution_count": 206,
   "metadata": {},
   "outputs": [
    {
     "name": "stdout",
     "output_type": "stream",
     "text": [
      "Trainset vorm: (181902, 7)\n",
      "Testset vorm: (45476, 7)\n"
     ]
    }
   ],
   "source": [
    "# Splits de gefilterde dataset in train- en testset\n",
    "# 20% van de data wordt gebruikt als testset\n",
    "# random_state=42 zorgt voor reproduceerbare splits\n",
    "df_train, df_test = train_test_split(df_imdb_filtered, test_size=0.2, random_state=42)\n",
    "\n",
    "# Print de vormen van de train- en testsets\n",
    "print(\"Trainset vorm:\", df_train.shape)\n",
    "print(\"Testset vorm:\", df_test.shape)"
   ]
  },
  {
   "cell_type": "code",
   "execution_count": 207,
   "metadata": {},
   "outputs": [],
   "source": [
    "# Lees de afbeeldingen in\n"
   ]
  },
  {
   "cell_type": "markdown",
   "metadata": {},
   "source": [
    "## Modeling: "
   ]
  },
  {
   "cell_type": "code",
   "execution_count": 208,
   "metadata": {},
   "outputs": [],
   "source": [
    "#normaliseer de data, train het model en valideer dit op de testdata\n"
   ]
  },
  {
   "cell_type": "markdown",
   "metadata": {},
   "source": [
    "## Evaluation: "
   ]
  },
  {
   "cell_type": "code",
   "execution_count": 209,
   "metadata": {
    "scrolled": true
   },
   "outputs": [],
   "source": [
    "# plot de accuracy en validated accuracy, toon de confusion matrix,\n",
    "# en toon de een aantal afbeeldingen inclusief of ze volgens het model wel of niet oud zijn,\n",
    "# doe dit laatste ook voor een paar eigen afbeeldingen\n"
   ]
  },
  {
   "cell_type": "markdown",
   "metadata": {},
   "source": [
    "Kunnen we met dit model betrouwbaar schatten of een beroemdheid oud is?\n",
    "(type je antwoord en uitleg hieronder)"
   ]
  },
  {
   "cell_type": "markdown",
   "metadata": {},
   "source": [
    "# Reference\n",
    "\n",
    "- Rothe, R., Timofte, R., & Van Gool, L. (2018). *Deep expectation of real and apparent age from a single image without facial landmarks*. International Journal of Computer Vision, 126(2-4), 144–157. Springer.\n",
    "\n",
    "- Rothe, R., Timofte, R., & Van Gool, L. (2015). *DEX: Deep EXpectation of apparent age from a single image*. In IEEE International Conference on Computer Vision Workshops (ICCVW), December.\n"
   ]
  }
 ],
 "metadata": {
  "accelerator": "GPU",
  "colab": {
   "collapsed_sections": [],
   "name": "cnn.ipynb",
   "toc_visible": true
  },
  "kernelspec": {
   "display_name": "Python 3",
   "language": "python",
   "name": "python3"
  },
  "language_info": {
   "codemirror_mode": {
    "name": "ipython",
    "version": 3
   },
   "file_extension": ".py",
   "mimetype": "text/x-python",
   "name": "python",
   "nbconvert_exporter": "python",
   "pygments_lexer": "ipython3",
   "version": "3.12.6"
  }
 },
 "nbformat": 4,
 "nbformat_minor": 4
}
