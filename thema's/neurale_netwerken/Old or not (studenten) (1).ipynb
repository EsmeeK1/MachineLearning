{
 "cells": [
  {
   "cell_type": "markdown",
   "metadata": {
    "id": "DSPCom-KmApV"
   },
   "source": [
    "# Old or not"
   ]
  },
  {
   "cell_type": "markdown",
   "metadata": {
    "id": "m7KBpffWzlxH"
   },
   "source": [
    "## Business Understanding: \n",
    "Van volwassen beroemdheden is het vaak lastig te zeggen hoe oud ze zijn. Nu gaan we kijken of we een neuraal netwerk kunnen bouwen wat dit beter kan schatten dan wij. We nemens als grens de compleet arbitraire waarde van 42 jaar. Iedereen tussen de 21 en 42 noemen we 'not old' en iedereen boven deze grens definieren we als 'old' \n",
    "\n",
    "We gebruiken hiervoor de IMDB faces database met daarin meer dan 460.000 gezichten van een dikke 20.000 beroemdheden afkomstig van IMDB (zie https://data.vision.ee.ethz.ch/cvl/rrothe/imdb-wiki/ voor uitleg en details) en hierbij de IMDB informatie over o.a. leeftijd en geslacht. We downloaden hier de de cropped IMDB dataset( https://data.vision.ee.ethz.ch/cvl/rrothe/imdb-wiki/static/imdb_crop.tar). De metadata wordt in .mat (matlab) bestand meegeleverd. \n",
    "\n",
    "- We beperken ons tot volwassen beroemdheden. <u>Iedereen onder de 21 jaar mag je overslaan.</u>\n",
    "- Er zitten nogal wat foto's met meerdere gezichten of geen gezicht op. <u>Deze mag je eruit filteren</u>\n",
    "- We verwachten niet alleen de code maar (in het notebook) ook een <u>uitleg</u> van waarom je dingen hebt gedaan. \n",
    "- I.v.m. performance issues gebruiken we na opschoning alleen de <u>1e 50.000</u> records als data\n",
    "- Gebruik <u>20% van je data als testset, gebruik 42 als random state</u>\n",
    "- Eindig met de mogelijkheid om een jpg van bijv. jezelf in te lezen en d.m.v. het getrainde netwerk te bepalen of diegene wel of niet oud is.\n",
    "\n",
    "Vul je antwoorden steeds op de juiste plaats in. Maak indien nodig extra cellen aan.\n",
    "\n",
    "## Data Understanding: "
   ]
  },
  {
   "cell_type": "code",
   "metadata": {
    "ExecuteTime": {
     "end_time": "2024-09-18T10:21:53.226171Z",
     "start_time": "2024-09-18T10:21:53.222827Z"
    }
   },
   "source": [
    "import pandas as pd\n",
    "#importeer de juiste packages\n",
    "from tensorflow.keras import datasets, layers, models\n",
    "import numpy as np\n",
    "import matplotlib.pyplot as plt\n",
    "import tarfile\n",
    "from scipy.io import loadmat\n",
    "from datetime import date, datetime, timedelta\n",
    "import os\n",
    "from sklearn.model_selection import train_test_split\n",
    "import re\n",
    "from PIL import Image"
   ],
   "outputs": [],
   "execution_count": 96
  },
  {
   "cell_type": "code",
   "metadata": {
    "ExecuteTime": {
     "end_time": "2024-09-18T10:35:32.624976Z",
     "start_time": "2024-09-18T10:35:28.831340Z"
    }
   },
   "source": [
    "# Definieer het pad naar de .tar dataset en de .mat metadata\n",
    "tar_file_path = 'data_huiswerk/imdb_crop.tar'\n",
    "metadata_path = 'data_huiswerk/imdb.mat'\n",
    "\n",
    "# alleen doen als de map nog niet bestaat\n",
    "# We openen en extraheren de tar file \n",
    "# if tarfile.is_tarfile(tar_file_path):\n",
    "#     with tarfile.open(tar_file_path, 'r') as tar:\n",
    "#         tar.extractall(path='data_huiswerk/extracted_imdb')\n",
    "# else:\n",
    "#     print(\"Het opgegeven bestand is geen geldig tar-bestand.\")\n",
    "\n",
    "# Laad de metadata uit de .mat file\n",
    "metadata = loadmat(metadata_path)\n",
    "\n",
    "# Bekijk de structuur van de metadata\n",
    "print(metadata.keys())"
   ],
   "outputs": [
    {
     "name": "stdout",
     "output_type": "stream",
     "text": [
      "dict_keys(['__header__', '__version__', '__globals__', 'imdb'])\n"
     ]
    }
   ],
   "execution_count": 100
  },
  {
   "metadata": {
    "ExecuteTime": {
     "end_time": "2024-09-18T10:36:34.197251Z",
     "start_time": "2024-09-18T10:36:34.192769Z"
    }
   },
   "cell_type": "code",
   "source": [
    "imdb_data = metadata['imdb']\n",
    "print(imdb_data.dtype)"
   ],
   "outputs": [
    {
     "name": "stdout",
     "output_type": "stream",
     "text": [
      "[('dob', 'O'), ('photo_taken', 'O'), ('full_path', 'O'), ('gender', 'O'), ('name', 'O'), ('face_location', 'O'), ('face_score', 'O'), ('second_face_score', 'O'), ('celeb_names', 'O'), ('celeb_id', 'O')]\n"
     ]
    }
   ],
   "execution_count": 108
  },
  {
   "metadata": {
    "ExecuteTime": {
     "end_time": "2024-09-18T10:10:13.848877Z",
     "start_time": "2024-09-18T10:10:13.844411Z"
    }
   },
   "cell_type": "code",
   "source": [
    "# Extract relevant fields from the imdb_data\n",
    "file_paths = imdb_data[0][0][2]  # Bestandslocaties van de afbeeldingen\n",
    "dob = imdb_data['dob'][0][0]  # Geboortedatums in 'datenum' formaat\n",
    "photo_taken = imdb_data['photo_taken'][0][0]  # Het jaar waarin de foto genomen is\n",
    "face_score = imdb_data['face_score'][0][0][0]  # Score voor gezichtsherkenning\n",
    "second_face_score = imdb_data['second_face_score'][0][0][0]  # Score voor een tweede gezicht\n",
    "\n",
    "print(file_paths)"
   ],
   "outputs": [
    {
     "name": "stdout",
     "output_type": "stream",
     "text": [
      "[[array(['01/nm0000001_rm124825600_1899-5-10_1968.jpg'], dtype='<U43')\n",
      "  array(['01/nm0000001_rm3343756032_1899-5-10_1970.jpg'], dtype='<U44')\n",
      "  array(['01/nm0000001_rm577153792_1899-5-10_1968.jpg'], dtype='<U43')\n",
      "  ...\n",
      "  array(['08/nm3994408_rm926592512_1989-12-29_2011.jpg'], dtype='<U44')\n",
      "  array(['08/nm3994408_rm943369728_1989-12-29_2011.jpg'], dtype='<U44')\n",
      "  array(['08/nm3994408_rm976924160_1989-12-29_2011.jpg'], dtype='<U44')]]\n"
     ]
    }
   ],
   "execution_count": 65
  },
  {
   "cell_type": "markdown",
   "metadata": {},
   "source": [
    "## Data preparation: "
   ]
  },
  {
   "metadata": {
    "ExecuteTime": {
     "end_time": "2024-09-18T10:10:54.347572Z",
     "start_time": "2024-09-18T10:10:54.343093Z"
    }
   },
   "cell_type": "code",
   "source": [
    "filepath = re.findall(r\"'([^']+\\.jpg)'\", str(file_paths))\n",
    "face_score = face_score[:6]\n",
    "second_face_score = second_face_score[:6]\n",
    "print(len(filepath))"
   ],
   "outputs": [
    {
     "name": "stdout",
     "output_type": "stream",
     "text": [
      "6\n"
     ]
    }
   ],
   "execution_count": 70
  },
  {
   "metadata": {
    "ExecuteTime": {
     "end_time": "2024-09-18T10:36:43.070780Z",
     "start_time": "2024-09-18T10:36:43.065346Z"
    }
   },
   "cell_type": "code",
   "source": [
    "def extract_dob(filepath):\n",
    "    # Split de bestandsnaam op basis van underscores en punt\n",
    "    parts = filepath.split('_')\n",
    "\n",
    "    if len(parts) >= 4:\n",
    "        dob = parts[-2]  # De geboortedatum staat op de derde laatste positie\n",
    "        return dob\n",
    "    else:\n",
    "        return None\n",
    "\n",
    "def extract_foto_taken(filepath):\n",
    "    # Split de bestandsnaam op basis van underscores en punt\n",
    "    parts = filepath.split('_')\n",
    "\n",
    "    if len(parts) >= 4:\n",
    "        foto_taken = parts[-1]  # Het jaar van de foto staat op de laatste positie\n",
    "        foto_taken = foto_taken.split('.')[0]  # Verwijder de bestandsextensie\n",
    "        return foto_taken\n",
    "    else:\n",
    "        return None\n",
    "\n",
    "def calculate_age(dob_str, foto_taken_str):\n",
    "    dob = datetime.strptime(dob_str, '%Y-%m-%d')\n",
    "    foto_taken = datetime.strptime(foto_taken_str, '%Y')\n",
    "\n",
    "    # Calculate age when the photo was taken\n",
    "    age_at_foto_taken = foto_taken.year - dob.year - ((foto_taken.month, foto_taken.day) < (dob.month, dob.day))\n",
    "\n",
    "    return age_at_foto_taken\n",
    "\n",
    "dob_list = [extract_dob(filepath) for filepath in filepath]\n",
    "foto_taken_list = [extract_foto_taken(filepath) for filepath in filepath]\n",
    "\n",
    "# Calculate age for each filepath\n",
    "age = [calculate_age(dob, foto_taken) for dob, foto_taken in zip(dob_list, foto_taken_list)]"
   ],
   "outputs": [],
   "execution_count": 109
  },
  {
   "cell_type": "code",
   "metadata": {
    "ExecuteTime": {
     "end_time": "2024-09-18T10:36:45.429330Z",
     "start_time": "2024-09-18T10:36:45.421474Z"
    }
   },
   "source": [
    "#voeg de ingelezen metadata en de berekende leeftijd samen tot een nieuwe dataset\n",
    "\n",
    "data = {\n",
    "    # Zorg ervoor dat de path correct wordt omgezet, direct de waarde gebruiken\n",
    "    'file_path': filepath,\n",
    "    'age': age,\n",
    "    \"dob\": dob_list,\n",
    "    \"foto_taken\": foto_taken_list,\n",
    "    \"face_score\": face_score,\n",
    "    \"second_face_score\": second_face_score\n",
    "}\n",
    "df = pd.DataFrame(data)\n",
    "df"
   ],
   "outputs": [
    {
     "data": {
      "text/plain": [
       "                                      file_path  age         dob foto_taken  \\\n",
       "0   01/nm0000001_rm124825600_1899-5-10_1968.jpg   68   1899-5-10       1968   \n",
       "1  01/nm0000001_rm3343756032_1899-5-10_1970.jpg   70   1899-5-10       1970   \n",
       "2   01/nm0000001_rm577153792_1899-5-10_1968.jpg   68   1899-5-10       1968   \n",
       "3  08/nm3994408_rm926592512_1989-12-29_2011.jpg   21  1989-12-29       2011   \n",
       "4  08/nm3994408_rm943369728_1989-12-29_2011.jpg   21  1989-12-29       2011   \n",
       "5  08/nm3994408_rm976924160_1989-12-29_2011.jpg   21  1989-12-29       2011   \n",
       "\n",
       "   face_score  second_face_score  \n",
       "0    1.459693           1.118973  \n",
       "1    2.543198           1.852008  \n",
       "2    3.455579           2.985660  \n",
       "3    1.872117                NaN  \n",
       "4    1.158766                NaN  \n",
       "5    3.490563           1.345335  "
      ],
      "text/html": [
       "<div>\n",
       "<style scoped>\n",
       "    .dataframe tbody tr th:only-of-type {\n",
       "        vertical-align: middle;\n",
       "    }\n",
       "\n",
       "    .dataframe tbody tr th {\n",
       "        vertical-align: top;\n",
       "    }\n",
       "\n",
       "    .dataframe thead th {\n",
       "        text-align: right;\n",
       "    }\n",
       "</style>\n",
       "<table border=\"1\" class=\"dataframe\">\n",
       "  <thead>\n",
       "    <tr style=\"text-align: right;\">\n",
       "      <th></th>\n",
       "      <th>file_path</th>\n",
       "      <th>age</th>\n",
       "      <th>dob</th>\n",
       "      <th>foto_taken</th>\n",
       "      <th>face_score</th>\n",
       "      <th>second_face_score</th>\n",
       "    </tr>\n",
       "  </thead>\n",
       "  <tbody>\n",
       "    <tr>\n",
       "      <th>0</th>\n",
       "      <td>01/nm0000001_rm124825600_1899-5-10_1968.jpg</td>\n",
       "      <td>68</td>\n",
       "      <td>1899-5-10</td>\n",
       "      <td>1968</td>\n",
       "      <td>1.459693</td>\n",
       "      <td>1.118973</td>\n",
       "    </tr>\n",
       "    <tr>\n",
       "      <th>1</th>\n",
       "      <td>01/nm0000001_rm3343756032_1899-5-10_1970.jpg</td>\n",
       "      <td>70</td>\n",
       "      <td>1899-5-10</td>\n",
       "      <td>1970</td>\n",
       "      <td>2.543198</td>\n",
       "      <td>1.852008</td>\n",
       "    </tr>\n",
       "    <tr>\n",
       "      <th>2</th>\n",
       "      <td>01/nm0000001_rm577153792_1899-5-10_1968.jpg</td>\n",
       "      <td>68</td>\n",
       "      <td>1899-5-10</td>\n",
       "      <td>1968</td>\n",
       "      <td>3.455579</td>\n",
       "      <td>2.985660</td>\n",
       "    </tr>\n",
       "    <tr>\n",
       "      <th>3</th>\n",
       "      <td>08/nm3994408_rm926592512_1989-12-29_2011.jpg</td>\n",
       "      <td>21</td>\n",
       "      <td>1989-12-29</td>\n",
       "      <td>2011</td>\n",
       "      <td>1.872117</td>\n",
       "      <td>NaN</td>\n",
       "    </tr>\n",
       "    <tr>\n",
       "      <th>4</th>\n",
       "      <td>08/nm3994408_rm943369728_1989-12-29_2011.jpg</td>\n",
       "      <td>21</td>\n",
       "      <td>1989-12-29</td>\n",
       "      <td>2011</td>\n",
       "      <td>1.158766</td>\n",
       "      <td>NaN</td>\n",
       "    </tr>\n",
       "    <tr>\n",
       "      <th>5</th>\n",
       "      <td>08/nm3994408_rm976924160_1989-12-29_2011.jpg</td>\n",
       "      <td>21</td>\n",
       "      <td>1989-12-29</td>\n",
       "      <td>2011</td>\n",
       "      <td>3.490563</td>\n",
       "      <td>1.345335</td>\n",
       "    </tr>\n",
       "  </tbody>\n",
       "</table>\n",
       "</div>"
      ]
     },
     "execution_count": 110,
     "metadata": {},
     "output_type": "execute_result"
    }
   ],
   "execution_count": 110
  },
  {
   "cell_type": "code",
   "metadata": {
    "ExecuteTime": {
     "end_time": "2024-09-18T10:50:44.038491Z",
     "start_time": "2024-09-18T10:50:44.030715Z"
    }
   },
   "source": [
    "#schoon de dataset op op basis van de bij de business understanding gegeven criteria.\n",
    "#df_filtered = df[(df['age'] >= 21) & (df['face_score'] > 1.0) & (df['second_face_score'].isna())]\n",
    "df_filtered = df[(df['age'] >= 21) & (df['face_score'] > 1.0)]\n",
    "\n",
    "# Splits de dataset in train- en testset\n",
    "train_images, test_images = train_test_split(df_filtered['file_path'], test_size=0.2, random_state=42)\n",
    "train_labels, test_labels = train_test_split(df_filtered['age'], test_size=0.2, random_state=42)\n",
    "\n",
    "# Controleer de verdeling van de data\n",
    "print(f\"Train images set size: {len(train_images)}\")\n",
    "print(f\"Test images set size: {len(test_images)}\")\n",
    "print(f\"Train labels set size: {len(train_labels)}\")\n",
    "print(f\"{train_labels}\")"
   ],
   "outputs": [
    {
     "name": "stdout",
     "output_type": "stream",
     "text": [
      "Train images set size: 4\n",
      "Test images set size: 2\n",
      "Train labels set size: 4\n",
      "5    21\n",
      "2    68\n",
      "4    21\n",
      "3    21\n",
      "Name: age, dtype: int64\n"
     ]
    }
   ],
   "execution_count": 134
  },
  {
   "cell_type": "code",
   "metadata": {
    "ExecuteTime": {
     "end_time": "2024-09-18T10:50:47.419539Z",
     "start_time": "2024-09-18T10:50:47.349470Z"
    }
   },
   "source": [
    "# Lees de afbeeldingen in\n",
    "image_path = f\"data_huiswerk/extracted_imdb/imdb_crop/{train_images.iloc[0]}\"\n",
    "print(image_path)\n",
    "img = Image.open(image_path)\n",
    "plt.imshow(img)\n",
    "plt.axis('off')\n"
   ],
   "outputs": [
    {
     "name": "stdout",
     "output_type": "stream",
     "text": [
      "data_huiswerk/extracted_imdb/imdb_crop/08/nm3994408_rm976924160_1989-12-29_2011.jpg\n"
     ]
    },
    {
     "data": {
      "text/plain": [
       "(-0.5, 110.5, 110.5, -0.5)"
      ]
     },
     "execution_count": 135,
     "metadata": {},
     "output_type": "execute_result"
    },
    {
     "data": {
      "text/plain": [
       "<Figure size 640x480 with 1 Axes>"
      ],
      "image/png": "[encoded data removed]"
     },
     "metadata": {},
     "output_type": "display_data"
    }
   ],
   "execution_count": 135
  },
  {
   "cell_type": "markdown",
   "metadata": {},
   "source": [
    "## Modeling: "
   ]
  },
  {
   "cell_type": "code",
   "metadata": {
    "ExecuteTime": {
     "end_time": "2024-09-18T11:12:01.132719Z",
     "start_time": "2024-09-18T11:12:01.124616Z"
    }
   },
   "source": [
    "#normaliseer de data, train het model en valideer dit op de testdata\n",
    "def open_img(path):\n",
    "    img = Image.open(f\"data_huiswerk/extracted_imdb/imdb_crop/{path}\")\n",
    "    img = img.resize((32, 32))  # Pas de afbeelding aan naar de invoergrootte van het netwerk\n",
    "    return img\n",
    "\n",
    "img_array = np.array(open_img(test_images.iloc[0])) / 255.0\n",
    "\n",
    "print(len(img_array))\n",
    "print(len(np.array(open_img(test_images.iloc[0]))/255.0))\n",
    "print(test_labels.iloc[0])\n"
   ],
   "outputs": [
    {
     "name": "stdout",
     "output_type": "stream",
     "text": [
      "32\n",
      "32\n",
      "68\n"
     ]
    }
   ],
   "execution_count": 152
  },
  {
   "metadata": {},
   "cell_type": "code",
   "outputs": [],
   "execution_count": null,
   "source": [
    "model = models.Sequential([\n",
    "    layers.Dense(16, activation='relu', input_shape=(32*32*3, )),\n",
    "    layers.Dense(16, activation='relu'),\n",
    "    layers.Dense(10, activation='softmax')\n",
    "])\n",
    "\n",
    "model.compile(optimizer='ADAM',loss='sparse_categorical_crossentropy',metrics=['accuracy'])\n",
    "\n",
    "history = model.fit(img_array, train_labels, epochs=25, validation_data=(np.array(open_img(test_images.iloc[0]))/255.0, test_labels))"
   ]
  },
  {
   "cell_type": "markdown",
   "metadata": {},
   "source": [
    "## Evaluation: "
   ]
  },
  {
   "cell_type": "code",
   "metadata": {
    "scrolled": true
   },
   "source": [
    "# plot de accuracy en validated accuracy, toon de confusion matrix, \n",
    "# en toon de een aantal afbeeldingen inclusief of ze volgens het model wel of niet oud zijn,\n",
    "# doe dit laatste ook voor een paar eigen afbeeldingen\n"
   ],
   "outputs": [],
   "execution_count": null
  },
  {
   "cell_type": "markdown",
   "metadata": {},
   "source": [
    "Kunnen we met dit model betrouwbaar schatten of een beroemdheid oud is?\n",
    "(type je antwoord en uitleg hieronder)"
   ]
  },
  {
   "cell_type": "code",
   "metadata": {},
   "source": [],
   "outputs": [],
   "execution_count": null
  }
 ],
 "metadata": {
  "accelerator": "GPU",
  "colab": {
   "collapsed_sections": [],
   "name": "cnn.ipynb",
   "toc_visible": true
  },
  "kernelspec": {
   "display_name": "Python 3",
   "language": "python",
   "name": "python3"
  },
  "language_info": {
   "codemirror_mode": {
    "name": "ipython",
    "version": 3
   },
   "file_extension": ".py",
   "mimetype": "text/x-python",
   "name": "python",
   "nbconvert_exporter": "python",
   "pygments_lexer": "ipython3",
   "version": "3.9.0"
  }
 },
 "nbformat": 4,
 "nbformat_minor": 4
}
