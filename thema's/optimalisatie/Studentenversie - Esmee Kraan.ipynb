{
 "cells": [
  {
   "cell_type": "code",
   "execution_count": 1,
   "metadata": {
    "tags": []
   },
   "outputs": [],
   "source": [
    "# Imports\n",
    "import pandas as pd\n",
    "import seaborn as sns\n",
    "import historicdutchweather\n",
    "import pytz\n",
    "from typing import Tuple\n",
    "import pvlib\n",
    "from datetime import datetime\n",
    "from scipy.optimize import minimize\n",
    "import matplotlib.pyplot as plt"
   ]
  },
  {
   "cell_type": "markdown",
   "metadata": {},
   "source": [
    "# Business Understanding\n",
    "We kijken naar zonnepaneeldata over een periode van net iets minder naar twee jaar. De metingen bestaan uit het wattage dat elke minuut door de panelen werd opgewekt. Hierbij is de data al omgezet naar watt per vierkante meter.\n",
    "\n",
    "We zijn op zoek naar de efficientie van de panelen. Deze kan berekend worden door de theoretische hoeveelheid opbrengst te nemen en deze te verlagen met een bepaalde factor om de werkelijke meting te benaderen. Deze factor is de efficientie.\n",
    "\n",
    "Om deze berekening te moeten doen, maken we gebruik van de pvlib library. Hierbij is het nodig om de helling van het zonnepaneel met het dak te weten (de tilt). En ook de richting van het paneel (de azimuth). De azimuth loopt van 0 graden noord, naar 90 graden oost, naar 180 graden zuid en dan naar 270 graden west."
   ]
  },
  {
   "cell_type": "markdown",
   "metadata": {},
   "source": [
    "# Data Understanding\n",
    "## Stroomproductiedata ophalen"
   ]
  },
  {
   "cell_type": "code",
   "execution_count": 16,
   "metadata": {
    "tags": []
   },
   "outputs": [],
   "source": [
    "df = pd.read_csv('../../bijlagen/dataset.csv')\n",
    "df['time'] = pd.to_datetime(df['time'])"
   ]
  },
  {
   "cell_type": "code",
   "execution_count": 17,
   "metadata": {},
   "outputs": [
    {
     "name": "stdout",
     "output_type": "stream",
     "text": [
      "                       time  production\n",
      "0 2020-04-10 10:31:35+00:00   96.666667\n",
      "1 2020-04-10 10:32:35+00:00   96.666667\n",
      "2 2020-04-10 10:33:35+00:00   93.333333\n",
      "3 2020-04-10 10:34:35+00:00  100.000000\n",
      "4 2020-04-10 10:35:36+00:00  103.333333\n",
      "         production\n",
      "count  1.266008e+06\n",
      "mean   2.181287e+01\n",
      "std    7.722842e+01\n",
      "min    0.000000e+00\n",
      "25%    0.000000e+00\n",
      "50%    0.000000e+00\n",
      "75%    2.000000e+01\n",
      "max    2.206667e+03\n",
      "<class 'pandas.core.frame.DataFrame'>\n",
      "RangeIndex: 1266008 entries, 0 to 1266007\n",
      "Data columns (total 2 columns):\n",
      " #   Column      Non-Null Count    Dtype              \n",
      "---  ------      --------------    -----              \n",
      " 0   time        1266008 non-null  datetime64[ns, UTC]\n",
      " 1   production  1266008 non-null  float64            \n",
      "dtypes: datetime64[ns, UTC](1), float64(1)\n",
      "memory usage: 19.3 MB\n",
      "None\n",
      "time          0\n",
      "production    0\n",
      "dtype: int64\n"
     ]
    }
   ],
   "source": [
    "# Bekijk de eerste paar rijen van de DataFrame\n",
    "print(df.head())\n",
    "\n",
    "# Verkrijg statistische samenvattingen van de DataFrame\n",
    "print(df.describe())\n",
    "\n",
    "# Verkrijg informatie over de DataFrame, zoals kolomnamen en datatypes\n",
    "print(df.info())\n",
    "\n",
    "# Controleer op ontbrekende waarden in de DataFrame\n",
    "print(df.isnull().sum())"
   ]
  },
  {
   "cell_type": "markdown",
   "metadata": {},
   "source": [
    "## Weerdataset ophalen"
   ]
  },
  {
   "cell_type": "code",
   "execution_count": 18,
   "metadata": {
    "tags": []
   },
   "outputs": [
    {
     "data": {
      "text/html": [
       "<div>\n",
       "<style scoped>\n",
       "    .dataframe tbody tr th:only-of-type {\n",
       "        vertical-align: middle;\n",
       "    }\n",
       "\n",
       "    .dataframe tbody tr th {\n",
       "        vertical-align: top;\n",
       "    }\n",
       "\n",
       "    .dataframe thead th {\n",
       "        text-align: right;\n",
       "    }\n",
       "</style>\n",
       "<table border=\"1\" class=\"dataframe\">\n",
       "  <thead>\n",
       "    <tr style=\"text-align: right;\">\n",
       "      <th></th>\n",
       "      <th>time</th>\n",
       "      <th>T</th>\n",
       "      <th>FH</th>\n",
       "      <th>DD</th>\n",
       "      <th>Q</th>\n",
       "      <th>DR</th>\n",
       "      <th>RH</th>\n",
       "      <th>U</th>\n",
       "      <th>N</th>\n",
       "    </tr>\n",
       "  </thead>\n",
       "  <tbody>\n",
       "    <tr>\n",
       "      <th>0</th>\n",
       "      <td>2020-04-10 00:00:00+00:00</td>\n",
       "      <td>4.461015</td>\n",
       "      <td>2.604330</td>\n",
       "      <td>56.449253</td>\n",
       "      <td>-1.482197e-323</td>\n",
       "      <td>-1.482197e-323</td>\n",
       "      <td>-1.482197e-323</td>\n",
       "      <td>85.211640</td>\n",
       "      <td>1.947349</td>\n",
       "    </tr>\n",
       "    <tr>\n",
       "      <th>1</th>\n",
       "      <td>2020-04-10 01:00:00+00:00</td>\n",
       "      <td>4.014926</td>\n",
       "      <td>2.604330</td>\n",
       "      <td>58.753726</td>\n",
       "      <td>-1.482197e-323</td>\n",
       "      <td>-1.482197e-323</td>\n",
       "      <td>-1.482197e-323</td>\n",
       "      <td>89.105820</td>\n",
       "      <td>7.088386</td>\n",
       "    </tr>\n",
       "    <tr>\n",
       "      <th>2</th>\n",
       "      <td>2020-04-10 02:00:00+00:00</td>\n",
       "      <td>3.437970</td>\n",
       "      <td>2.249255</td>\n",
       "      <td>62.304473</td>\n",
       "      <td>-1.482197e-323</td>\n",
       "      <td>-1.482197e-323</td>\n",
       "      <td>-1.482197e-323</td>\n",
       "      <td>91.230447</td>\n",
       "      <td>8.000000</td>\n",
       "    </tr>\n",
       "    <tr>\n",
       "      <th>3</th>\n",
       "      <td>2020-04-10 03:00:00+00:00</td>\n",
       "      <td>3.019567</td>\n",
       "      <td>2.124627</td>\n",
       "      <td>54.608945</td>\n",
       "      <td>-1.482197e-323</td>\n",
       "      <td>-1.482197e-323</td>\n",
       "      <td>-1.482197e-323</td>\n",
       "      <td>92.124627</td>\n",
       "      <td>8.000000</td>\n",
       "    </tr>\n",
       "    <tr>\n",
       "      <th>4</th>\n",
       "      <td>2020-04-10 04:00:00+00:00</td>\n",
       "      <td>3.175657</td>\n",
       "      <td>2.355075</td>\n",
       "      <td>60.000000</td>\n",
       "      <td>6.449253e-01</td>\n",
       "      <td>-1.482197e-323</td>\n",
       "      <td>-1.482197e-323</td>\n",
       "      <td>92.355075</td>\n",
       "      <td>8.000000</td>\n",
       "    </tr>\n",
       "  </tbody>\n",
       "</table>\n",
       "</div>"
      ],
      "text/plain": [
       "                       time         T        FH         DD              Q  \\\n",
       "0 2020-04-10 00:00:00+00:00  4.461015  2.604330  56.449253 -1.482197e-323   \n",
       "1 2020-04-10 01:00:00+00:00  4.014926  2.604330  58.753726 -1.482197e-323   \n",
       "2 2020-04-10 02:00:00+00:00  3.437970  2.249255  62.304473 -1.482197e-323   \n",
       "3 2020-04-10 03:00:00+00:00  3.019567  2.124627  54.608945 -1.482197e-323   \n",
       "4 2020-04-10 04:00:00+00:00  3.175657  2.355075  60.000000   6.449253e-01   \n",
       "\n",
       "              DR             RH          U         N  \n",
       "0 -1.482197e-323 -1.482197e-323  85.211640  1.947349  \n",
       "1 -1.482197e-323 -1.482197e-323  89.105820  7.088386  \n",
       "2 -1.482197e-323 -1.482197e-323  91.230447  8.000000  \n",
       "3 -1.482197e-323 -1.482197e-323  92.124627  8.000000  \n",
       "4 -1.482197e-323 -1.482197e-323  92.355075  8.000000  "
      ]
     },
     "execution_count": 18,
     "metadata": {},
     "output_type": "execute_result"
    }
   ],
   "source": [
    "# Laad de weersdata in een DataFrame\n",
    "df_weather = pd.read_csv('../../bijlagen/weather.csv')\n",
    "\n",
    "# Zet de 'Unnamed: 0' kolom om naar datetime formaat\n",
    "df_weather['Unnamed: 0'] = pd.to_datetime(df_weather['Unnamed: 0'])\n",
    "\n",
    "# Hernoem de 'Unnamed: 0' kolom naar 'time'\n",
    "df_weather.rename(columns={'Unnamed: 0': 'time'}, inplace=True)\n",
    "\n",
    "# Bekijk de eerste paar rijen van de weerdata DataFrame\n",
    "df_weather.head()"
   ]
  },
  {
   "cell_type": "markdown",
   "metadata": {},
   "source": [
    "**Omzetten naar Datetime:**\n",
    "- df_weather['Unnamed: 0'] = pd.to_datetime(df_weather['Unnamed: 0']): Zet de kolom 'Unnamed: 0', die vermoedelijk tijdstempels bevat, om naar een datetime formaat. Dit is belangrijk voor tijdsgebonden analyses en het correct verwerken van tijdsdata.\n",
    "\n",
    "**Hernoemen van Kolom:**\n",
    "- df_weather.rename(columns={'Unnamed: 0': 'time'}, inplace=True): Hernoemt de kolom 'Unnamed: 0' naar 'time'. Dit maakt de kolomnaam duidelijker en handiger voor verdere verwerking en analyses."
   ]
  },
  {
   "cell_type": "markdown",
   "metadata": {},
   "source": [
    "## Data Preparation"
   ]
  },
  {
   "cell_type": "markdown",
   "metadata": {},
   "source": [
    "## Resampling naar xx minuten"
   ]
  },
  {
   "cell_type": "code",
   "execution_count": 19,
   "metadata": {
    "tags": []
   },
   "outputs": [
    {
     "name": "stderr",
     "output_type": "stream",
     "text": [
      "C:\\Users\\MSI\\AppData\\Local\\Temp\\ipykernel_20932\\3170985748.py:3: FutureWarning: 'T' is deprecated and will be removed in a future version, please use 'min' instead.\n",
      "  df_resampled = df.resample('10T').mean()  # '10T' staat voor 10 minuten\n"
     ]
    },
    {
     "data": {
      "text/html": [
       "<div>\n",
       "<style scoped>\n",
       "    .dataframe tbody tr th:only-of-type {\n",
       "        vertical-align: middle;\n",
       "    }\n",
       "\n",
       "    .dataframe tbody tr th {\n",
       "        vertical-align: top;\n",
       "    }\n",
       "\n",
       "    .dataframe thead th {\n",
       "        text-align: right;\n",
       "    }\n",
       "</style>\n",
       "<table border=\"1\" class=\"dataframe\">\n",
       "  <thead>\n",
       "    <tr style=\"text-align: right;\">\n",
       "      <th></th>\n",
       "      <th>production</th>\n",
       "    </tr>\n",
       "    <tr>\n",
       "      <th>time</th>\n",
       "      <th></th>\n",
       "    </tr>\n",
       "  </thead>\n",
       "  <tbody>\n",
       "    <tr>\n",
       "      <th>2020-04-10 10:30:00+00:00</th>\n",
       "      <td>178.148148</td>\n",
       "    </tr>\n",
       "    <tr>\n",
       "      <th>2020-04-10 10:40:00+00:00</th>\n",
       "      <td>80.333333</td>\n",
       "    </tr>\n",
       "    <tr>\n",
       "      <th>2020-04-10 10:50:00+00:00</th>\n",
       "      <td>86.666667</td>\n",
       "    </tr>\n",
       "    <tr>\n",
       "      <th>2020-04-10 11:00:00+00:00</th>\n",
       "      <td>172.000000</td>\n",
       "    </tr>\n",
       "    <tr>\n",
       "      <th>2020-04-10 11:10:00+00:00</th>\n",
       "      <td>166.333333</td>\n",
       "    </tr>\n",
       "  </tbody>\n",
       "</table>\n",
       "</div>"
      ],
      "text/plain": [
       "                           production\n",
       "time                                 \n",
       "2020-04-10 10:30:00+00:00  178.148148\n",
       "2020-04-10 10:40:00+00:00   80.333333\n",
       "2020-04-10 10:50:00+00:00   86.666667\n",
       "2020-04-10 11:00:00+00:00  172.000000\n",
       "2020-04-10 11:10:00+00:00  166.333333"
      ]
     },
     "execution_count": 19,
     "metadata": {},
     "output_type": "execute_result"
    }
   ],
   "source": [
    "# Zet de 'time' kolom als de index van de DataFrame\n",
    "df.set_index('time', inplace=True)\n",
    "\n",
    "# Resample de data naar 10 minuten intervallen en bereken het gemiddelde\n",
    "df_resampled = df.resample('10T').mean()  # '10T' staat voor 10 minuten\n",
    "\n",
    "df_resampled.head()"
   ]
  },
  {
   "cell_type": "code",
   "execution_count": 20,
   "metadata": {},
   "outputs": [
    {
     "name": "stderr",
     "output_type": "stream",
     "text": [
      "C:\\Users\\MSI\\AppData\\Local\\Temp\\ipykernel_20932\\1790055929.py:2: FutureWarning: 'T' is deprecated and will be removed in a future version, please use 'min' instead.\n",
      "  weather_resampled = df_weather.resample('10T').mean()  # Zelfde frequentie als zonnepaneeldata\n"
     ]
    }
   ],
   "source": [
    "# Zet de 'time' kolom als de index van de weerdata DataFrame\n",
    "df_weather.set_index('time', inplace=True)\n",
    "\n",
    "# Resample de weerdata naar 10 minuten intervallen en bereken het gemiddelde\n",
    "weather_resampled = df_weather.resample('10T').mean()  # '10T' staat voor 10 minuten"
   ]
  },
  {
   "cell_type": "markdown",
   "metadata": {},
   "source": [
    "## Weer en zonnepanelen combineren"
   ]
  },
  {
   "cell_type": "code",
   "execution_count": 21,
   "metadata": {
    "tags": []
   },
   "outputs": [],
   "source": [
    "# Combineer de geresamplede zonnepaneeldata en weerdata op basis van tijd\n",
    "combined_df = df_resampled.join(df_weather, how='inner')\n",
    "\n",
    "# Interpoleer de ontbrekende waarden in de gecombineerde DataFrame\n",
    "combined_df.interpolate(method='linear', inplace=True)"
   ]
  },
  {
   "cell_type": "markdown",
   "metadata": {},
   "source": [
    "## Filter op zonnige dagen"
   ]
  },
  {
   "cell_type": "code",
   "execution_count": 34,
   "metadata": {},
   "outputs": [
    {
     "data": {
      "text/html": [
       "<div>\n",
       "<style scoped>\n",
       "    .dataframe tbody tr th:only-of-type {\n",
       "        vertical-align: middle;\n",
       "    }\n",
       "\n",
       "    .dataframe tbody tr th {\n",
       "        vertical-align: top;\n",
       "    }\n",
       "\n",
       "    .dataframe thead th {\n",
       "        text-align: right;\n",
       "    }\n",
       "</style>\n",
       "<table border=\"1\" class=\"dataframe\">\n",
       "  <thead>\n",
       "    <tr style=\"text-align: right;\">\n",
       "      <th></th>\n",
       "      <th>production</th>\n",
       "      <th>T</th>\n",
       "      <th>FH</th>\n",
       "      <th>DD</th>\n",
       "      <th>Q</th>\n",
       "      <th>DR</th>\n",
       "      <th>RH</th>\n",
       "      <th>U</th>\n",
       "      <th>N</th>\n",
       "    </tr>\n",
       "    <tr>\n",
       "      <th>time</th>\n",
       "      <th></th>\n",
       "      <th></th>\n",
       "      <th></th>\n",
       "      <th></th>\n",
       "      <th></th>\n",
       "      <th></th>\n",
       "      <th></th>\n",
       "      <th></th>\n",
       "      <th></th>\n",
       "    </tr>\n",
       "  </thead>\n",
       "  <tbody>\n",
       "    <tr>\n",
       "      <th>2020-04-10 11:00:00+00:00</th>\n",
       "      <td>172.000000</td>\n",
       "      <td>13.783896</td>\n",
       "      <td>3.355075</td>\n",
       "      <td>58.159692</td>\n",
       "      <td>243.164942</td>\n",
       "      <td>-1.482197e-323</td>\n",
       "      <td>-1.482197e-323</td>\n",
       "      <td>38.211640</td>\n",
       "      <td>7.316289</td>\n",
       "    </tr>\n",
       "    <tr>\n",
       "      <th>2020-04-10 12:00:00+00:00</th>\n",
       "      <td>83.000000</td>\n",
       "      <td>15.003179</td>\n",
       "      <td>3.124627</td>\n",
       "      <td>52.956713</td>\n",
       "      <td>247.188076</td>\n",
       "      <td>-1.482197e-323</td>\n",
       "      <td>-1.482197e-323</td>\n",
       "      <td>38.644925</td>\n",
       "      <td>7.544193</td>\n",
       "    </tr>\n",
       "    <tr>\n",
       "      <th>2020-04-10 13:00:00+00:00</th>\n",
       "      <td>167.333333</td>\n",
       "      <td>15.288538</td>\n",
       "      <td>2.479702</td>\n",
       "      <td>62.898506</td>\n",
       "      <td>224.543431</td>\n",
       "      <td>-1.482197e-323</td>\n",
       "      <td>-1.482197e-323</td>\n",
       "      <td>36.040596</td>\n",
       "      <td>7.052651</td>\n",
       "    </tr>\n",
       "    <tr>\n",
       "      <th>2020-04-10 14:00:00+00:00</th>\n",
       "      <td>87.000000</td>\n",
       "      <td>15.613761</td>\n",
       "      <td>3.124627</td>\n",
       "      <td>54.797021</td>\n",
       "      <td>199.782821</td>\n",
       "      <td>-1.482197e-323</td>\n",
       "      <td>-1.482197e-323</td>\n",
       "      <td>35.000000</td>\n",
       "      <td>7.684217</td>\n",
       "    </tr>\n",
       "    <tr>\n",
       "      <th>2020-04-10 15:00:00+00:00</th>\n",
       "      <td>54.000000</td>\n",
       "      <td>15.310284</td>\n",
       "      <td>3.355075</td>\n",
       "      <td>45.855220</td>\n",
       "      <td>132.824630</td>\n",
       "      <td>-1.482197e-323</td>\n",
       "      <td>-1.482197e-323</td>\n",
       "      <td>37.991199</td>\n",
       "      <td>6.105303</td>\n",
       "    </tr>\n",
       "  </tbody>\n",
       "</table>\n",
       "</div>"
      ],
      "text/plain": [
       "                           production          T        FH         DD  \\\n",
       "time                                                                    \n",
       "2020-04-10 11:00:00+00:00  172.000000  13.783896  3.355075  58.159692   \n",
       "2020-04-10 12:00:00+00:00   83.000000  15.003179  3.124627  52.956713   \n",
       "2020-04-10 13:00:00+00:00  167.333333  15.288538  2.479702  62.898506   \n",
       "2020-04-10 14:00:00+00:00   87.000000  15.613761  3.124627  54.797021   \n",
       "2020-04-10 15:00:00+00:00   54.000000  15.310284  3.355075  45.855220   \n",
       "\n",
       "                                    Q             DR             RH  \\\n",
       "time                                                                  \n",
       "2020-04-10 11:00:00+00:00  243.164942 -1.482197e-323 -1.482197e-323   \n",
       "2020-04-10 12:00:00+00:00  247.188076 -1.482197e-323 -1.482197e-323   \n",
       "2020-04-10 13:00:00+00:00  224.543431 -1.482197e-323 -1.482197e-323   \n",
       "2020-04-10 14:00:00+00:00  199.782821 -1.482197e-323 -1.482197e-323   \n",
       "2020-04-10 15:00:00+00:00  132.824630 -1.482197e-323 -1.482197e-323   \n",
       "\n",
       "                                   U         N  \n",
       "time                                            \n",
       "2020-04-10 11:00:00+00:00  38.211640  7.316289  \n",
       "2020-04-10 12:00:00+00:00  38.644925  7.544193  \n",
       "2020-04-10 13:00:00+00:00  36.040596  7.052651  \n",
       "2020-04-10 14:00:00+00:00  35.000000  7.684217  \n",
       "2020-04-10 15:00:00+00:00  37.991199  6.105303  "
      ]
     },
     "execution_count": 34,
     "metadata": {},
     "output_type": "execute_result"
    }
   ],
   "source": [
    "import pandas as pd\n",
    "\n",
    "# Stel een drempelwaarde in voor zonne-instraling\n",
    "threshold = 200  # bijv. 200 W/m²\n",
    "\n",
    "# Groepeer op dagbasis en bereken de gemiddelde zonne-instraling per dag\n",
    "daily_mean_solar_radiation = combined_df['Q'].resample('D').mean()\n",
    "\n",
    "# Filter de dagen met zonne-instraling boven de drempelwaarde\n",
    "sunny_days = daily_mean_solar_radiation[daily_mean_solar_radiation > threshold]\n",
    "\n",
    "# Verkrijg de datums van zonnige dagen\n",
    "sunny_days_dates = sunny_days.index.date\n",
    "\n",
    "# Filter de data om alleen de zonnige dagen te bevatten\n",
    "sunny_days_data = combined_df[combined_df.index.date[:, None] == sunny_days_dates]\n",
    "\n",
    "# Bekijk de gefilterde data\n",
    "sunny_days_data.head()"
   ]
  },
  {
   "cell_type": "markdown",
   "metadata": {},
   "source": [
    "## Uitleg van de Kolommen in de DataFrame\n",
    "\n",
    "- **time:** De tijdstempel waarop de gegevens zijn gemeten.\n",
    "Formaat: Datum en tijd in ISO 8601-formaat (bijvoorbeeld 2020-04-10 11:00:00+00:00).\n",
    "- **production:** De hoeveelheid elektriciteit geproduceerd door de zonnepanelen in watt per vierkante meter (W/m²) op dat specifieke tijdstip.\n",
    "- **T:** De temperatuur op het moment van de meting, waarschijnlijk in graden Celsius.\n",
    "- **FH:** De hoeveelheid directe zonnestraling op de horizontale vlakte, mogelijk in watt per vierkante meter (W/m²).\n",
    "- **DD:** De windrichting, vaak in graden (0° = Noord, 90° = Oost, etc.).\n",
    "- **Q:** De globale zonne-instraling op de panelen, meestal in watt per vierkante meter (W/m²). Dit is de kolom die gebruikt wordt om zonnige dagen te identificeren.\n",
    "- **DR:** Deze kolom bevat waarschijnlijk ontbrekende of foutieve waarden, aangeduid met zeer kleine getallen dicht bij nul (-1.482197e-323). Dit kan wijzen op een probleem met de data of een placeholder voor ontbrekende gegevens.\n",
    "- **RH:** De relatieve luchtvochtigheid op het meetmoment, vaak uitgedrukt als een percentage.\n",
    "- **U:** De windsnelheid, mogelijk in meters per seconde (m/s).\n",
    "- **N:** De hoeveelheid bewolking of de zonnigheid, mogelijk in een schaal van 0 tot 10 of een andere eenheid."
   ]
  },
  {
   "cell_type": "markdown",
   "metadata": {},
   "source": [
    "# Modeling"
   ]
  },
  {
   "cell_type": "code",
   "execution_count": 31,
   "metadata": {
    "tags": []
   },
   "outputs": [],
   "source": [
    "# Gegeven:\n",
    "def model_zonnestraling(tilt:float, azimuth:float, tijdsreeks:pd.core.indexes.datetimes.DatetimeIndex, lat:float, lon:float) -> pd.DataFrame:\n",
    "    \"\"\"Berekent de hoeveelheid stroom die een paneel maximaal produceert met 100% efficientie\"\"\"\n",
    "\n",
    "    zonne_positie_aan_hemel = pvlib.solarposition.get_solarposition(tijdsreeks, lat, lon)\n",
    "\n",
    "    #locatie = pvlib.location.Location(latitude=lat, longitude=lon, name='Plaatsnaam', tz=pytz.timezone(r'Europe/Amsterdam'))\n",
    "    locatie = pvlib.location.Location(latitude=lat, longitude=lon, name='Plaatsnaam', tz=pytz.timezone(r'UTC'))\n",
    "    heldere_hemel = locatie.get_clearsky(tijdsreeks)\n",
    "\n",
    "    instraling = pvlib.irradiance.get_total_irradiance(tilt,\n",
    "                                                       azimuth,\n",
    "                                                       zonne_positie_aan_hemel['zenith'],\n",
    "                                                       zonne_positie_aan_hemel['azimuth'],\n",
    "                                                       heldere_hemel.dni,\n",
    "                                                       heldere_hemel.ghi,\n",
    "                                                       heldere_hemel.dhi)\n",
    "\n",
    "    return instraling['poa_global'].to_frame().rename(columns={'poa_global':'zonlicht'})"
   ]
  },
  {
   "cell_type": "code",
   "execution_count": 37,
   "metadata": {},
   "outputs": [],
   "source": [
    "def model_paneel(tilt: float, azimuth: float, efficientie: float, tijdsreeks: pd.DatetimeIndex, lat: float, lon: float) -> pd.DataFrame:\n",
    "    \"\"\"Berekent de hoeveelheid geabsorbeerd zonlicht op een paneel op basis van de efficiëntie\"\"\"\n",
    "\n",
    "    # Gebruik model_zonnestraling om de zonne-instraling te berekenen met 100% efficiëntie\n",
    "    df_instraling = model_zonnestraling(tilt, azimuth, tijdsreeks, lat, lon)\n",
    "\n",
    "    # Pas de efficiëntie toe om de geabsorbeerde zonne-energie te berekenen\n",
    "    df_model = df_instraling.copy()\n",
    "    df_model['geabsorbeerd'] = df_model['zonlicht'] * efficientie\n",
    "\n",
    "    return df_model"
   ]
  },
  {
   "cell_type": "code",
   "execution_count": 38,
   "metadata": {
    "tags": []
   },
   "outputs": [],
   "source": [
    "def loss(params: Tuple[float, float, float], df_waarneming: pd.DataFrame, lat: float, lon: float) -> float:\n",
    "    \"\"\"Bereken de verliesfunctie voor de optimalisatie\"\"\"\n",
    "\n",
    "    tilt, azimuth, efficientie = params\n",
    "    tijdsreeks = df_waarneming.index\n",
    "\n",
    "    # Verkrijg modelresultaten\n",
    "    df_model = model_paneel(tilt, azimuth, efficientie, tijdsreeks, lat, lon)\n",
    "\n",
    "    # Bereken de kwadratische afwijking tussen waarnemingen en model\n",
    "    verschil = df_waarneming['production'] - df_model['geabsorbeerd']\n",
    "    verlies = (verschil ** 2).mean()  # Gemiddelde kwadratische afwijking\n",
    "\n",
    "    return verlies"
   ]
  },
  {
   "cell_type": "code",
   "execution_count": 48,
   "metadata": {},
   "outputs": [
    {
     "name": "stdout",
     "output_type": "stream",
     "text": [
      "\n",
      "Vergelijking van Optimalisatie Resultaten:\n",
      "Amsterdam:\n",
      "  Tilt:        0.8°\n",
      "  Azimuth:     182.4°\n",
      "  Efficientie: 9.2%\n",
      "Cairo:\n",
      "  Tilt:        0.0°\n",
      "  Azimuth:     152.8°\n",
      "  Efficientie: 6.7%\n",
      "Sydney:\n",
      "  Tilt:        90.0°\n",
      "  Azimuth:     180.1°\n",
      "  Efficientie: 5.5%\n"
     ]
    }
   ],
   "source": [
    "# Definieer de locatiecoördinaten\n",
    "locations = {\n",
    "    'Amsterdam': {'lat': 52.379189, 'lon': 4.899431},\n",
    "    'Cairo': {'lat': 30.0444, 'lon': 31.2357},\n",
    "    'Sydney': {'lat': -33.8688, 'lon': 151.2093}\n",
    "}\n",
    "\n",
    "# Definieer initiële waarden voor tilt, azimuth en efficiëntie\n",
    "tilt_init = 35\n",
    "azimuth_init = 180\n",
    "efficientie_init = 0.2\n",
    "\n",
    "# Functie om optimalisatie uit te voeren\n",
    "def optimize_location(lat: float, lon: float, df: pd.DataFrame) -> pd.Series:\n",
    "    result = minimize(\n",
    "        fun=loss,\n",
    "        x0=(tilt_init, azimuth_init, efficientie_init),\n",
    "        args=(df, lat, lon),\n",
    "        method='L-BFGS-B',\n",
    "        bounds=[(0, 90), (0, 360), (0, 1)]\n",
    "    )\n",
    "    return pd.Series(result.x, index=['Tilt', 'Azimuth', 'Efficientie'])\n",
    "\n",
    "# Resultaten voor elke locatie\n",
    "results = {}\n",
    "for city, coords in locations.items():\n",
    "    result = optimize_location(coords['lat'], coords['lon'], combined_df)\n",
    "    results[city] = result\n",
    "\n",
    "# Print de resultaten\n",
    "print(\"\\nVergelijking van Optimalisatie Resultaten:\")\n",
    "for city, result in results.items():\n",
    "    print(f\"{city}:\")\n",
    "    print(f\"  Tilt:        {result['Tilt']:.1f}°\")\n",
    "    print(f\"  Azimuth:     {result['Azimuth']:.1f}°\")\n",
    "    print(f\"  Efficientie: {result['Efficientie']*100:.1f}%\")"
   ]
  },
  {
   "cell_type": "markdown",
   "metadata": {},
   "source": [
    "## Evaluation\n",
    "Op basis van de optimalisatie van zonnepanelenparameters voor de drie locaties kunnen we de volgende conclusies trekken:\n",
    "\n",
    "- **Amsterdam:** Lage tilt (0.8°) en azimuth dicht bij het zuiden (182.4°) wijzen op een optimalisatie voor relatief gematigde zonne-instraling. De hogere efficiëntie (9.2%) kan worden toegeschreven aan het relatief constante zonlicht gedurende het jaar.\n",
    "\n",
    "- **Cairo:** Geen tilt (0.0°) en een azimuth van 152.8° wijzen op een focus op het minimaliseren van schaduw, passend bij de zeer zonnige omstandigheden. Lagere efficiëntie (6.7%) kan te maken hebben met intensieve zoninstraling die moeilijk te benutten is zonder een optimale tilt.\n",
    "\n",
    "- **Sydney:** Maximale tilt (90.0°) en een azimuth dicht bij het zuiden (180.1°) suggereren dat zonnepanelen zijn afgestemd op een constante hoge zonnestraling. De lagere efficiëntie (5.5%) kan het gevolg zijn van een mix van hoge zonnestraling en schaduwwerking, met mogelijk minder constante zoninstraling gedurende het jaar."
   ]
  }
 ],
 "metadata": {
  "kernelspec": {
   "display_name": "Python 3",
   "language": "python",
   "name": "python3"
  },
  "language_info": {
   "codemirror_mode": {
    "name": "ipython",
    "version": 3
   },
   "file_extension": ".py",
   "mimetype": "text/x-python",
   "name": "python",
   "nbconvert_exporter": "python",
   "pygments_lexer": "ipython3",
   "version": "3.12.5"
  }
 },
 "nbformat": 4,
 "nbformat_minor": 4
}
