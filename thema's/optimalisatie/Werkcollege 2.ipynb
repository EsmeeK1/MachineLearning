{
 "cells": [
  {
   "attachments": {},
   "cell_type": "markdown",
   "metadata": {},
   "source": [
    "# Thema 2 - Optimalisatie \n",
    "## Werkcollege 2\n",
    "\n",
    "\n",
    "### Leerdoelen\n",
    "In dit werkcollege.. \n",
    "* leer je afbeeldingen te analyseren, waaronder hoe een afbeelding digitaal werkt\n",
    "* fit je een model aan complexe (afbeeldings-)data\n",
    "* pas je brute force en line search methodes toe\n",
    "* ontwikkel je een op maat gemaakte cost functie\n",
    "* leer je de skimage library gebruiken"
   ]
  },
  {
   "attachments": {},
   "cell_type": "markdown",
   "metadata": {},
   "source": [
    "In de eerste les heb je gezien hoe je een model kunt bouwen om een model aan een reeks datapunten te fitten. Dit noemen we ook wel een regressieprobleem. \n",
    "\n",
    "In deze tweede les laten we je zien dat optimalisatie een breder toepassingsgebied heeft. In dit geval gaan we aan de slag met afbeeldingsdata. Maar in feite is elk probleem waarbij je door middel van het spelen met de parameters op zoek gaat naar de optimale instelling een geschikt onderwerp."
   ]
  },
  {
   "cell_type": "code",
   "execution_count": null,
   "metadata": {
    "tags": []
   },
   "outputs": [],
   "source": [
    "# De libraries voor deze les\n",
    "import pandas as pd                       # pip install pandas\n",
    "import numpy as np                        # pip install numpy\n",
    "import pylab as plt                       # pip install matplotlib\n",
    "from mpl_toolkits.mplot3d import Axes3D   # pip install matplotlib\n",
    "from scipy.optimize import minimize, brute    # pip install scipy\n",
    "from skimage import io, transform         # pip install scikit-image\n",
    "from datetime import datetime\n",
    "from numpy import sin, cos, pi, exp\n",
    "\n",
    "import plotly.graph_objects as go         # pip install ipywidgets jupyter-dash plotly\n",
    "                                          # jupyter labextension install @jupyter-widgets/jupyterlab-manager jupyterlab-plotly"
   ]
  },
  {
   "attachments": {},
   "cell_type": "markdown",
   "metadata": {},
   "source": [
    "### Business Understanding\n",
    "We gaan aan de slag met het verwerken van afbeeldingsdata. Zoals je misschien weet bestaan afbeeldingen op een computer uit een rood, groen en blauwe kleur. Dit zijn de zogenaamde RGB waarden, die je ook op een computer vaak gebruikt. Zo is de RGB waarde (255,0,0) de kleur rood en is de waarde (255,255,255) de kleur wit.\n",
    "\n",
    "Moderne camera's maken foto's die in een keer alle drie de kleuren registreren. Bij de uitvinding van de camera in het begin van de 19e eeuw was hier nog geen sprake van. De camera's registreerden niks meer dan licht en donker, waarmee ze alleen enkel zwartwit foto's wisten te schieten.\n",
    "\n",
    "<figure>\n",
    "    <img src=\"Boulevard_du_Temple_by_Daguerre.jpg\" width=600 alt=\"Eerste foto met een persoon\"/>\n",
    "    <figcaption><i>Een zwartwit foto uit 1838. Dit is de oudste foto met een persoon er op. Zie ook <a href=\"https://en.wikipedia.org/wiki/History_of_photography\">Wikipedia</a> voor meer informatie. </i></figcaption>\n",
    "</figure>\n",
    "\n",
    "De volgende doorbraak kwam met de ontwikkeling van kleurfilters. Door deze voor de lens te zetten konden losse foto's worden gemaakt van de roodtinten, de groentinten en de blauwtinten. Door deze foto's vervolgens tijdens het ontwikkelen te combineren, ontstond een kleurfoto. \n",
    "\n",
    "Een van de eerste fotografen die gebruik maakte van deze techniek was Sergei Mikhailovich Prokudin-Gorskii (1863-1944). Hij maakte tussen 1905 en 1915 een lange reis door het Russische Rijk. Op zijn reis maakte hij meer dan 2600 van dit soort RGB foto's. Je kunt de collectie <a href=\"https://www.loc.gov/collections/prokudin-gorskii/\">hier</a> bekijken. \n",
    "\n",
    "<figure>\n",
    "    <img src=\"master-pnp-prok-00100-00187a.jpg\" width=900 alt=\"RGB foto\"/><br />\n",
    "    <img src=\"service-pnp-prokc-20100-20187v.jpg\" width=300 alt=\"RGB foto\"/>\n",
    "    <figcaption><i>De rood, groen en blauw gefilterde foto's boven. Onder de gecombineerde foto. Foto uit 1905. <a href=\"https://www.loc.gov/item/2018679062/\">https://www.loc.gov/item/2018679062/</a></i></figcaption>\n",
    "</figure>\n",
    "\n",
    "In de bovenstaande figuur zie je hoe drie van deze afbeeldingen gecombineerd worden tot één afbeelding. In deze les gaan wij dit ook doen voor een van zijn andere afbeeldingen. De complexiteit van het probleem zit in de onderlinge verschuiving van de afbeeldingen. Als we de rode afbeelding als de basis nemen, dan kan bijvoorbeeld de groene afbeelding 2 pixels omlaag geschoven zijn en de blauwe juist 4 pixels naar rechts. Het optimalisatieprobleem is dus het vinden van de verschuiving in de hoogte $x$ en breedte $y$ richtingen tussen twee afbeeldingen (let op, de naamgeving $x$ en $y$ is wat onlogisch, maar bewust om in lijn te zijn met de code). Door dit tweemaal te doen (rood+blauw en rood+groen), kan de perfecte RGB afbeeldingen worden gemaakt.\n"
   ]
  },
  {
   "attachments": {},
   "cell_type": "markdown",
   "metadata": {},
   "source": [
    "## Data Understanding\n",
    "We beginnen de opdracht met het importeren van een andere afbeelding (bron: <a href=\"https://www.loc.gov/item/2018679144/\">https://www.loc.gov/item/2018679144</a>). Alle drie de filters zitten boven elkaar op één afbeelding"
   ]
  },
  {
   "cell_type": "code",
   "execution_count": null,
   "metadata": {
    "tags": []
   },
   "outputs": [],
   "source": [
    "stained_glass = io.imread('master-pnp-prok-00200-00219a.tif') / 255 / 255"
   ]
  },
  {
   "attachments": {},
   "cell_type": "markdown",
   "metadata": {
    "execution": {
     "iopub.execute_input": "2021-11-25T10:22:30.529189Z",
     "iopub.status.busy": "2021-11-25T10:22:30.529189Z",
     "iopub.status.idle": "2021-11-25T10:22:30.543193Z",
     "shell.execute_reply": "2021-11-25T10:22:30.543193Z",
     "shell.execute_reply.started": "2021-11-25T10:22:30.529189Z"
    },
    "tags": []
   },
   "source": [
    "#### Opdracht\n",
    "- Zoek voor de afbeeldingen uit wat de shape, minimum en maximum waarden zijn. Wat valt je op?\n",
    "- Toon de afbeelding (hint: maak gebruik van de plt.imshow en cmap='gray')"
   ]
  },
  {
   "cell_type": "code",
   "execution_count": null,
   "metadata": {
    "tags": []
   },
   "outputs": [],
   "source": [
    "# Plaats hier je uitwerking"
   ]
  },
  {
   "attachments": {},
   "cell_type": "markdown",
   "metadata": {
    "execution": {
     "iopub.execute_input": "2021-11-24T11:08:33.331167Z",
     "iopub.status.busy": "2021-11-24T11:08:33.331167Z",
     "iopub.status.idle": "2021-11-24T11:08:33.341167Z",
     "shell.execute_reply": "2021-11-24T11:08:33.341167Z",
     "shell.execute_reply.started": "2021-11-24T11:08:33.331167Z"
    }
   },
   "source": [
    "## Data Preparation\n",
    "Als eerste stap willen we de afbeeldingen in drie losse kanalen splitsen zodat we er mee kunnen werken. Omdat de code hiervoor wat complex is, krijg je deze van ons:"
   ]
  },
  {
   "cell_type": "code",
   "execution_count": null,
   "metadata": {
    "tags": []
   },
   "outputs": [],
   "source": [
    "nrows = stained_glass.shape[0]\n",
    "step = nrows // 3\n",
    "skip = 4 # Skip some pixels\n",
    "channels = (stained_glass[:step:skip, ::skip], stained_glass[step:2*step:skip, ::skip], stained_glass[2*step:3*step:skip, ::skip])\n",
    "channel_names = ['blue', 'green', 'red']\n",
    "\n",
    "fig, axes = plt.subplots(1, 3, figsize=(15,15), tight_layout=True)\n",
    "for ax, image, name in zip(axes, channels, channel_names): \n",
    "    _ = ax.imshow(image, cmap='gray')\n",
    "    _ = ax.axis('off')\n",
    "    _ = ax.set_title(name)"
   ]
  },
  {
   "attachments": {},
   "cell_type": "markdown",
   "metadata": {
    "execution": {
     "iopub.execute_input": "2021-11-25T10:22:32.583191Z",
     "iopub.status.busy": "2021-11-25T10:22:32.583191Z",
     "iopub.status.idle": "2021-11-25T10:22:32.598188Z",
     "shell.execute_reply": "2021-11-25T10:22:32.598188Z",
     "shell.execute_reply.started": "2021-11-25T10:22:32.583191Z"
    },
    "tags": []
   },
   "source": [
    "#### Opdracht\n",
    "Voorzie de bovenstaande code van comments zodat de werking duidelijk is"
   ]
  },
  {
   "cell_type": "code",
   "execution_count": null,
   "metadata": {
    "tags": []
   },
   "outputs": [],
   "source": [
    "# Plaats hier je uitwerking"
   ]
  },
  {
   "attachments": {},
   "cell_type": "markdown",
   "metadata": {},
   "source": [
    "We hebben nu de drie losse afbeeldingen in een tuple zitten. Laten we de afbeeldingen nu gaan stapelen en onze eerste kleurenafbeelding maken."
   ]
  },
  {
   "attachments": {},
   "cell_type": "markdown",
   "metadata": {
    "execution": {
     "iopub.execute_input": "2021-11-25T10:22:32.614192Z",
     "iopub.status.busy": "2021-11-25T10:22:32.614192Z",
     "iopub.status.idle": "2021-11-25T10:22:32.629190Z",
     "shell.execute_reply": "2021-11-25T10:22:32.629190Z",
     "shell.execute_reply.started": "2021-11-25T10:22:32.614192Z"
    },
    "tags": []
   },
   "source": [
    "#### Opdracht: \n",
    "- Combineer de drie kleurkanalen tot een RGB afbeelding. \n",
    "- Zorg er voor dat je de juiste kleurfiltervolgorde maakt.\n",
    "- Hoe goed is de uitlijning van de afbeeldingen?\n",
    "\n",
    "Hint: Maak gebruik van numpy.dstack"
   ]
  },
  {
   "cell_type": "code",
   "execution_count": null,
   "metadata": {
    "tags": []
   },
   "outputs": [],
   "source": [
    "# Plaats hier je uitwerking"
   ]
  },
  {
   "attachments": {},
   "cell_type": "markdown",
   "metadata": {},
   "source": [
    "## Modelling\n",
    "We hebben nu de puzzelstukjes voor het uitlijnen van de afbeelding. We hebben nu een tweetal functies nodig. \n",
    "- De eerste verschuift een afbeeldingen met een $x$ en $y$ waarde (gecombineerd in één tuple genaamd _params_) en geeft vervolgens een afbeelding van hetzelfde formaat terug. In de code heet een verschuiving een _translation_. We noemen deze functie _shift\\_image_.\n",
    "- De tweede berekent de mean-squared-error tussen de afbeeldingen. Dit is dezelfde functie als in het eerste lesdeel\n",
    "- Als derde een functie die als input de verschuif-parameters neemt plus de twee afbeeldingen. De functie verschuift de afbeelding eerst en berekent dan de MSE.\n",
    "\n",
    "We geven je de eerste twee functies. De derde moet je zelf programmeren"
   ]
  },
  {
   "attachments": {},
   "cell_type": "markdown",
   "metadata": {
    "execution": {
     "iopub.execute_input": "2021-11-25T10:22:33.251192Z",
     "iopub.status.busy": "2021-11-25T10:22:33.251192Z",
     "iopub.status.idle": "2021-11-25T10:22:33.266188Z",
     "shell.execute_reply": "2021-11-25T10:22:33.266188Z",
     "shell.execute_reply.started": "2021-11-25T10:22:33.251192Z"
    },
    "tags": []
   },
   "source": [
    "#### Opdracht: \n",
    "Schrijf een functie _cost_ die:\n",
    "- als input de waarden params, image1 en image2 neemt\n",
    "- met behulp van shift_image de image2 verschuift op basis van params\n",
    "- vervolgens de MSE als output geeft van image1 en de verschoven afbeelding"
   ]
  },
  {
   "cell_type": "code",
   "execution_count": null,
   "metadata": {
    "tags": []
   },
   "outputs": [],
   "source": [
    "# Gegeven\n",
    "def shift_image(params, original_image):\n",
    "    \n",
    "    tf = transform.EuclideanTransform(translation=params)\n",
    "    \n",
    "    return transform.warp(original_image, tf, order=3)"
   ]
  },
  {
   "cell_type": "code",
   "execution_count": null,
   "metadata": {
    "tags": []
   },
   "outputs": [],
   "source": [
    "# Gegeven\n",
    "def MSE(y1, y2) -> float:\n",
    "    return sum((y1 - y2)**2) / len(y1)"
   ]
  },
  {
   "cell_type": "code",
   "execution_count": null,
   "metadata": {
    "tags": []
   },
   "outputs": [],
   "source": [
    "# Plaats hier je uitwerking"
   ]
  },
  {
   "attachments": {},
   "cell_type": "markdown",
   "metadata": {
    "execution": {
     "iopub.execute_input": "2021-11-25T10:22:33.314189Z",
     "iopub.status.busy": "2021-11-25T10:22:33.314189Z",
     "iopub.status.idle": "2021-11-25T10:22:33.328188Z",
     "shell.execute_reply": "2021-11-25T10:22:33.328188Z",
     "shell.execute_reply.started": "2021-11-25T10:22:33.314189Z"
    },
    "tags": []
   },
   "source": [
    "#### Opdracht: Laat het brute-algoritme los op de blauwe en groene kanalen \n",
    "- Doe een brute-force voor alle waarden van de verschuiving van -30 naar 30.\n",
    "- Hint: slice(-30,30,1)\n",
    "- Zet als extra parameters voor brute full_output=True en finish=None\n",
    "- Visualiseer vervolgens het cost-landscape? Is dit een global of local minimum probleem?\n",
    "- Wat valt je op? Waar ligt het optimum? "
   ]
  },
  {
   "cell_type": "code",
   "execution_count": null,
   "metadata": {
    "tags": []
   },
   "outputs": [],
   "source": [
    "# Plaats hier je uitwerking"
   ]
  },
  {
   "cell_type": "code",
   "execution_count": null,
   "metadata": {
    "tags": []
   },
   "outputs": [],
   "source": [
    "# Plaats hier je uitwerking"
   ]
  },
  {
   "cell_type": "code",
   "execution_count": null,
   "metadata": {
    "tags": []
   },
   "outputs": [],
   "source": [
    "# Plaats hier je uitwerking"
   ]
  },
  {
   "attachments": {},
   "cell_type": "markdown",
   "metadata": {},
   "source": [
    "## Evaluation"
   ]
  },
  {
   "attachments": {},
   "cell_type": "markdown",
   "metadata": {
    "execution": {
     "iopub.execute_input": "2021-11-25T10:25:05.247448Z",
     "iopub.status.busy": "2021-11-25T10:25:05.247448Z",
     "iopub.status.idle": "2021-11-25T10:25:05.262447Z",
     "shell.execute_reply": "2021-11-25T10:25:05.262447Z",
     "shell.execute_reply.started": "2021-11-25T10:25:05.247448Z"
    },
    "tags": []
   },
   "source": [
    "#### Opdracht\n",
    "De oplossing lijkt (4,7) te zijn, maar er is een tweede dal op (0,0)? Is dat logisch? Wat kan de reden zijn voor deze twee dallen?\n",
    "\n",
    "Hint: Plot een verschilkaart tussen de twee afbeeldingen. Verschuif één van de twee afbeeldingen met 10 pixels en plot opnieuw. Wat valt op?"
   ]
  },
  {
   "cell_type": "code",
   "execution_count": null,
   "metadata": {
    "tags": []
   },
   "outputs": [],
   "source": [
    "# Plaats hier je uitwerking"
   ]
  },
  {
   "cell_type": "code",
   "execution_count": null,
   "metadata": {
    "tags": []
   },
   "outputs": [],
   "source": [
    "# Plaats hier je uitwerking"
   ]
  },
  {
   "attachments": {},
   "cell_type": "markdown",
   "metadata": {},
   "source": [
    "### Verbetering: Alleen kijken naar het centrale gedeelte"
   ]
  },
  {
   "attachments": {},
   "cell_type": "markdown",
   "metadata": {},
   "source": [
    "#### Opdracht\n",
    "Het is duidelijk dat er een probleem ontstaat door verschuivingen, \n",
    "omdat bij verschuivingen blanco pixels ontstaan die een heel grote MSE gaan opleveren.\n",
    " \n",
    "- Pas je cost_center functie aan, zodat het alleen naar het centrale deel van de afbeeldingen kijkt voor het berekenen van de MSE\n",
    "- Test de nieuwe functie met de brute-methode en visualiseer het cost landscape\n",
    "- Is het probleem nu een verbetering?"
   ]
  },
  {
   "cell_type": "code",
   "execution_count": null,
   "metadata": {
    "tags": []
   },
   "outputs": [],
   "source": [
    "# Plaats hier je uitwerking"
   ]
  },
  {
   "cell_type": "code",
   "execution_count": null,
   "metadata": {
    "tags": []
   },
   "outputs": [],
   "source": [
    "# Plaats hier je uitwerking"
   ]
  },
  {
   "cell_type": "code",
   "execution_count": null,
   "metadata": {
    "tags": []
   },
   "outputs": [],
   "source": [
    "# Plaats hier je uitwerking"
   ]
  },
  {
   "cell_type": "code",
   "execution_count": null,
   "metadata": {
    "tags": []
   },
   "outputs": [],
   "source": [
    "# Plaats hier je uitwerking"
   ]
  },
  {
   "attachments": {},
   "cell_type": "markdown",
   "metadata": {},
   "source": [
    "## Definitieve afbeelding\n",
    "We hebben een werkende aanpak gevonden met de centrale methode. Laten we de techniek gaan gebruiken om de definitieve afbeelding te maken."
   ]
  },
  {
   "attachments": {},
   "cell_type": "markdown",
   "metadata": {
    "execution": {
     "iopub.execute_input": "2021-11-25T10:38:42.924310Z",
     "iopub.status.busy": "2021-11-25T10:38:42.923310Z",
     "iopub.status.idle": "2021-11-25T10:38:42.925310Z",
     "shell.execute_reply": "2021-11-25T10:38:42.925310Z",
     "shell.execute_reply.started": "2021-11-25T10:38:42.924310Z"
    }
   },
   "source": [
    "#### Opdracht\n",
    "Nu we een goede methode hebben ontwikkeld, is het tijd om de afbeelding te maken\n",
    "- Bereken nog eenmaal de verschuivingen voor de combinaties blauw-groen en blauw-rood\n",
    "- Maak hiervoor gebruik van de brute functie uit scipy.optimize\n",
    "- Toon het eindplaatje als een RGB afbeelding"
   ]
  },
  {
   "cell_type": "code",
   "execution_count": null,
   "metadata": {
    "tags": []
   },
   "outputs": [],
   "source": [
    "# Plaats hier je uitwerking"
   ]
  },
  {
   "cell_type": "code",
   "execution_count": null,
   "metadata": {
    "tags": []
   },
   "outputs": [],
   "source": [
    "# Plaats hier je uitwerking"
   ]
  },
  {
   "cell_type": "code",
   "execution_count": null,
   "metadata": {
    "tags": []
   },
   "outputs": [],
   "source": [
    "# Plaats hier je uitwerking"
   ]
  },
  {
   "attachments": {},
   "cell_type": "markdown",
   "metadata": {
    "execution": {
     "iopub.execute_input": "2021-11-24T10:45:27.128083Z",
     "iopub.status.busy": "2021-11-24T10:45:27.128083Z",
     "iopub.status.idle": "2021-11-24T10:45:27.142083Z",
     "shell.execute_reply": "2021-11-24T10:45:27.142083Z",
     "shell.execute_reply.started": "2021-11-24T10:45:27.128083Z"
    }
   },
   "source": [
    "## Bronvermelding:\n",
    "<ul>\n",
    "    <li><a href=\"https://loc.gov/collections/prokudin-gorskii/about-this-collection/\">Library of Congress</a></li>\n",
    "    <li><a href=\"https://en.wikipedia.org/wiki/History_of_photography\">Wikipedia</a></li>\n",
    "</ul>"
   ]
  }
 ],
 "metadata": {
  "kernelspec": {
   "display_name": "Python 3",
   "language": "python",
   "name": "python3"
  },
  "language_info": {
   "codemirror_mode": {
    "name": "ipython",
    "version": 3
   },
   "file_extension": ".py",
   "mimetype": "text/x-python",
   "name": "python",
   "nbconvert_exporter": "python",
   "pygments_lexer": "ipython3",
   "version": "3.9.0"
  }
 },
 "nbformat": 4,
 "nbformat_minor": 4
}
