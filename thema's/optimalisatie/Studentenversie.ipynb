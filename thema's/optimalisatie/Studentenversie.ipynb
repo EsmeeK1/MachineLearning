{
 "cells": [
  {
   "cell_type": "code",
   "execution_count": 31,
   "metadata": {
    "tags": []
   },
   "outputs": [],
   "source": [
    "# Imports\n",
    "import pandas as pd\n",
    "import seaborn as sns\n",
    "import historicdutchweather\n",
    "import pytz\n",
    "from typing import Tuple\n",
    "import pvlib\n",
    "from datetime import datetime\n",
    "from scipy.optimize import minimize\n",
    "import matplotlib.pyplot as plt"
   ]
  },
  {
   "cell_type": "markdown",
   "metadata": {},
   "source": [
    "# Business Understanding\n",
    "We kijken naar zonnepaneeldata over een periode van net iets minder naar twee jaar. De metingen bestaan uit het wattage dat elke minuut door de panelen werd opgewekt. Hierbij is de data al omgezet naar watt per vierkante meter.\n",
    "\n",
    "We zijn op zoek naar de efficientie van de panelen. Deze kan berekend worden door de theoretische hoeveelheid opbrengst te nemen en deze te verlagen met een bepaalde factor om de werkelijke meting te benaderen. Deze factor is de efficientie.\n",
    "\n",
    "Om deze berekening te moeten doen, maken we gebruik van de pvlib library. Hierbij is het nodig om de helling van het zonnepaneel met het dak te weten (de tilt). En ook de richting van het paneel (de azimuth). De azimuth loopt van 0 graden noord, naar 90 graden oost, naar 180 graden zuid en dan naar 270 graden west."
   ]
  },
  {
   "cell_type": "markdown",
   "metadata": {},
   "source": [
    "# Data Understanding\n",
    "## Stroomproductiedata ophalen"
   ]
  },
  {
   "cell_type": "code",
   "execution_count": 32,
   "metadata": {
    "tags": []
   },
   "outputs": [],
   "source": [
    "df = pd.read_csv('../../bijlagen/dataset.csv')\n",
    "df['time'] = pd.to_datetime(df['time'])"
   ]
  },
  {
   "cell_type": "code",
   "execution_count": 33,
   "metadata": {},
   "outputs": [
    {
     "data": {
      "text/html": [
       "<div>\n",
       "<style scoped>\n",
       "    .dataframe tbody tr th:only-of-type {\n",
       "        vertical-align: middle;\n",
       "    }\n",
       "\n",
       "    .dataframe tbody tr th {\n",
       "        vertical-align: top;\n",
       "    }\n",
       "\n",
       "    .dataframe thead th {\n",
       "        text-align: right;\n",
       "    }\n",
       "</style>\n",
       "<table border=\"1\" class=\"dataframe\">\n",
       "  <thead>\n",
       "    <tr style=\"text-align: right;\">\n",
       "      <th></th>\n",
       "      <th>time</th>\n",
       "      <th>production</th>\n",
       "    </tr>\n",
       "  </thead>\n",
       "  <tbody>\n",
       "    <tr>\n",
       "      <th>0</th>\n",
       "      <td>2020-04-10 10:31:35+00:00</td>\n",
       "      <td>96.666667</td>\n",
       "    </tr>\n",
       "    <tr>\n",
       "      <th>1</th>\n",
       "      <td>2020-04-10 10:32:35+00:00</td>\n",
       "      <td>96.666667</td>\n",
       "    </tr>\n",
       "    <tr>\n",
       "      <th>2</th>\n",
       "      <td>2020-04-10 10:33:35+00:00</td>\n",
       "      <td>93.333333</td>\n",
       "    </tr>\n",
       "    <tr>\n",
       "      <th>3</th>\n",
       "      <td>2020-04-10 10:34:35+00:00</td>\n",
       "      <td>100.000000</td>\n",
       "    </tr>\n",
       "    <tr>\n",
       "      <th>4</th>\n",
       "      <td>2020-04-10 10:35:36+00:00</td>\n",
       "      <td>103.333333</td>\n",
       "    </tr>\n",
       "  </tbody>\n",
       "</table>\n",
       "</div>"
      ],
      "text/plain": [
       "                       time  production\n",
       "0 2020-04-10 10:31:35+00:00   96.666667\n",
       "1 2020-04-10 10:32:35+00:00   96.666667\n",
       "2 2020-04-10 10:33:35+00:00   93.333333\n",
       "3 2020-04-10 10:34:35+00:00  100.000000\n",
       "4 2020-04-10 10:35:36+00:00  103.333333"
      ]
     },
     "execution_count": 33,
     "metadata": {},
     "output_type": "execute_result"
    }
   ],
   "source": [
    "df.head()"
   ]
  },
  {
   "cell_type": "code",
   "execution_count": 34,
   "metadata": {},
   "outputs": [
    {
     "data": {
      "text/html": [
       "<div>\n",
       "<style scoped>\n",
       "    .dataframe tbody tr th:only-of-type {\n",
       "        vertical-align: middle;\n",
       "    }\n",
       "\n",
       "    .dataframe tbody tr th {\n",
       "        vertical-align: top;\n",
       "    }\n",
       "\n",
       "    .dataframe thead th {\n",
       "        text-align: right;\n",
       "    }\n",
       "</style>\n",
       "<table border=\"1\" class=\"dataframe\">\n",
       "  <thead>\n",
       "    <tr style=\"text-align: right;\">\n",
       "      <th></th>\n",
       "      <th>time</th>\n",
       "      <th>production</th>\n",
       "    </tr>\n",
       "  </thead>\n",
       "  <tbody>\n",
       "    <tr>\n",
       "      <th>1266003</th>\n",
       "      <td>2022-09-06 17:32:35+00:00</td>\n",
       "      <td>0.000000</td>\n",
       "    </tr>\n",
       "    <tr>\n",
       "      <th>1266004</th>\n",
       "      <td>2022-09-06 17:33:35+00:00</td>\n",
       "      <td>3.333333</td>\n",
       "    </tr>\n",
       "    <tr>\n",
       "      <th>1266005</th>\n",
       "      <td>2022-09-06 17:34:35+00:00</td>\n",
       "      <td>0.000000</td>\n",
       "    </tr>\n",
       "    <tr>\n",
       "      <th>1266006</th>\n",
       "      <td>2022-09-06 17:35:35+00:00</td>\n",
       "      <td>0.000000</td>\n",
       "    </tr>\n",
       "    <tr>\n",
       "      <th>1266007</th>\n",
       "      <td>2022-09-06 17:36:35+00:00</td>\n",
       "      <td>3.333333</td>\n",
       "    </tr>\n",
       "  </tbody>\n",
       "</table>\n",
       "</div>"
      ],
      "text/plain": [
       "                             time  production\n",
       "1266003 2022-09-06 17:32:35+00:00    0.000000\n",
       "1266004 2022-09-06 17:33:35+00:00    3.333333\n",
       "1266005 2022-09-06 17:34:35+00:00    0.000000\n",
       "1266006 2022-09-06 17:35:35+00:00    0.000000\n",
       "1266007 2022-09-06 17:36:35+00:00    3.333333"
      ]
     },
     "execution_count": 34,
     "metadata": {},
     "output_type": "execute_result"
    }
   ],
   "source": [
    "df.tail()"
   ]
  },
  {
   "cell_type": "code",
   "execution_count": 35,
   "metadata": {},
   "outputs": [
    {
     "name": "stdout",
     "output_type": "stream",
     "text": [
      "<class 'pandas.core.frame.DataFrame'>\n",
      "RangeIndex: 1266008 entries, 0 to 1266007\n",
      "Data columns (total 2 columns):\n",
      " #   Column      Non-Null Count    Dtype              \n",
      "---  ------      --------------    -----              \n",
      " 0   time        1266008 non-null  datetime64[ns, UTC]\n",
      " 1   production  1266008 non-null  float64            \n",
      "dtypes: datetime64[ns, UTC](1), float64(1)\n",
      "memory usage: 19.3 MB\n"
     ]
    }
   ],
   "source": [
    "df.info()"
   ]
  },
  {
   "cell_type": "code",
   "execution_count": 36,
   "metadata": {},
   "outputs": [
    {
     "data": {
      "text/html": [
       "<div>\n",
       "<style scoped>\n",
       "    .dataframe tbody tr th:only-of-type {\n",
       "        vertical-align: middle;\n",
       "    }\n",
       "\n",
       "    .dataframe tbody tr th {\n",
       "        vertical-align: top;\n",
       "    }\n",
       "\n",
       "    .dataframe thead th {\n",
       "        text-align: right;\n",
       "    }\n",
       "</style>\n",
       "<table border=\"1\" class=\"dataframe\">\n",
       "  <thead>\n",
       "    <tr style=\"text-align: right;\">\n",
       "      <th></th>\n",
       "      <th>production</th>\n",
       "    </tr>\n",
       "  </thead>\n",
       "  <tbody>\n",
       "    <tr>\n",
       "      <th>count</th>\n",
       "      <td>1.266008e+06</td>\n",
       "    </tr>\n",
       "    <tr>\n",
       "      <th>mean</th>\n",
       "      <td>2.181287e+01</td>\n",
       "    </tr>\n",
       "    <tr>\n",
       "      <th>std</th>\n",
       "      <td>7.722842e+01</td>\n",
       "    </tr>\n",
       "    <tr>\n",
       "      <th>min</th>\n",
       "      <td>0.000000e+00</td>\n",
       "    </tr>\n",
       "    <tr>\n",
       "      <th>25%</th>\n",
       "      <td>0.000000e+00</td>\n",
       "    </tr>\n",
       "    <tr>\n",
       "      <th>50%</th>\n",
       "      <td>0.000000e+00</td>\n",
       "    </tr>\n",
       "    <tr>\n",
       "      <th>75%</th>\n",
       "      <td>2.000000e+01</td>\n",
       "    </tr>\n",
       "    <tr>\n",
       "      <th>max</th>\n",
       "      <td>2.206667e+03</td>\n",
       "    </tr>\n",
       "  </tbody>\n",
       "</table>\n",
       "</div>"
      ],
      "text/plain": [
       "         production\n",
       "count  1.266008e+06\n",
       "mean   2.181287e+01\n",
       "std    7.722842e+01\n",
       "min    0.000000e+00\n",
       "25%    0.000000e+00\n",
       "50%    0.000000e+00\n",
       "75%    2.000000e+01\n",
       "max    2.206667e+03"
      ]
     },
     "execution_count": 36,
     "metadata": {},
     "output_type": "execute_result"
    }
   ],
   "source": [
    "df.describe()"
   ]
  },
  {
   "cell_type": "markdown",
   "metadata": {},
   "source": [
    "## Weerdataset ophalen"
   ]
  },
  {
   "cell_type": "code",
   "execution_count": 37,
   "metadata": {},
   "outputs": [
    {
     "name": "stdout",
     "output_type": "stream",
     "text": [
      "Help on function get_local_weather in module historicdutchweather.main:\n",
      "\n",
      "get_local_weather(starttime: datetime.datetime, endtime: datetime.datetime, lat: float, lon: float, N_stations: int = 3, metrics: list = ['T', 'FH', 'DD', 'Q', 'DR', 'RH', 'U', 'N']) -> pandas.core.frame.DataFrame\n",
      "    Get the localized hourly weather from the dutch KNMI website for a particular timeframe.\n",
      "\n",
      "    Currently supports times starting as of 2010\n",
      "\n",
      "    Timestamp represents the start of a particular hour. E.g. 14:00 represents 14:00-15:00\n",
      "\n",
      "    Parameters\n",
      "    ----------\n",
      "    starttime : datetime object which represents the starting time\n",
      "    endtime : datetime object which represents the ending time\n",
      "    lat : target latitude\n",
      "    lon : target longitude\n",
      "    N_stations : number of stations to extrapolate the weather from, defaults to 3\n",
      "    metrics : list of metrics to extrapolate\n",
      "\n"
     ]
    }
   ],
   "source": [
    "import historicdutchweather\n",
    "\n",
    "help(historicdutchweather.get_local_weather)"
   ]
  },
  {
   "cell_type": "code",
   "execution_count": 38,
   "metadata": {
    "tags": []
   },
   "outputs": [
    {
     "name": "stdout",
     "output_type": "stream",
     "text": [
      "Model 2\n"
     ]
    },
    {
     "name": "stderr",
     "output_type": "stream",
     "text": [
      "c:\\Users\\MSI\\Documents\\Projecten\\MachineLearning\\venv\\Lib\\site-packages\\historicdutchweather\\main.py:67: DtypeWarning: Columns (15,16,20,21,22,23,24) have mixed types. Specify dtype option on import or set low_memory=False.\n",
      "  df = pd.read_csv(url, comment=\"#\", skiprows=30, skip_blank_lines=True, names=__headerline)\n",
      "c:\\Users\\MSI\\Documents\\Projecten\\MachineLearning\\venv\\Lib\\site-packages\\historicdutchweather\\main.py:67: DtypeWarning: Columns (3,4,5,6) have mixed types. Specify dtype option on import or set low_memory=False.\n",
      "  df = pd.read_csv(url, comment=\"#\", skiprows=30, skip_blank_lines=True, names=__headerline)\n",
      "100%|██████████| 21096/21096 [06:15<00:00, 56.17it/s]\n"
     ]
    },
    {
     "name": "stdout",
     "output_type": "stream",
     "text": [
      "                                  T         FH         DD              Q  \\\n",
      "2020-04-10 00:00:00+00:00  6.169539  10.447211  78.430644  1.114831e-316   \n",
      "2020-04-10 01:00:00+00:00  5.787512   5.264597  10.819816  1.114831e-316   \n",
      "2020-04-10 02:00:00+00:00  5.357216   4.264597  10.819816  1.114831e-316   \n",
      "2020-04-10 03:00:00+00:00  5.608946   5.264597 -46.791011  1.114831e-316   \n",
      "2020-04-10 04:00:00+00:00  5.052825  -0.918018 -41.006333  1.114831e-316   \n",
      "\n",
      "                                      DR             RH          U    N  \n",
      "2020-04-10 00:00:00+00:00  1.114831e-316  1.114831e-316  82.771855  NaN  \n",
      "2020-04-10 01:00:00+00:00  1.114831e-316  1.114831e-316  79.986188  NaN  \n",
      "2020-04-10 02:00:00+00:00  1.114831e-316  1.114831e-316  81.274519  NaN  \n",
      "2020-04-10 03:00:00+00:00  1.114831e-316  1.114831e-316  83.289154  NaN  \n",
      "2020-04-10 04:00:00+00:00  1.114831e-316  1.114831e-316  87.198875  NaN  \n"
     ]
    },
    {
     "name": "stderr",
     "output_type": "stream",
     "text": [
      "c:\\Users\\MSI\\Documents\\Projecten\\MachineLearning\\venv\\Lib\\site-packages\\historicdutchweather\\main.py:212: FutureWarning: The behavior of array concatenation with empty entries is deprecated. In a future version, this will no longer exclude empty items when determining the result dtype. To retain the old behavior, exclude the empty entries before the concat operation.\n",
      "  return pd.concat([df_template, df_local_weather])[metrics]\n",
      "c:\\Users\\MSI\\Documents\\Projecten\\MachineLearning\\venv\\Lib\\site-packages\\historicdutchweather\\main.py:212: FutureWarning: The behavior of DataFrame concatenation with empty or all-NA entries is deprecated. In a future version, this will no longer exclude empty or all-NA columns when determining the result dtypes. To retain the old behavior, exclude the relevant entries before the concat operation.\n",
      "  return pd.concat([df_template, df_local_weather])[metrics]\n"
     ]
    }
   ],
   "source": [
    "from historicdutchweather import get_local_weather\n",
    "from datetime import datetime\n",
    "\n",
    "# Stel de parameters in\n",
    "starttime = datetime(2020, 4, 10, 0, 0, 0)  # Begin van de periode\n",
    "endtime = datetime(2022, 9, 6, 23, 59, 59)  # Eind van de periode\n",
    "latitude = 52.3676\n",
    "longitude = 4.9041\n",
    "\n",
    "# Verkrijg de weersgegevens\n",
    "weather_data = get_local_weather(\n",
    "    starttime=starttime,\n",
    "    endtime=endtime,\n",
    "    lat=latitude,\n",
    "    lon=longitude,\n",
    "    N_stations=3,\n",
    "    metrics=['T', 'FH', 'DD', 'Q', 'DR', 'RH', 'U', 'N']\n",
    ")\n",
    "\n",
    "print(weather_data.head())"
   ]
  },
  {
   "cell_type": "markdown",
   "metadata": {},
   "source": [
    "## Data Preparation"
   ]
  },
  {
   "cell_type": "markdown",
   "metadata": {},
   "source": [
    "## Resampling naar xx minuten"
   ]
  },
  {
   "cell_type": "code",
   "execution_count": 39,
   "metadata": {
    "tags": []
   },
   "outputs": [
    {
     "name": "stderr",
     "output_type": "stream",
     "text": [
      "C:\\Users\\MSI\\AppData\\Local\\Temp\\ipykernel_5028\\1367633362.py:2: FutureWarning: 'T' is deprecated and will be removed in a future version, please use 'min' instead.\n",
      "  df_resampled = df.resample('10T', on='time').mean()\n"
     ]
    }
   ],
   "source": [
    "# Resample de zonnepaneeldata naar elke 10 minuten (bijvoorbeeld)\n",
    "df_resampled = df.resample('10T', on='time').mean()"
   ]
  },
  {
   "cell_type": "code",
   "execution_count": 40,
   "metadata": {},
   "outputs": [],
   "source": [
    "# Zet de huidige index terug naar een kolom met de naam 'time'\n",
    "weather_data.reset_index(inplace=True)\n",
    "weather_data.rename(columns={'index': 'time'}, inplace=True)  # Verander 'index' naar 'time'"
   ]
  },
  {
   "cell_type": "code",
   "execution_count": 41,
   "metadata": {},
   "outputs": [
    {
     "data": {
      "text/html": [
       "<div>\n",
       "<style scoped>\n",
       "    .dataframe tbody tr th:only-of-type {\n",
       "        vertical-align: middle;\n",
       "    }\n",
       "\n",
       "    .dataframe tbody tr th {\n",
       "        vertical-align: top;\n",
       "    }\n",
       "\n",
       "    .dataframe thead th {\n",
       "        text-align: right;\n",
       "    }\n",
       "</style>\n",
       "<table border=\"1\" class=\"dataframe\">\n",
       "  <thead>\n",
       "    <tr style=\"text-align: right;\">\n",
       "      <th></th>\n",
       "      <th>time</th>\n",
       "      <th>T</th>\n",
       "      <th>FH</th>\n",
       "      <th>DD</th>\n",
       "      <th>Q</th>\n",
       "      <th>DR</th>\n",
       "      <th>RH</th>\n",
       "      <th>U</th>\n",
       "      <th>N</th>\n",
       "    </tr>\n",
       "  </thead>\n",
       "  <tbody>\n",
       "    <tr>\n",
       "      <th>0</th>\n",
       "      <td>2020-04-10 00:00:00+00:00</td>\n",
       "      <td>6.169539</td>\n",
       "      <td>10.447211</td>\n",
       "      <td>78.430644</td>\n",
       "      <td>1.114831e-316</td>\n",
       "      <td>1.114831e-316</td>\n",
       "      <td>1.114831e-316</td>\n",
       "      <td>82.771855</td>\n",
       "      <td>NaN</td>\n",
       "    </tr>\n",
       "    <tr>\n",
       "      <th>1</th>\n",
       "      <td>2020-04-10 01:00:00+00:00</td>\n",
       "      <td>5.787512</td>\n",
       "      <td>5.264597</td>\n",
       "      <td>10.819816</td>\n",
       "      <td>1.114831e-316</td>\n",
       "      <td>1.114831e-316</td>\n",
       "      <td>1.114831e-316</td>\n",
       "      <td>79.986188</td>\n",
       "      <td>NaN</td>\n",
       "    </tr>\n",
       "    <tr>\n",
       "      <th>2</th>\n",
       "      <td>2020-04-10 02:00:00+00:00</td>\n",
       "      <td>5.357216</td>\n",
       "      <td>4.264597</td>\n",
       "      <td>10.819816</td>\n",
       "      <td>1.114831e-316</td>\n",
       "      <td>1.114831e-316</td>\n",
       "      <td>1.114831e-316</td>\n",
       "      <td>81.274519</td>\n",
       "      <td>NaN</td>\n",
       "    </tr>\n",
       "    <tr>\n",
       "      <th>3</th>\n",
       "      <td>2020-04-10 03:00:00+00:00</td>\n",
       "      <td>5.608946</td>\n",
       "      <td>5.264597</td>\n",
       "      <td>-46.791011</td>\n",
       "      <td>1.114831e-316</td>\n",
       "      <td>1.114831e-316</td>\n",
       "      <td>1.114831e-316</td>\n",
       "      <td>83.289154</td>\n",
       "      <td>NaN</td>\n",
       "    </tr>\n",
       "    <tr>\n",
       "      <th>4</th>\n",
       "      <td>2020-04-10 04:00:00+00:00</td>\n",
       "      <td>5.052825</td>\n",
       "      <td>-0.918018</td>\n",
       "      <td>-41.006333</td>\n",
       "      <td>1.114831e-316</td>\n",
       "      <td>1.114831e-316</td>\n",
       "      <td>1.114831e-316</td>\n",
       "      <td>87.198875</td>\n",
       "      <td>NaN</td>\n",
       "    </tr>\n",
       "  </tbody>\n",
       "</table>\n",
       "</div>"
      ],
      "text/plain": [
       "                       time         T         FH         DD              Q  \\\n",
       "0 2020-04-10 00:00:00+00:00  6.169539  10.447211  78.430644  1.114831e-316   \n",
       "1 2020-04-10 01:00:00+00:00  5.787512   5.264597  10.819816  1.114831e-316   \n",
       "2 2020-04-10 02:00:00+00:00  5.357216   4.264597  10.819816  1.114831e-316   \n",
       "3 2020-04-10 03:00:00+00:00  5.608946   5.264597 -46.791011  1.114831e-316   \n",
       "4 2020-04-10 04:00:00+00:00  5.052825  -0.918018 -41.006333  1.114831e-316   \n",
       "\n",
       "              DR             RH          U    N  \n",
       "0  1.114831e-316  1.114831e-316  82.771855  NaN  \n",
       "1  1.114831e-316  1.114831e-316  79.986188  NaN  \n",
       "2  1.114831e-316  1.114831e-316  81.274519  NaN  \n",
       "3  1.114831e-316  1.114831e-316  83.289154  NaN  \n",
       "4  1.114831e-316  1.114831e-316  87.198875  NaN  "
      ]
     },
     "execution_count": 41,
     "metadata": {},
     "output_type": "execute_result"
    }
   ],
   "source": [
    "weather_data.head()"
   ]
  },
  {
   "cell_type": "markdown",
   "metadata": {},
   "source": [
    "## Weer en zonnepanelen combineren"
   ]
  },
  {
   "cell_type": "code",
   "execution_count": 42,
   "metadata": {
    "tags": []
   },
   "outputs": [
    {
     "name": "stderr",
     "output_type": "stream",
     "text": [
      "C:\\Users\\MSI\\AppData\\Local\\Temp\\ipykernel_5028\\699764574.py:6: FutureWarning: 'T' is deprecated and will be removed in a future version, please use 'min' instead.\n",
      "  weather_data_resampled = weather_data.resample('10T').mean()\n",
      "C:\\Users\\MSI\\AppData\\Local\\Temp\\ipykernel_5028\\699764574.py:9: FutureWarning: DataFrame.interpolate with object dtype is deprecated and will raise in a future version. Call obj.infer_objects(copy=False) before interpolating instead.\n",
      "  weather_data_resampled.interpolate(method='linear', inplace=True)\n"
     ]
    }
   ],
   "source": [
    "# Stel de tijdstempel van de weerdata in als de index\n",
    "weather_data['time'] = pd.to_datetime(weather_data['time'])\n",
    "weather_data.set_index('time', inplace=True)\n",
    "\n",
    "# Resample de weerdata naar elke 10 minuten\n",
    "weather_data_resampled = weather_data.resample('10T').mean()\n",
    "\n",
    "# Interpoleer de ontbrekende waarden\n",
    "weather_data_resampled.interpolate(method='linear', inplace=True)"
   ]
  },
  {
   "cell_type": "code",
   "execution_count": 43,
   "metadata": {},
   "outputs": [],
   "source": [
    "# Combineer de resampled data\n",
    "combined_data = pd.merge(df_resampled, weather_data_resampled, left_index=True, right_index=True, how='inner')"
   ]
  },
  {
   "cell_type": "code",
   "execution_count": 44,
   "metadata": {},
   "outputs": [
    {
     "name": "stdout",
     "output_type": "stream",
     "text": [
      "<class 'pandas.core.indexes.datetimes.DatetimeIndex'>\n"
     ]
    }
   ],
   "source": [
    "print(type(combined_data.index))"
   ]
  },
  {
   "cell_type": "code",
   "execution_count": 45,
   "metadata": {},
   "outputs": [
    {
     "ename": "TypeError",
     "evalue": "loop of ufunc does not support argument 0 of type Timestamp which has no callable radians method",
     "output_type": "error",
     "traceback": [
      "\u001b[1;31m---------------------------------------------------------------------------\u001b[0m",
      "\u001b[1;31mAttributeError\u001b[0m                            Traceback (most recent call last)",
      "\u001b[1;31mAttributeError\u001b[0m: 'Timestamp' object has no attribute 'radians'",
      "\nThe above exception was the direct cause of the following exception:\n",
      "\u001b[1;31mTypeError\u001b[0m                                 Traceback (most recent call last)",
      "Cell \u001b[1;32mIn[45], line 19\u001b[0m\n\u001b[0;32m     17\u001b[0m \u001b[38;5;66;03m# Verkrijg de zonnestraling op basis van de weersgegevens\u001b[39;00m\n\u001b[0;32m     18\u001b[0m solar_position \u001b[38;5;241m=\u001b[39m location\u001b[38;5;241m.\u001b[39mget_solarposition(times)\n\u001b[1;32m---> 19\u001b[0m clearsky \u001b[38;5;241m=\u001b[39m \u001b[43mpvlib\u001b[49m\u001b[38;5;241;43m.\u001b[39;49m\u001b[43mclearsky\u001b[49m\u001b[38;5;241;43m.\u001b[39;49m\u001b[43mineichen\u001b[49m\u001b[43m(\u001b[49m\u001b[43mtimes\u001b[49m\u001b[43m,\u001b[49m\u001b[43m \u001b[49m\u001b[43mlatitude\u001b[49m\u001b[43m,\u001b[49m\u001b[43m \u001b[49m\u001b[43mlongitude\u001b[49m\u001b[43m)\u001b[49m\n\u001b[0;32m     21\u001b[0m \u001b[38;5;66;03m# Controleer de output van clearsky\u001b[39;00m\n\u001b[0;32m     22\u001b[0m \u001b[38;5;28mprint\u001b[39m(clearsky\u001b[38;5;241m.\u001b[39mhead())\n",
      "File \u001b[1;32mc:\\Users\\MSI\\Documents\\Projecten\\MachineLearning\\venv\\Lib\\site-packages\\pvlib\\clearsky.py:102\u001b[0m, in \u001b[0;36mineichen\u001b[1;34m(apparent_zenith, airmass_absolute, linke_turbidity, altitude, dni_extra, perez_enhancement)\u001b[0m\n\u001b[0;32m     22\u001b[0m \u001b[38;5;250m\u001b[39m\u001b[38;5;124;03m'''\u001b[39;00m\n\u001b[0;32m     23\u001b[0m \u001b[38;5;124;03mDetermine clear sky GHI, DNI, and DHI from Ineichen/Perez model.\u001b[39;00m\n\u001b[0;32m     24\u001b[0m \n\u001b[1;32m   (...)\u001b[0m\n\u001b[0;32m     87\u001b[0m \u001b[38;5;124;03m   ISES Solar World Congress, June 2003. Goteborg, Sweden.\u001b[39;00m\n\u001b[0;32m     88\u001b[0m \u001b[38;5;124;03m'''\u001b[39;00m  \u001b[38;5;66;03m# noqa: E501\u001b[39;00m\n\u001b[0;32m     90\u001b[0m \u001b[38;5;66;03m# ghi is calculated using either the equations in [1] by setting\u001b[39;00m\n\u001b[0;32m     91\u001b[0m \u001b[38;5;66;03m# perez_enhancement=False (default behavior) or using the model\u001b[39;00m\n\u001b[0;32m     92\u001b[0m \u001b[38;5;66;03m# in [2] by setting perez_enhancement=True.\u001b[39;00m\n\u001b[1;32m   (...)\u001b[0m\n\u001b[0;32m    100\u001b[0m \u001b[38;5;66;03m# use max so that nighttime values will result in 0s instead of\u001b[39;00m\n\u001b[0;32m    101\u001b[0m \u001b[38;5;66;03m# negatives. propagates nans.\u001b[39;00m\n\u001b[1;32m--> 102\u001b[0m cos_zenith \u001b[38;5;241m=\u001b[39m np\u001b[38;5;241m.\u001b[39mmaximum(\u001b[43mtools\u001b[49m\u001b[38;5;241;43m.\u001b[39;49m\u001b[43mcosd\u001b[49m\u001b[43m(\u001b[49m\u001b[43mapparent_zenith\u001b[49m\u001b[43m)\u001b[49m, \u001b[38;5;241m0\u001b[39m)\n\u001b[0;32m    104\u001b[0m tl \u001b[38;5;241m=\u001b[39m linke_turbidity\n\u001b[0;32m    106\u001b[0m fh1 \u001b[38;5;241m=\u001b[39m np\u001b[38;5;241m.\u001b[39mexp(\u001b[38;5;241m-\u001b[39maltitude\u001b[38;5;241m/\u001b[39m\u001b[38;5;241m8000.\u001b[39m)\n",
      "File \u001b[1;32mc:\\Users\\MSI\\Documents\\Projecten\\MachineLearning\\venv\\Lib\\site-packages\\pvlib\\tools.py:26\u001b[0m, in \u001b[0;36mcosd\u001b[1;34m(angle)\u001b[0m\n\u001b[0;32m     12\u001b[0m \u001b[38;5;28;01mdef\u001b[39;00m \u001b[38;5;21mcosd\u001b[39m(angle):\n\u001b[0;32m     13\u001b[0m \u001b[38;5;250m    \u001b[39m\u001b[38;5;124;03m\"\"\"\u001b[39;00m\n\u001b[0;32m     14\u001b[0m \u001b[38;5;124;03m    Trigonometric cosine with angle input in degrees.\u001b[39;00m\n\u001b[0;32m     15\u001b[0m \n\u001b[1;32m   (...)\u001b[0m\n\u001b[0;32m     24\u001b[0m \u001b[38;5;124;03m        Cosine of the angle\u001b[39;00m\n\u001b[0;32m     25\u001b[0m \u001b[38;5;124;03m    \"\"\"\u001b[39;00m\n\u001b[1;32m---> 26\u001b[0m     res \u001b[38;5;241m=\u001b[39m np\u001b[38;5;241m.\u001b[39mcos(\u001b[43mnp\u001b[49m\u001b[38;5;241;43m.\u001b[39;49m\u001b[43mradians\u001b[49m\u001b[43m(\u001b[49m\u001b[43mangle\u001b[49m\u001b[43m)\u001b[49m)\n\u001b[0;32m     27\u001b[0m     \u001b[38;5;28;01mreturn\u001b[39;00m res\n",
      "File \u001b[1;32mc:\\Users\\MSI\\Documents\\Projecten\\MachineLearning\\venv\\Lib\\site-packages\\pandas\\core\\indexes\\base.py:945\u001b[0m, in \u001b[0;36mIndex.__array_ufunc__\u001b[1;34m(self, ufunc, method, *inputs, **kwargs)\u001b[0m\n\u001b[0;32m    942\u001b[0m         \u001b[38;5;28;01mreturn\u001b[39;00m result\n\u001b[0;32m    944\u001b[0m new_inputs \u001b[38;5;241m=\u001b[39m [x \u001b[38;5;28;01mif\u001b[39;00m x \u001b[38;5;129;01mis\u001b[39;00m \u001b[38;5;129;01mnot\u001b[39;00m \u001b[38;5;28mself\u001b[39m \u001b[38;5;28;01melse\u001b[39;00m x\u001b[38;5;241m.\u001b[39m_values \u001b[38;5;28;01mfor\u001b[39;00m x \u001b[38;5;129;01min\u001b[39;00m inputs]\n\u001b[1;32m--> 945\u001b[0m result \u001b[38;5;241m=\u001b[39m \u001b[38;5;28;43mgetattr\u001b[39;49m\u001b[43m(\u001b[49m\u001b[43mufunc\u001b[49m\u001b[43m,\u001b[49m\u001b[43m \u001b[49m\u001b[43mmethod\u001b[49m\u001b[43m)\u001b[49m\u001b[43m(\u001b[49m\u001b[38;5;241;43m*\u001b[39;49m\u001b[43mnew_inputs\u001b[49m\u001b[43m,\u001b[49m\u001b[43m \u001b[49m\u001b[38;5;241;43m*\u001b[39;49m\u001b[38;5;241;43m*\u001b[39;49m\u001b[43mkwargs\u001b[49m\u001b[43m)\u001b[49m\n\u001b[0;32m    946\u001b[0m \u001b[38;5;28;01mif\u001b[39;00m ufunc\u001b[38;5;241m.\u001b[39mnout \u001b[38;5;241m==\u001b[39m \u001b[38;5;241m2\u001b[39m:\n\u001b[0;32m    947\u001b[0m     \u001b[38;5;66;03m# i.e. np.divmod, np.modf, np.frexp\u001b[39;00m\n\u001b[0;32m    948\u001b[0m     \u001b[38;5;28;01mreturn\u001b[39;00m \u001b[38;5;28mtuple\u001b[39m(\u001b[38;5;28mself\u001b[39m\u001b[38;5;241m.\u001b[39m__array_wrap__(x) \u001b[38;5;28;01mfor\u001b[39;00m x \u001b[38;5;129;01min\u001b[39;00m result)\n",
      "File \u001b[1;32mc:\\Users\\MSI\\Documents\\Projecten\\MachineLearning\\venv\\Lib\\site-packages\\pandas\\core\\arrays\\datetimelike.py:2200\u001b[0m, in \u001b[0;36mTimelikeOps.__array_ufunc__\u001b[1;34m(self, ufunc, method, *inputs, **kwargs)\u001b[0m\n\u001b[0;32m   2192\u001b[0m \u001b[38;5;28;01mif\u001b[39;00m (\n\u001b[0;32m   2193\u001b[0m     ufunc \u001b[38;5;129;01min\u001b[39;00m [np\u001b[38;5;241m.\u001b[39misnan, np\u001b[38;5;241m.\u001b[39misinf, np\u001b[38;5;241m.\u001b[39misfinite]\n\u001b[0;32m   2194\u001b[0m     \u001b[38;5;129;01mand\u001b[39;00m \u001b[38;5;28mlen\u001b[39m(inputs) \u001b[38;5;241m==\u001b[39m \u001b[38;5;241m1\u001b[39m\n\u001b[0;32m   2195\u001b[0m     \u001b[38;5;129;01mand\u001b[39;00m inputs[\u001b[38;5;241m0\u001b[39m] \u001b[38;5;129;01mis\u001b[39;00m \u001b[38;5;28mself\u001b[39m\n\u001b[0;32m   2196\u001b[0m ):\n\u001b[0;32m   2197\u001b[0m     \u001b[38;5;66;03m# numpy 1.18 changed isinf and isnan to not raise on dt64/td64\u001b[39;00m\n\u001b[0;32m   2198\u001b[0m     \u001b[38;5;28;01mreturn\u001b[39;00m \u001b[38;5;28mgetattr\u001b[39m(ufunc, method)(\u001b[38;5;28mself\u001b[39m\u001b[38;5;241m.\u001b[39m_ndarray, \u001b[38;5;241m*\u001b[39m\u001b[38;5;241m*\u001b[39mkwargs)\n\u001b[1;32m-> 2200\u001b[0m \u001b[38;5;28;01mreturn\u001b[39;00m \u001b[38;5;28;43msuper\u001b[39;49m\u001b[43m(\u001b[49m\u001b[43m)\u001b[49m\u001b[38;5;241;43m.\u001b[39;49m\u001b[43m__array_ufunc__\u001b[49m\u001b[43m(\u001b[49m\u001b[43mufunc\u001b[49m\u001b[43m,\u001b[49m\u001b[43m \u001b[49m\u001b[43mmethod\u001b[49m\u001b[43m,\u001b[49m\u001b[43m \u001b[49m\u001b[38;5;241;43m*\u001b[39;49m\u001b[43minputs\u001b[49m\u001b[43m,\u001b[49m\u001b[43m \u001b[49m\u001b[38;5;241;43m*\u001b[39;49m\u001b[38;5;241;43m*\u001b[39;49m\u001b[43mkwargs\u001b[49m\u001b[43m)\u001b[49m\n",
      "File \u001b[1;32mc:\\Users\\MSI\\Documents\\Projecten\\MachineLearning\\venv\\Lib\\site-packages\\pandas\\core\\arrays\\base.py:2300\u001b[0m, in \u001b[0;36mExtensionArray.__array_ufunc__\u001b[1;34m(self, ufunc, method, *inputs, **kwargs)\u001b[0m\n\u001b[0;32m   2297\u001b[0m     \u001b[38;5;28;01mif\u001b[39;00m result \u001b[38;5;129;01mis\u001b[39;00m \u001b[38;5;129;01mnot\u001b[39;00m \u001b[38;5;28mNotImplemented\u001b[39m:\n\u001b[0;32m   2298\u001b[0m         \u001b[38;5;28;01mreturn\u001b[39;00m result\n\u001b[1;32m-> 2300\u001b[0m \u001b[38;5;28;01mreturn\u001b[39;00m \u001b[43marraylike\u001b[49m\u001b[38;5;241;43m.\u001b[39;49m\u001b[43mdefault_array_ufunc\u001b[49m\u001b[43m(\u001b[49m\u001b[38;5;28;43mself\u001b[39;49m\u001b[43m,\u001b[49m\u001b[43m \u001b[49m\u001b[43mufunc\u001b[49m\u001b[43m,\u001b[49m\u001b[43m \u001b[49m\u001b[43mmethod\u001b[49m\u001b[43m,\u001b[49m\u001b[43m \u001b[49m\u001b[38;5;241;43m*\u001b[39;49m\u001b[43minputs\u001b[49m\u001b[43m,\u001b[49m\u001b[43m \u001b[49m\u001b[38;5;241;43m*\u001b[39;49m\u001b[38;5;241;43m*\u001b[39;49m\u001b[43mkwargs\u001b[49m\u001b[43m)\u001b[49m\n",
      "File \u001b[1;32mc:\\Users\\MSI\\Documents\\Projecten\\MachineLearning\\venv\\Lib\\site-packages\\pandas\\core\\arraylike.py:492\u001b[0m, in \u001b[0;36mdefault_array_ufunc\u001b[1;34m(self, ufunc, method, *inputs, **kwargs)\u001b[0m\n\u001b[0;32m    488\u001b[0m     \u001b[38;5;28;01mraise\u001b[39;00m \u001b[38;5;167;01mNotImplementedError\u001b[39;00m\n\u001b[0;32m    490\u001b[0m new_inputs \u001b[38;5;241m=\u001b[39m [x \u001b[38;5;28;01mif\u001b[39;00m x \u001b[38;5;129;01mis\u001b[39;00m \u001b[38;5;129;01mnot\u001b[39;00m \u001b[38;5;28mself\u001b[39m \u001b[38;5;28;01melse\u001b[39;00m np\u001b[38;5;241m.\u001b[39masarray(x) \u001b[38;5;28;01mfor\u001b[39;00m x \u001b[38;5;129;01min\u001b[39;00m inputs]\n\u001b[1;32m--> 492\u001b[0m \u001b[38;5;28;01mreturn\u001b[39;00m \u001b[38;5;28;43mgetattr\u001b[39;49m\u001b[43m(\u001b[49m\u001b[43mufunc\u001b[49m\u001b[43m,\u001b[49m\u001b[43m \u001b[49m\u001b[43mmethod\u001b[49m\u001b[43m)\u001b[49m\u001b[43m(\u001b[49m\u001b[38;5;241;43m*\u001b[39;49m\u001b[43mnew_inputs\u001b[49m\u001b[43m,\u001b[49m\u001b[43m \u001b[49m\u001b[38;5;241;43m*\u001b[39;49m\u001b[38;5;241;43m*\u001b[39;49m\u001b[43mkwargs\u001b[49m\u001b[43m)\u001b[49m\n",
      "\u001b[1;31mTypeError\u001b[0m: loop of ufunc does not support argument 0 of type Timestamp which has no callable radians method"
     ]
    }
   ],
   "source": [
    "import pvlib\n",
    "\n",
    "# Zorg ervoor dat 'times' een DatetimeIndex is\n",
    "times = pd.DatetimeIndex(combined_data.index)\n",
    "\n",
    "# Stel de locatie en andere parameters in\n",
    "latitude = 52.3676\n",
    "longitude = 4.9041\n",
    "tilt = 30\n",
    "azimuth = 180\n",
    "location = pvlib.location.Location(latitude, longitude)\n",
    "pv_system = pvlib.pvsystem.PVSystem(\n",
    "    surface_tilt=tilt,\n",
    "    surface_azimuth=azimuth\n",
    ")\n",
    "\n",
    "# Verkrijg de zonnestraling op basis van de weersgegevens\n",
    "solar_position = location.get_solarposition(times)\n",
    "clearsky = pvlib.clearsky.ineichen(times, latitude, longitude)\n",
    "\n",
    "# Controleer de output van clearsky\n",
    "print(clearsky.head())\n",
    "\n",
    "# Zorg ervoor dat de output van clearsky de verwachte kolommen bevat\n",
    "# Bijv. 'dni' en 'dhi' moeten aanwezig zijn\n",
    "theoretical_power = pv_system.get_irradiance(\n",
    "    solar_position['apparent_elevation'],\n",
    "    solar_position['azimuth'],\n",
    "    clearsky['dni'],\n",
    "    clearsky['dhi']\n",
    ")\n",
    "\n",
    "# Voeg theoretische opbrengst toe aan je DataFrame\n",
    "combined_data['theoretical_production'] = theoretical_power['poa_global']\n",
    "\n",
    "# Bereken efficiëntie\n",
    "combined_data['efficiency'] = combined_data['production'] / combined_data['theoretical_production']"
   ]
  },
  {
   "cell_type": "code",
   "execution_count": null,
   "metadata": {},
   "outputs": [],
   "source": [
    "import seaborn as sns\n",
    "import matplotlib.pyplot as plt\n",
    "\n",
    "plt.figure(figsize=(12, 6))\n",
    "sns.lineplot(data=combined_data, x=combined_data.index, y='efficiency')\n",
    "plt.title('Efficiëntie van de Zonnepanelen Over Tijd')\n",
    "plt.xlabel('Tijd')\n",
    "plt.ylabel('Efficiëntie')\n",
    "plt.xticks(rotation=45)\n",
    "plt.tight_layout()\n",
    "plt.show()"
   ]
  },
  {
   "cell_type": "markdown",
   "metadata": {},
   "source": [
    "## Filter op zonnige dagen"
   ]
  },
  {
   "cell_type": "markdown",
   "metadata": {},
   "source": [
    "# Modeling"
   ]
  },
  {
   "cell_type": "code",
   "execution_count": null,
   "metadata": {
    "tags": []
   },
   "outputs": [],
   "source": [
    "# Gegeven:\n",
    "def model_zonnestraling(tilt:float, azimuth:float, tijdsreeks:pd.core.indexes.datetimes.DatetimeIndex, lat:float, lon:float) -> pd.DataFrame:\n",
    "    \"\"\"Berekent de hoeveelheid stroom die een paneel maximaal produceert met 100% efficientie\"\"\"\n",
    "\n",
    "    zonne_positie_aan_hemel = pvlib.solarposition.get_solarposition(tijdsreeks, lat, lon)\n",
    "\n",
    "    #locatie = pvlib.location.Location(latitude=lat, longitude=lon, name='Plaatsnaam', tz=pytz.timezone(r'Europe/Amsterdam'))\n",
    "    locatie = pvlib.location.Location(latitude=lat, longitude=lon, name='Plaatsnaam', tz=pytz.timezone(r'UTC'))\n",
    "    heldere_hemel = locatie.get_clearsky(tijdsreeks)\n",
    "\n",
    "    instraling = pvlib.irradiance.get_total_irradiance(tilt,\n",
    "                                                       azimuth,\n",
    "                                                       zonne_positie_aan_hemel['zenith'],\n",
    "                                                       zonne_positie_aan_hemel['azimuth'],\n",
    "                                                       heldere_hemel.dni,\n",
    "                                                       heldere_hemel.ghi,\n",
    "                                                       heldere_hemel.dhi)\n",
    "\n",
    "    return instraling['poa_global'].to_frame().rename(columns={'poa_global':'zonlicht'})"
   ]
  },
  {
   "cell_type": "code",
   "execution_count": null,
   "metadata": {},
   "outputs": [],
   "source": [
    "# Aanvullen\n",
    "def model_paneel(tilt:float, azimuth:float, efficientie:float, tijdsreeks:pd.core.indexes.datetimes.DatetimeIndex, lat:float, lon:float) -> pd.DataFrame:\n",
    "    \"\"\"Berekent de hoeveelheid geabsorbeerd zonlicht op een paneel op basis van de efficientie\"\"\"\n",
    "\n",
    "    return ... # Aanvullen"
   ]
  },
  {
   "cell_type": "code",
   "execution_count": null,
   "metadata": {
    "tags": []
   },
   "outputs": [],
   "source": [
    "# Aanvullen\n",
    "def loss(params:Tuple[float,float,float], df_waarneming:pd.DataFrame, lat:float, lon:float) -> float:\n",
    "\n",
    "    (tilt, azimuth, efficientie) = params\n",
    "\n",
    "    tijdsreeks = df_waarneming.index\n",
    "\n",
    "    df_model = model_paneel(...) # Aanvullen\n",
    "\n",
    "    return # Aanvullen\n"
   ]
  },
  {
   "cell_type": "code",
   "execution_count": null,
   "metadata": {
    "tags": []
   },
   "outputs": [],
   "source": [
    "# Eerste inschatting\n",
    "tilt = 35\n",
    "azimuth = 180\n",
    "efficientie = 0.2"
   ]
  },
  {
   "cell_type": "code",
   "execution_count": null,
   "metadata": {
    "tags": []
   },
   "outputs": [],
   "source": [
    "result = minimize(...) # Aanvullen\n",
    "x = result['x']"
   ]
  },
  {
   "cell_type": "markdown",
   "metadata": {},
   "source": [
    "## Evaluation"
   ]
  },
  {
   "cell_type": "code",
   "execution_count": null,
   "metadata": {
    "tags": []
   },
   "outputs": [],
   "source": [
    "print(\"Tilt:        {0:.1f}°\".format(x[0]))\n",
    "print(\"Azimuth:     {0:.1f}°\".format(x[1]))\n",
    "print(\"Efficientie: {0:.1f}%\".format(x[2]*100))"
   ]
  },
  {
   "cell_type": "code",
   "execution_count": null,
   "metadata": {},
   "outputs": [],
   "source": []
  }
 ],
 "metadata": {
  "kernelspec": {
   "display_name": "Python 3",
   "language": "python",
   "name": "python3"
  },
  "language_info": {
   "codemirror_mode": {
    "name": "ipython",
    "version": 3
   },
   "file_extension": ".py",
   "mimetype": "text/x-python",
   "name": "python",
   "nbconvert_exporter": "python",
   "pygments_lexer": "ipython3",
   "version": "3.12.5"
  }
 },
 "nbformat": 4,
 "nbformat_minor": 4
}
