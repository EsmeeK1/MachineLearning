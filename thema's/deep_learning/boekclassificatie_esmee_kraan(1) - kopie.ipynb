{
 "cells": [
  {
   "cell_type": "markdown",
   "metadata": {},
   "source": [
    "### Model 3: GRU Model met Dropout"
   ]
  },
  {
   "cell_type": "code",
   "execution_count": 1,
   "metadata": {},
   "outputs": [],
   "source": [
    "import pandas as pd\n",
    "import numpy as np\n",
    "from tensorflow.keras import models, layers\n",
    "from tensorflow.keras.preprocessing.text import Tokenizer\n",
    "from tensorflow.keras.preprocessing.sequence import pad_sequences\n",
    "from sklearn.preprocessing import LabelEncoder\n",
    "from sklearn.model_selection import train_test_split"
   ]
  },
  {
   "cell_type": "code",
   "execution_count": 2,
   "metadata": {},
   "outputs": [],
   "source": [
    "df_train = pd.read_csv('data/dataset/training.csv.gz')\n",
    "#df_test = pd.read_csv('data/dataset/testing.csv.gz')\n",
    "df_val = pd.read_csv('data/dataset/validation.csv.gz')"
   ]
  },
  {
   "cell_type": "code",
   "execution_count": 3,
   "metadata": {},
   "outputs": [],
   "source": [
    "# Functie om het aantal woorden in een tekst te tellen\n",
    "def count_words_in_text(text):\n",
    "    return len(text.split())\n",
    "\n",
    "# Functie om de data te filteren en alleen teksten met exact 600 woorden te behouden\n",
    "def filter_exact_600_word_texts(df, word_limit=600):\n",
    "    # Filter de data op teksten die exact 600 woorden bevatten\n",
    "    filtered_df = df[df['txt'].apply(lambda x: count_words_in_text(x) == word_limit)]\n",
    "    return filtered_df"
   ]
  },
  {
   "cell_type": "code",
   "execution_count": 4,
   "metadata": {},
   "outputs": [],
   "source": [
    "# Pas de filterfunctie toe op df_train en df_val\n",
    "df_train_filtered = filter_exact_600_word_texts(df_train)\n",
    "df_val_filtered = filter_exact_600_word_texts(df_val)"
   ]
  },
  {
   "cell_type": "code",
   "execution_count": 5,
   "metadata": {},
   "outputs": [],
   "source": [
    "# Stap 1: Tokenization en Padding voorbereiden\n",
    "max_words = 10000\n",
    "maxlen = 600  # Aangezien je alle teksten hebt gefilterd om precies 600 woorden te bevatten\n",
    "\n",
    "# Tokenizer aanmaken en trainen op de gefilterde train data\n",
    "tokenizer = Tokenizer(num_words=max_words)\n",
    "tokenizer.fit_on_texts(df_train_filtered['txt'])\n",
    "\n",
    "# Zet de tekst om in tokens en pad de sequences tot maxlen = 600\n",
    "sequences_train = tokenizer.texts_to_sequences(df_train_filtered['txt'])\n",
    "padded_train = pad_sequences(sequences_train, maxlen=maxlen)\n",
    "\n",
    "# Doe hetzelfde voor de validatie dataset\n",
    "sequences_val = tokenizer.texts_to_sequences(df_val_filtered['txt'])\n",
    "padded_val = pad_sequences(sequences_val, maxlen=maxlen)"
   ]
  },
  {
   "cell_type": "code",
   "execution_count": 6,
   "metadata": {},
   "outputs": [
    {
     "name": "stderr",
     "output_type": "stream",
     "text": [
      "C:\\Users\\Paul\\AppData\\Local\\Temp\\ipykernel_2120\\2575493490.py:3: SettingWithCopyWarning: \n",
      "A value is trying to be set on a copy of a slice from a DataFrame.\n",
      "Try using .loc[row_indexer,col_indexer] = value instead\n",
      "\n",
      "See the caveats in the documentation: https://pandas.pydata.org/pandas-docs/stable/user_guide/indexing.html#returning-a-view-versus-a-copy\n",
      "  df_train_filtered.loc[:, 'genre_nr'] = label_encoder.fit_transform(df_train_filtered['main genre'])\n",
      "C:\\Users\\Paul\\AppData\\Local\\Temp\\ipykernel_2120\\2575493490.py:4: SettingWithCopyWarning: \n",
      "A value is trying to be set on a copy of a slice from a DataFrame.\n",
      "Try using .loc[row_indexer,col_indexer] = value instead\n",
      "\n",
      "See the caveats in the documentation: https://pandas.pydata.org/pandas-docs/stable/user_guide/indexing.html#returning-a-view-versus-a-copy\n",
      "  df_val_filtered.loc[:, 'genre_nr'] = label_encoder.transform(df_val_filtered['main genre'])\n"
     ]
    }
   ],
   "source": [
    "# Stap 2: Label Encoding voor de genre labels\n",
    "label_encoder = LabelEncoder()\n",
    "df_train_filtered.loc[:, 'genre_nr'] = label_encoder.fit_transform(df_train_filtered['main genre'])\n",
    "df_val_filtered.loc[:, 'genre_nr'] = label_encoder.transform(df_val_filtered['main genre'])"
   ]
  },
  {
   "cell_type": "code",
   "execution_count": 7,
   "metadata": {},
   "outputs": [],
   "source": [
    "import numpy as np\n",
    "from tensorflow.keras.utils import Sequence\n",
    "\n",
    "# Generator class voor batch-wise data loading\n",
    "class DataGenerator(Sequence):\n",
    "    def __init__(self, texts, labels, batch_size, tokenizer, maxlen=600, max_words=10000, shuffle=True):\n",
    "        self.texts = texts\n",
    "        self.labels = labels\n",
    "        self.batch_size = batch_size\n",
    "        self.tokenizer = tokenizer\n",
    "        self.maxlen = maxlen\n",
    "        self.max_words = max_words\n",
    "        self.indexes = np.arange(len(self.texts))\n",
    "        self.shuffle = shuffle\n",
    "        self.on_epoch_end()\n",
    "        \n",
    "    def __len__(self):\n",
    "        # Aantal batches per epoch\n",
    "        return int(np.floor(len(self.texts) / self.batch_size))\n",
    "    \n",
    "    def __getitem__(self, index):\n",
    "        # Haal een batch indexen op\n",
    "        batch_indexes = self.indexes[index * self.batch_size:(index + 1) * self.batch_size]\n",
    "        \n",
    "        # Haal de corresponderende teksten en labels op\n",
    "        batch_texts = [self.texts[k] for k in batch_indexes]\n",
    "        batch_labels = [self.labels[k] for k in batch_indexes]\n",
    "        \n",
    "        # Tokenize en pad de teksten in deze batch\n",
    "        sequences = self.tokenizer.texts_to_sequences(batch_texts)\n",
    "        padded_sequences = pad_sequences(sequences, maxlen=self.maxlen)\n",
    "        \n",
    "        return np.array(padded_sequences), np.array(batch_labels)\n",
    "    \n",
    "    def on_epoch_end(self):\n",
    "        # Schud de indexen aan het einde van elke epoch indien nodig\n",
    "        if self.shuffle:\n",
    "            np.random.shuffle(self.indexes)\n",
    "\n",
    "# Initialiseer de tokenizer\n",
    "tokenizer = Tokenizer(num_words=max_words)\n",
    "tokenizer.fit_on_texts(df_train_filtered['txt'])\n",
    "\n",
    "# Maak de data generatoren voor training en validatie\n",
    "train_generator = DataGenerator(\n",
    "    texts=df_train_filtered['txt'].values, \n",
    "    labels=df_train_filtered['genre_nr'].values, \n",
    "    batch_size=32, \n",
    "    tokenizer=tokenizer\n",
    ")\n",
    "\n",
    "val_generator = DataGenerator(\n",
    "    texts=df_val_filtered['txt'].values, \n",
    "    labels=df_val_filtered['genre_nr'].values, \n",
    "    batch_size=32, \n",
    "    tokenizer=tokenizer\n",
    ")"
   ]
  },
  {
   "cell_type": "code",
   "execution_count": 11,
   "metadata": {},
   "outputs": [
    {
     "name": "stdout",
     "output_type": "stream",
     "text": [
      "Model: \"sequential_1\"\n",
      "_________________________________________________________________\n",
      " Layer (type)                Output Shape              Param #   \n",
      "=================================================================\n",
      " embedding_1 (Embedding)     (None, 600, 7)            700000    \n",
      "                                                                 \n",
      " dropout_1 (Dropout)         (None, 600, 7)            0         \n",
      "                                                                 \n",
      " flatten (Flatten)           (None, 4200)              0         \n",
      "                                                                 \n",
      " dropout_2 (Dropout)         (None, 4200)              0         \n",
      "                                                                 \n",
      " dense_2 (Dense)             (None, 7)                 29407     \n",
      "                                                                 \n",
      "=================================================================\n",
      "Total params: 729,407\n",
      "Trainable params: 729,407\n",
      "Non-trainable params: 0\n",
      "_________________________________________________________________\n"
     ]
    }
   ],
   "source": [
    "# Stap 3: Maak het model\n",
    "model = models.Sequential([\n",
    "    layers.Embedding(input_dim=100_000, output_dim=7, input_length=600),\n",
    "    layers.Dropout(.5),\n",
    "    layers.Flatten(),\n",
    "    layers.Dropout(.8),\n",
    "    layers.Dense(7, activation='softmax')\n",
    "])\n",
    "model.summary()"
   ]
  },
  {
   "cell_type": "code",
   "execution_count": 12,
   "metadata": {},
   "outputs": [],
   "source": [
    "# Stap 4: Compileer het model\n",
    "model.compile(optimizer='adam',\n",
    "              loss='sparse_categorical_crossentropy',\n",
    "              metrics=['accuracy'])"
   ]
  },
  {
   "cell_type": "code",
   "execution_count": 13,
   "metadata": {},
   "outputs": [
    {
     "name": "stdout",
     "output_type": "stream",
     "text": [
      "Epoch 1/10\n",
      "38102/38102 [==============================] - 401s 11ms/step - loss: 1.2307 - accuracy: 0.5446 - val_loss: 1.0029 - val_accuracy: 0.6503\n",
      "Epoch 2/10\n",
      "25488/38102 [===================>..........] - ETA: 1:46 - loss: 1.1929 - accuracy: 0.5701"
     ]
    }
   ],
   "source": [
    "# Train het model met de generatoren\n",
    "history = model.fit(\n",
    "    train_generator,\n",
    "    epochs=10,\n",
    "    validation_data=val_generator\n",
    ")"
   ]
  },
  {
   "cell_type": "code",
   "execution_count": null,
   "metadata": {},
   "outputs": [],
   "source": [
    "# Stap 6: Evalueer het model\n",
    "val_loss, val_accuracy = model.evaluate(padded_val, df_val_filtered['genre_nr'])\n",
    "print(f\"Validation Loss: {val_loss:.4f}, Validation Accuracy: {val_accuracy:.4f}\")"
   ]
  },
  {
   "cell_type": "code",
   "execution_count": null,
   "metadata": {},
   "outputs": [],
   "source": []
  }
 ],
 "metadata": {
  "kernelspec": {
   "display_name": "Python 3",
   "language": "python",
   "name": "python3"
  },
  "language_info": {
   "codemirror_mode": {
    "name": "ipython",
    "version": 3
   },
   "file_extension": ".py",
   "mimetype": "text/x-python",
   "name": "python",
   "nbconvert_exporter": "python",
   "pygments_lexer": "ipython3",
   "version": "3.9.6"
  }
 },
 "nbformat": 4,
 "nbformat_minor": 2
}
